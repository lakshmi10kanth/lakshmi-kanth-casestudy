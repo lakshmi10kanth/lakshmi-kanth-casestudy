{
 "cells": [
  {
   "cell_type": "markdown",
   "id": "9d617b72",
   "metadata": {
    "_cell_guid": "b1076dfc-b9ad-4769-8c92-a6c4dae69d19",
    "_uuid": "8f2839f25d086af736a60e9eeb907d3b93b6e0e5",
    "papermill": {
     "duration": 0.008079,
     "end_time": "2024-03-02T17:08:13.992236",
     "exception": false,
     "start_time": "2024-03-02T17:08:13.984157",
     "status": "completed"
    },
    "tags": []
   },
   "source": [
    "**Scenario: You are a data analyst at a leading restaurant review aggregator company, similar to Zomato. The company has collected extensive data on restaurants across various cities worldwide, aiming to enhance customer experience and support restaurants in improving their services. The data contains information on restaurant names, locations, cuisines offered, ratings, price ranges, and more.**\n",
    "\n",
    "**In recent months, the company has noticed a decline in user engagement and feedback on its platform, potentially threatening its position in the market. The executive team believes that by analyzing the restaurant data, the company can uncover insights to tailor the user experience more personally, promote high-quality restaurants, and possibly introduce a new feature that could revitalize user interest and participation.**\n"
   ]
  },
  {
   "cell_type": "code",
   "execution_count": 1,
   "id": "846414e3",
   "metadata": {
    "execution": {
     "iopub.execute_input": "2024-03-02T17:08:14.009064Z",
     "iopub.status.busy": "2024-03-02T17:08:14.008626Z",
     "iopub.status.idle": "2024-03-02T17:08:16.359457Z",
     "shell.execute_reply": "2024-03-02T17:08:16.358272Z"
    },
    "papermill": {
     "duration": 2.362557,
     "end_time": "2024-03-02T17:08:16.362404",
     "exception": false,
     "start_time": "2024-03-02T17:08:13.999847",
     "status": "completed"
    },
    "tags": []
   },
   "outputs": [],
   "source": [
    "#let importing libraries\n",
    "import pandas as pd\n",
    "import numpy as np\n",
    "import matplotlib.pyplot as plt\n",
    "import seaborn as sns"
   ]
  },
  {
   "cell_type": "code",
   "execution_count": 2,
   "id": "8eff89dc",
   "metadata": {
    "execution": {
     "iopub.execute_input": "2024-03-02T17:08:16.379982Z",
     "iopub.status.busy": "2024-03-02T17:08:16.379409Z",
     "iopub.status.idle": "2024-03-02T17:08:16.521731Z",
     "shell.execute_reply": "2024-03-02T17:08:16.520473Z"
    },
    "papermill": {
     "duration": 0.155856,
     "end_time": "2024-03-02T17:08:16.525954",
     "exception": false,
     "start_time": "2024-03-02T17:08:16.370098",
     "status": "completed"
    },
    "tags": []
   },
   "outputs": [
    {
     "data": {
      "text/html": [
       "<div>\n",
       "<style scoped>\n",
       "    .dataframe tbody tr th:only-of-type {\n",
       "        vertical-align: middle;\n",
       "    }\n",
       "\n",
       "    .dataframe tbody tr th {\n",
       "        vertical-align: top;\n",
       "    }\n",
       "\n",
       "    .dataframe thead th {\n",
       "        text-align: right;\n",
       "    }\n",
       "</style>\n",
       "<table border=\"1\" class=\"dataframe\">\n",
       "  <thead>\n",
       "    <tr style=\"text-align: right;\">\n",
       "      <th></th>\n",
       "      <th>Restaurant ID</th>\n",
       "      <th>Restaurant Name</th>\n",
       "      <th>Country Code</th>\n",
       "      <th>City</th>\n",
       "      <th>Address</th>\n",
       "      <th>Locality</th>\n",
       "      <th>Locality Verbose</th>\n",
       "      <th>Longitude</th>\n",
       "      <th>Latitude</th>\n",
       "      <th>Cuisines</th>\n",
       "      <th>...</th>\n",
       "      <th>Currency</th>\n",
       "      <th>Has Table booking</th>\n",
       "      <th>Has Online delivery</th>\n",
       "      <th>Is delivering now</th>\n",
       "      <th>Switch to order menu</th>\n",
       "      <th>Price range</th>\n",
       "      <th>Aggregate rating</th>\n",
       "      <th>Rating color</th>\n",
       "      <th>Rating text</th>\n",
       "      <th>Votes</th>\n",
       "    </tr>\n",
       "  </thead>\n",
       "  <tbody>\n",
       "    <tr>\n",
       "      <th>0</th>\n",
       "      <td>6317637</td>\n",
       "      <td>Le Petit Souffle</td>\n",
       "      <td>162</td>\n",
       "      <td>Makati City</td>\n",
       "      <td>Third Floor, Century City Mall, Kalayaan Avenu...</td>\n",
       "      <td>Century City Mall, Poblacion, Makati City</td>\n",
       "      <td>Century City Mall, Poblacion, Makati City, Mak...</td>\n",
       "      <td>121.027535</td>\n",
       "      <td>14.565443</td>\n",
       "      <td>French, Japanese, Desserts</td>\n",
       "      <td>...</td>\n",
       "      <td>Botswana Pula(P)</td>\n",
       "      <td>Yes</td>\n",
       "      <td>No</td>\n",
       "      <td>No</td>\n",
       "      <td>No</td>\n",
       "      <td>3</td>\n",
       "      <td>4.8</td>\n",
       "      <td>Dark Green</td>\n",
       "      <td>Excellent</td>\n",
       "      <td>314</td>\n",
       "    </tr>\n",
       "    <tr>\n",
       "      <th>1</th>\n",
       "      <td>6304287</td>\n",
       "      <td>Izakaya Kikufuji</td>\n",
       "      <td>162</td>\n",
       "      <td>Makati City</td>\n",
       "      <td>Little Tokyo, 2277 Chino Roces Avenue, Legaspi...</td>\n",
       "      <td>Little Tokyo, Legaspi Village, Makati City</td>\n",
       "      <td>Little Tokyo, Legaspi Village, Makati City, Ma...</td>\n",
       "      <td>121.014101</td>\n",
       "      <td>14.553708</td>\n",
       "      <td>Japanese</td>\n",
       "      <td>...</td>\n",
       "      <td>Botswana Pula(P)</td>\n",
       "      <td>Yes</td>\n",
       "      <td>No</td>\n",
       "      <td>No</td>\n",
       "      <td>No</td>\n",
       "      <td>3</td>\n",
       "      <td>4.5</td>\n",
       "      <td>Dark Green</td>\n",
       "      <td>Excellent</td>\n",
       "      <td>591</td>\n",
       "    </tr>\n",
       "    <tr>\n",
       "      <th>2</th>\n",
       "      <td>6300002</td>\n",
       "      <td>Heat - Edsa Shangri-La</td>\n",
       "      <td>162</td>\n",
       "      <td>Mandaluyong City</td>\n",
       "      <td>Edsa Shangri-La, 1 Garden Way, Ortigas, Mandal...</td>\n",
       "      <td>Edsa Shangri-La, Ortigas, Mandaluyong City</td>\n",
       "      <td>Edsa Shangri-La, Ortigas, Mandaluyong City, Ma...</td>\n",
       "      <td>121.056831</td>\n",
       "      <td>14.581404</td>\n",
       "      <td>Seafood, Asian, Filipino, Indian</td>\n",
       "      <td>...</td>\n",
       "      <td>Botswana Pula(P)</td>\n",
       "      <td>Yes</td>\n",
       "      <td>No</td>\n",
       "      <td>No</td>\n",
       "      <td>No</td>\n",
       "      <td>4</td>\n",
       "      <td>4.4</td>\n",
       "      <td>Green</td>\n",
       "      <td>Very Good</td>\n",
       "      <td>270</td>\n",
       "    </tr>\n",
       "    <tr>\n",
       "      <th>3</th>\n",
       "      <td>6318506</td>\n",
       "      <td>Ooma</td>\n",
       "      <td>162</td>\n",
       "      <td>Mandaluyong City</td>\n",
       "      <td>Third Floor, Mega Fashion Hall, SM Megamall, O...</td>\n",
       "      <td>SM Megamall, Ortigas, Mandaluyong City</td>\n",
       "      <td>SM Megamall, Ortigas, Mandaluyong City, Mandal...</td>\n",
       "      <td>121.056475</td>\n",
       "      <td>14.585318</td>\n",
       "      <td>Japanese, Sushi</td>\n",
       "      <td>...</td>\n",
       "      <td>Botswana Pula(P)</td>\n",
       "      <td>No</td>\n",
       "      <td>No</td>\n",
       "      <td>No</td>\n",
       "      <td>No</td>\n",
       "      <td>4</td>\n",
       "      <td>4.9</td>\n",
       "      <td>Dark Green</td>\n",
       "      <td>Excellent</td>\n",
       "      <td>365</td>\n",
       "    </tr>\n",
       "    <tr>\n",
       "      <th>4</th>\n",
       "      <td>6314302</td>\n",
       "      <td>Sambo Kojin</td>\n",
       "      <td>162</td>\n",
       "      <td>Mandaluyong City</td>\n",
       "      <td>Third Floor, Mega Atrium, SM Megamall, Ortigas...</td>\n",
       "      <td>SM Megamall, Ortigas, Mandaluyong City</td>\n",
       "      <td>SM Megamall, Ortigas, Mandaluyong City, Mandal...</td>\n",
       "      <td>121.057508</td>\n",
       "      <td>14.584450</td>\n",
       "      <td>Japanese, Korean</td>\n",
       "      <td>...</td>\n",
       "      <td>Botswana Pula(P)</td>\n",
       "      <td>Yes</td>\n",
       "      <td>No</td>\n",
       "      <td>No</td>\n",
       "      <td>No</td>\n",
       "      <td>4</td>\n",
       "      <td>4.8</td>\n",
       "      <td>Dark Green</td>\n",
       "      <td>Excellent</td>\n",
       "      <td>229</td>\n",
       "    </tr>\n",
       "    <tr>\n",
       "      <th>...</th>\n",
       "      <td>...</td>\n",
       "      <td>...</td>\n",
       "      <td>...</td>\n",
       "      <td>...</td>\n",
       "      <td>...</td>\n",
       "      <td>...</td>\n",
       "      <td>...</td>\n",
       "      <td>...</td>\n",
       "      <td>...</td>\n",
       "      <td>...</td>\n",
       "      <td>...</td>\n",
       "      <td>...</td>\n",
       "      <td>...</td>\n",
       "      <td>...</td>\n",
       "      <td>...</td>\n",
       "      <td>...</td>\n",
       "      <td>...</td>\n",
       "      <td>...</td>\n",
       "      <td>...</td>\n",
       "      <td>...</td>\n",
       "      <td>...</td>\n",
       "    </tr>\n",
       "    <tr>\n",
       "      <th>9546</th>\n",
       "      <td>5915730</td>\n",
       "      <td>NamlÛ± Gurme</td>\n",
       "      <td>208</td>\n",
       "      <td>ÛÁstanbul</td>\n",
       "      <td>Kemankeô Karamustafa Paôa Mahallesi, RÛ±htÛ±...</td>\n",
       "      <td>Karakí_y</td>\n",
       "      <td>Karakí_y, ÛÁstanbul</td>\n",
       "      <td>28.977392</td>\n",
       "      <td>41.022793</td>\n",
       "      <td>Turkish</td>\n",
       "      <td>...</td>\n",
       "      <td>Turkish Lira(TL)</td>\n",
       "      <td>No</td>\n",
       "      <td>No</td>\n",
       "      <td>No</td>\n",
       "      <td>No</td>\n",
       "      <td>3</td>\n",
       "      <td>4.1</td>\n",
       "      <td>Green</td>\n",
       "      <td>Very Good</td>\n",
       "      <td>788</td>\n",
       "    </tr>\n",
       "    <tr>\n",
       "      <th>9547</th>\n",
       "      <td>5908749</td>\n",
       "      <td>Ceviz AÛôacÛ±</td>\n",
       "      <td>208</td>\n",
       "      <td>ÛÁstanbul</td>\n",
       "      <td>Koôuyolu Mahallesi, Muhittin íìstí_ndaÛô Cadd...</td>\n",
       "      <td>Koôuyolu</td>\n",
       "      <td>Koôuyolu, ÛÁstanbul</td>\n",
       "      <td>29.041297</td>\n",
       "      <td>41.009847</td>\n",
       "      <td>World Cuisine, Patisserie, Cafe</td>\n",
       "      <td>...</td>\n",
       "      <td>Turkish Lira(TL)</td>\n",
       "      <td>No</td>\n",
       "      <td>No</td>\n",
       "      <td>No</td>\n",
       "      <td>No</td>\n",
       "      <td>3</td>\n",
       "      <td>4.2</td>\n",
       "      <td>Green</td>\n",
       "      <td>Very Good</td>\n",
       "      <td>1034</td>\n",
       "    </tr>\n",
       "    <tr>\n",
       "      <th>9548</th>\n",
       "      <td>5915807</td>\n",
       "      <td>Huqqa</td>\n",
       "      <td>208</td>\n",
       "      <td>ÛÁstanbul</td>\n",
       "      <td>Kuruí_eôme Mahallesi, Muallim Naci Caddesi, N...</td>\n",
       "      <td>Kuruí_eôme</td>\n",
       "      <td>Kuruí_eôme, ÛÁstanbul</td>\n",
       "      <td>29.034640</td>\n",
       "      <td>41.055817</td>\n",
       "      <td>Italian, World Cuisine</td>\n",
       "      <td>...</td>\n",
       "      <td>Turkish Lira(TL)</td>\n",
       "      <td>No</td>\n",
       "      <td>No</td>\n",
       "      <td>No</td>\n",
       "      <td>No</td>\n",
       "      <td>4</td>\n",
       "      <td>3.7</td>\n",
       "      <td>Yellow</td>\n",
       "      <td>Good</td>\n",
       "      <td>661</td>\n",
       "    </tr>\n",
       "    <tr>\n",
       "      <th>9549</th>\n",
       "      <td>5916112</td>\n",
       "      <td>Aôôk Kahve</td>\n",
       "      <td>208</td>\n",
       "      <td>ÛÁstanbul</td>\n",
       "      <td>Kuruí_eôme Mahallesi, Muallim Naci Caddesi, N...</td>\n",
       "      <td>Kuruí_eôme</td>\n",
       "      <td>Kuruí_eôme, ÛÁstanbul</td>\n",
       "      <td>29.036019</td>\n",
       "      <td>41.057979</td>\n",
       "      <td>Restaurant Cafe</td>\n",
       "      <td>...</td>\n",
       "      <td>Turkish Lira(TL)</td>\n",
       "      <td>No</td>\n",
       "      <td>No</td>\n",
       "      <td>No</td>\n",
       "      <td>No</td>\n",
       "      <td>4</td>\n",
       "      <td>4.0</td>\n",
       "      <td>Green</td>\n",
       "      <td>Very Good</td>\n",
       "      <td>901</td>\n",
       "    </tr>\n",
       "    <tr>\n",
       "      <th>9550</th>\n",
       "      <td>5927402</td>\n",
       "      <td>Walter's Coffee Roastery</td>\n",
       "      <td>208</td>\n",
       "      <td>ÛÁstanbul</td>\n",
       "      <td>CafeaÛôa Mahallesi, BademaltÛ± Sokak, No 21/B,...</td>\n",
       "      <td>Moda</td>\n",
       "      <td>Moda, ÛÁstanbul</td>\n",
       "      <td>29.026016</td>\n",
       "      <td>40.984776</td>\n",
       "      <td>Cafe</td>\n",
       "      <td>...</td>\n",
       "      <td>Turkish Lira(TL)</td>\n",
       "      <td>No</td>\n",
       "      <td>No</td>\n",
       "      <td>No</td>\n",
       "      <td>No</td>\n",
       "      <td>2</td>\n",
       "      <td>4.0</td>\n",
       "      <td>Green</td>\n",
       "      <td>Very Good</td>\n",
       "      <td>591</td>\n",
       "    </tr>\n",
       "  </tbody>\n",
       "</table>\n",
       "<p>9551 rows × 21 columns</p>\n",
       "</div>"
      ],
      "text/plain": [
       "      Restaurant ID           Restaurant Name  Country Code              City  \\\n",
       "0           6317637          Le Petit Souffle           162       Makati City   \n",
       "1           6304287          Izakaya Kikufuji           162       Makati City   \n",
       "2           6300002    Heat - Edsa Shangri-La           162  Mandaluyong City   \n",
       "3           6318506                      Ooma           162  Mandaluyong City   \n",
       "4           6314302               Sambo Kojin           162  Mandaluyong City   \n",
       "...             ...                       ...           ...               ...   \n",
       "9546        5915730              NamlÛ± Gurme           208         ÛÁstanbul   \n",
       "9547        5908749             Ceviz AÛôacÛ±           208         ÛÁstanbul   \n",
       "9548        5915807                     Huqqa           208         ÛÁstanbul   \n",
       "9549        5916112              Aôôk Kahve           208         ÛÁstanbul   \n",
       "9550        5927402  Walter's Coffee Roastery           208         ÛÁstanbul   \n",
       "\n",
       "                                                Address  \\\n",
       "0     Third Floor, Century City Mall, Kalayaan Avenu...   \n",
       "1     Little Tokyo, 2277 Chino Roces Avenue, Legaspi...   \n",
       "2     Edsa Shangri-La, 1 Garden Way, Ortigas, Mandal...   \n",
       "3     Third Floor, Mega Fashion Hall, SM Megamall, O...   \n",
       "4     Third Floor, Mega Atrium, SM Megamall, Ortigas...   \n",
       "...                                                 ...   \n",
       "9546  Kemankeô Karamustafa Paôa Mahallesi, RÛ±htÛ±...   \n",
       "9547  Koôuyolu Mahallesi, Muhittin íìstí_ndaÛô Cadd...   \n",
       "9548  Kuruí_eôme Mahallesi, Muallim Naci Caddesi, N...   \n",
       "9549  Kuruí_eôme Mahallesi, Muallim Naci Caddesi, N...   \n",
       "9550  CafeaÛôa Mahallesi, BademaltÛ± Sokak, No 21/B,...   \n",
       "\n",
       "                                        Locality  \\\n",
       "0      Century City Mall, Poblacion, Makati City   \n",
       "1     Little Tokyo, Legaspi Village, Makati City   \n",
       "2     Edsa Shangri-La, Ortigas, Mandaluyong City   \n",
       "3         SM Megamall, Ortigas, Mandaluyong City   \n",
       "4         SM Megamall, Ortigas, Mandaluyong City   \n",
       "...                                          ...   \n",
       "9546                                    Karakí_y   \n",
       "9547                                   Koôuyolu   \n",
       "9548                                 Kuruí_eôme   \n",
       "9549                                 Kuruí_eôme   \n",
       "9550                                        Moda   \n",
       "\n",
       "                                       Locality Verbose   Longitude  \\\n",
       "0     Century City Mall, Poblacion, Makati City, Mak...  121.027535   \n",
       "1     Little Tokyo, Legaspi Village, Makati City, Ma...  121.014101   \n",
       "2     Edsa Shangri-La, Ortigas, Mandaluyong City, Ma...  121.056831   \n",
       "3     SM Megamall, Ortigas, Mandaluyong City, Mandal...  121.056475   \n",
       "4     SM Megamall, Ortigas, Mandaluyong City, Mandal...  121.057508   \n",
       "...                                                 ...         ...   \n",
       "9546                                Karakí_y, ÛÁstanbul   28.977392   \n",
       "9547                               Koôuyolu, ÛÁstanbul   29.041297   \n",
       "9548                             Kuruí_eôme, ÛÁstanbul   29.034640   \n",
       "9549                             Kuruí_eôme, ÛÁstanbul   29.036019   \n",
       "9550                                    Moda, ÛÁstanbul   29.026016   \n",
       "\n",
       "       Latitude                          Cuisines  ...          Currency  \\\n",
       "0     14.565443        French, Japanese, Desserts  ...  Botswana Pula(P)   \n",
       "1     14.553708                          Japanese  ...  Botswana Pula(P)   \n",
       "2     14.581404  Seafood, Asian, Filipino, Indian  ...  Botswana Pula(P)   \n",
       "3     14.585318                   Japanese, Sushi  ...  Botswana Pula(P)   \n",
       "4     14.584450                  Japanese, Korean  ...  Botswana Pula(P)   \n",
       "...         ...                               ...  ...               ...   \n",
       "9546  41.022793                           Turkish  ...  Turkish Lira(TL)   \n",
       "9547  41.009847   World Cuisine, Patisserie, Cafe  ...  Turkish Lira(TL)   \n",
       "9548  41.055817            Italian, World Cuisine  ...  Turkish Lira(TL)   \n",
       "9549  41.057979                   Restaurant Cafe  ...  Turkish Lira(TL)   \n",
       "9550  40.984776                              Cafe  ...  Turkish Lira(TL)   \n",
       "\n",
       "     Has Table booking Has Online delivery Is delivering now  \\\n",
       "0                  Yes                  No                No   \n",
       "1                  Yes                  No                No   \n",
       "2                  Yes                  No                No   \n",
       "3                   No                  No                No   \n",
       "4                  Yes                  No                No   \n",
       "...                ...                 ...               ...   \n",
       "9546                No                  No                No   \n",
       "9547                No                  No                No   \n",
       "9548                No                  No                No   \n",
       "9549                No                  No                No   \n",
       "9550                No                  No                No   \n",
       "\n",
       "     Switch to order menu Price range  Aggregate rating  Rating color  \\\n",
       "0                      No           3               4.8    Dark Green   \n",
       "1                      No           3               4.5    Dark Green   \n",
       "2                      No           4               4.4         Green   \n",
       "3                      No           4               4.9    Dark Green   \n",
       "4                      No           4               4.8    Dark Green   \n",
       "...                   ...         ...               ...           ...   \n",
       "9546                   No           3               4.1         Green   \n",
       "9547                   No           3               4.2         Green   \n",
       "9548                   No           4               3.7        Yellow   \n",
       "9549                   No           4               4.0         Green   \n",
       "9550                   No           2               4.0         Green   \n",
       "\n",
       "     Rating text Votes  \n",
       "0      Excellent   314  \n",
       "1      Excellent   591  \n",
       "2      Very Good   270  \n",
       "3      Excellent   365  \n",
       "4      Excellent   229  \n",
       "...          ...   ...  \n",
       "9546   Very Good   788  \n",
       "9547   Very Good  1034  \n",
       "9548        Good   661  \n",
       "9549   Very Good   901  \n",
       "9550   Very Good   591  \n",
       "\n",
       "[9551 rows x 21 columns]"
      ]
     },
     "execution_count": 2,
     "metadata": {},
     "output_type": "execute_result"
    }
   ],
   "source": [
    "#let read files in csv\n",
    "df=pd.read_csv(\"/kaggle/input/zomato-restaurants-data/zomato.csv\",encoding=\"latin1\")\n",
    "df"
   ]
  },
  {
   "cell_type": "code",
   "execution_count": 3,
   "id": "2f1c5dcd",
   "metadata": {
    "execution": {
     "iopub.execute_input": "2024-03-02T17:08:16.544194Z",
     "iopub.status.busy": "2024-03-02T17:08:16.543784Z",
     "iopub.status.idle": "2024-03-02T17:08:17.041418Z",
     "shell.execute_reply": "2024-03-02T17:08:17.040299Z"
    },
    "papermill": {
     "duration": 0.510193,
     "end_time": "2024-03-02T17:08:17.044181",
     "exception": false,
     "start_time": "2024-03-02T17:08:16.533988",
     "status": "completed"
    },
    "tags": []
   },
   "outputs": [
    {
     "data": {
      "text/html": [
       "<div>\n",
       "<style scoped>\n",
       "    .dataframe tbody tr th:only-of-type {\n",
       "        vertical-align: middle;\n",
       "    }\n",
       "\n",
       "    .dataframe tbody tr th {\n",
       "        vertical-align: top;\n",
       "    }\n",
       "\n",
       "    .dataframe thead th {\n",
       "        text-align: right;\n",
       "    }\n",
       "</style>\n",
       "<table border=\"1\" class=\"dataframe\">\n",
       "  <thead>\n",
       "    <tr style=\"text-align: right;\">\n",
       "      <th></th>\n",
       "      <th>Country Code</th>\n",
       "      <th>Country</th>\n",
       "    </tr>\n",
       "  </thead>\n",
       "  <tbody>\n",
       "    <tr>\n",
       "      <th>0</th>\n",
       "      <td>1</td>\n",
       "      <td>India</td>\n",
       "    </tr>\n",
       "    <tr>\n",
       "      <th>1</th>\n",
       "      <td>14</td>\n",
       "      <td>Australia</td>\n",
       "    </tr>\n",
       "    <tr>\n",
       "      <th>2</th>\n",
       "      <td>30</td>\n",
       "      <td>Brazil</td>\n",
       "    </tr>\n",
       "    <tr>\n",
       "      <th>3</th>\n",
       "      <td>37</td>\n",
       "      <td>Canada</td>\n",
       "    </tr>\n",
       "    <tr>\n",
       "      <th>4</th>\n",
       "      <td>94</td>\n",
       "      <td>Indonesia</td>\n",
       "    </tr>\n",
       "    <tr>\n",
       "      <th>5</th>\n",
       "      <td>148</td>\n",
       "      <td>New Zealand</td>\n",
       "    </tr>\n",
       "    <tr>\n",
       "      <th>6</th>\n",
       "      <td>162</td>\n",
       "      <td>Phillipines</td>\n",
       "    </tr>\n",
       "    <tr>\n",
       "      <th>7</th>\n",
       "      <td>166</td>\n",
       "      <td>Qatar</td>\n",
       "    </tr>\n",
       "    <tr>\n",
       "      <th>8</th>\n",
       "      <td>184</td>\n",
       "      <td>Singapore</td>\n",
       "    </tr>\n",
       "    <tr>\n",
       "      <th>9</th>\n",
       "      <td>189</td>\n",
       "      <td>South Africa</td>\n",
       "    </tr>\n",
       "    <tr>\n",
       "      <th>10</th>\n",
       "      <td>191</td>\n",
       "      <td>Sri Lanka</td>\n",
       "    </tr>\n",
       "    <tr>\n",
       "      <th>11</th>\n",
       "      <td>208</td>\n",
       "      <td>Turkey</td>\n",
       "    </tr>\n",
       "    <tr>\n",
       "      <th>12</th>\n",
       "      <td>214</td>\n",
       "      <td>UAE</td>\n",
       "    </tr>\n",
       "    <tr>\n",
       "      <th>13</th>\n",
       "      <td>215</td>\n",
       "      <td>United Kingdom</td>\n",
       "    </tr>\n",
       "    <tr>\n",
       "      <th>14</th>\n",
       "      <td>216</td>\n",
       "      <td>United States</td>\n",
       "    </tr>\n",
       "  </tbody>\n",
       "</table>\n",
       "</div>"
      ],
      "text/plain": [
       "    Country Code         Country\n",
       "0              1           India\n",
       "1             14       Australia\n",
       "2             30          Brazil\n",
       "3             37          Canada\n",
       "4             94       Indonesia\n",
       "5            148     New Zealand\n",
       "6            162     Phillipines\n",
       "7            166           Qatar\n",
       "8            184       Singapore\n",
       "9            189    South Africa\n",
       "10           191       Sri Lanka\n",
       "11           208          Turkey\n",
       "12           214             UAE\n",
       "13           215  United Kingdom\n",
       "14           216   United States"
      ]
     },
     "execution_count": 3,
     "metadata": {},
     "output_type": "execute_result"
    }
   ],
   "source": [
    "#let read files in excel\n",
    "cc=pd.read_excel(\"/kaggle/input/zomato-restaurants-data/Country-Code.xlsx\")\n",
    "cc"
   ]
  },
  {
   "cell_type": "code",
   "execution_count": 4,
   "id": "69e1bef6",
   "metadata": {
    "execution": {
     "iopub.execute_input": "2024-03-02T17:08:17.063737Z",
     "iopub.status.busy": "2024-03-02T17:08:17.062396Z",
     "iopub.status.idle": "2024-03-02T17:08:17.117183Z",
     "shell.execute_reply": "2024-03-02T17:08:17.115950Z"
    },
    "papermill": {
     "duration": 0.068524,
     "end_time": "2024-03-02T17:08:17.121114",
     "exception": false,
     "start_time": "2024-03-02T17:08:17.052590",
     "status": "completed"
    },
    "tags": []
   },
   "outputs": [
    {
     "data": {
      "text/html": [
       "<div>\n",
       "<style scoped>\n",
       "    .dataframe tbody tr th:only-of-type {\n",
       "        vertical-align: middle;\n",
       "    }\n",
       "\n",
       "    .dataframe tbody tr th {\n",
       "        vertical-align: top;\n",
       "    }\n",
       "\n",
       "    .dataframe thead th {\n",
       "        text-align: right;\n",
       "    }\n",
       "</style>\n",
       "<table border=\"1\" class=\"dataframe\">\n",
       "  <thead>\n",
       "    <tr style=\"text-align: right;\">\n",
       "      <th></th>\n",
       "      <th>Restaurant ID</th>\n",
       "      <th>Restaurant Name</th>\n",
       "      <th>Country Code</th>\n",
       "      <th>City</th>\n",
       "      <th>Address</th>\n",
       "      <th>Locality</th>\n",
       "      <th>Locality Verbose</th>\n",
       "      <th>Longitude</th>\n",
       "      <th>Latitude</th>\n",
       "      <th>Cuisines</th>\n",
       "      <th>...</th>\n",
       "      <th>Has Table booking</th>\n",
       "      <th>Has Online delivery</th>\n",
       "      <th>Is delivering now</th>\n",
       "      <th>Switch to order menu</th>\n",
       "      <th>Price range</th>\n",
       "      <th>Aggregate rating</th>\n",
       "      <th>Rating color</th>\n",
       "      <th>Rating text</th>\n",
       "      <th>Votes</th>\n",
       "      <th>Country</th>\n",
       "    </tr>\n",
       "  </thead>\n",
       "  <tbody>\n",
       "    <tr>\n",
       "      <th>0</th>\n",
       "      <td>6317637</td>\n",
       "      <td>Le Petit Souffle</td>\n",
       "      <td>162</td>\n",
       "      <td>Makati City</td>\n",
       "      <td>Third Floor, Century City Mall, Kalayaan Avenu...</td>\n",
       "      <td>Century City Mall, Poblacion, Makati City</td>\n",
       "      <td>Century City Mall, Poblacion, Makati City, Mak...</td>\n",
       "      <td>121.027535</td>\n",
       "      <td>14.565443</td>\n",
       "      <td>French, Japanese, Desserts</td>\n",
       "      <td>...</td>\n",
       "      <td>Yes</td>\n",
       "      <td>No</td>\n",
       "      <td>No</td>\n",
       "      <td>No</td>\n",
       "      <td>3</td>\n",
       "      <td>4.8</td>\n",
       "      <td>Dark Green</td>\n",
       "      <td>Excellent</td>\n",
       "      <td>314</td>\n",
       "      <td>Phillipines</td>\n",
       "    </tr>\n",
       "    <tr>\n",
       "      <th>1</th>\n",
       "      <td>6304287</td>\n",
       "      <td>Izakaya Kikufuji</td>\n",
       "      <td>162</td>\n",
       "      <td>Makati City</td>\n",
       "      <td>Little Tokyo, 2277 Chino Roces Avenue, Legaspi...</td>\n",
       "      <td>Little Tokyo, Legaspi Village, Makati City</td>\n",
       "      <td>Little Tokyo, Legaspi Village, Makati City, Ma...</td>\n",
       "      <td>121.014101</td>\n",
       "      <td>14.553708</td>\n",
       "      <td>Japanese</td>\n",
       "      <td>...</td>\n",
       "      <td>Yes</td>\n",
       "      <td>No</td>\n",
       "      <td>No</td>\n",
       "      <td>No</td>\n",
       "      <td>3</td>\n",
       "      <td>4.5</td>\n",
       "      <td>Dark Green</td>\n",
       "      <td>Excellent</td>\n",
       "      <td>591</td>\n",
       "      <td>Phillipines</td>\n",
       "    </tr>\n",
       "    <tr>\n",
       "      <th>2</th>\n",
       "      <td>6300002</td>\n",
       "      <td>Heat - Edsa Shangri-La</td>\n",
       "      <td>162</td>\n",
       "      <td>Mandaluyong City</td>\n",
       "      <td>Edsa Shangri-La, 1 Garden Way, Ortigas, Mandal...</td>\n",
       "      <td>Edsa Shangri-La, Ortigas, Mandaluyong City</td>\n",
       "      <td>Edsa Shangri-La, Ortigas, Mandaluyong City, Ma...</td>\n",
       "      <td>121.056831</td>\n",
       "      <td>14.581404</td>\n",
       "      <td>Seafood, Asian, Filipino, Indian</td>\n",
       "      <td>...</td>\n",
       "      <td>Yes</td>\n",
       "      <td>No</td>\n",
       "      <td>No</td>\n",
       "      <td>No</td>\n",
       "      <td>4</td>\n",
       "      <td>4.4</td>\n",
       "      <td>Green</td>\n",
       "      <td>Very Good</td>\n",
       "      <td>270</td>\n",
       "      <td>Phillipines</td>\n",
       "    </tr>\n",
       "    <tr>\n",
       "      <th>3</th>\n",
       "      <td>6318506</td>\n",
       "      <td>Ooma</td>\n",
       "      <td>162</td>\n",
       "      <td>Mandaluyong City</td>\n",
       "      <td>Third Floor, Mega Fashion Hall, SM Megamall, O...</td>\n",
       "      <td>SM Megamall, Ortigas, Mandaluyong City</td>\n",
       "      <td>SM Megamall, Ortigas, Mandaluyong City, Mandal...</td>\n",
       "      <td>121.056475</td>\n",
       "      <td>14.585318</td>\n",
       "      <td>Japanese, Sushi</td>\n",
       "      <td>...</td>\n",
       "      <td>No</td>\n",
       "      <td>No</td>\n",
       "      <td>No</td>\n",
       "      <td>No</td>\n",
       "      <td>4</td>\n",
       "      <td>4.9</td>\n",
       "      <td>Dark Green</td>\n",
       "      <td>Excellent</td>\n",
       "      <td>365</td>\n",
       "      <td>Phillipines</td>\n",
       "    </tr>\n",
       "    <tr>\n",
       "      <th>4</th>\n",
       "      <td>6314302</td>\n",
       "      <td>Sambo Kojin</td>\n",
       "      <td>162</td>\n",
       "      <td>Mandaluyong City</td>\n",
       "      <td>Third Floor, Mega Atrium, SM Megamall, Ortigas...</td>\n",
       "      <td>SM Megamall, Ortigas, Mandaluyong City</td>\n",
       "      <td>SM Megamall, Ortigas, Mandaluyong City, Mandal...</td>\n",
       "      <td>121.057508</td>\n",
       "      <td>14.584450</td>\n",
       "      <td>Japanese, Korean</td>\n",
       "      <td>...</td>\n",
       "      <td>Yes</td>\n",
       "      <td>No</td>\n",
       "      <td>No</td>\n",
       "      <td>No</td>\n",
       "      <td>4</td>\n",
       "      <td>4.8</td>\n",
       "      <td>Dark Green</td>\n",
       "      <td>Excellent</td>\n",
       "      <td>229</td>\n",
       "      <td>Phillipines</td>\n",
       "    </tr>\n",
       "    <tr>\n",
       "      <th>...</th>\n",
       "      <td>...</td>\n",
       "      <td>...</td>\n",
       "      <td>...</td>\n",
       "      <td>...</td>\n",
       "      <td>...</td>\n",
       "      <td>...</td>\n",
       "      <td>...</td>\n",
       "      <td>...</td>\n",
       "      <td>...</td>\n",
       "      <td>...</td>\n",
       "      <td>...</td>\n",
       "      <td>...</td>\n",
       "      <td>...</td>\n",
       "      <td>...</td>\n",
       "      <td>...</td>\n",
       "      <td>...</td>\n",
       "      <td>...</td>\n",
       "      <td>...</td>\n",
       "      <td>...</td>\n",
       "      <td>...</td>\n",
       "      <td>...</td>\n",
       "    </tr>\n",
       "    <tr>\n",
       "      <th>9546</th>\n",
       "      <td>5915730</td>\n",
       "      <td>NamlÛ± Gurme</td>\n",
       "      <td>208</td>\n",
       "      <td>ÛÁstanbul</td>\n",
       "      <td>Kemankeô Karamustafa Paôa Mahallesi, RÛ±htÛ±...</td>\n",
       "      <td>Karakí_y</td>\n",
       "      <td>Karakí_y, ÛÁstanbul</td>\n",
       "      <td>28.977392</td>\n",
       "      <td>41.022793</td>\n",
       "      <td>Turkish</td>\n",
       "      <td>...</td>\n",
       "      <td>No</td>\n",
       "      <td>No</td>\n",
       "      <td>No</td>\n",
       "      <td>No</td>\n",
       "      <td>3</td>\n",
       "      <td>4.1</td>\n",
       "      <td>Green</td>\n",
       "      <td>Very Good</td>\n",
       "      <td>788</td>\n",
       "      <td>Turkey</td>\n",
       "    </tr>\n",
       "    <tr>\n",
       "      <th>9547</th>\n",
       "      <td>5908749</td>\n",
       "      <td>Ceviz AÛôacÛ±</td>\n",
       "      <td>208</td>\n",
       "      <td>ÛÁstanbul</td>\n",
       "      <td>Koôuyolu Mahallesi, Muhittin íìstí_ndaÛô Cadd...</td>\n",
       "      <td>Koôuyolu</td>\n",
       "      <td>Koôuyolu, ÛÁstanbul</td>\n",
       "      <td>29.041297</td>\n",
       "      <td>41.009847</td>\n",
       "      <td>World Cuisine, Patisserie, Cafe</td>\n",
       "      <td>...</td>\n",
       "      <td>No</td>\n",
       "      <td>No</td>\n",
       "      <td>No</td>\n",
       "      <td>No</td>\n",
       "      <td>3</td>\n",
       "      <td>4.2</td>\n",
       "      <td>Green</td>\n",
       "      <td>Very Good</td>\n",
       "      <td>1034</td>\n",
       "      <td>Turkey</td>\n",
       "    </tr>\n",
       "    <tr>\n",
       "      <th>9548</th>\n",
       "      <td>5915807</td>\n",
       "      <td>Huqqa</td>\n",
       "      <td>208</td>\n",
       "      <td>ÛÁstanbul</td>\n",
       "      <td>Kuruí_eôme Mahallesi, Muallim Naci Caddesi, N...</td>\n",
       "      <td>Kuruí_eôme</td>\n",
       "      <td>Kuruí_eôme, ÛÁstanbul</td>\n",
       "      <td>29.034640</td>\n",
       "      <td>41.055817</td>\n",
       "      <td>Italian, World Cuisine</td>\n",
       "      <td>...</td>\n",
       "      <td>No</td>\n",
       "      <td>No</td>\n",
       "      <td>No</td>\n",
       "      <td>No</td>\n",
       "      <td>4</td>\n",
       "      <td>3.7</td>\n",
       "      <td>Yellow</td>\n",
       "      <td>Good</td>\n",
       "      <td>661</td>\n",
       "      <td>Turkey</td>\n",
       "    </tr>\n",
       "    <tr>\n",
       "      <th>9549</th>\n",
       "      <td>5916112</td>\n",
       "      <td>Aôôk Kahve</td>\n",
       "      <td>208</td>\n",
       "      <td>ÛÁstanbul</td>\n",
       "      <td>Kuruí_eôme Mahallesi, Muallim Naci Caddesi, N...</td>\n",
       "      <td>Kuruí_eôme</td>\n",
       "      <td>Kuruí_eôme, ÛÁstanbul</td>\n",
       "      <td>29.036019</td>\n",
       "      <td>41.057979</td>\n",
       "      <td>Restaurant Cafe</td>\n",
       "      <td>...</td>\n",
       "      <td>No</td>\n",
       "      <td>No</td>\n",
       "      <td>No</td>\n",
       "      <td>No</td>\n",
       "      <td>4</td>\n",
       "      <td>4.0</td>\n",
       "      <td>Green</td>\n",
       "      <td>Very Good</td>\n",
       "      <td>901</td>\n",
       "      <td>Turkey</td>\n",
       "    </tr>\n",
       "    <tr>\n",
       "      <th>9550</th>\n",
       "      <td>5927402</td>\n",
       "      <td>Walter's Coffee Roastery</td>\n",
       "      <td>208</td>\n",
       "      <td>ÛÁstanbul</td>\n",
       "      <td>CafeaÛôa Mahallesi, BademaltÛ± Sokak, No 21/B,...</td>\n",
       "      <td>Moda</td>\n",
       "      <td>Moda, ÛÁstanbul</td>\n",
       "      <td>29.026016</td>\n",
       "      <td>40.984776</td>\n",
       "      <td>Cafe</td>\n",
       "      <td>...</td>\n",
       "      <td>No</td>\n",
       "      <td>No</td>\n",
       "      <td>No</td>\n",
       "      <td>No</td>\n",
       "      <td>2</td>\n",
       "      <td>4.0</td>\n",
       "      <td>Green</td>\n",
       "      <td>Very Good</td>\n",
       "      <td>591</td>\n",
       "      <td>Turkey</td>\n",
       "    </tr>\n",
       "  </tbody>\n",
       "</table>\n",
       "<p>9551 rows × 22 columns</p>\n",
       "</div>"
      ],
      "text/plain": [
       "      Restaurant ID           Restaurant Name  Country Code              City  \\\n",
       "0           6317637          Le Petit Souffle           162       Makati City   \n",
       "1           6304287          Izakaya Kikufuji           162       Makati City   \n",
       "2           6300002    Heat - Edsa Shangri-La           162  Mandaluyong City   \n",
       "3           6318506                      Ooma           162  Mandaluyong City   \n",
       "4           6314302               Sambo Kojin           162  Mandaluyong City   \n",
       "...             ...                       ...           ...               ...   \n",
       "9546        5915730              NamlÛ± Gurme           208         ÛÁstanbul   \n",
       "9547        5908749             Ceviz AÛôacÛ±           208         ÛÁstanbul   \n",
       "9548        5915807                     Huqqa           208         ÛÁstanbul   \n",
       "9549        5916112              Aôôk Kahve           208         ÛÁstanbul   \n",
       "9550        5927402  Walter's Coffee Roastery           208         ÛÁstanbul   \n",
       "\n",
       "                                                Address  \\\n",
       "0     Third Floor, Century City Mall, Kalayaan Avenu...   \n",
       "1     Little Tokyo, 2277 Chino Roces Avenue, Legaspi...   \n",
       "2     Edsa Shangri-La, 1 Garden Way, Ortigas, Mandal...   \n",
       "3     Third Floor, Mega Fashion Hall, SM Megamall, O...   \n",
       "4     Third Floor, Mega Atrium, SM Megamall, Ortigas...   \n",
       "...                                                 ...   \n",
       "9546  Kemankeô Karamustafa Paôa Mahallesi, RÛ±htÛ±...   \n",
       "9547  Koôuyolu Mahallesi, Muhittin íìstí_ndaÛô Cadd...   \n",
       "9548  Kuruí_eôme Mahallesi, Muallim Naci Caddesi, N...   \n",
       "9549  Kuruí_eôme Mahallesi, Muallim Naci Caddesi, N...   \n",
       "9550  CafeaÛôa Mahallesi, BademaltÛ± Sokak, No 21/B,...   \n",
       "\n",
       "                                        Locality  \\\n",
       "0      Century City Mall, Poblacion, Makati City   \n",
       "1     Little Tokyo, Legaspi Village, Makati City   \n",
       "2     Edsa Shangri-La, Ortigas, Mandaluyong City   \n",
       "3         SM Megamall, Ortigas, Mandaluyong City   \n",
       "4         SM Megamall, Ortigas, Mandaluyong City   \n",
       "...                                          ...   \n",
       "9546                                    Karakí_y   \n",
       "9547                                   Koôuyolu   \n",
       "9548                                 Kuruí_eôme   \n",
       "9549                                 Kuruí_eôme   \n",
       "9550                                        Moda   \n",
       "\n",
       "                                       Locality Verbose   Longitude  \\\n",
       "0     Century City Mall, Poblacion, Makati City, Mak...  121.027535   \n",
       "1     Little Tokyo, Legaspi Village, Makati City, Ma...  121.014101   \n",
       "2     Edsa Shangri-La, Ortigas, Mandaluyong City, Ma...  121.056831   \n",
       "3     SM Megamall, Ortigas, Mandaluyong City, Mandal...  121.056475   \n",
       "4     SM Megamall, Ortigas, Mandaluyong City, Mandal...  121.057508   \n",
       "...                                                 ...         ...   \n",
       "9546                                Karakí_y, ÛÁstanbul   28.977392   \n",
       "9547                               Koôuyolu, ÛÁstanbul   29.041297   \n",
       "9548                             Kuruí_eôme, ÛÁstanbul   29.034640   \n",
       "9549                             Kuruí_eôme, ÛÁstanbul   29.036019   \n",
       "9550                                    Moda, ÛÁstanbul   29.026016   \n",
       "\n",
       "       Latitude                          Cuisines  ...  Has Table booking  \\\n",
       "0     14.565443        French, Japanese, Desserts  ...                Yes   \n",
       "1     14.553708                          Japanese  ...                Yes   \n",
       "2     14.581404  Seafood, Asian, Filipino, Indian  ...                Yes   \n",
       "3     14.585318                   Japanese, Sushi  ...                 No   \n",
       "4     14.584450                  Japanese, Korean  ...                Yes   \n",
       "...         ...                               ...  ...                ...   \n",
       "9546  41.022793                           Turkish  ...                 No   \n",
       "9547  41.009847   World Cuisine, Patisserie, Cafe  ...                 No   \n",
       "9548  41.055817            Italian, World Cuisine  ...                 No   \n",
       "9549  41.057979                   Restaurant Cafe  ...                 No   \n",
       "9550  40.984776                              Cafe  ...                 No   \n",
       "\n",
       "     Has Online delivery Is delivering now Switch to order menu Price range  \\\n",
       "0                     No                No                   No           3   \n",
       "1                     No                No                   No           3   \n",
       "2                     No                No                   No           4   \n",
       "3                     No                No                   No           4   \n",
       "4                     No                No                   No           4   \n",
       "...                  ...               ...                  ...         ...   \n",
       "9546                  No                No                   No           3   \n",
       "9547                  No                No                   No           3   \n",
       "9548                  No                No                   No           4   \n",
       "9549                  No                No                   No           4   \n",
       "9550                  No                No                   No           2   \n",
       "\n",
       "     Aggregate rating  Rating color  Rating text Votes      Country  \n",
       "0                 4.8    Dark Green    Excellent   314  Phillipines  \n",
       "1                 4.5    Dark Green    Excellent   591  Phillipines  \n",
       "2                 4.4         Green    Very Good   270  Phillipines  \n",
       "3                 4.9    Dark Green    Excellent   365  Phillipines  \n",
       "4                 4.8    Dark Green    Excellent   229  Phillipines  \n",
       "...               ...           ...          ...   ...          ...  \n",
       "9546              4.1         Green    Very Good   788       Turkey  \n",
       "9547              4.2         Green    Very Good  1034       Turkey  \n",
       "9548              3.7        Yellow         Good   661       Turkey  \n",
       "9549              4.0         Green    Very Good   901       Turkey  \n",
       "9550              4.0         Green    Very Good   591       Turkey  \n",
       "\n",
       "[9551 rows x 22 columns]"
      ]
     },
     "execution_count": 4,
     "metadata": {},
     "output_type": "execute_result"
    }
   ],
   "source": [
    "#let merge two different files with common columns of Country Code\n",
    "df=pd.merge(df, cc, on='Country Code', how='inner')\n",
    "df"
   ]
  },
  {
   "cell_type": "code",
   "execution_count": 5,
   "id": "9978cf4f",
   "metadata": {
    "execution": {
     "iopub.execute_input": "2024-03-02T17:08:17.141090Z",
     "iopub.status.busy": "2024-03-02T17:08:17.140476Z",
     "iopub.status.idle": "2024-03-02T17:08:17.167679Z",
     "shell.execute_reply": "2024-03-02T17:08:17.166564Z"
    },
    "papermill": {
     "duration": 0.040353,
     "end_time": "2024-03-02T17:08:17.170331",
     "exception": false,
     "start_time": "2024-03-02T17:08:17.129978",
     "status": "completed"
    },
    "tags": []
   },
   "outputs": [
    {
     "name": "stdout",
     "output_type": "stream",
     "text": [
      "<class 'pandas.core.frame.DataFrame'>\n",
      "RangeIndex: 9551 entries, 0 to 9550\n",
      "Data columns (total 22 columns):\n",
      " #   Column                Non-Null Count  Dtype  \n",
      "---  ------                --------------  -----  \n",
      " 0   Restaurant ID         9551 non-null   int64  \n",
      " 1   Restaurant Name       9551 non-null   object \n",
      " 2   Country Code          9551 non-null   int64  \n",
      " 3   City                  9551 non-null   object \n",
      " 4   Address               9551 non-null   object \n",
      " 5   Locality              9551 non-null   object \n",
      " 6   Locality Verbose      9551 non-null   object \n",
      " 7   Longitude             9551 non-null   float64\n",
      " 8   Latitude              9551 non-null   float64\n",
      " 9   Cuisines              9542 non-null   object \n",
      " 10  Average Cost for two  9551 non-null   int64  \n",
      " 11  Currency              9551 non-null   object \n",
      " 12  Has Table booking     9551 non-null   object \n",
      " 13  Has Online delivery   9551 non-null   object \n",
      " 14  Is delivering now     9551 non-null   object \n",
      " 15  Switch to order menu  9551 non-null   object \n",
      " 16  Price range           9551 non-null   int64  \n",
      " 17  Aggregate rating      9551 non-null   float64\n",
      " 18  Rating color          9551 non-null   object \n",
      " 19  Rating text           9551 non-null   object \n",
      " 20  Votes                 9551 non-null   int64  \n",
      " 21  Country               9551 non-null   object \n",
      "dtypes: float64(3), int64(5), object(14)\n",
      "memory usage: 1.6+ MB\n"
     ]
    }
   ],
   "source": [
    "df.info()"
   ]
  },
  {
   "cell_type": "markdown",
   "id": "c0864779",
   "metadata": {
    "papermill": {
     "duration": 0.009188,
     "end_time": "2024-03-02T17:08:17.188533",
     "exception": false,
     "start_time": "2024-03-02T17:08:17.179345",
     "status": "completed"
    },
    "tags": []
   },
   "source": [
    "## 1. What is the distribution of restaurant ratings?"
   ]
  },
  {
   "cell_type": "code",
   "execution_count": 6,
   "id": "227afb39",
   "metadata": {
    "execution": {
     "iopub.execute_input": "2024-03-02T17:08:17.210412Z",
     "iopub.status.busy": "2024-03-02T17:08:17.209689Z",
     "iopub.status.idle": "2024-03-02T17:08:17.638551Z",
     "shell.execute_reply": "2024-03-02T17:08:17.637300Z"
    },
    "papermill": {
     "duration": 0.443285,
     "end_time": "2024-03-02T17:08:17.641301",
     "exception": false,
     "start_time": "2024-03-02T17:08:17.198016",
     "status": "completed"
    },
    "tags": []
   },
   "outputs": [
    {
     "name": "stderr",
     "output_type": "stream",
     "text": [
      "/opt/conda/lib/python3.10/site-packages/seaborn/_oldcore.py:1119: FutureWarning: use_inf_as_na option is deprecated and will be removed in a future version. Convert inf values to NaN before operating instead.\n",
      "  with pd.option_context('mode.use_inf_as_na', True):\n"
     ]
    },
    {
     "data": {
      "image/png": "[encoded data removed]",
      "text/plain": [
       "<Figure size 1000x600 with 1 Axes>"
      ]
     },
     "metadata": {},
     "output_type": "display_data"
    }
   ],
   "source": [
    "plt.figure(figsize=(10, 6))\n",
    "sns.histplot(df['Aggregate rating'], bins=20, kde=True)\n",
    "plt.title('Distribution of Restaurant Ratings')\n",
    "plt.xlabel('Aggregate Rating')\n",
    "plt.ylabel('Frequency')\n",
    "plt.show()"
   ]
  },
  {
   "cell_type": "markdown",
   "id": "b634f8d4",
   "metadata": {
    "papermill": {
     "duration": 0.009577,
     "end_time": "2024-03-02T17:08:17.660905",
     "exception": false,
     "start_time": "2024-03-02T17:08:17.651328",
     "status": "completed"
    },
    "tags": []
   },
   "source": [
    "**Distribution of restaurant ratings is normal in 3.5 star rating in Aggregate rating**"
   ]
  },
  {
   "cell_type": "markdown",
   "id": "cb7f2557",
   "metadata": {
    "papermill": {
     "duration": 0.009529,
     "end_time": "2024-03-02T17:08:17.680463",
     "exception": false,
     "start_time": "2024-03-02T17:08:17.670934",
     "status": "completed"
    },
    "tags": []
   },
   "source": [
    "## 2. How many restaurants offer online delivery?"
   ]
  },
  {
   "cell_type": "code",
   "execution_count": 7,
   "id": "eb118da2",
   "metadata": {
    "execution": {
     "iopub.execute_input": "2024-03-02T17:08:17.702122Z",
     "iopub.status.busy": "2024-03-02T17:08:17.701684Z",
     "iopub.status.idle": "2024-03-02T17:08:17.709668Z",
     "shell.execute_reply": "2024-03-02T17:08:17.708587Z"
    },
    "papermill": {
     "duration": 0.021839,
     "end_time": "2024-03-02T17:08:17.712070",
     "exception": false,
     "start_time": "2024-03-02T17:08:17.690231",
     "status": "completed"
    },
    "tags": []
   },
   "outputs": [
    {
     "name": "stdout",
     "output_type": "stream",
     "text": [
      "Has Online delivery\n",
      "No     7100\n",
      "Yes    2451\n",
      "Name: count, dtype: int64\n"
     ]
    }
   ],
   "source": [
    "online_delivery_count = df['Has Online delivery'].value_counts()\n",
    "print(online_delivery_count)"
   ]
  },
  {
   "cell_type": "code",
   "execution_count": 8,
   "id": "4d9206de",
   "metadata": {
    "execution": {
     "iopub.execute_input": "2024-03-02T17:08:17.735619Z",
     "iopub.status.busy": "2024-03-02T17:08:17.734499Z",
     "iopub.status.idle": "2024-03-02T17:08:17.872442Z",
     "shell.execute_reply": "2024-03-02T17:08:17.871528Z"
    },
    "papermill": {
     "duration": 0.154484,
     "end_time": "2024-03-02T17:08:17.876955",
     "exception": false,
     "start_time": "2024-03-02T17:08:17.722471",
     "status": "completed"
    },
    "tags": []
   },
   "outputs": [
    {
     "data": {
      "image/png": "[encoded data removed]",
      "text/plain": [
       "<Figure size 800x800 with 1 Axes>"
      ]
     },
     "metadata": {},
     "output_type": "display_data"
    }
   ],
   "source": [
    "#let plot a pie chart for restaurant offers online delivery\n",
    "plt.figure(figsize=(8, 8))\n",
    "plt.pie(online_delivery_count, labels=online_delivery_count.index,autopct='%1.1f%%', startangle=90)\n",
    "plt.title('Online Delivery Availability in Restaurants')\n",
    "plt.show()"
   ]
  },
  {
   "cell_type": "markdown",
   "id": "b18d7e17",
   "metadata": {
    "papermill": {
     "duration": 0.017536,
     "end_time": "2024-03-02T17:08:17.912629",
     "exception": false,
     "start_time": "2024-03-02T17:08:17.895093",
     "status": "completed"
    },
    "tags": []
   },
   "source": [
    "## 3.Identify the top 5 cuisines available across restaurants."
   ]
  },
  {
   "cell_type": "code",
   "execution_count": 9,
   "id": "8587705e",
   "metadata": {
    "execution": {
     "iopub.execute_input": "2024-03-02T17:08:17.947390Z",
     "iopub.status.busy": "2024-03-02T17:08:17.946607Z",
     "iopub.status.idle": "2024-03-02T17:08:17.954398Z",
     "shell.execute_reply": "2024-03-02T17:08:17.953311Z"
    },
    "papermill": {
     "duration": 0.025896,
     "end_time": "2024-03-02T17:08:17.956498",
     "exception": false,
     "start_time": "2024-03-02T17:08:17.930602",
     "status": "completed"
    },
    "tags": []
   },
   "outputs": [
    {
     "data": {
      "text/plain": [
       "<bound method IndexOpsMixin.nunique of 0             French, Japanese, Desserts\n",
       "1                               Japanese\n",
       "2       Seafood, Asian, Filipino, Indian\n",
       "3                        Japanese, Sushi\n",
       "4                       Japanese, Korean\n",
       "                      ...               \n",
       "9546                             Turkish\n",
       "9547     World Cuisine, Patisserie, Cafe\n",
       "9548              Italian, World Cuisine\n",
       "9549                     Restaurant Cafe\n",
       "9550                                Cafe\n",
       "Name: Cuisines, Length: 9551, dtype: object>"
      ]
     },
     "execution_count": 9,
     "metadata": {},
     "output_type": "execute_result"
    }
   ],
   "source": [
    "df['Cuisines'].nunique"
   ]
  },
  {
   "cell_type": "code",
   "execution_count": 10,
   "id": "d5bcecf7",
   "metadata": {
    "execution": {
     "iopub.execute_input": "2024-03-02T17:08:17.981134Z",
     "iopub.status.busy": "2024-03-02T17:08:17.980339Z",
     "iopub.status.idle": "2024-03-02T17:08:18.015513Z",
     "shell.execute_reply": "2024-03-02T17:08:18.014198Z"
    },
    "papermill": {
     "duration": 0.05075,
     "end_time": "2024-03-02T17:08:18.018441",
     "exception": false,
     "start_time": "2024-03-02T17:08:17.967691",
     "status": "completed"
    },
    "tags": []
   },
   "outputs": [],
   "source": [
    "cuisine_counts = df['Cuisines'].str.split(', ', expand=True).stack().value_counts()\n",
    "Top5_cuisine=cuisine_counts.head(5)"
   ]
  },
  {
   "cell_type": "code",
   "execution_count": 11,
   "id": "7755a534",
   "metadata": {
    "execution": {
     "iopub.execute_input": "2024-03-02T17:08:18.041648Z",
     "iopub.status.busy": "2024-03-02T17:08:18.041183Z",
     "iopub.status.idle": "2024-03-02T17:08:18.339626Z",
     "shell.execute_reply": "2024-03-02T17:08:18.338298Z"
    },
    "papermill": {
     "duration": 0.3131,
     "end_time": "2024-03-02T17:08:18.342413",
     "exception": false,
     "start_time": "2024-03-02T17:08:18.029313",
     "status": "completed"
    },
    "tags": []
   },
   "outputs": [
    {
     "data": {
      "image/png": "[encoded data removed]",
      "text/plain": [
       "<Figure size 1000x600 with 1 Axes>"
      ]
     },
     "metadata": {},
     "output_type": "display_data"
    }
   ],
   "source": [
    "# Plot a bar chart for better visualization\n",
    "plt.figure(figsize=(10, 6))\n",
    "Top5_cuisine.plot(kind='bar')\n",
    "plt.title('Top 5 cuisines available across restaurants')\n",
    "plt.xlabel('cuisines')\n",
    "plt.ylabel('Restaurants cuisines')\n",
    "plt.show()"
   ]
  },
  {
   "cell_type": "markdown",
   "id": "fb885660",
   "metadata": {
    "papermill": {
     "duration": 0.010882,
     "end_time": "2024-03-02T17:08:18.364765",
     "exception": false,
     "start_time": "2024-03-02T17:08:18.353883",
     "status": "completed"
    },
    "tags": []
   },
   "source": [
    "**North Indian cuisines most avaliable in restaurants with 3960 cuisines**"
   ]
  },
  {
   "cell_type": "markdown",
   "id": "28a0a55a",
   "metadata": {
    "papermill": {
     "duration": 0.010854,
     "end_time": "2024-03-02T17:08:18.386896",
     "exception": false,
     "start_time": "2024-03-02T17:08:18.376042",
     "status": "completed"
    },
    "tags": []
   },
   "source": [
    "## 4.Identify the top 5 restaurants with the highest number of votes."
   ]
  },
  {
   "cell_type": "code",
   "execution_count": 12,
   "id": "06d6b4f0",
   "metadata": {
    "execution": {
     "iopub.execute_input": "2024-03-02T17:08:18.411534Z",
     "iopub.status.busy": "2024-03-02T17:08:18.410671Z",
     "iopub.status.idle": "2024-03-02T17:08:18.425686Z",
     "shell.execute_reply": "2024-03-02T17:08:18.424221Z"
    },
    "papermill": {
     "duration": 0.030537,
     "end_time": "2024-03-02T17:08:18.428569",
     "exception": false,
     "start_time": "2024-03-02T17:08:18.398032",
     "status": "completed"
    },
    "tags": []
   },
   "outputs": [],
   "source": [
    "#let voted restaurants with 5 star votes\n",
    "top_voted_restaurants = df.nlargest(5, 'Votes')[['Restaurant Name', 'Votes']]"
   ]
  },
  {
   "cell_type": "code",
   "execution_count": 13,
   "id": "65277b1a",
   "metadata": {
    "execution": {
     "iopub.execute_input": "2024-03-02T17:08:18.453666Z",
     "iopub.status.busy": "2024-03-02T17:08:18.452998Z",
     "iopub.status.idle": "2024-03-02T17:08:18.461250Z",
     "shell.execute_reply": "2024-03-02T17:08:18.459704Z"
    },
    "papermill": {
     "duration": 0.023549,
     "end_time": "2024-03-02T17:08:18.463707",
     "exception": false,
     "start_time": "2024-03-02T17:08:18.440158",
     "status": "completed"
    },
    "tags": []
   },
   "outputs": [
    {
     "name": "stdout",
     "output_type": "stream",
     "text": [
      "Top 5 Restaurants with the Highest Number of Votes:\n",
      "                Restaurant Name  Votes\n",
      "728                        Toit  10934\n",
      "735                    Truffles   9667\n",
      "3994           Hauz Khas Social   7931\n",
      "2412                  Peter Cat   7574\n",
      "739   AB's - Absolute Barbecues   6907\n"
     ]
    }
   ],
   "source": [
    "print(\"Top 5 Restaurants with the Highest Number of Votes:\")\n",
    "print(top_voted_restaurants)"
   ]
  },
  {
   "cell_type": "code",
   "execution_count": 14,
   "id": "a85fe255",
   "metadata": {
    "execution": {
     "iopub.execute_input": "2024-03-02T17:08:18.489185Z",
     "iopub.status.busy": "2024-03-02T17:08:18.488716Z",
     "iopub.status.idle": "2024-03-02T17:08:18.763319Z",
     "shell.execute_reply": "2024-03-02T17:08:18.762030Z"
    },
    "papermill": {
     "duration": 0.290551,
     "end_time": "2024-03-02T17:08:18.765873",
     "exception": false,
     "start_time": "2024-03-02T17:08:18.475322",
     "status": "completed"
    },
    "tags": []
   },
   "outputs": [
    {
     "data": {
      "image/png": "[encoded data removed]",
      "text/plain": [
       "<Figure size 1000x800 with 1 Axes>"
      ]
     },
     "metadata": {},
     "output_type": "display_data"
    }
   ],
   "source": [
    "# Plot a bar chart for better visualization\n",
    "plt.figure(figsize=(10, 8))\n",
    "plt.barh(top_voted_restaurants[\"Restaurant Name\"],top_voted_restaurants[\"Votes\"],data=df)\n",
    "plt.title('Top 5 Restaurants with the Highest Number of Votes')\n",
    "plt.xlabel('votes')\n",
    "plt.ylabel('Restaurant name')\n",
    "plt.gca().invert_yaxis() # Invert y-axis to display the highest value at the top\n",
    "plt.show()"
   ]
  },
  {
   "cell_type": "markdown",
   "id": "6e0162ca",
   "metadata": {
    "papermill": {
     "duration": 0.012981,
     "end_time": "2024-03-02T17:08:18.791279",
     "exception": false,
     "start_time": "2024-03-02T17:08:18.778298",
     "status": "completed"
    },
    "tags": []
   },
   "source": [
    "**TOIT Restaurant has the Highest Number of Votes with 10934 votes**"
   ]
  },
  {
   "cell_type": "markdown",
   "id": "ce4aaf8f",
   "metadata": {
    "papermill": {
     "duration": 0.011629,
     "end_time": "2024-03-02T17:08:18.815069",
     "exception": false,
     "start_time": "2024-03-02T17:08:18.803440",
     "status": "completed"
    },
    "tags": []
   },
   "source": [
    "## 5.Identify trends in restaurant ratings over different price ranges"
   ]
  },
  {
   "cell_type": "code",
   "execution_count": 15,
   "id": "4726efca",
   "metadata": {
    "execution": {
     "iopub.execute_input": "2024-03-02T17:08:18.842072Z",
     "iopub.status.busy": "2024-03-02T17:08:18.841204Z",
     "iopub.status.idle": "2024-03-02T17:08:18.852876Z",
     "shell.execute_reply": "2024-03-02T17:08:18.851703Z"
    },
    "papermill": {
     "duration": 0.027394,
     "end_time": "2024-03-02T17:08:18.855110",
     "exception": false,
     "start_time": "2024-03-02T17:08:18.827716",
     "status": "completed"
    },
    "tags": []
   },
   "outputs": [
    {
     "data": {
      "text/plain": [
       "Price range\n",
       "1    4444\n",
       "2    3113\n",
       "3    1408\n",
       "4     586\n",
       "Name: count, dtype: int64"
      ]
     },
     "execution_count": 15,
     "metadata": {},
     "output_type": "execute_result"
    }
   ],
   "source": [
    "df[\"Price range\"].value_counts()"
   ]
  },
  {
   "cell_type": "code",
   "execution_count": 16,
   "id": "1e96cb10",
   "metadata": {
    "execution": {
     "iopub.execute_input": "2024-03-02T17:08:18.882694Z",
     "iopub.status.busy": "2024-03-02T17:08:18.882234Z",
     "iopub.status.idle": "2024-03-02T17:08:19.165614Z",
     "shell.execute_reply": "2024-03-02T17:08:19.164419Z"
    },
    "papermill": {
     "duration": 0.300054,
     "end_time": "2024-03-02T17:08:19.168185",
     "exception": false,
     "start_time": "2024-03-02T17:08:18.868131",
     "status": "completed"
    },
    "tags": []
   },
   "outputs": [
    {
     "data": {
      "image/png": "[encoded data removed]",
      "text/plain": [
       "<Figure size 1000x600 with 1 Axes>"
      ]
     },
     "metadata": {},
     "output_type": "display_data"
    }
   ],
   "source": [
    "#let plot a scatter plot in price ranges\n",
    "plt.figure(figsize=(10, 6))\n",
    "sns.boxplot(x='Price range', y='Aggregate rating', data=df)\n",
    "plt.title('Restaurant Ratings Trends Over Price Ranges')\n",
    "plt.xlabel('Price Range')\n",
    "plt.ylabel('Aggregate Rating')\n",
    "plt.show()"
   ]
  },
  {
   "cell_type": "markdown",
   "id": "6336507f",
   "metadata": {
    "papermill": {
     "duration": 0.012532,
     "end_time": "2024-03-02T17:08:19.194371",
     "exception": false,
     "start_time": "2024-03-02T17:08:19.181839",
     "status": "completed"
    },
    "tags": []
   },
   "source": [
    "**most least Aggregate Rating restautant has lower number of price range 1 with  4444 rating,2 with 3113,3 with 1403 and 4 with 586**"
   ]
  },
  {
   "cell_type": "code",
   "execution_count": 17,
   "id": "66b36331",
   "metadata": {
    "execution": {
     "iopub.execute_input": "2024-03-02T17:08:19.224085Z",
     "iopub.status.busy": "2024-03-02T17:08:19.222762Z",
     "iopub.status.idle": "2024-03-02T17:08:19.232972Z",
     "shell.execute_reply": "2024-03-02T17:08:19.231701Z"
    },
    "papermill": {
     "duration": 0.026911,
     "end_time": "2024-03-02T17:08:19.235703",
     "exception": false,
     "start_time": "2024-03-02T17:08:19.208792",
     "status": "completed"
    },
    "tags": []
   },
   "outputs": [
    {
     "data": {
      "text/plain": [
       "Rating color\n",
       "Orange        3737\n",
       "White         2148\n",
       "Yellow        2100\n",
       "Green         1079\n",
       "Dark Green     301\n",
       "Red            186\n",
       "Name: count, dtype: int64"
      ]
     },
     "execution_count": 17,
     "metadata": {},
     "output_type": "execute_result"
    }
   ],
   "source": [
    "df[\"Rating color\"].value_counts()"
   ]
  },
  {
   "cell_type": "markdown",
   "id": "877c17bd",
   "metadata": {
    "papermill": {
     "duration": 0.012671,
     "end_time": "2024-03-02T17:08:19.261055",
     "exception": false,
     "start_time": "2024-03-02T17:08:19.248384",
     "status": "completed"
    },
    "tags": []
   },
   "source": [
    "## 6.Develop a model to predict the aggregate rating of a restaurant."
   ]
  },
  {
   "cell_type": "code",
   "execution_count": 18,
   "id": "463bea79",
   "metadata": {
    "execution": {
     "iopub.execute_input": "2024-03-02T17:08:19.288162Z",
     "iopub.status.busy": "2024-03-02T17:08:19.287703Z",
     "iopub.status.idle": "2024-03-02T17:08:19.703139Z",
     "shell.execute_reply": "2024-03-02T17:08:19.702071Z"
    },
    "papermill": {
     "duration": 0.432215,
     "end_time": "2024-03-02T17:08:19.705935",
     "exception": false,
     "start_time": "2024-03-02T17:08:19.273720",
     "status": "completed"
    },
    "tags": []
   },
   "outputs": [],
   "source": [
    "#let importing a libraries for machines learning\n",
    "from sklearn.model_selection import train_test_split\n",
    "from sklearn.linear_model import LinearRegression\n",
    "from sklearn.metrics import mean_squared_error"
   ]
  },
  {
   "cell_type": "code",
   "execution_count": 19,
   "id": "e73bc2fd",
   "metadata": {
    "execution": {
     "iopub.execute_input": "2024-03-02T17:08:19.745638Z",
     "iopub.status.busy": "2024-03-02T17:08:19.744192Z",
     "iopub.status.idle": "2024-03-02T17:08:19.752786Z",
     "shell.execute_reply": "2024-03-02T17:08:19.751513Z"
    },
    "papermill": {
     "duration": 0.033173,
     "end_time": "2024-03-02T17:08:19.755826",
     "exception": false,
     "start_time": "2024-03-02T17:08:19.722653",
     "status": "completed"
    },
    "tags": []
   },
   "outputs": [],
   "source": [
    "# Let's create a simplified model using only 'Price range' as a feature\n",
    "X = df[['Price range']]\n",
    "y = df['Aggregate rating']"
   ]
  },
  {
   "cell_type": "code",
   "execution_count": 20,
   "id": "3beacc55",
   "metadata": {
    "execution": {
     "iopub.execute_input": "2024-03-02T17:08:19.786990Z",
     "iopub.status.busy": "2024-03-02T17:08:19.786159Z",
     "iopub.status.idle": "2024-03-02T17:08:19.794088Z",
     "shell.execute_reply": "2024-03-02T17:08:19.793274Z"
    },
    "papermill": {
     "duration": 0.02477,
     "end_time": "2024-03-02T17:08:19.796470",
     "exception": false,
     "start_time": "2024-03-02T17:08:19.771700",
     "status": "completed"
    },
    "tags": []
   },
   "outputs": [],
   "source": [
    "X_train, X_test, y_train, y_test = train_test_split(X, y, test_size=0.2, random_state=42)"
   ]
  },
  {
   "cell_type": "code",
   "execution_count": 21,
   "id": "9eb76689",
   "metadata": {
    "execution": {
     "iopub.execute_input": "2024-03-02T17:08:19.824694Z",
     "iopub.status.busy": "2024-03-02T17:08:19.823931Z",
     "iopub.status.idle": "2024-03-02T17:08:19.849255Z",
     "shell.execute_reply": "2024-03-02T17:08:19.847974Z"
    },
    "papermill": {
     "duration": 0.045462,
     "end_time": "2024-03-02T17:08:19.854404",
     "exception": false,
     "start_time": "2024-03-02T17:08:19.808942",
     "status": "completed"
    },
    "tags": []
   },
   "outputs": [
    {
     "data": {
      "text/html": [
       "<style>#sk-container-id-1 {color: black;background-color: white;}#sk-container-id-1 pre{padding: 0;}#sk-container-id-1 div.sk-toggleable {background-color: white;}#sk-container-id-1 label.sk-toggleable__label {cursor: pointer;display: block;width: 100%;margin-bottom: 0;padding: 0.3em;box-sizing: border-box;text-align: center;}#sk-container-id-1 label.sk-toggleable__label-arrow:before {content: \"▸\";float: left;margin-right: 0.25em;color: #696969;}#sk-container-id-1 label.sk-toggleable__label-arrow:hover:before {color: black;}#sk-container-id-1 div.sk-estimator:hover label.sk-toggleable__label-arrow:before {color: black;}#sk-container-id-1 div.sk-toggleable__content {max-height: 0;max-width: 0;overflow: hidden;text-align: left;background-color: #f0f8ff;}#sk-container-id-1 div.sk-toggleable__content pre {margin: 0.2em;color: black;border-radius: 0.25em;background-color: #f0f8ff;}#sk-container-id-1 input.sk-toggleable__control:checked~div.sk-toggleable__content {max-height: 200px;max-width: 100%;overflow: auto;}#sk-container-id-1 input.sk-toggleable__control:checked~label.sk-toggleable__label-arrow:before {content: \"▾\";}#sk-container-id-1 div.sk-estimator input.sk-toggleable__control:checked~label.sk-toggleable__label {background-color: #d4ebff;}#sk-container-id-1 div.sk-label input.sk-toggleable__control:checked~label.sk-toggleable__label {background-color: #d4ebff;}#sk-container-id-1 input.sk-hidden--visually {border: 0;clip: rect(1px 1px 1px 1px);clip: rect(1px, 1px, 1px, 1px);height: 1px;margin: -1px;overflow: hidden;padding: 0;position: absolute;width: 1px;}#sk-container-id-1 div.sk-estimator {font-family: monospace;background-color: #f0f8ff;border: 1px dotted black;border-radius: 0.25em;box-sizing: border-box;margin-bottom: 0.5em;}#sk-container-id-1 div.sk-estimator:hover {background-color: #d4ebff;}#sk-container-id-1 div.sk-parallel-item::after {content: \"\";width: 100%;border-bottom: 1px solid gray;flex-grow: 1;}#sk-container-id-1 div.sk-label:hover label.sk-toggleable__label {background-color: #d4ebff;}#sk-container-id-1 div.sk-serial::before {content: \"\";position: absolute;border-left: 1px solid gray;box-sizing: border-box;top: 0;bottom: 0;left: 50%;z-index: 0;}#sk-container-id-1 div.sk-serial {display: flex;flex-direction: column;align-items: center;background-color: white;padding-right: 0.2em;padding-left: 0.2em;position: relative;}#sk-container-id-1 div.sk-item {position: relative;z-index: 1;}#sk-container-id-1 div.sk-parallel {display: flex;align-items: stretch;justify-content: center;background-color: white;position: relative;}#sk-container-id-1 div.sk-item::before, #sk-container-id-1 div.sk-parallel-item::before {content: \"\";position: absolute;border-left: 1px solid gray;box-sizing: border-box;top: 0;bottom: 0;left: 50%;z-index: -1;}#sk-container-id-1 div.sk-parallel-item {display: flex;flex-direction: column;z-index: 1;position: relative;background-color: white;}#sk-container-id-1 div.sk-parallel-item:first-child::after {align-self: flex-end;width: 50%;}#sk-container-id-1 div.sk-parallel-item:last-child::after {align-self: flex-start;width: 50%;}#sk-container-id-1 div.sk-parallel-item:only-child::after {width: 0;}#sk-container-id-1 div.sk-dashed-wrapped {border: 1px dashed gray;margin: 0 0.4em 0.5em 0.4em;box-sizing: border-box;padding-bottom: 0.4em;background-color: white;}#sk-container-id-1 div.sk-label label {font-family: monospace;font-weight: bold;display: inline-block;line-height: 1.2em;}#sk-container-id-1 div.sk-label-container {text-align: center;}#sk-container-id-1 div.sk-container {/* jupyter's `normalize.less` sets `[hidden] { display: none; }` but bootstrap.min.css set `[hidden] { display: none !important; }` so we also need the `!important` here to be able to override the default hidden behavior on the sphinx rendered scikit-learn.org. See: https://github.com/scikit-learn/scikit-learn/issues/21755 */display: inline-block !important;position: relative;}#sk-container-id-1 div.sk-text-repr-fallback {display: none;}</style><div id=\"sk-container-id-1\" class=\"sk-top-container\"><div class=\"sk-text-repr-fallback\"><pre>LinearRegression()</pre><b>In a Jupyter environment, please rerun this cell to show the HTML representation or trust the notebook. <br />On GitHub, the HTML representation is unable to render, please try loading this page with nbviewer.org.</b></div><div class=\"sk-container\" hidden><div class=\"sk-item\"><div class=\"sk-estimator sk-toggleable\"><input class=\"sk-toggleable__control sk-hidden--visually\" id=\"sk-estimator-id-1\" type=\"checkbox\" checked><label for=\"sk-estimator-id-1\" class=\"sk-toggleable__label sk-toggleable__label-arrow\">LinearRegression</label><div class=\"sk-toggleable__content\"><pre>LinearRegression()</pre></div></div></div></div></div>"
      ],
      "text/plain": [
       "LinearRegression()"
      ]
     },
     "execution_count": 21,
     "metadata": {},
     "output_type": "execute_result"
    }
   ],
   "source": [
    "model = LinearRegression()\n",
    "model.fit(X_train, y_train)"
   ]
  },
  {
   "cell_type": "code",
   "execution_count": 22,
   "id": "9f945691",
   "metadata": {
    "execution": {
     "iopub.execute_input": "2024-03-02T17:08:19.891903Z",
     "iopub.status.busy": "2024-03-02T17:08:19.890965Z",
     "iopub.status.idle": "2024-03-02T17:08:19.901816Z",
     "shell.execute_reply": "2024-03-02T17:08:19.900812Z"
    },
    "papermill": {
     "duration": 0.034241,
     "end_time": "2024-03-02T17:08:19.905357",
     "exception": false,
     "start_time": "2024-03-02T17:08:19.871116",
     "status": "completed"
    },
    "tags": []
   },
   "outputs": [
    {
     "name": "stdout",
     "output_type": "stream",
     "text": [
      "[2.0670416  2.80042385 2.80042385 ... 2.80042385 3.53380611 3.53380611]\n"
     ]
    }
   ],
   "source": [
    "# Predicting on the test set\n",
    "y_pred = model.predict(X_test)\n",
    "print(y_pred)"
   ]
  },
  {
   "cell_type": "code",
   "execution_count": 23,
   "id": "235ea2bc",
   "metadata": {
    "execution": {
     "iopub.execute_input": "2024-03-02T17:08:19.941989Z",
     "iopub.status.busy": "2024-03-02T17:08:19.941073Z",
     "iopub.status.idle": "2024-03-02T17:08:19.947983Z",
     "shell.execute_reply": "2024-03-02T17:08:19.947114Z"
    },
    "papermill": {
     "duration": 0.030005,
     "end_time": "2024-03-02T17:08:19.950353",
     "exception": false,
     "start_time": "2024-03-02T17:08:19.920348",
     "status": "completed"
    },
    "tags": []
   },
   "outputs": [
    {
     "name": "stdout",
     "output_type": "stream",
     "text": [
      "Mean Squared Error: 1.8360934449415784\n"
     ]
    }
   ],
   "source": [
    "# Evaluate the model\n",
    "mse = mean_squared_error(y_test, y_pred)\n",
    "print(f'Mean Squared Error: {mse}')"
   ]
  },
  {
   "cell_type": "markdown",
   "id": "1a4c612b",
   "metadata": {
    "papermill": {
     "duration": 0.013201,
     "end_time": "2024-03-02T17:08:19.977324",
     "exception": false,
     "start_time": "2024-03-02T17:08:19.964123",
     "status": "completed"
    },
    "tags": []
   },
   "source": [
    "**This is a simple model, and you may need to include more features for a better prediction.**"
   ]
  }
 ],
 "metadata": {
  "kaggle": {
   "accelerator": "none",
   "dataSources": [
    {
     "datasetId": 14506,
     "sourceId": 21473,
     "sourceType": "datasetVersion"
    }
   ],
   "dockerImageVersionId": 30664,
   "isGpuEnabled": false,
   "isInternetEnabled": true,
   "language": "python",
   "sourceType": "notebook"
  },
  "kernelspec": {
   "display_name": "Python 3",
   "language": "python",
   "name": "python3"
  },
  "language_info": {
   "codemirror_mode": {
    "name": "ipython",
    "version": 3
   },
   "file_extension": ".py",
   "mimetype": "text/x-python",
   "name": "python",
   "nbconvert_exporter": "python",
   "pygments_lexer": "ipython3",
   "version": "3.10.13"
  },
  "papermill": {
   "default_parameters": {},
   "duration": 9.653878,
   "end_time": "2024-03-02T17:08:20.815452",
   "environment_variables": {},
   "exception": null,
   "input_path": "__notebook__.ipynb",
   "output_path": "__notebook__.ipynb",
   "parameters": {},
   "start_time": "2024-03-02T17:08:11.161574",
   "version": "2.5.0"
  }
 },
 "nbformat": 4,
 "nbformat_minor": 5
}
