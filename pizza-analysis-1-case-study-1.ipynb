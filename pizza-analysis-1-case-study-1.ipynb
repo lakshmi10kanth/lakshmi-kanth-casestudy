{
 "cells": [
  {
   "cell_type": "code",
   "execution_count": 1,
   "id": "8c6b6214",
   "metadata": {
    "_cell_guid": "b1076dfc-b9ad-4769-8c92-a6c4dae69d19",
    "_uuid": "8f2839f25d086af736a60e9eeb907d3b93b6e0e5",
    "execution": {
     "iopub.execute_input": "2023-12-26T06:56:23.410030Z",
     "iopub.status.busy": "2023-12-26T06:56:23.409043Z",
     "iopub.status.idle": "2023-12-26T06:56:25.932130Z",
     "shell.execute_reply": "2023-12-26T06:56:25.930792Z"
    },
    "papermill": {
     "duration": 2.541095,
     "end_time": "2023-12-26T06:56:25.935804",
     "exception": false,
     "start_time": "2023-12-26T06:56:23.394709",
     "status": "completed"
    },
    "tags": []
   },
   "outputs": [],
   "source": [
    "#let import libraries \n",
    "import pandas as pd\n",
    "import numpy as np\n",
    "import matplotlib.pyplot as plt\n",
    "import seaborn as sns\n",
    "import datetime as dt"
   ]
  },
  {
   "cell_type": "code",
   "execution_count": 2,
   "id": "1ca63f9a",
   "metadata": {
    "execution": {
     "iopub.execute_input": "2023-12-26T06:56:25.961848Z",
     "iopub.status.busy": "2023-12-26T06:56:25.961007Z",
     "iopub.status.idle": "2023-12-26T06:56:26.067266Z",
     "shell.execute_reply": "2023-12-26T06:56:26.066162Z"
    },
    "papermill": {
     "duration": 0.12246,
     "end_time": "2023-12-26T06:56:26.070817",
     "exception": false,
     "start_time": "2023-12-26T06:56:25.948357",
     "status": "completed"
    },
    "tags": []
   },
   "outputs": [
    {
     "data": {
      "text/html": [
       "<div>\n",
       "<style scoped>\n",
       "    .dataframe tbody tr th:only-of-type {\n",
       "        vertical-align: middle;\n",
       "    }\n",
       "\n",
       "    .dataframe tbody tr th {\n",
       "        vertical-align: top;\n",
       "    }\n",
       "\n",
       "    .dataframe thead th {\n",
       "        text-align: right;\n",
       "    }\n",
       "</style>\n",
       "<table border=\"1\" class=\"dataframe\">\n",
       "  <thead>\n",
       "    <tr style=\"text-align: right;\">\n",
       "      <th></th>\n",
       "      <th>order_details_id</th>\n",
       "      <th>order_id</th>\n",
       "      <th>pizza_id</th>\n",
       "      <th>quantity</th>\n",
       "    </tr>\n",
       "  </thead>\n",
       "  <tbody>\n",
       "    <tr>\n",
       "      <th>0</th>\n",
       "      <td>1</td>\n",
       "      <td>1</td>\n",
       "      <td>hawaiian_m</td>\n",
       "      <td>1</td>\n",
       "    </tr>\n",
       "    <tr>\n",
       "      <th>1</th>\n",
       "      <td>2</td>\n",
       "      <td>2</td>\n",
       "      <td>classic_dlx_m</td>\n",
       "      <td>1</td>\n",
       "    </tr>\n",
       "    <tr>\n",
       "      <th>2</th>\n",
       "      <td>3</td>\n",
       "      <td>2</td>\n",
       "      <td>five_cheese_l</td>\n",
       "      <td>1</td>\n",
       "    </tr>\n",
       "    <tr>\n",
       "      <th>3</th>\n",
       "      <td>4</td>\n",
       "      <td>2</td>\n",
       "      <td>ital_supr_l</td>\n",
       "      <td>1</td>\n",
       "    </tr>\n",
       "    <tr>\n",
       "      <th>4</th>\n",
       "      <td>5</td>\n",
       "      <td>2</td>\n",
       "      <td>mexicana_m</td>\n",
       "      <td>1</td>\n",
       "    </tr>\n",
       "    <tr>\n",
       "      <th>...</th>\n",
       "      <td>...</td>\n",
       "      <td>...</td>\n",
       "      <td>...</td>\n",
       "      <td>...</td>\n",
       "    </tr>\n",
       "    <tr>\n",
       "      <th>48615</th>\n",
       "      <td>48616</td>\n",
       "      <td>21348</td>\n",
       "      <td>ckn_alfredo_m</td>\n",
       "      <td>1</td>\n",
       "    </tr>\n",
       "    <tr>\n",
       "      <th>48616</th>\n",
       "      <td>48617</td>\n",
       "      <td>21348</td>\n",
       "      <td>four_cheese_l</td>\n",
       "      <td>1</td>\n",
       "    </tr>\n",
       "    <tr>\n",
       "      <th>48617</th>\n",
       "      <td>48618</td>\n",
       "      <td>21348</td>\n",
       "      <td>napolitana_s</td>\n",
       "      <td>1</td>\n",
       "    </tr>\n",
       "    <tr>\n",
       "      <th>48618</th>\n",
       "      <td>48619</td>\n",
       "      <td>21349</td>\n",
       "      <td>mexicana_l</td>\n",
       "      <td>1</td>\n",
       "    </tr>\n",
       "    <tr>\n",
       "      <th>48619</th>\n",
       "      <td>48620</td>\n",
       "      <td>21350</td>\n",
       "      <td>bbq_ckn_s</td>\n",
       "      <td>1</td>\n",
       "    </tr>\n",
       "  </tbody>\n",
       "</table>\n",
       "<p>48620 rows × 4 columns</p>\n",
       "</div>"
      ],
      "text/plain": [
       "       order_details_id  order_id       pizza_id  quantity\n",
       "0                     1         1     hawaiian_m         1\n",
       "1                     2         2  classic_dlx_m         1\n",
       "2                     3         2  five_cheese_l         1\n",
       "3                     4         2    ital_supr_l         1\n",
       "4                     5         2     mexicana_m         1\n",
       "...                 ...       ...            ...       ...\n",
       "48615             48616     21348  ckn_alfredo_m         1\n",
       "48616             48617     21348  four_cheese_l         1\n",
       "48617             48618     21348   napolitana_s         1\n",
       "48618             48619     21349     mexicana_l         1\n",
       "48619             48620     21350      bbq_ckn_s         1\n",
       "\n",
       "[48620 rows x 4 columns]"
      ]
     },
     "execution_count": 2,
     "metadata": {},
     "output_type": "execute_result"
    }
   ],
   "source": [
    "#LET LOAD A DATASET\n",
    "a=pd.read_csv(\"/kaggle/input/pizza-place-sales/order_details.csv\")\n",
    "a"
   ]
  },
  {
   "cell_type": "code",
   "execution_count": 3,
   "id": "0a4bd23f",
   "metadata": {
    "execution": {
     "iopub.execute_input": "2023-12-26T06:56:26.096578Z",
     "iopub.status.busy": "2023-12-26T06:56:26.096163Z",
     "iopub.status.idle": "2023-12-26T06:56:26.145432Z",
     "shell.execute_reply": "2023-12-26T06:56:26.144350Z"
    },
    "papermill": {
     "duration": 0.065247,
     "end_time": "2023-12-26T06:56:26.148030",
     "exception": false,
     "start_time": "2023-12-26T06:56:26.082783",
     "status": "completed"
    },
    "tags": []
   },
   "outputs": [
    {
     "data": {
      "text/html": [
       "<div>\n",
       "<style scoped>\n",
       "    .dataframe tbody tr th:only-of-type {\n",
       "        vertical-align: middle;\n",
       "    }\n",
       "\n",
       "    .dataframe tbody tr th {\n",
       "        vertical-align: top;\n",
       "    }\n",
       "\n",
       "    .dataframe thead th {\n",
       "        text-align: right;\n",
       "    }\n",
       "</style>\n",
       "<table border=\"1\" class=\"dataframe\">\n",
       "  <thead>\n",
       "    <tr style=\"text-align: right;\">\n",
       "      <th></th>\n",
       "      <th>order_id</th>\n",
       "      <th>date</th>\n",
       "      <th>time</th>\n",
       "    </tr>\n",
       "  </thead>\n",
       "  <tbody>\n",
       "    <tr>\n",
       "      <th>0</th>\n",
       "      <td>1</td>\n",
       "      <td>2015-01-01</td>\n",
       "      <td>11:38:36</td>\n",
       "    </tr>\n",
       "    <tr>\n",
       "      <th>1</th>\n",
       "      <td>2</td>\n",
       "      <td>2015-01-01</td>\n",
       "      <td>11:57:40</td>\n",
       "    </tr>\n",
       "    <tr>\n",
       "      <th>2</th>\n",
       "      <td>3</td>\n",
       "      <td>2015-01-01</td>\n",
       "      <td>12:12:28</td>\n",
       "    </tr>\n",
       "    <tr>\n",
       "      <th>3</th>\n",
       "      <td>4</td>\n",
       "      <td>2015-01-01</td>\n",
       "      <td>12:16:31</td>\n",
       "    </tr>\n",
       "    <tr>\n",
       "      <th>4</th>\n",
       "      <td>5</td>\n",
       "      <td>2015-01-01</td>\n",
       "      <td>12:21:30</td>\n",
       "    </tr>\n",
       "    <tr>\n",
       "      <th>...</th>\n",
       "      <td>...</td>\n",
       "      <td>...</td>\n",
       "      <td>...</td>\n",
       "    </tr>\n",
       "    <tr>\n",
       "      <th>21345</th>\n",
       "      <td>21346</td>\n",
       "      <td>2015-12-31</td>\n",
       "      <td>20:51:07</td>\n",
       "    </tr>\n",
       "    <tr>\n",
       "      <th>21346</th>\n",
       "      <td>21347</td>\n",
       "      <td>2015-12-31</td>\n",
       "      <td>21:14:37</td>\n",
       "    </tr>\n",
       "    <tr>\n",
       "      <th>21347</th>\n",
       "      <td>21348</td>\n",
       "      <td>2015-12-31</td>\n",
       "      <td>21:23:10</td>\n",
       "    </tr>\n",
       "    <tr>\n",
       "      <th>21348</th>\n",
       "      <td>21349</td>\n",
       "      <td>2015-12-31</td>\n",
       "      <td>22:09:54</td>\n",
       "    </tr>\n",
       "    <tr>\n",
       "      <th>21349</th>\n",
       "      <td>21350</td>\n",
       "      <td>2015-12-31</td>\n",
       "      <td>23:02:05</td>\n",
       "    </tr>\n",
       "  </tbody>\n",
       "</table>\n",
       "<p>21350 rows × 3 columns</p>\n",
       "</div>"
      ],
      "text/plain": [
       "       order_id        date      time\n",
       "0             1  2015-01-01  11:38:36\n",
       "1             2  2015-01-01  11:57:40\n",
       "2             3  2015-01-01  12:12:28\n",
       "3             4  2015-01-01  12:16:31\n",
       "4             5  2015-01-01  12:21:30\n",
       "...         ...         ...       ...\n",
       "21345     21346  2015-12-31  20:51:07\n",
       "21346     21347  2015-12-31  21:14:37\n",
       "21347     21348  2015-12-31  21:23:10\n",
       "21348     21349  2015-12-31  22:09:54\n",
       "21349     21350  2015-12-31  23:02:05\n",
       "\n",
       "[21350 rows x 3 columns]"
      ]
     },
     "execution_count": 3,
     "metadata": {},
     "output_type": "execute_result"
    }
   ],
   "source": [
    "#LET LOAD B DATASET\n",
    "b=pd.read_csv(\"/kaggle/input/pizza-place-sales/orders.csv\")\n",
    "b"
   ]
  },
  {
   "cell_type": "code",
   "execution_count": 4,
   "id": "ca43dfe1",
   "metadata": {
    "execution": {
     "iopub.execute_input": "2023-12-26T06:56:26.173878Z",
     "iopub.status.busy": "2023-12-26T06:56:26.173467Z",
     "iopub.status.idle": "2023-12-26T06:56:26.207261Z",
     "shell.execute_reply": "2023-12-26T06:56:26.206216Z"
    },
    "papermill": {
     "duration": 0.049987,
     "end_time": "2023-12-26T06:56:26.210012",
     "exception": false,
     "start_time": "2023-12-26T06:56:26.160025",
     "status": "completed"
    },
    "tags": []
   },
   "outputs": [
    {
     "name": "stdout",
     "output_type": "stream",
     "text": [
      "<class 'pandas.core.frame.DataFrame'>\n",
      "RangeIndex: 21350 entries, 0 to 21349\n",
      "Data columns (total 3 columns):\n",
      " #   Column    Non-Null Count  Dtype \n",
      "---  ------    --------------  ----- \n",
      " 0   order_id  21350 non-null  int64 \n",
      " 1   date      21350 non-null  object\n",
      " 2   time      21350 non-null  object\n",
      "dtypes: int64(1), object(2)\n",
      "memory usage: 500.5+ KB\n"
     ]
    }
   ],
   "source": [
    "b.info()"
   ]
  },
  {
   "cell_type": "code",
   "execution_count": 5,
   "id": "e7ae7ffd",
   "metadata": {
    "execution": {
     "iopub.execute_input": "2023-12-26T06:56:26.238303Z",
     "iopub.status.busy": "2023-12-26T06:56:26.237069Z",
     "iopub.status.idle": "2023-12-26T06:56:26.254174Z",
     "shell.execute_reply": "2023-12-26T06:56:26.253325Z"
    },
    "papermill": {
     "duration": 0.033263,
     "end_time": "2023-12-26T06:56:26.256511",
     "exception": false,
     "start_time": "2023-12-26T06:56:26.223248",
     "status": "completed"
    },
    "tags": []
   },
   "outputs": [],
   "source": [
    "#LET CHANGE DATATYPES\n",
    "b['date']=pd.to_datetime(b['date'])"
   ]
  },
  {
   "cell_type": "code",
   "execution_count": 6,
   "id": "0dfe38f1",
   "metadata": {
    "execution": {
     "iopub.execute_input": "2023-12-26T06:56:26.282763Z",
     "iopub.status.busy": "2023-12-26T06:56:26.281978Z",
     "iopub.status.idle": "2023-12-26T06:56:27.521292Z",
     "shell.execute_reply": "2023-12-26T06:56:27.519989Z"
    },
    "papermill": {
     "duration": 1.255874,
     "end_time": "2023-12-26T06:56:27.524456",
     "exception": false,
     "start_time": "2023-12-26T06:56:26.268582",
     "status": "completed"
    },
    "tags": []
   },
   "outputs": [
    {
     "name": "stderr",
     "output_type": "stream",
     "text": [
      "/tmp/ipykernel_20/358475654.py:2: UserWarning: Could not infer format, so each element will be parsed individually, falling back to `dateutil`. To ensure parsing is consistent and as-expected, please specify a format.\n",
      "  b['time']=pd.to_datetime(b['time'])\n"
     ]
    }
   ],
   "source": [
    "#LET CHANGE DATATYPES\n",
    "b['time']=pd.to_datetime(b['time'])"
   ]
  },
  {
   "cell_type": "code",
   "execution_count": 7,
   "id": "9b7b2535",
   "metadata": {
    "execution": {
     "iopub.execute_input": "2023-12-26T06:56:27.550510Z",
     "iopub.status.busy": "2023-12-26T06:56:27.550078Z",
     "iopub.status.idle": "2023-12-26T06:56:27.562625Z",
     "shell.execute_reply": "2023-12-26T06:56:27.561359Z"
    },
    "papermill": {
     "duration": 0.028297,
     "end_time": "2023-12-26T06:56:27.564973",
     "exception": false,
     "start_time": "2023-12-26T06:56:27.536676",
     "status": "completed"
    },
    "tags": []
   },
   "outputs": [
    {
     "name": "stdout",
     "output_type": "stream",
     "text": [
      "<class 'pandas.core.frame.DataFrame'>\n",
      "RangeIndex: 21350 entries, 0 to 21349\n",
      "Data columns (total 3 columns):\n",
      " #   Column    Non-Null Count  Dtype         \n",
      "---  ------    --------------  -----         \n",
      " 0   order_id  21350 non-null  int64         \n",
      " 1   date      21350 non-null  datetime64[ns]\n",
      " 2   time      21350 non-null  datetime64[ns]\n",
      "dtypes: datetime64[ns](2), int64(1)\n",
      "memory usage: 500.5 KB\n"
     ]
    }
   ],
   "source": [
    "b.info()"
   ]
  },
  {
   "cell_type": "code",
   "execution_count": 8,
   "id": "7db2345f",
   "metadata": {
    "execution": {
     "iopub.execute_input": "2023-12-26T06:56:27.591066Z",
     "iopub.status.busy": "2023-12-26T06:56:27.590684Z",
     "iopub.status.idle": "2023-12-26T06:56:27.619027Z",
     "shell.execute_reply": "2023-12-26T06:56:27.618240Z"
    },
    "papermill": {
     "duration": 0.043844,
     "end_time": "2023-12-26T06:56:27.621070",
     "exception": false,
     "start_time": "2023-12-26T06:56:27.577226",
     "status": "completed"
    },
    "tags": []
   },
   "outputs": [
    {
     "data": {
      "text/html": [
       "<div>\n",
       "<style scoped>\n",
       "    .dataframe tbody tr th:only-of-type {\n",
       "        vertical-align: middle;\n",
       "    }\n",
       "\n",
       "    .dataframe tbody tr th {\n",
       "        vertical-align: top;\n",
       "    }\n",
       "\n",
       "    .dataframe thead th {\n",
       "        text-align: right;\n",
       "    }\n",
       "</style>\n",
       "<table border=\"1\" class=\"dataframe\">\n",
       "  <thead>\n",
       "    <tr style=\"text-align: right;\">\n",
       "      <th></th>\n",
       "      <th>pizza_id</th>\n",
       "      <th>pizza_type_id</th>\n",
       "      <th>size</th>\n",
       "      <th>price</th>\n",
       "    </tr>\n",
       "  </thead>\n",
       "  <tbody>\n",
       "    <tr>\n",
       "      <th>0</th>\n",
       "      <td>bbq_ckn_s</td>\n",
       "      <td>bbq_ckn</td>\n",
       "      <td>S</td>\n",
       "      <td>12.75</td>\n",
       "    </tr>\n",
       "    <tr>\n",
       "      <th>1</th>\n",
       "      <td>bbq_ckn_m</td>\n",
       "      <td>bbq_ckn</td>\n",
       "      <td>M</td>\n",
       "      <td>16.75</td>\n",
       "    </tr>\n",
       "    <tr>\n",
       "      <th>2</th>\n",
       "      <td>bbq_ckn_l</td>\n",
       "      <td>bbq_ckn</td>\n",
       "      <td>L</td>\n",
       "      <td>20.75</td>\n",
       "    </tr>\n",
       "    <tr>\n",
       "      <th>3</th>\n",
       "      <td>cali_ckn_s</td>\n",
       "      <td>cali_ckn</td>\n",
       "      <td>S</td>\n",
       "      <td>12.75</td>\n",
       "    </tr>\n",
       "    <tr>\n",
       "      <th>4</th>\n",
       "      <td>cali_ckn_m</td>\n",
       "      <td>cali_ckn</td>\n",
       "      <td>M</td>\n",
       "      <td>16.75</td>\n",
       "    </tr>\n",
       "    <tr>\n",
       "      <th>...</th>\n",
       "      <td>...</td>\n",
       "      <td>...</td>\n",
       "      <td>...</td>\n",
       "      <td>...</td>\n",
       "    </tr>\n",
       "    <tr>\n",
       "      <th>91</th>\n",
       "      <td>spinach_fet_m</td>\n",
       "      <td>spinach_fet</td>\n",
       "      <td>M</td>\n",
       "      <td>16.00</td>\n",
       "    </tr>\n",
       "    <tr>\n",
       "      <th>92</th>\n",
       "      <td>spinach_fet_l</td>\n",
       "      <td>spinach_fet</td>\n",
       "      <td>L</td>\n",
       "      <td>20.25</td>\n",
       "    </tr>\n",
       "    <tr>\n",
       "      <th>93</th>\n",
       "      <td>veggie_veg_s</td>\n",
       "      <td>veggie_veg</td>\n",
       "      <td>S</td>\n",
       "      <td>12.00</td>\n",
       "    </tr>\n",
       "    <tr>\n",
       "      <th>94</th>\n",
       "      <td>veggie_veg_m</td>\n",
       "      <td>veggie_veg</td>\n",
       "      <td>M</td>\n",
       "      <td>16.00</td>\n",
       "    </tr>\n",
       "    <tr>\n",
       "      <th>95</th>\n",
       "      <td>veggie_veg_l</td>\n",
       "      <td>veggie_veg</td>\n",
       "      <td>L</td>\n",
       "      <td>20.25</td>\n",
       "    </tr>\n",
       "  </tbody>\n",
       "</table>\n",
       "<p>96 rows × 4 columns</p>\n",
       "</div>"
      ],
      "text/plain": [
       "         pizza_id pizza_type_id size  price\n",
       "0       bbq_ckn_s       bbq_ckn    S  12.75\n",
       "1       bbq_ckn_m       bbq_ckn    M  16.75\n",
       "2       bbq_ckn_l       bbq_ckn    L  20.75\n",
       "3      cali_ckn_s      cali_ckn    S  12.75\n",
       "4      cali_ckn_m      cali_ckn    M  16.75\n",
       "..            ...           ...  ...    ...\n",
       "91  spinach_fet_m   spinach_fet    M  16.00\n",
       "92  spinach_fet_l   spinach_fet    L  20.25\n",
       "93   veggie_veg_s    veggie_veg    S  12.00\n",
       "94   veggie_veg_m    veggie_veg    M  16.00\n",
       "95   veggie_veg_l    veggie_veg    L  20.25\n",
       "\n",
       "[96 rows x 4 columns]"
      ]
     },
     "execution_count": 8,
     "metadata": {},
     "output_type": "execute_result"
    }
   ],
   "source": [
    "#LET LOAD X DATASET\n",
    "x=pd.read_csv(\"/kaggle/input/pizza-place-sales/pizzas.csv\")\n",
    "x"
   ]
  },
  {
   "cell_type": "code",
   "execution_count": 9,
   "id": "e3ab2f21",
   "metadata": {
    "execution": {
     "iopub.execute_input": "2023-12-26T06:56:27.648228Z",
     "iopub.status.busy": "2023-12-26T06:56:27.647800Z",
     "iopub.status.idle": "2023-12-26T06:56:27.659803Z",
     "shell.execute_reply": "2023-12-26T06:56:27.658837Z"
    },
    "papermill": {
     "duration": 0.028118,
     "end_time": "2023-12-26T06:56:27.661881",
     "exception": false,
     "start_time": "2023-12-26T06:56:27.633763",
     "status": "completed"
    },
    "tags": []
   },
   "outputs": [
    {
     "name": "stdout",
     "output_type": "stream",
     "text": [
      "<class 'pandas.core.frame.DataFrame'>\n",
      "RangeIndex: 96 entries, 0 to 95\n",
      "Data columns (total 4 columns):\n",
      " #   Column         Non-Null Count  Dtype  \n",
      "---  ------         --------------  -----  \n",
      " 0   pizza_id       96 non-null     object \n",
      " 1   pizza_type_id  96 non-null     object \n",
      " 2   size           96 non-null     object \n",
      " 3   price          96 non-null     float64\n",
      "dtypes: float64(1), object(3)\n",
      "memory usage: 3.1+ KB\n"
     ]
    }
   ],
   "source": [
    "x.info()"
   ]
  },
  {
   "cell_type": "code",
   "execution_count": 10,
   "id": "eca6490e",
   "metadata": {
    "execution": {
     "iopub.execute_input": "2023-12-26T06:56:27.689372Z",
     "iopub.status.busy": "2023-12-26T06:56:27.688394Z",
     "iopub.status.idle": "2023-12-26T06:56:27.717374Z",
     "shell.execute_reply": "2023-12-26T06:56:27.716306Z"
    },
    "papermill": {
     "duration": 0.045815,
     "end_time": "2023-12-26T06:56:27.720246",
     "exception": false,
     "start_time": "2023-12-26T06:56:27.674431",
     "status": "completed"
    },
    "tags": []
   },
   "outputs": [
    {
     "data": {
      "text/html": [
       "<div>\n",
       "<style scoped>\n",
       "    .dataframe tbody tr th:only-of-type {\n",
       "        vertical-align: middle;\n",
       "    }\n",
       "\n",
       "    .dataframe tbody tr th {\n",
       "        vertical-align: top;\n",
       "    }\n",
       "\n",
       "    .dataframe thead th {\n",
       "        text-align: right;\n",
       "    }\n",
       "</style>\n",
       "<table border=\"1\" class=\"dataframe\">\n",
       "  <thead>\n",
       "    <tr style=\"text-align: right;\">\n",
       "      <th></th>\n",
       "      <th>pizza_type_id</th>\n",
       "      <th>name</th>\n",
       "      <th>category</th>\n",
       "      <th>ingredients</th>\n",
       "    </tr>\n",
       "  </thead>\n",
       "  <tbody>\n",
       "    <tr>\n",
       "      <th>0</th>\n",
       "      <td>bbq_ckn</td>\n",
       "      <td>The Barbecue Chicken Pizza</td>\n",
       "      <td>Chicken</td>\n",
       "      <td>Barbecued Chicken, Red Peppers, Green Peppers,...</td>\n",
       "    </tr>\n",
       "    <tr>\n",
       "      <th>1</th>\n",
       "      <td>cali_ckn</td>\n",
       "      <td>The California Chicken Pizza</td>\n",
       "      <td>Chicken</td>\n",
       "      <td>Chicken, Artichoke, Spinach, Garlic, Jalapeno ...</td>\n",
       "    </tr>\n",
       "    <tr>\n",
       "      <th>2</th>\n",
       "      <td>ckn_alfredo</td>\n",
       "      <td>The Chicken Alfredo Pizza</td>\n",
       "      <td>Chicken</td>\n",
       "      <td>Chicken, Red Onions, Red Peppers, Mushrooms, A...</td>\n",
       "    </tr>\n",
       "    <tr>\n",
       "      <th>3</th>\n",
       "      <td>ckn_pesto</td>\n",
       "      <td>The Chicken Pesto Pizza</td>\n",
       "      <td>Chicken</td>\n",
       "      <td>Chicken, Tomatoes, Red Peppers, Spinach, Garli...</td>\n",
       "    </tr>\n",
       "    <tr>\n",
       "      <th>4</th>\n",
       "      <td>southw_ckn</td>\n",
       "      <td>The Southwest Chicken Pizza</td>\n",
       "      <td>Chicken</td>\n",
       "      <td>Chicken, Tomatoes, Red Peppers, Red Onions, Ja...</td>\n",
       "    </tr>\n",
       "    <tr>\n",
       "      <th>5</th>\n",
       "      <td>thai_ckn</td>\n",
       "      <td>The Thai Chicken Pizza</td>\n",
       "      <td>Chicken</td>\n",
       "      <td>Chicken, Pineapple, Tomatoes, Red Peppers, Tha...</td>\n",
       "    </tr>\n",
       "    <tr>\n",
       "      <th>6</th>\n",
       "      <td>big_meat</td>\n",
       "      <td>The Big Meat Pizza</td>\n",
       "      <td>Classic</td>\n",
       "      <td>Bacon, Pepperoni, Italian Sausage, Chorizo Sau...</td>\n",
       "    </tr>\n",
       "    <tr>\n",
       "      <th>7</th>\n",
       "      <td>classic_dlx</td>\n",
       "      <td>The Classic Deluxe Pizza</td>\n",
       "      <td>Classic</td>\n",
       "      <td>Pepperoni, Mushrooms, Red Onions, Red Peppers,...</td>\n",
       "    </tr>\n",
       "    <tr>\n",
       "      <th>8</th>\n",
       "      <td>hawaiian</td>\n",
       "      <td>The Hawaiian Pizza</td>\n",
       "      <td>Classic</td>\n",
       "      <td>Sliced Ham, Pineapple, Mozzarella Cheese</td>\n",
       "    </tr>\n",
       "    <tr>\n",
       "      <th>9</th>\n",
       "      <td>ital_cpcllo</td>\n",
       "      <td>The Italian Capocollo Pizza</td>\n",
       "      <td>Classic</td>\n",
       "      <td>Capocollo, Red Peppers, Tomatoes, Goat Cheese,...</td>\n",
       "    </tr>\n",
       "    <tr>\n",
       "      <th>10</th>\n",
       "      <td>napolitana</td>\n",
       "      <td>The Napolitana Pizza</td>\n",
       "      <td>Classic</td>\n",
       "      <td>Tomatoes, Anchovies, Green Olives, Red Onions,...</td>\n",
       "    </tr>\n",
       "    <tr>\n",
       "      <th>11</th>\n",
       "      <td>pep_msh_pep</td>\n",
       "      <td>The Pepperoni, Mushroom, and Peppers Pizza</td>\n",
       "      <td>Classic</td>\n",
       "      <td>Pepperoni, Mushrooms, Green Peppers</td>\n",
       "    </tr>\n",
       "    <tr>\n",
       "      <th>12</th>\n",
       "      <td>pepperoni</td>\n",
       "      <td>The Pepperoni Pizza</td>\n",
       "      <td>Classic</td>\n",
       "      <td>Mozzarella Cheese, Pepperoni</td>\n",
       "    </tr>\n",
       "    <tr>\n",
       "      <th>13</th>\n",
       "      <td>the_greek</td>\n",
       "      <td>The Greek Pizza</td>\n",
       "      <td>Classic</td>\n",
       "      <td>Kalamata Olives, Feta Cheese, Tomatoes, Garlic...</td>\n",
       "    </tr>\n",
       "    <tr>\n",
       "      <th>14</th>\n",
       "      <td>brie_carre</td>\n",
       "      <td>The Brie Carre Pizza</td>\n",
       "      <td>Supreme</td>\n",
       "      <td>Brie Carre Cheese, Prosciutto, Caramelized Oni...</td>\n",
       "    </tr>\n",
       "    <tr>\n",
       "      <th>15</th>\n",
       "      <td>calabrese</td>\n",
       "      <td>The Calabrese Pizza</td>\n",
       "      <td>Supreme</td>\n",
       "      <td>Nduja Salami, Pancetta, Tomatoes, Red Onions,...</td>\n",
       "    </tr>\n",
       "    <tr>\n",
       "      <th>16</th>\n",
       "      <td>ital_supr</td>\n",
       "      <td>The Italian Supreme Pizza</td>\n",
       "      <td>Supreme</td>\n",
       "      <td>Calabrese Salami, Capocollo, Tomatoes, Red Oni...</td>\n",
       "    </tr>\n",
       "    <tr>\n",
       "      <th>17</th>\n",
       "      <td>peppr_salami</td>\n",
       "      <td>The Pepper Salami Pizza</td>\n",
       "      <td>Supreme</td>\n",
       "      <td>Genoa Salami, Capocollo, Pepperoni, Tomatoes, ...</td>\n",
       "    </tr>\n",
       "    <tr>\n",
       "      <th>18</th>\n",
       "      <td>prsc_argla</td>\n",
       "      <td>The Prosciutto and Arugula Pizza</td>\n",
       "      <td>Supreme</td>\n",
       "      <td>Prosciutto di San Daniele, Arugula, Mozzarella...</td>\n",
       "    </tr>\n",
       "    <tr>\n",
       "      <th>19</th>\n",
       "      <td>sicilian</td>\n",
       "      <td>The Sicilian Pizza</td>\n",
       "      <td>Supreme</td>\n",
       "      <td>Coarse Sicilian Salami, Tomatoes, Green Olives...</td>\n",
       "    </tr>\n",
       "    <tr>\n",
       "      <th>20</th>\n",
       "      <td>soppressata</td>\n",
       "      <td>The Soppressata Pizza</td>\n",
       "      <td>Supreme</td>\n",
       "      <td>Soppressata Salami, Fontina Cheese, Mozzarella...</td>\n",
       "    </tr>\n",
       "    <tr>\n",
       "      <th>21</th>\n",
       "      <td>spicy_ital</td>\n",
       "      <td>The Spicy Italian Pizza</td>\n",
       "      <td>Supreme</td>\n",
       "      <td>Capocollo, Tomatoes, Goat Cheese, Artichokes, ...</td>\n",
       "    </tr>\n",
       "    <tr>\n",
       "      <th>22</th>\n",
       "      <td>spinach_supr</td>\n",
       "      <td>The Spinach Supreme Pizza</td>\n",
       "      <td>Supreme</td>\n",
       "      <td>Spinach, Red Onions, Pepperoni, Tomatoes, Arti...</td>\n",
       "    </tr>\n",
       "    <tr>\n",
       "      <th>23</th>\n",
       "      <td>five_cheese</td>\n",
       "      <td>The Five Cheese Pizza</td>\n",
       "      <td>Veggie</td>\n",
       "      <td>Mozzarella Cheese, Provolone Cheese, Smoked Go...</td>\n",
       "    </tr>\n",
       "    <tr>\n",
       "      <th>24</th>\n",
       "      <td>four_cheese</td>\n",
       "      <td>The Four Cheese Pizza</td>\n",
       "      <td>Veggie</td>\n",
       "      <td>Ricotta Cheese, Gorgonzola Piccante Cheese, Mo...</td>\n",
       "    </tr>\n",
       "    <tr>\n",
       "      <th>25</th>\n",
       "      <td>green_garden</td>\n",
       "      <td>The Green Garden Pizza</td>\n",
       "      <td>Veggie</td>\n",
       "      <td>Spinach, Mushrooms, Tomatoes, Green Olives, Fe...</td>\n",
       "    </tr>\n",
       "    <tr>\n",
       "      <th>26</th>\n",
       "      <td>ital_veggie</td>\n",
       "      <td>The Italian Vegetables Pizza</td>\n",
       "      <td>Veggie</td>\n",
       "      <td>Eggplant, Artichokes, Tomatoes, Zucchini, Red ...</td>\n",
       "    </tr>\n",
       "    <tr>\n",
       "      <th>27</th>\n",
       "      <td>mediterraneo</td>\n",
       "      <td>The Mediterranean Pizza</td>\n",
       "      <td>Veggie</td>\n",
       "      <td>Spinach, Artichokes, Kalamata Olives, Sun-drie...</td>\n",
       "    </tr>\n",
       "    <tr>\n",
       "      <th>28</th>\n",
       "      <td>mexicana</td>\n",
       "      <td>The Mexicana Pizza</td>\n",
       "      <td>Veggie</td>\n",
       "      <td>Tomatoes, Red Peppers, Jalapeno Peppers, Red O...</td>\n",
       "    </tr>\n",
       "    <tr>\n",
       "      <th>29</th>\n",
       "      <td>spin_pesto</td>\n",
       "      <td>The Spinach Pesto Pizza</td>\n",
       "      <td>Veggie</td>\n",
       "      <td>Spinach, Artichokes, Tomatoes, Sun-dried Tomat...</td>\n",
       "    </tr>\n",
       "    <tr>\n",
       "      <th>30</th>\n",
       "      <td>spinach_fet</td>\n",
       "      <td>The Spinach and Feta Pizza</td>\n",
       "      <td>Veggie</td>\n",
       "      <td>Spinach, Mushrooms, Red Onions, Feta Cheese, G...</td>\n",
       "    </tr>\n",
       "    <tr>\n",
       "      <th>31</th>\n",
       "      <td>veggie_veg</td>\n",
       "      <td>The Vegetables + Vegetables Pizza</td>\n",
       "      <td>Veggie</td>\n",
       "      <td>Mushrooms, Tomatoes, Red Peppers, Green Pepper...</td>\n",
       "    </tr>\n",
       "  </tbody>\n",
       "</table>\n",
       "</div>"
      ],
      "text/plain": [
       "   pizza_type_id                                        name category  \\\n",
       "0        bbq_ckn                  The Barbecue Chicken Pizza  Chicken   \n",
       "1       cali_ckn                The California Chicken Pizza  Chicken   \n",
       "2    ckn_alfredo                   The Chicken Alfredo Pizza  Chicken   \n",
       "3      ckn_pesto                     The Chicken Pesto Pizza  Chicken   \n",
       "4     southw_ckn                 The Southwest Chicken Pizza  Chicken   \n",
       "5       thai_ckn                      The Thai Chicken Pizza  Chicken   \n",
       "6       big_meat                          The Big Meat Pizza  Classic   \n",
       "7    classic_dlx                    The Classic Deluxe Pizza  Classic   \n",
       "8       hawaiian                          The Hawaiian Pizza  Classic   \n",
       "9    ital_cpcllo                 The Italian Capocollo Pizza  Classic   \n",
       "10    napolitana                        The Napolitana Pizza  Classic   \n",
       "11   pep_msh_pep  The Pepperoni, Mushroom, and Peppers Pizza  Classic   \n",
       "12     pepperoni                         The Pepperoni Pizza  Classic   \n",
       "13     the_greek                             The Greek Pizza  Classic   \n",
       "14    brie_carre                        The Brie Carre Pizza  Supreme   \n",
       "15     calabrese                         The Calabrese Pizza  Supreme   \n",
       "16     ital_supr                   The Italian Supreme Pizza  Supreme   \n",
       "17  peppr_salami                     The Pepper Salami Pizza  Supreme   \n",
       "18    prsc_argla            The Prosciutto and Arugula Pizza  Supreme   \n",
       "19      sicilian                          The Sicilian Pizza  Supreme   \n",
       "20   soppressata                       The Soppressata Pizza  Supreme   \n",
       "21    spicy_ital                     The Spicy Italian Pizza  Supreme   \n",
       "22  spinach_supr                   The Spinach Supreme Pizza  Supreme   \n",
       "23   five_cheese                       The Five Cheese Pizza   Veggie   \n",
       "24   four_cheese                       The Four Cheese Pizza   Veggie   \n",
       "25  green_garden                      The Green Garden Pizza   Veggie   \n",
       "26   ital_veggie                The Italian Vegetables Pizza   Veggie   \n",
       "27  mediterraneo                     The Mediterranean Pizza   Veggie   \n",
       "28      mexicana                          The Mexicana Pizza   Veggie   \n",
       "29    spin_pesto                     The Spinach Pesto Pizza   Veggie   \n",
       "30   spinach_fet                  The Spinach and Feta Pizza   Veggie   \n",
       "31    veggie_veg           The Vegetables + Vegetables Pizza   Veggie   \n",
       "\n",
       "                                          ingredients  \n",
       "0   Barbecued Chicken, Red Peppers, Green Peppers,...  \n",
       "1   Chicken, Artichoke, Spinach, Garlic, Jalapeno ...  \n",
       "2   Chicken, Red Onions, Red Peppers, Mushrooms, A...  \n",
       "3   Chicken, Tomatoes, Red Peppers, Spinach, Garli...  \n",
       "4   Chicken, Tomatoes, Red Peppers, Red Onions, Ja...  \n",
       "5   Chicken, Pineapple, Tomatoes, Red Peppers, Tha...  \n",
       "6   Bacon, Pepperoni, Italian Sausage, Chorizo Sau...  \n",
       "7   Pepperoni, Mushrooms, Red Onions, Red Peppers,...  \n",
       "8            Sliced Ham, Pineapple, Mozzarella Cheese  \n",
       "9   Capocollo, Red Peppers, Tomatoes, Goat Cheese,...  \n",
       "10  Tomatoes, Anchovies, Green Olives, Red Onions,...  \n",
       "11                Pepperoni, Mushrooms, Green Peppers  \n",
       "12                       Mozzarella Cheese, Pepperoni  \n",
       "13  Kalamata Olives, Feta Cheese, Tomatoes, Garlic...  \n",
       "14  Brie Carre Cheese, Prosciutto, Caramelized Oni...  \n",
       "15  Nduja Salami, Pancetta, Tomatoes, Red Onions,...  \n",
       "16  Calabrese Salami, Capocollo, Tomatoes, Red Oni...  \n",
       "17  Genoa Salami, Capocollo, Pepperoni, Tomatoes, ...  \n",
       "18  Prosciutto di San Daniele, Arugula, Mozzarella...  \n",
       "19  Coarse Sicilian Salami, Tomatoes, Green Olives...  \n",
       "20  Soppressata Salami, Fontina Cheese, Mozzarella...  \n",
       "21  Capocollo, Tomatoes, Goat Cheese, Artichokes, ...  \n",
       "22  Spinach, Red Onions, Pepperoni, Tomatoes, Arti...  \n",
       "23  Mozzarella Cheese, Provolone Cheese, Smoked Go...  \n",
       "24  Ricotta Cheese, Gorgonzola Piccante Cheese, Mo...  \n",
       "25  Spinach, Mushrooms, Tomatoes, Green Olives, Fe...  \n",
       "26  Eggplant, Artichokes, Tomatoes, Zucchini, Red ...  \n",
       "27  Spinach, Artichokes, Kalamata Olives, Sun-drie...  \n",
       "28  Tomatoes, Red Peppers, Jalapeno Peppers, Red O...  \n",
       "29  Spinach, Artichokes, Tomatoes, Sun-dried Tomat...  \n",
       "30  Spinach, Mushrooms, Red Onions, Feta Cheese, G...  \n",
       "31  Mushrooms, Tomatoes, Red Peppers, Green Pepper...  "
      ]
     },
     "execution_count": 10,
     "metadata": {},
     "output_type": "execute_result"
    }
   ],
   "source": [
    "#LET LOAD Y DATASET\n",
    "y=pd.read_csv('/kaggle/input/pizza-place-sales/pizza_types.csv',index_col=None,header=0,encoding='unicode_escape')\n",
    "y"
   ]
  },
  {
   "cell_type": "code",
   "execution_count": 11,
   "id": "1db12e0f",
   "metadata": {
    "execution": {
     "iopub.execute_input": "2023-12-26T06:56:27.748486Z",
     "iopub.status.busy": "2023-12-26T06:56:27.748050Z",
     "iopub.status.idle": "2023-12-26T06:56:27.782794Z",
     "shell.execute_reply": "2023-12-26T06:56:27.781950Z"
    },
    "papermill": {
     "duration": 0.051702,
     "end_time": "2023-12-26T06:56:27.785106",
     "exception": false,
     "start_time": "2023-12-26T06:56:27.733404",
     "status": "completed"
    },
    "tags": []
   },
   "outputs": [
    {
     "data": {
      "text/html": [
       "<div>\n",
       "<style scoped>\n",
       "    .dataframe tbody tr th:only-of-type {\n",
       "        vertical-align: middle;\n",
       "    }\n",
       "\n",
       "    .dataframe tbody tr th {\n",
       "        vertical-align: top;\n",
       "    }\n",
       "\n",
       "    .dataframe thead th {\n",
       "        text-align: right;\n",
       "    }\n",
       "</style>\n",
       "<table border=\"1\" class=\"dataframe\">\n",
       "  <thead>\n",
       "    <tr style=\"text-align: right;\">\n",
       "      <th></th>\n",
       "      <th>order_details_id</th>\n",
       "      <th>order_id</th>\n",
       "      <th>pizza_id</th>\n",
       "      <th>quantity</th>\n",
       "      <th>date</th>\n",
       "      <th>time</th>\n",
       "    </tr>\n",
       "  </thead>\n",
       "  <tbody>\n",
       "    <tr>\n",
       "      <th>0</th>\n",
       "      <td>1</td>\n",
       "      <td>1</td>\n",
       "      <td>hawaiian_m</td>\n",
       "      <td>1</td>\n",
       "      <td>2015-01-01</td>\n",
       "      <td>2023-12-26 11:38:36</td>\n",
       "    </tr>\n",
       "    <tr>\n",
       "      <th>1</th>\n",
       "      <td>2</td>\n",
       "      <td>2</td>\n",
       "      <td>classic_dlx_m</td>\n",
       "      <td>1</td>\n",
       "      <td>2015-01-01</td>\n",
       "      <td>2023-12-26 11:57:40</td>\n",
       "    </tr>\n",
       "    <tr>\n",
       "      <th>2</th>\n",
       "      <td>3</td>\n",
       "      <td>2</td>\n",
       "      <td>five_cheese_l</td>\n",
       "      <td>1</td>\n",
       "      <td>2015-01-01</td>\n",
       "      <td>2023-12-26 11:57:40</td>\n",
       "    </tr>\n",
       "    <tr>\n",
       "      <th>3</th>\n",
       "      <td>4</td>\n",
       "      <td>2</td>\n",
       "      <td>ital_supr_l</td>\n",
       "      <td>1</td>\n",
       "      <td>2015-01-01</td>\n",
       "      <td>2023-12-26 11:57:40</td>\n",
       "    </tr>\n",
       "    <tr>\n",
       "      <th>4</th>\n",
       "      <td>5</td>\n",
       "      <td>2</td>\n",
       "      <td>mexicana_m</td>\n",
       "      <td>1</td>\n",
       "      <td>2015-01-01</td>\n",
       "      <td>2023-12-26 11:57:40</td>\n",
       "    </tr>\n",
       "    <tr>\n",
       "      <th>...</th>\n",
       "      <td>...</td>\n",
       "      <td>...</td>\n",
       "      <td>...</td>\n",
       "      <td>...</td>\n",
       "      <td>...</td>\n",
       "      <td>...</td>\n",
       "    </tr>\n",
       "    <tr>\n",
       "      <th>48615</th>\n",
       "      <td>48616</td>\n",
       "      <td>21348</td>\n",
       "      <td>ckn_alfredo_m</td>\n",
       "      <td>1</td>\n",
       "      <td>2015-12-31</td>\n",
       "      <td>2023-12-26 21:23:10</td>\n",
       "    </tr>\n",
       "    <tr>\n",
       "      <th>48616</th>\n",
       "      <td>48617</td>\n",
       "      <td>21348</td>\n",
       "      <td>four_cheese_l</td>\n",
       "      <td>1</td>\n",
       "      <td>2015-12-31</td>\n",
       "      <td>2023-12-26 21:23:10</td>\n",
       "    </tr>\n",
       "    <tr>\n",
       "      <th>48617</th>\n",
       "      <td>48618</td>\n",
       "      <td>21348</td>\n",
       "      <td>napolitana_s</td>\n",
       "      <td>1</td>\n",
       "      <td>2015-12-31</td>\n",
       "      <td>2023-12-26 21:23:10</td>\n",
       "    </tr>\n",
       "    <tr>\n",
       "      <th>48618</th>\n",
       "      <td>48619</td>\n",
       "      <td>21349</td>\n",
       "      <td>mexicana_l</td>\n",
       "      <td>1</td>\n",
       "      <td>2015-12-31</td>\n",
       "      <td>2023-12-26 22:09:54</td>\n",
       "    </tr>\n",
       "    <tr>\n",
       "      <th>48619</th>\n",
       "      <td>48620</td>\n",
       "      <td>21350</td>\n",
       "      <td>bbq_ckn_s</td>\n",
       "      <td>1</td>\n",
       "      <td>2015-12-31</td>\n",
       "      <td>2023-12-26 23:02:05</td>\n",
       "    </tr>\n",
       "  </tbody>\n",
       "</table>\n",
       "<p>48620 rows × 6 columns</p>\n",
       "</div>"
      ],
      "text/plain": [
       "       order_details_id  order_id       pizza_id  quantity       date  \\\n",
       "0                     1         1     hawaiian_m         1 2015-01-01   \n",
       "1                     2         2  classic_dlx_m         1 2015-01-01   \n",
       "2                     3         2  five_cheese_l         1 2015-01-01   \n",
       "3                     4         2    ital_supr_l         1 2015-01-01   \n",
       "4                     5         2     mexicana_m         1 2015-01-01   \n",
       "...                 ...       ...            ...       ...        ...   \n",
       "48615             48616     21348  ckn_alfredo_m         1 2015-12-31   \n",
       "48616             48617     21348  four_cheese_l         1 2015-12-31   \n",
       "48617             48618     21348   napolitana_s         1 2015-12-31   \n",
       "48618             48619     21349     mexicana_l         1 2015-12-31   \n",
       "48619             48620     21350      bbq_ckn_s         1 2015-12-31   \n",
       "\n",
       "                     time  \n",
       "0     2023-12-26 11:38:36  \n",
       "1     2023-12-26 11:57:40  \n",
       "2     2023-12-26 11:57:40  \n",
       "3     2023-12-26 11:57:40  \n",
       "4     2023-12-26 11:57:40  \n",
       "...                   ...  \n",
       "48615 2023-12-26 21:23:10  \n",
       "48616 2023-12-26 21:23:10  \n",
       "48617 2023-12-26 21:23:10  \n",
       "48618 2023-12-26 22:09:54  \n",
       "48619 2023-12-26 23:02:05  \n",
       "\n",
       "[48620 rows x 6 columns]"
      ]
     },
     "execution_count": 11,
     "metadata": {},
     "output_type": "execute_result"
    }
   ],
   "source": [
    "#LET MERGE DATASET FROM ONE BY ONE\n",
    "m1=a.merge(b,how=\"inner\",on=['order_id'])\n",
    "m1"
   ]
  },
  {
   "cell_type": "code",
   "execution_count": 12,
   "id": "86d06840",
   "metadata": {
    "execution": {
     "iopub.execute_input": "2023-12-26T06:56:27.814002Z",
     "iopub.status.busy": "2023-12-26T06:56:27.813559Z",
     "iopub.status.idle": "2023-12-26T06:56:27.835057Z",
     "shell.execute_reply": "2023-12-26T06:56:27.833911Z"
    },
    "papermill": {
     "duration": 0.038705,
     "end_time": "2023-12-26T06:56:27.837349",
     "exception": false,
     "start_time": "2023-12-26T06:56:27.798644",
     "status": "completed"
    },
    "tags": []
   },
   "outputs": [
    {
     "data": {
      "text/html": [
       "<div>\n",
       "<style scoped>\n",
       "    .dataframe tbody tr th:only-of-type {\n",
       "        vertical-align: middle;\n",
       "    }\n",
       "\n",
       "    .dataframe tbody tr th {\n",
       "        vertical-align: top;\n",
       "    }\n",
       "\n",
       "    .dataframe thead th {\n",
       "        text-align: right;\n",
       "    }\n",
       "</style>\n",
       "<table border=\"1\" class=\"dataframe\">\n",
       "  <thead>\n",
       "    <tr style=\"text-align: right;\">\n",
       "      <th></th>\n",
       "      <th>pizza_id</th>\n",
       "      <th>pizza_type_id</th>\n",
       "      <th>size</th>\n",
       "      <th>price</th>\n",
       "      <th>name</th>\n",
       "      <th>category</th>\n",
       "      <th>ingredients</th>\n",
       "    </tr>\n",
       "  </thead>\n",
       "  <tbody>\n",
       "    <tr>\n",
       "      <th>0</th>\n",
       "      <td>bbq_ckn_s</td>\n",
       "      <td>bbq_ckn</td>\n",
       "      <td>S</td>\n",
       "      <td>12.75</td>\n",
       "      <td>The Barbecue Chicken Pizza</td>\n",
       "      <td>Chicken</td>\n",
       "      <td>Barbecued Chicken, Red Peppers, Green Peppers,...</td>\n",
       "    </tr>\n",
       "    <tr>\n",
       "      <th>1</th>\n",
       "      <td>bbq_ckn_m</td>\n",
       "      <td>bbq_ckn</td>\n",
       "      <td>M</td>\n",
       "      <td>16.75</td>\n",
       "      <td>The Barbecue Chicken Pizza</td>\n",
       "      <td>Chicken</td>\n",
       "      <td>Barbecued Chicken, Red Peppers, Green Peppers,...</td>\n",
       "    </tr>\n",
       "    <tr>\n",
       "      <th>2</th>\n",
       "      <td>bbq_ckn_l</td>\n",
       "      <td>bbq_ckn</td>\n",
       "      <td>L</td>\n",
       "      <td>20.75</td>\n",
       "      <td>The Barbecue Chicken Pizza</td>\n",
       "      <td>Chicken</td>\n",
       "      <td>Barbecued Chicken, Red Peppers, Green Peppers,...</td>\n",
       "    </tr>\n",
       "    <tr>\n",
       "      <th>3</th>\n",
       "      <td>cali_ckn_s</td>\n",
       "      <td>cali_ckn</td>\n",
       "      <td>S</td>\n",
       "      <td>12.75</td>\n",
       "      <td>The California Chicken Pizza</td>\n",
       "      <td>Chicken</td>\n",
       "      <td>Chicken, Artichoke, Spinach, Garlic, Jalapeno ...</td>\n",
       "    </tr>\n",
       "    <tr>\n",
       "      <th>4</th>\n",
       "      <td>cali_ckn_m</td>\n",
       "      <td>cali_ckn</td>\n",
       "      <td>M</td>\n",
       "      <td>16.75</td>\n",
       "      <td>The California Chicken Pizza</td>\n",
       "      <td>Chicken</td>\n",
       "      <td>Chicken, Artichoke, Spinach, Garlic, Jalapeno ...</td>\n",
       "    </tr>\n",
       "    <tr>\n",
       "      <th>...</th>\n",
       "      <td>...</td>\n",
       "      <td>...</td>\n",
       "      <td>...</td>\n",
       "      <td>...</td>\n",
       "      <td>...</td>\n",
       "      <td>...</td>\n",
       "      <td>...</td>\n",
       "    </tr>\n",
       "    <tr>\n",
       "      <th>91</th>\n",
       "      <td>spinach_fet_m</td>\n",
       "      <td>spinach_fet</td>\n",
       "      <td>M</td>\n",
       "      <td>16.00</td>\n",
       "      <td>The Spinach and Feta Pizza</td>\n",
       "      <td>Veggie</td>\n",
       "      <td>Spinach, Mushrooms, Red Onions, Feta Cheese, G...</td>\n",
       "    </tr>\n",
       "    <tr>\n",
       "      <th>92</th>\n",
       "      <td>spinach_fet_l</td>\n",
       "      <td>spinach_fet</td>\n",
       "      <td>L</td>\n",
       "      <td>20.25</td>\n",
       "      <td>The Spinach and Feta Pizza</td>\n",
       "      <td>Veggie</td>\n",
       "      <td>Spinach, Mushrooms, Red Onions, Feta Cheese, G...</td>\n",
       "    </tr>\n",
       "    <tr>\n",
       "      <th>93</th>\n",
       "      <td>veggie_veg_s</td>\n",
       "      <td>veggie_veg</td>\n",
       "      <td>S</td>\n",
       "      <td>12.00</td>\n",
       "      <td>The Vegetables + Vegetables Pizza</td>\n",
       "      <td>Veggie</td>\n",
       "      <td>Mushrooms, Tomatoes, Red Peppers, Green Pepper...</td>\n",
       "    </tr>\n",
       "    <tr>\n",
       "      <th>94</th>\n",
       "      <td>veggie_veg_m</td>\n",
       "      <td>veggie_veg</td>\n",
       "      <td>M</td>\n",
       "      <td>16.00</td>\n",
       "      <td>The Vegetables + Vegetables Pizza</td>\n",
       "      <td>Veggie</td>\n",
       "      <td>Mushrooms, Tomatoes, Red Peppers, Green Pepper...</td>\n",
       "    </tr>\n",
       "    <tr>\n",
       "      <th>95</th>\n",
       "      <td>veggie_veg_l</td>\n",
       "      <td>veggie_veg</td>\n",
       "      <td>L</td>\n",
       "      <td>20.25</td>\n",
       "      <td>The Vegetables + Vegetables Pizza</td>\n",
       "      <td>Veggie</td>\n",
       "      <td>Mushrooms, Tomatoes, Red Peppers, Green Pepper...</td>\n",
       "    </tr>\n",
       "  </tbody>\n",
       "</table>\n",
       "<p>96 rows × 7 columns</p>\n",
       "</div>"
      ],
      "text/plain": [
       "         pizza_id pizza_type_id size  price  \\\n",
       "0       bbq_ckn_s       bbq_ckn    S  12.75   \n",
       "1       bbq_ckn_m       bbq_ckn    M  16.75   \n",
       "2       bbq_ckn_l       bbq_ckn    L  20.75   \n",
       "3      cali_ckn_s      cali_ckn    S  12.75   \n",
       "4      cali_ckn_m      cali_ckn    M  16.75   \n",
       "..            ...           ...  ...    ...   \n",
       "91  spinach_fet_m   spinach_fet    M  16.00   \n",
       "92  spinach_fet_l   spinach_fet    L  20.25   \n",
       "93   veggie_veg_s    veggie_veg    S  12.00   \n",
       "94   veggie_veg_m    veggie_veg    M  16.00   \n",
       "95   veggie_veg_l    veggie_veg    L  20.25   \n",
       "\n",
       "                                 name category  \\\n",
       "0          The Barbecue Chicken Pizza  Chicken   \n",
       "1          The Barbecue Chicken Pizza  Chicken   \n",
       "2          The Barbecue Chicken Pizza  Chicken   \n",
       "3        The California Chicken Pizza  Chicken   \n",
       "4        The California Chicken Pizza  Chicken   \n",
       "..                                ...      ...   \n",
       "91         The Spinach and Feta Pizza   Veggie   \n",
       "92         The Spinach and Feta Pizza   Veggie   \n",
       "93  The Vegetables + Vegetables Pizza   Veggie   \n",
       "94  The Vegetables + Vegetables Pizza   Veggie   \n",
       "95  The Vegetables + Vegetables Pizza   Veggie   \n",
       "\n",
       "                                          ingredients  \n",
       "0   Barbecued Chicken, Red Peppers, Green Peppers,...  \n",
       "1   Barbecued Chicken, Red Peppers, Green Peppers,...  \n",
       "2   Barbecued Chicken, Red Peppers, Green Peppers,...  \n",
       "3   Chicken, Artichoke, Spinach, Garlic, Jalapeno ...  \n",
       "4   Chicken, Artichoke, Spinach, Garlic, Jalapeno ...  \n",
       "..                                                ...  \n",
       "91  Spinach, Mushrooms, Red Onions, Feta Cheese, G...  \n",
       "92  Spinach, Mushrooms, Red Onions, Feta Cheese, G...  \n",
       "93  Mushrooms, Tomatoes, Red Peppers, Green Pepper...  \n",
       "94  Mushrooms, Tomatoes, Red Peppers, Green Pepper...  \n",
       "95  Mushrooms, Tomatoes, Red Peppers, Green Pepper...  \n",
       "\n",
       "[96 rows x 7 columns]"
      ]
     },
     "execution_count": 12,
     "metadata": {},
     "output_type": "execute_result"
    }
   ],
   "source": [
    "#LET MERGING DATA FROM ONE BY OTHERS\n",
    "m2=x.merge(y,how=\"inner\",on=['pizza_type_id'])\n",
    "m2"
   ]
  },
  {
   "cell_type": "code",
   "execution_count": 13,
   "id": "475b018b",
   "metadata": {
    "execution": {
     "iopub.execute_input": "2023-12-26T06:56:27.867903Z",
     "iopub.status.busy": "2023-12-26T06:56:27.867504Z",
     "iopub.status.idle": "2023-12-26T06:56:27.919275Z",
     "shell.execute_reply": "2023-12-26T06:56:27.918086Z"
    },
    "papermill": {
     "duration": 0.070692,
     "end_time": "2023-12-26T06:56:27.922026",
     "exception": false,
     "start_time": "2023-12-26T06:56:27.851334",
     "status": "completed"
    },
    "tags": []
   },
   "outputs": [
    {
     "data": {
      "text/html": [
       "<div>\n",
       "<style scoped>\n",
       "    .dataframe tbody tr th:only-of-type {\n",
       "        vertical-align: middle;\n",
       "    }\n",
       "\n",
       "    .dataframe tbody tr th {\n",
       "        vertical-align: top;\n",
       "    }\n",
       "\n",
       "    .dataframe thead th {\n",
       "        text-align: right;\n",
       "    }\n",
       "</style>\n",
       "<table border=\"1\" class=\"dataframe\">\n",
       "  <thead>\n",
       "    <tr style=\"text-align: right;\">\n",
       "      <th></th>\n",
       "      <th>order_details_id</th>\n",
       "      <th>order_id</th>\n",
       "      <th>pizza_id</th>\n",
       "      <th>quantity</th>\n",
       "      <th>date</th>\n",
       "      <th>time</th>\n",
       "      <th>pizza_type_id</th>\n",
       "      <th>size</th>\n",
       "      <th>price</th>\n",
       "      <th>name</th>\n",
       "      <th>category</th>\n",
       "      <th>ingredients</th>\n",
       "    </tr>\n",
       "  </thead>\n",
       "  <tbody>\n",
       "    <tr>\n",
       "      <th>0</th>\n",
       "      <td>1</td>\n",
       "      <td>1</td>\n",
       "      <td>hawaiian_m</td>\n",
       "      <td>1</td>\n",
       "      <td>2015-01-01</td>\n",
       "      <td>2023-12-26 11:38:36</td>\n",
       "      <td>hawaiian</td>\n",
       "      <td>M</td>\n",
       "      <td>13.25</td>\n",
       "      <td>The Hawaiian Pizza</td>\n",
       "      <td>Classic</td>\n",
       "      <td>Sliced Ham, Pineapple, Mozzarella Cheese</td>\n",
       "    </tr>\n",
       "    <tr>\n",
       "      <th>1</th>\n",
       "      <td>179</td>\n",
       "      <td>77</td>\n",
       "      <td>hawaiian_m</td>\n",
       "      <td>1</td>\n",
       "      <td>2015-01-02</td>\n",
       "      <td>2023-12-26 12:22:46</td>\n",
       "      <td>hawaiian</td>\n",
       "      <td>M</td>\n",
       "      <td>13.25</td>\n",
       "      <td>The Hawaiian Pizza</td>\n",
       "      <td>Classic</td>\n",
       "      <td>Sliced Ham, Pineapple, Mozzarella Cheese</td>\n",
       "    </tr>\n",
       "    <tr>\n",
       "      <th>2</th>\n",
       "      <td>357</td>\n",
       "      <td>146</td>\n",
       "      <td>hawaiian_m</td>\n",
       "      <td>1</td>\n",
       "      <td>2015-01-03</td>\n",
       "      <td>2023-12-26 14:22:10</td>\n",
       "      <td>hawaiian</td>\n",
       "      <td>M</td>\n",
       "      <td>13.25</td>\n",
       "      <td>The Hawaiian Pizza</td>\n",
       "      <td>Classic</td>\n",
       "      <td>Sliced Ham, Pineapple, Mozzarella Cheese</td>\n",
       "    </tr>\n",
       "    <tr>\n",
       "      <th>3</th>\n",
       "      <td>389</td>\n",
       "      <td>163</td>\n",
       "      <td>hawaiian_m</td>\n",
       "      <td>1</td>\n",
       "      <td>2015-01-03</td>\n",
       "      <td>2023-12-26 16:54:54</td>\n",
       "      <td>hawaiian</td>\n",
       "      <td>M</td>\n",
       "      <td>13.25</td>\n",
       "      <td>The Hawaiian Pizza</td>\n",
       "      <td>Classic</td>\n",
       "      <td>Sliced Ham, Pineapple, Mozzarella Cheese</td>\n",
       "    </tr>\n",
       "    <tr>\n",
       "      <th>4</th>\n",
       "      <td>568</td>\n",
       "      <td>247</td>\n",
       "      <td>hawaiian_m</td>\n",
       "      <td>1</td>\n",
       "      <td>2015-01-04</td>\n",
       "      <td>2023-12-26 20:55:29</td>\n",
       "      <td>hawaiian</td>\n",
       "      <td>M</td>\n",
       "      <td>13.25</td>\n",
       "      <td>The Hawaiian Pizza</td>\n",
       "      <td>Classic</td>\n",
       "      <td>Sliced Ham, Pineapple, Mozzarella Cheese</td>\n",
       "    </tr>\n",
       "    <tr>\n",
       "      <th>...</th>\n",
       "      <td>...</td>\n",
       "      <td>...</td>\n",
       "      <td>...</td>\n",
       "      <td>...</td>\n",
       "      <td>...</td>\n",
       "      <td>...</td>\n",
       "      <td>...</td>\n",
       "      <td>...</td>\n",
       "      <td>...</td>\n",
       "      <td>...</td>\n",
       "      <td>...</td>\n",
       "      <td>...</td>\n",
       "    </tr>\n",
       "    <tr>\n",
       "      <th>48615</th>\n",
       "      <td>39733</td>\n",
       "      <td>17492</td>\n",
       "      <td>the_greek_xxl</td>\n",
       "      <td>1</td>\n",
       "      <td>2015-10-24</td>\n",
       "      <td>2023-12-26 18:58:20</td>\n",
       "      <td>the_greek</td>\n",
       "      <td>XXL</td>\n",
       "      <td>35.95</td>\n",
       "      <td>The Greek Pizza</td>\n",
       "      <td>Classic</td>\n",
       "      <td>Kalamata Olives, Feta Cheese, Tomatoes, Garlic...</td>\n",
       "    </tr>\n",
       "    <tr>\n",
       "      <th>48616</th>\n",
       "      <td>41183</td>\n",
       "      <td>18139</td>\n",
       "      <td>the_greek_xxl</td>\n",
       "      <td>1</td>\n",
       "      <td>2015-11-05</td>\n",
       "      <td>2023-12-26 20:28:52</td>\n",
       "      <td>the_greek</td>\n",
       "      <td>XXL</td>\n",
       "      <td>35.95</td>\n",
       "      <td>The Greek Pizza</td>\n",
       "      <td>Classic</td>\n",
       "      <td>Kalamata Olives, Feta Cheese, Tomatoes, Garlic...</td>\n",
       "    </tr>\n",
       "    <tr>\n",
       "      <th>48617</th>\n",
       "      <td>42718</td>\n",
       "      <td>18789</td>\n",
       "      <td>the_greek_xxl</td>\n",
       "      <td>1</td>\n",
       "      <td>2015-11-17</td>\n",
       "      <td>2023-12-26 11:23:51</td>\n",
       "      <td>the_greek</td>\n",
       "      <td>XXL</td>\n",
       "      <td>35.95</td>\n",
       "      <td>The Greek Pizza</td>\n",
       "      <td>Classic</td>\n",
       "      <td>Kalamata Olives, Feta Cheese, Tomatoes, Garlic...</td>\n",
       "    </tr>\n",
       "    <tr>\n",
       "      <th>48618</th>\n",
       "      <td>43041</td>\n",
       "      <td>18919</td>\n",
       "      <td>the_greek_xxl</td>\n",
       "      <td>1</td>\n",
       "      <td>2015-11-19</td>\n",
       "      <td>2023-12-26 16:58:26</td>\n",
       "      <td>the_greek</td>\n",
       "      <td>XXL</td>\n",
       "      <td>35.95</td>\n",
       "      <td>The Greek Pizza</td>\n",
       "      <td>Classic</td>\n",
       "      <td>Kalamata Olives, Feta Cheese, Tomatoes, Garlic...</td>\n",
       "    </tr>\n",
       "    <tr>\n",
       "      <th>48619</th>\n",
       "      <td>47490</td>\n",
       "      <td>20866</td>\n",
       "      <td>the_greek_xxl</td>\n",
       "      <td>1</td>\n",
       "      <td>2015-12-20</td>\n",
       "      <td>2023-12-26 19:16:20</td>\n",
       "      <td>the_greek</td>\n",
       "      <td>XXL</td>\n",
       "      <td>35.95</td>\n",
       "      <td>The Greek Pizza</td>\n",
       "      <td>Classic</td>\n",
       "      <td>Kalamata Olives, Feta Cheese, Tomatoes, Garlic...</td>\n",
       "    </tr>\n",
       "  </tbody>\n",
       "</table>\n",
       "<p>48620 rows × 12 columns</p>\n",
       "</div>"
      ],
      "text/plain": [
       "       order_details_id  order_id       pizza_id  quantity       date  \\\n",
       "0                     1         1     hawaiian_m         1 2015-01-01   \n",
       "1                   179        77     hawaiian_m         1 2015-01-02   \n",
       "2                   357       146     hawaiian_m         1 2015-01-03   \n",
       "3                   389       163     hawaiian_m         1 2015-01-03   \n",
       "4                   568       247     hawaiian_m         1 2015-01-04   \n",
       "...                 ...       ...            ...       ...        ...   \n",
       "48615             39733     17492  the_greek_xxl         1 2015-10-24   \n",
       "48616             41183     18139  the_greek_xxl         1 2015-11-05   \n",
       "48617             42718     18789  the_greek_xxl         1 2015-11-17   \n",
       "48618             43041     18919  the_greek_xxl         1 2015-11-19   \n",
       "48619             47490     20866  the_greek_xxl         1 2015-12-20   \n",
       "\n",
       "                     time pizza_type_id size  price                name  \\\n",
       "0     2023-12-26 11:38:36      hawaiian    M  13.25  The Hawaiian Pizza   \n",
       "1     2023-12-26 12:22:46      hawaiian    M  13.25  The Hawaiian Pizza   \n",
       "2     2023-12-26 14:22:10      hawaiian    M  13.25  The Hawaiian Pizza   \n",
       "3     2023-12-26 16:54:54      hawaiian    M  13.25  The Hawaiian Pizza   \n",
       "4     2023-12-26 20:55:29      hawaiian    M  13.25  The Hawaiian Pizza   \n",
       "...                   ...           ...  ...    ...                 ...   \n",
       "48615 2023-12-26 18:58:20     the_greek  XXL  35.95     The Greek Pizza   \n",
       "48616 2023-12-26 20:28:52     the_greek  XXL  35.95     The Greek Pizza   \n",
       "48617 2023-12-26 11:23:51     the_greek  XXL  35.95     The Greek Pizza   \n",
       "48618 2023-12-26 16:58:26     the_greek  XXL  35.95     The Greek Pizza   \n",
       "48619 2023-12-26 19:16:20     the_greek  XXL  35.95     The Greek Pizza   \n",
       "\n",
       "      category                                        ingredients  \n",
       "0      Classic           Sliced Ham, Pineapple, Mozzarella Cheese  \n",
       "1      Classic           Sliced Ham, Pineapple, Mozzarella Cheese  \n",
       "2      Classic           Sliced Ham, Pineapple, Mozzarella Cheese  \n",
       "3      Classic           Sliced Ham, Pineapple, Mozzarella Cheese  \n",
       "4      Classic           Sliced Ham, Pineapple, Mozzarella Cheese  \n",
       "...        ...                                                ...  \n",
       "48615  Classic  Kalamata Olives, Feta Cheese, Tomatoes, Garlic...  \n",
       "48616  Classic  Kalamata Olives, Feta Cheese, Tomatoes, Garlic...  \n",
       "48617  Classic  Kalamata Olives, Feta Cheese, Tomatoes, Garlic...  \n",
       "48618  Classic  Kalamata Olives, Feta Cheese, Tomatoes, Garlic...  \n",
       "48619  Classic  Kalamata Olives, Feta Cheese, Tomatoes, Garlic...  \n",
       "\n",
       "[48620 rows x 12 columns]"
      ]
     },
     "execution_count": 13,
     "metadata": {},
     "output_type": "execute_result"
    }
   ],
   "source": [
    "m=m1.merge(m2,how='inner',on=['pizza_id'])\n",
    "m"
   ]
  },
  {
   "cell_type": "code",
   "execution_count": 14,
   "id": "51f12038",
   "metadata": {
    "execution": {
     "iopub.execute_input": "2023-12-26T06:56:27.953333Z",
     "iopub.status.busy": "2023-12-26T06:56:27.952915Z",
     "iopub.status.idle": "2023-12-26T06:56:27.998129Z",
     "shell.execute_reply": "2023-12-26T06:56:27.997040Z"
    },
    "papermill": {
     "duration": 0.063714,
     "end_time": "2023-12-26T06:56:28.000556",
     "exception": false,
     "start_time": "2023-12-26T06:56:27.936842",
     "status": "completed"
    },
    "tags": []
   },
   "outputs": [
    {
     "name": "stdout",
     "output_type": "stream",
     "text": [
      "<class 'pandas.core.frame.DataFrame'>\n",
      "RangeIndex: 48620 entries, 0 to 48619\n",
      "Data columns (total 12 columns):\n",
      " #   Column            Non-Null Count  Dtype         \n",
      "---  ------            --------------  -----         \n",
      " 0   order_details_id  48620 non-null  int64         \n",
      " 1   order_id          48620 non-null  int64         \n",
      " 2   pizza_id          48620 non-null  object        \n",
      " 3   quantity          48620 non-null  int64         \n",
      " 4   date              48620 non-null  datetime64[ns]\n",
      " 5   time              48620 non-null  datetime64[ns]\n",
      " 6   pizza_type_id     48620 non-null  object        \n",
      " 7   size              48620 non-null  object        \n",
      " 8   price             48620 non-null  float64       \n",
      " 9   name              48620 non-null  object        \n",
      " 10  category          48620 non-null  object        \n",
      " 11  ingredients       48620 non-null  object        \n",
      "dtypes: datetime64[ns](2), float64(1), int64(3), object(6)\n",
      "memory usage: 4.5+ MB\n"
     ]
    }
   ],
   "source": [
    "m.info()"
   ]
  },
  {
   "cell_type": "code",
   "execution_count": 15,
   "id": "be7be5bb",
   "metadata": {
    "execution": {
     "iopub.execute_input": "2023-12-26T06:56:28.031764Z",
     "iopub.status.busy": "2023-12-26T06:56:28.031349Z",
     "iopub.status.idle": "2023-12-26T06:56:28.049832Z",
     "shell.execute_reply": "2023-12-26T06:56:28.048585Z"
    },
    "papermill": {
     "duration": 0.037519,
     "end_time": "2023-12-26T06:56:28.052669",
     "exception": false,
     "start_time": "2023-12-26T06:56:28.015150",
     "status": "completed"
    },
    "tags": []
   },
   "outputs": [],
   "source": [
    "# Question 1: How many customers do we have each day? Are there any peak hours?\n",
    "\n",
    "daily_customers = m.groupby('pizza_type_id')['order_id'].nunique()"
   ]
  },
  {
   "cell_type": "code",
   "execution_count": 16,
   "id": "378e4457",
   "metadata": {
    "execution": {
     "iopub.execute_input": "2023-12-26T06:56:28.084838Z",
     "iopub.status.busy": "2023-12-26T06:56:28.084395Z",
     "iopub.status.idle": "2023-12-26T06:56:28.627821Z",
     "shell.execute_reply": "2023-12-26T06:56:28.626595Z"
    },
    "papermill": {
     "duration": 0.563376,
     "end_time": "2023-12-26T06:56:28.630894",
     "exception": false,
     "start_time": "2023-12-26T06:56:28.067518",
     "status": "completed"
    },
    "tags": []
   },
   "outputs": [
    {
     "data": {
      "image/png": "[encoded data removed]",
      "text/plain": [
       "<Figure size 1000x500 with 1 Axes>"
      ]
     },
     "metadata": {},
     "output_type": "display_data"
    }
   ],
   "source": [
    "plt.figure(figsize=(10,5))\n",
    "daily_customers.plot(kind='bar', title='Daily Customers by Pizza Type')\n",
    "plt.show()"
   ]
  },
  {
   "cell_type": "code",
   "execution_count": 17,
   "id": "6aa2deaf",
   "metadata": {
    "execution": {
     "iopub.execute_input": "2023-12-26T06:56:28.665024Z",
     "iopub.status.busy": "2023-12-26T06:56:28.664012Z",
     "iopub.status.idle": "2023-12-26T06:56:28.691492Z",
     "shell.execute_reply": "2023-12-26T06:56:28.690511Z"
    },
    "papermill": {
     "duration": 0.047499,
     "end_time": "2023-12-26T06:56:28.694307",
     "exception": false,
     "start_time": "2023-12-26T06:56:28.646808",
     "status": "completed"
    },
    "tags": []
   },
   "outputs": [],
   "source": [
    "# Extract hour from the 'time' column\n",
    "\n",
    "m['hour'] = pd.to_datetime(m['time']).dt.hour"
   ]
  },
  {
   "cell_type": "code",
   "execution_count": 18,
   "id": "ee31bd50",
   "metadata": {
    "execution": {
     "iopub.execute_input": "2023-12-26T06:56:28.727148Z",
     "iopub.status.busy": "2023-12-26T06:56:28.726720Z",
     "iopub.status.idle": "2023-12-26T06:56:28.739927Z",
     "shell.execute_reply": "2023-12-26T06:56:28.739019Z"
    },
    "papermill": {
     "duration": 0.03219,
     "end_time": "2023-12-26T06:56:28.742453",
     "exception": false,
     "start_time": "2023-12-26T06:56:28.710263",
     "status": "completed"
    },
    "tags": []
   },
   "outputs": [],
   "source": [
    "# Group by hour and count orders\n",
    "hourly_orders = m.groupby('hour')['order_id'].nunique()"
   ]
  },
  {
   "cell_type": "code",
   "execution_count": 19,
   "id": "c1fd4d99",
   "metadata": {
    "execution": {
     "iopub.execute_input": "2023-12-26T06:56:28.775710Z",
     "iopub.status.busy": "2023-12-26T06:56:28.775291Z",
     "iopub.status.idle": "2023-12-26T06:56:29.124319Z",
     "shell.execute_reply": "2023-12-26T06:56:29.123113Z"
    },
    "papermill": {
     "duration": 0.368699,
     "end_time": "2023-12-26T06:56:29.127010",
     "exception": false,
     "start_time": "2023-12-26T06:56:28.758311",
     "status": "completed"
    },
    "tags": []
   },
   "outputs": [
    {
     "data": {
      "image/png": "[encoded data removed]",
      "text/plain": [
       "<Figure size 1000x700 with 1 Axes>"
      ]
     },
     "metadata": {},
     "output_type": "display_data"
    }
   ],
   "source": [
    "plt.figure(figsize=(10,7))\n",
    "hourly_orders.plot(kind='bar', title='Hourly Orders')\n",
    "plt.show()"
   ]
  },
  {
   "cell_type": "markdown",
   "id": "440a6143",
   "metadata": {
    "papermill": {
     "duration": 0.015806,
     "end_time": "2023-12-26T06:56:29.159544",
     "exception": false,
     "start_time": "2023-12-26T06:56:29.143738",
     "status": "completed"
    },
    "tags": []
   },
   "source": [
    "## RESULT:-"
   ]
  },
  {
   "cell_type": "markdown",
   "id": "ce4f75f7",
   "metadata": {
    "papermill": {
     "duration": 0.015742,
     "end_time": "2023-12-26T06:56:29.191316",
     "exception": false,
     "start_time": "2023-12-26T06:56:29.175574",
     "status": "completed"
    },
    "tags": []
   },
   "source": [
    "**Daily Customer Count:**\n",
    "* The code loads the dataset, converts the 'timestamp' column to datetime format, and extracts the day of the week.\n",
    "* It then groups the data by date and counts the number of customers for each day.\n",
    "* The result is visualized in a bar chart showing the daily customer count is bbq_ckn,cali_ckn,classic_dix,hawaiiana,pepperoni,thai_ckn\n",
    " \n",
    "**Hourly Customer Count:**\n",
    "* The code also extracts the hour of the day from the 'timestamp' column.\n",
    "* It groups the data by hour and counts the number of customers for each hour.\n",
    "* The result is visualized in a bar chart showing the hourly customer count is 12noon-1p.m peaks hours"
   ]
  },
  {
   "cell_type": "code",
   "execution_count": 20,
   "id": "a2cf8544",
   "metadata": {
    "execution": {
     "iopub.execute_input": "2023-12-26T06:56:29.225592Z",
     "iopub.status.busy": "2023-12-26T06:56:29.224815Z",
     "iopub.status.idle": "2023-12-26T06:56:29.246039Z",
     "shell.execute_reply": "2023-12-26T06:56:29.244858Z"
    },
    "papermill": {
     "duration": 0.041077,
     "end_time": "2023-12-26T06:56:29.248593",
     "exception": false,
     "start_time": "2023-12-26T06:56:29.207516",
     "status": "completed"
    },
    "tags": []
   },
   "outputs": [
    {
     "name": "stdout",
     "output_type": "stream",
     "text": [
      "Average pizzas per order: 2.2772833723653396\n"
     ]
    }
   ],
   "source": [
    "# Question 2: How many pizzas are typically in order? Do we have any bestsellers?\n",
    "avg_pizzas_per_order = m.groupby('order_id')['pizza_id'].nunique().mean()\n",
    "print(f\"Average pizzas per order: {avg_pizzas_per_order}\")"
   ]
  },
  {
   "cell_type": "code",
   "execution_count": 21,
   "id": "feae1cfd",
   "metadata": {
    "execution": {
     "iopub.execute_input": "2023-12-26T06:56:29.282869Z",
     "iopub.status.busy": "2023-12-26T06:56:29.282013Z",
     "iopub.status.idle": "2023-12-26T06:56:29.600285Z",
     "shell.execute_reply": "2023-12-26T06:56:29.599192Z"
    },
    "papermill": {
     "duration": 0.338355,
     "end_time": "2023-12-26T06:56:29.602905",
     "exception": false,
     "start_time": "2023-12-26T06:56:29.264550",
     "status": "completed"
    },
    "tags": []
   },
   "outputs": [
    {
     "data": {
      "image/png": "[encoded data removed]",
      "text/plain": [
       "<Figure size 1000x700 with 1 Axes>"
      ]
     },
     "metadata": {},
     "output_type": "display_data"
    }
   ],
   "source": [
    "bestsellers = m['pizza_id'].value_counts().head(5)\n",
    "plt.figure(figsize=(10,7))\n",
    "bestsellers.plot(kind='bar', title='Top 5 Bestsellers')\n",
    "plt.show()"
   ]
  },
  {
   "cell_type": "markdown",
   "id": "12af6acb",
   "metadata": {
    "papermill": {
     "duration": 0.016171,
     "end_time": "2023-12-26T06:56:29.635767",
     "exception": false,
     "start_time": "2023-12-26T06:56:29.619596",
     "status": "completed"
    },
    "tags": []
   },
   "source": [
    "## RESULT:"
   ]
  },
  {
   "cell_type": "markdown",
   "id": "69883dc2",
   "metadata": {
    "papermill": {
     "duration": 0.016156,
     "end_time": "2023-12-26T06:56:29.668633",
     "exception": false,
     "start_time": "2023-12-26T06:56:29.652477",
     "status": "completed"
    },
    "tags": []
   },
   "source": [
    "**Average Number of Pizzas per Order:**\n",
    "* show the distribution of the average number of pizzas per order is 2.2772833723653396\n",
    "\n",
    "**Bestsellers in Descending Order:**\n",
    "* The code calculates the number of orders for each pizza type and prints the results in descending order.\n",
    "* The output will show the pizza types that are most frequently ordered, making them the bestsellers\n",
    "1.  big_meat_s\n",
    "2. thai_ckn_i\n",
    "3. five_cheese_i\n",
    "4. four_cheese_i\n",
    "5. classic_dlx_m"
   ]
  },
  {
   "cell_type": "code",
   "execution_count": 22,
   "id": "e464a4cf",
   "metadata": {
    "execution": {
     "iopub.execute_input": "2023-12-26T06:56:29.795309Z",
     "iopub.status.busy": "2023-12-26T06:56:29.794792Z",
     "iopub.status.idle": "2023-12-26T06:56:29.812080Z",
     "shell.execute_reply": "2023-12-26T06:56:29.810676Z"
    },
    "papermill": {
     "duration": 0.038055,
     "end_time": "2023-12-26T06:56:29.814479",
     "exception": false,
     "start_time": "2023-12-26T06:56:29.776424",
     "status": "completed"
    },
    "tags": []
   },
   "outputs": [
    {
     "name": "stdout",
     "output_type": "stream",
     "text": [
      "date\n",
      "2015    817860.05\n",
      "Name: revenue, dtype: float64\n"
     ]
    }
   ],
   "source": [
    "# Question 3: How much money did we make this year? Can we identify any seasonality in the sales?\n",
    "m['revenue'] = m['quantity'] * m['price']\n",
    "total_revenue = m.groupby(m['date'].dt.year)['revenue'].sum()\n",
    "print(total_revenue)"
   ]
  },
  {
   "cell_type": "code",
   "execution_count": 23,
   "id": "ec07fbea",
   "metadata": {
    "execution": {
     "iopub.execute_input": "2023-12-26T06:56:29.850552Z",
     "iopub.status.busy": "2023-12-26T06:56:29.850127Z",
     "iopub.status.idle": "2023-12-26T06:56:30.095899Z",
     "shell.execute_reply": "2023-12-26T06:56:30.094772Z"
    },
    "papermill": {
     "duration": 0.267175,
     "end_time": "2023-12-26T06:56:30.098733",
     "exception": false,
     "start_time": "2023-12-26T06:56:29.831558",
     "status": "completed"
    },
    "tags": []
   },
   "outputs": [
    {
     "data": {
      "image/png": "[encoded data removed]",
      "text/plain": [
       "<Figure size 1000x600 with 1 Axes>"
      ]
     },
     "metadata": {},
     "output_type": "display_data"
    }
   ],
   "source": [
    "plt.figure(figsize=(10,6))\n",
    "total_revenue.plot(kind='bar', title='Total Revenue Each Year')\n",
    "plt.xlabel('Year')\n",
    "plt.ylabel('revenue')\n",
    "plt.show()"
   ]
  },
  {
   "cell_type": "code",
   "execution_count": 24,
   "id": "c2f14b13",
   "metadata": {
    "execution": {
     "iopub.execute_input": "2023-12-26T06:56:30.136986Z",
     "iopub.status.busy": "2023-12-26T06:56:30.135644Z",
     "iopub.status.idle": "2023-12-26T06:56:30.149695Z",
     "shell.execute_reply": "2023-12-26T06:56:30.148475Z"
    },
    "papermill": {
     "duration": 0.035908,
     "end_time": "2023-12-26T06:56:30.152612",
     "exception": false,
     "start_time": "2023-12-26T06:56:30.116704",
     "status": "completed"
    },
    "tags": []
   },
   "outputs": [],
   "source": [
    "total_rev_months=m.groupby(m['date'].dt.month)['revenue'].sum()"
   ]
  },
  {
   "cell_type": "code",
   "execution_count": 25,
   "id": "7d6866cf",
   "metadata": {
    "execution": {
     "iopub.execute_input": "2023-12-26T06:56:30.190135Z",
     "iopub.status.busy": "2023-12-26T06:56:30.189701Z",
     "iopub.status.idle": "2023-12-26T06:56:30.532218Z",
     "shell.execute_reply": "2023-12-26T06:56:30.531156Z"
    },
    "papermill": {
     "duration": 0.36574,
     "end_time": "2023-12-26T06:56:30.536236",
     "exception": false,
     "start_time": "2023-12-26T06:56:30.170496",
     "status": "completed"
    },
    "tags": []
   },
   "outputs": [
    {
     "data": {
      "image/png": "[encoded data removed]",
      "text/plain": [
       "<Figure size 1000x600 with 1 Axes>"
      ]
     },
     "metadata": {},
     "output_type": "display_data"
    }
   ],
   "source": [
    "plt.figure(figsize=(10,6))\n",
    "total_rev_months.plot(kind='bar', title='Total Revenue Each Months')\n",
    "plt.xlabel('months')\n",
    "plt.ylabel('revenue')\n",
    "plt.show()"
   ]
  },
  {
   "cell_type": "markdown",
   "id": "347bb67e",
   "metadata": {
    "papermill": {
     "duration": 0.018039,
     "end_time": "2023-12-26T06:56:30.572564",
     "exception": false,
     "start_time": "2023-12-26T06:56:30.554525",
     "status": "completed"
    },
    "tags": []
   },
   "source": [
    "## RESULT:-"
   ]
  },
  {
   "cell_type": "markdown",
   "id": "60170bf5",
   "metadata": {
    "papermill": {
     "duration": 0.017555,
     "end_time": "2023-12-26T06:56:30.608209",
     "exception": false,
     "start_time": "2023-12-26T06:56:30.590654",
     "status": "completed"
    },
    "tags": []
   },
   "source": [
    "**Total Revenue for the Year:**\n",
    "* The code calculates the total revenue for the year 2015 using the 'revenue' column in the dataset.\n",
    "* The result will be printed, showing the total revenue for the specified year is $817860.05\n",
    "\n",
    "**Monthly Revenue with Seasonality:**\n",
    "* The code groups the data by month and calculates the average revenue for each month.\n",
    "*  The average revenue for each month, helping to identify any seasonality in sales is July & May months"
   ]
  },
  {
   "cell_type": "code",
   "execution_count": 26,
   "id": "7390f074",
   "metadata": {
    "execution": {
     "iopub.execute_input": "2023-12-26T06:56:30.645942Z",
     "iopub.status.busy": "2023-12-26T06:56:30.645472Z",
     "iopub.status.idle": "2023-12-26T06:56:30.661343Z",
     "shell.execute_reply": "2023-12-26T06:56:30.660441Z"
    },
    "papermill": {
     "duration": 0.037598,
     "end_time": "2023-12-26T06:56:30.663531",
     "exception": false,
     "start_time": "2023-12-26T06:56:30.625933",
     "status": "completed"
    },
    "tags": []
   },
   "outputs": [
    {
     "data": {
      "text/plain": [
       "pizza_id\n",
       "big_meat_s        1811\n",
       "thai_ckn_l        1365\n",
       "five_cheese_l     1359\n",
       "four_cheese_l     1273\n",
       "classic_dlx_m     1159\n",
       "                  ... \n",
       "mexicana_s         160\n",
       "calabrese_s         99\n",
       "ckn_alfredo_s       96\n",
       "green_garden_l      94\n",
       "the_greek_xxl       28\n",
       "Name: count, Length: 91, dtype: int64"
      ]
     },
     "execution_count": 26,
     "metadata": {},
     "output_type": "execute_result"
    }
   ],
   "source": [
    " m['pizza_id'].value_counts()"
   ]
  },
  {
   "cell_type": "code",
   "execution_count": 27,
   "id": "4d9fdc90",
   "metadata": {
    "execution": {
     "iopub.execute_input": "2023-12-26T06:56:30.701994Z",
     "iopub.status.busy": "2023-12-26T06:56:30.700824Z",
     "iopub.status.idle": "2023-12-26T06:56:30.714819Z",
     "shell.execute_reply": "2023-12-26T06:56:30.713752Z"
    },
    "papermill": {
     "duration": 0.035515,
     "end_time": "2023-12-26T06:56:30.717015",
     "exception": false,
     "start_time": "2023-12-26T06:56:30.681500",
     "status": "completed"
    },
    "tags": []
   },
   "outputs": [
    {
     "name": "stdout",
     "output_type": "stream",
     "text": [
      "pizza_id\n",
      "mexicana_s        160\n",
      "calabrese_s        99\n",
      "ckn_alfredo_s      96\n",
      "green_garden_l     94\n",
      "the_greek_xxl      28\n",
      "Name: count, dtype: int64\n"
     ]
    }
   ],
   "source": [
    "# Question 4: Are there any pizzas we should take off the menu, or any promotions we could leverage?\n",
    "pizza_popularity = m['pizza_id'].value_counts().tail(5)\n",
    "print(pizza_popularity)"
   ]
  },
  {
   "cell_type": "code",
   "execution_count": 28,
   "id": "cc8af9da",
   "metadata": {
    "execution": {
     "iopub.execute_input": "2023-12-26T06:56:30.755639Z",
     "iopub.status.busy": "2023-12-26T06:56:30.754839Z",
     "iopub.status.idle": "2023-12-26T06:56:31.074186Z",
     "shell.execute_reply": "2023-12-26T06:56:31.072927Z"
    },
    "papermill": {
     "duration": 0.341625,
     "end_time": "2023-12-26T06:56:31.076834",
     "exception": false,
     "start_time": "2023-12-26T06:56:30.735209",
     "status": "completed"
    },
    "tags": []
   },
   "outputs": [
    {
     "data": {
      "image/png": "[encoded data removed]",
      "text/plain": [
       "<Figure size 1000x600 with 1 Axes>"
      ]
     },
     "metadata": {},
     "output_type": "display_data"
    }
   ],
   "source": [
    "plt.figure(figsize=(10,6))\n",
    "pizza_popularity.plot(kind='bar', title='Pizza Popularity')\n",
    "plt.ylabel('orders')\n",
    "plt.show()"
   ]
  },
  {
   "cell_type": "markdown",
   "id": "a2c6e909",
   "metadata": {
    "papermill": {
     "duration": 0.018469,
     "end_time": "2023-12-26T06:56:31.114291",
     "exception": false,
     "start_time": "2023-12-26T06:56:31.095822",
     "status": "completed"
    },
    "tags": []
   },
   "source": [
    "## RESULT:"
   ]
  },
  {
   "cell_type": "markdown",
   "id": "c64bfc47",
   "metadata": {
    "papermill": {
     "duration": 0.018803,
     "end_time": "2023-12-26T06:56:31.151683",
     "exception": false,
     "start_time": "2023-12-26T06:56:31.132880",
     "status": "completed"
    },
    "tags": []
   },
   "source": [
    "**Total Orders by Pizza Type:**\n",
    "* The first bar plot will display the total number of orders for each pizza type is 91 orders\n",
    "* Pizzas with lower total orders may be considered for evaluation is the_greek_xxl,green_garden_l,ckn_alfredo_s,calabrese_s,mexicana_s\n",
    "\n",
    "**Recommendations:**\n",
    "* The printed output will include lists of underperforming pizzas based on low orders\n",
    "* These lists provide insights into pizzas that may need attention, either through removal from the menu or through targeted promotions."
   ]
  }
 ],
 "metadata": {
  "kaggle": {
   "accelerator": "none",
   "dataSources": [
    {
     "datasetId": 2515860,
     "sourceId": 4269787,
     "sourceType": "datasetVersion"
    }
   ],
   "dockerImageVersionId": 30558,
   "isGpuEnabled": false,
   "isInternetEnabled": false,
   "language": "python",
   "sourceType": "notebook"
  },
  "kernelspec": {
   "display_name": "Python 3",
   "language": "python",
   "name": "python3"
  },
  "language_info": {
   "codemirror_mode": {
    "name": "ipython",
    "version": 3
   },
   "file_extension": ".py",
   "mimetype": "text/x-python",
   "name": "python",
   "nbconvert_exporter": "python",
   "pygments_lexer": "ipython3",
   "version": "3.10.12"
  },
  "papermill": {
   "default_parameters": {},
   "duration": 12.714397,
   "end_time": "2023-12-26T06:56:31.792318",
   "environment_variables": {},
   "exception": null,
   "input_path": "__notebook__.ipynb",
   "output_path": "__notebook__.ipynb",
   "parameters": {},
   "start_time": "2023-12-26T06:56:19.077921",
   "version": "2.4.0"
  }
 },
 "nbformat": 4,
 "nbformat_minor": 5
}
