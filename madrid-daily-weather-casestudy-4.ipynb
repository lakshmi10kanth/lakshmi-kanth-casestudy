{
 "cells": [
  {
   "cell_type": "markdown",
   "id": "4981383a",
   "metadata": {
    "papermill": {
     "duration": 0.007933,
     "end_time": "2024-03-02T07:07:04.273092",
     "exception": false,
     "start_time": "2024-03-02T07:07:04.265159",
     "status": "completed"
    },
    "tags": []
   },
   "source": [
    "# Daily weather conditions in Madrid from 1997-2015, including max/min/mean temperature, dew point, humidity, visibility, and wind speed, along with precipitation events, cloud cover, and wind direction"
   ]
  },
  {
   "cell_type": "code",
   "execution_count": 1,
   "id": "27b35cbe",
   "metadata": {
    "execution": {
     "iopub.execute_input": "2024-03-02T07:07:04.289947Z",
     "iopub.status.busy": "2024-03-02T07:07:04.289365Z",
     "iopub.status.idle": "2024-03-02T07:07:06.973757Z",
     "shell.execute_reply": "2024-03-02T07:07:06.972561Z"
    },
    "papermill": {
     "duration": 2.69559,
     "end_time": "2024-03-02T07:07:06.976244",
     "exception": false,
     "start_time": "2024-03-02T07:07:04.280654",
     "status": "completed"
    },
    "tags": []
   },
   "outputs": [],
   "source": [
    "#Importing essential and needful libraries\n",
    "import pandas as pd\n",
    "import numpy as np\n",
    "import seaborn as sns\n",
    "import matplotlib.pyplot as plt"
   ]
  },
  {
   "cell_type": "code",
   "execution_count": 2,
   "id": "f831cbd1",
   "metadata": {
    "execution": {
     "iopub.execute_input": "2024-03-02T07:07:06.994201Z",
     "iopub.status.busy": "2024-03-02T07:07:06.993741Z",
     "iopub.status.idle": "2024-03-02T07:07:07.079536Z",
     "shell.execute_reply": "2024-03-02T07:07:07.078625Z"
    },
    "papermill": {
     "duration": 0.097451,
     "end_time": "2024-03-02T07:07:07.081939",
     "exception": false,
     "start_time": "2024-03-02T07:07:06.984488",
     "status": "completed"
    },
    "tags": []
   },
   "outputs": [
    {
     "data": {
      "text/html": [
       "<div>\n",
       "<style scoped>\n",
       "    .dataframe tbody tr th:only-of-type {\n",
       "        vertical-align: middle;\n",
       "    }\n",
       "\n",
       "    .dataframe tbody tr th {\n",
       "        vertical-align: top;\n",
       "    }\n",
       "\n",
       "    .dataframe thead th {\n",
       "        text-align: right;\n",
       "    }\n",
       "</style>\n",
       "<table border=\"1\" class=\"dataframe\">\n",
       "  <thead>\n",
       "    <tr style=\"text-align: right;\">\n",
       "      <th></th>\n",
       "      <th>CET</th>\n",
       "      <th>Max TemperatureC</th>\n",
       "      <th>Mean TemperatureC</th>\n",
       "      <th>Min TemperatureC</th>\n",
       "      <th>Dew PointC</th>\n",
       "      <th>MeanDew PointC</th>\n",
       "      <th>Min DewpointC</th>\n",
       "      <th>Max Humidity</th>\n",
       "      <th>Mean Humidity</th>\n",
       "      <th>Min Humidity</th>\n",
       "      <th>...</th>\n",
       "      <th>Max VisibilityKm</th>\n",
       "      <th>Mean VisibilityKm</th>\n",
       "      <th>Min VisibilitykM</th>\n",
       "      <th>Max Wind SpeedKm/h</th>\n",
       "      <th>Mean Wind SpeedKm/h</th>\n",
       "      <th>Max Gust SpeedKm/h</th>\n",
       "      <th>Precipitationmm</th>\n",
       "      <th>CloudCover</th>\n",
       "      <th>Events</th>\n",
       "      <th>WindDirDegrees</th>\n",
       "    </tr>\n",
       "  </thead>\n",
       "  <tbody>\n",
       "    <tr>\n",
       "      <th>0</th>\n",
       "      <td>1997-01-01</td>\n",
       "      <td>7.0</td>\n",
       "      <td>4.0</td>\n",
       "      <td>2.0</td>\n",
       "      <td>5.0</td>\n",
       "      <td>3.0</td>\n",
       "      <td>2.0</td>\n",
       "      <td>100.0</td>\n",
       "      <td>95.0</td>\n",
       "      <td>76.0</td>\n",
       "      <td>...</td>\n",
       "      <td>10.0</td>\n",
       "      <td>9.0</td>\n",
       "      <td>4.0</td>\n",
       "      <td>13</td>\n",
       "      <td>6</td>\n",
       "      <td>NaN</td>\n",
       "      <td>0.00</td>\n",
       "      <td>6.0</td>\n",
       "      <td>NaN</td>\n",
       "      <td>229</td>\n",
       "    </tr>\n",
       "    <tr>\n",
       "      <th>1</th>\n",
       "      <td>1997-01-02</td>\n",
       "      <td>7.0</td>\n",
       "      <td>3.0</td>\n",
       "      <td>0.0</td>\n",
       "      <td>6.0</td>\n",
       "      <td>3.0</td>\n",
       "      <td>0.0</td>\n",
       "      <td>100.0</td>\n",
       "      <td>92.0</td>\n",
       "      <td>71.0</td>\n",
       "      <td>...</td>\n",
       "      <td>10.0</td>\n",
       "      <td>9.0</td>\n",
       "      <td>4.0</td>\n",
       "      <td>26</td>\n",
       "      <td>8</td>\n",
       "      <td>47.0</td>\n",
       "      <td>0.00</td>\n",
       "      <td>5.0</td>\n",
       "      <td>Rain</td>\n",
       "      <td>143</td>\n",
       "    </tr>\n",
       "    <tr>\n",
       "      <th>2</th>\n",
       "      <td>1997-01-03</td>\n",
       "      <td>5.0</td>\n",
       "      <td>3.0</td>\n",
       "      <td>2.0</td>\n",
       "      <td>5.0</td>\n",
       "      <td>1.0</td>\n",
       "      <td>-1.0</td>\n",
       "      <td>100.0</td>\n",
       "      <td>85.0</td>\n",
       "      <td>70.0</td>\n",
       "      <td>...</td>\n",
       "      <td>10.0</td>\n",
       "      <td>10.0</td>\n",
       "      <td>7.0</td>\n",
       "      <td>27</td>\n",
       "      <td>19</td>\n",
       "      <td>NaN</td>\n",
       "      <td>0.00</td>\n",
       "      <td>6.0</td>\n",
       "      <td>Rain-Snow</td>\n",
       "      <td>256</td>\n",
       "    </tr>\n",
       "    <tr>\n",
       "      <th>3</th>\n",
       "      <td>1997-01-04</td>\n",
       "      <td>7.0</td>\n",
       "      <td>3.0</td>\n",
       "      <td>-1.0</td>\n",
       "      <td>-2.0</td>\n",
       "      <td>-3.0</td>\n",
       "      <td>-4.0</td>\n",
       "      <td>86.0</td>\n",
       "      <td>63.0</td>\n",
       "      <td>49.0</td>\n",
       "      <td>...</td>\n",
       "      <td>10.0</td>\n",
       "      <td>10.0</td>\n",
       "      <td>10.0</td>\n",
       "      <td>27</td>\n",
       "      <td>19</td>\n",
       "      <td>40.0</td>\n",
       "      <td>0.00</td>\n",
       "      <td>2.0</td>\n",
       "      <td>NaN</td>\n",
       "      <td>284</td>\n",
       "    </tr>\n",
       "    <tr>\n",
       "      <th>4</th>\n",
       "      <td>1997-01-05</td>\n",
       "      <td>2.0</td>\n",
       "      <td>0.0</td>\n",
       "      <td>-1.0</td>\n",
       "      <td>2.0</td>\n",
       "      <td>0.0</td>\n",
       "      <td>-3.0</td>\n",
       "      <td>100.0</td>\n",
       "      <td>95.0</td>\n",
       "      <td>86.0</td>\n",
       "      <td>...</td>\n",
       "      <td>10.0</td>\n",
       "      <td>5.0</td>\n",
       "      <td>1.0</td>\n",
       "      <td>14</td>\n",
       "      <td>6</td>\n",
       "      <td>NaN</td>\n",
       "      <td>0.00</td>\n",
       "      <td>7.0</td>\n",
       "      <td>Snow</td>\n",
       "      <td>2</td>\n",
       "    </tr>\n",
       "    <tr>\n",
       "      <th>...</th>\n",
       "      <td>...</td>\n",
       "      <td>...</td>\n",
       "      <td>...</td>\n",
       "      <td>...</td>\n",
       "      <td>...</td>\n",
       "      <td>...</td>\n",
       "      <td>...</td>\n",
       "      <td>...</td>\n",
       "      <td>...</td>\n",
       "      <td>...</td>\n",
       "      <td>...</td>\n",
       "      <td>...</td>\n",
       "      <td>...</td>\n",
       "      <td>...</td>\n",
       "      <td>...</td>\n",
       "      <td>...</td>\n",
       "      <td>...</td>\n",
       "      <td>...</td>\n",
       "      <td>...</td>\n",
       "      <td>...</td>\n",
       "      <td>...</td>\n",
       "    </tr>\n",
       "    <tr>\n",
       "      <th>6807</th>\n",
       "      <td>2015-12-27</td>\n",
       "      <td>14.0</td>\n",
       "      <td>7.0</td>\n",
       "      <td>-1.0</td>\n",
       "      <td>6.0</td>\n",
       "      <td>2.0</td>\n",
       "      <td>-2.0</td>\n",
       "      <td>100.0</td>\n",
       "      <td>77.0</td>\n",
       "      <td>30.0</td>\n",
       "      <td>...</td>\n",
       "      <td>31.0</td>\n",
       "      <td>14.0</td>\n",
       "      <td>5.0</td>\n",
       "      <td>14</td>\n",
       "      <td>6</td>\n",
       "      <td>NaN</td>\n",
       "      <td>0.00</td>\n",
       "      <td>8.0</td>\n",
       "      <td>Fog</td>\n",
       "      <td>38</td>\n",
       "    </tr>\n",
       "    <tr>\n",
       "      <th>6808</th>\n",
       "      <td>2015-12-28</td>\n",
       "      <td>15.0</td>\n",
       "      <td>8.0</td>\n",
       "      <td>2.0</td>\n",
       "      <td>8.0</td>\n",
       "      <td>4.0</td>\n",
       "      <td>1.0</td>\n",
       "      <td>100.0</td>\n",
       "      <td>78.0</td>\n",
       "      <td>34.0</td>\n",
       "      <td>...</td>\n",
       "      <td>31.0</td>\n",
       "      <td>14.0</td>\n",
       "      <td>8.0</td>\n",
       "      <td>27</td>\n",
       "      <td>8</td>\n",
       "      <td>45.0</td>\n",
       "      <td>0.51</td>\n",
       "      <td>7.0</td>\n",
       "      <td>Rain</td>\n",
       "      <td>243</td>\n",
       "    </tr>\n",
       "    <tr>\n",
       "      <th>6809</th>\n",
       "      <td>2015-12-29</td>\n",
       "      <td>11.0</td>\n",
       "      <td>8.0</td>\n",
       "      <td>5.0</td>\n",
       "      <td>9.0</td>\n",
       "      <td>7.0</td>\n",
       "      <td>5.0</td>\n",
       "      <td>100.0</td>\n",
       "      <td>89.0</td>\n",
       "      <td>66.0</td>\n",
       "      <td>...</td>\n",
       "      <td>31.0</td>\n",
       "      <td>9.0</td>\n",
       "      <td>0.0</td>\n",
       "      <td>14</td>\n",
       "      <td>8</td>\n",
       "      <td>32.0</td>\n",
       "      <td>2.03</td>\n",
       "      <td>5.0</td>\n",
       "      <td>Fog-Rain</td>\n",
       "      <td>190</td>\n",
       "    </tr>\n",
       "    <tr>\n",
       "      <th>6810</th>\n",
       "      <td>2015-12-30</td>\n",
       "      <td>9.0</td>\n",
       "      <td>8.0</td>\n",
       "      <td>6.0</td>\n",
       "      <td>7.0</td>\n",
       "      <td>6.0</td>\n",
       "      <td>5.0</td>\n",
       "      <td>93.0</td>\n",
       "      <td>87.0</td>\n",
       "      <td>70.0</td>\n",
       "      <td>...</td>\n",
       "      <td>19.0</td>\n",
       "      <td>10.0</td>\n",
       "      <td>6.0</td>\n",
       "      <td>14</td>\n",
       "      <td>5</td>\n",
       "      <td>34.0</td>\n",
       "      <td>0.00</td>\n",
       "      <td>6.0</td>\n",
       "      <td>NaN</td>\n",
       "      <td>256</td>\n",
       "    </tr>\n",
       "    <tr>\n",
       "      <th>6811</th>\n",
       "      <td>2015-12-31</td>\n",
       "      <td>12.0</td>\n",
       "      <td>10.0</td>\n",
       "      <td>7.0</td>\n",
       "      <td>10.0</td>\n",
       "      <td>8.0</td>\n",
       "      <td>7.0</td>\n",
       "      <td>100.0</td>\n",
       "      <td>90.0</td>\n",
       "      <td>70.0</td>\n",
       "      <td>...</td>\n",
       "      <td>31.0</td>\n",
       "      <td>8.0</td>\n",
       "      <td>2.0</td>\n",
       "      <td>14</td>\n",
       "      <td>6</td>\n",
       "      <td>NaN</td>\n",
       "      <td>0.25</td>\n",
       "      <td>6.0</td>\n",
       "      <td>Rain</td>\n",
       "      <td>313</td>\n",
       "    </tr>\n",
       "  </tbody>\n",
       "</table>\n",
       "<p>6812 rows × 23 columns</p>\n",
       "</div>"
      ],
      "text/plain": [
       "             CET  Max TemperatureC  Mean TemperatureC  Min TemperatureC  \\\n",
       "0     1997-01-01               7.0                4.0               2.0   \n",
       "1     1997-01-02               7.0                3.0               0.0   \n",
       "2     1997-01-03               5.0                3.0               2.0   \n",
       "3     1997-01-04               7.0                3.0              -1.0   \n",
       "4     1997-01-05               2.0                0.0              -1.0   \n",
       "...          ...               ...                ...               ...   \n",
       "6807  2015-12-27              14.0                7.0              -1.0   \n",
       "6808  2015-12-28              15.0                8.0               2.0   \n",
       "6809  2015-12-29              11.0                8.0               5.0   \n",
       "6810  2015-12-30               9.0                8.0               6.0   \n",
       "6811  2015-12-31              12.0               10.0               7.0   \n",
       "\n",
       "      Dew PointC  MeanDew PointC  Min DewpointC  Max Humidity   Mean Humidity  \\\n",
       "0            5.0             3.0            2.0         100.0            95.0   \n",
       "1            6.0             3.0            0.0         100.0            92.0   \n",
       "2            5.0             1.0           -1.0         100.0            85.0   \n",
       "3           -2.0            -3.0           -4.0          86.0            63.0   \n",
       "4            2.0             0.0           -3.0         100.0            95.0   \n",
       "...          ...             ...            ...           ...             ...   \n",
       "6807         6.0             2.0           -2.0         100.0            77.0   \n",
       "6808         8.0             4.0            1.0         100.0            78.0   \n",
       "6809         9.0             7.0            5.0         100.0            89.0   \n",
       "6810         7.0             6.0            5.0          93.0            87.0   \n",
       "6811        10.0             8.0            7.0         100.0            90.0   \n",
       "\n",
       "       Min Humidity  ...   Max VisibilityKm   Mean VisibilityKm  \\\n",
       "0              76.0  ...               10.0                 9.0   \n",
       "1              71.0  ...               10.0                 9.0   \n",
       "2              70.0  ...               10.0                10.0   \n",
       "3              49.0  ...               10.0                10.0   \n",
       "4              86.0  ...               10.0                 5.0   \n",
       "...             ...  ...                ...                 ...   \n",
       "6807           30.0  ...               31.0                14.0   \n",
       "6808           34.0  ...               31.0                14.0   \n",
       "6809           66.0  ...               31.0                 9.0   \n",
       "6810           70.0  ...               19.0                10.0   \n",
       "6811           70.0  ...               31.0                 8.0   \n",
       "\n",
       "       Min VisibilitykM   Max Wind SpeedKm/h   Mean Wind SpeedKm/h  \\\n",
       "0                   4.0                   13                     6   \n",
       "1                   4.0                   26                     8   \n",
       "2                   7.0                   27                    19   \n",
       "3                  10.0                   27                    19   \n",
       "4                   1.0                   14                     6   \n",
       "...                 ...                  ...                   ...   \n",
       "6807                5.0                   14                     6   \n",
       "6808                8.0                   27                     8   \n",
       "6809                0.0                   14                     8   \n",
       "6810                6.0                   14                     5   \n",
       "6811                2.0                   14                     6   \n",
       "\n",
       "       Max Gust SpeedKm/h  Precipitationmm   CloudCover     Events  \\\n",
       "0                     NaN             0.00          6.0        NaN   \n",
       "1                    47.0             0.00          5.0       Rain   \n",
       "2                     NaN             0.00          6.0  Rain-Snow   \n",
       "3                    40.0             0.00          2.0        NaN   \n",
       "4                     NaN             0.00          7.0       Snow   \n",
       "...                   ...              ...          ...        ...   \n",
       "6807                  NaN             0.00          8.0        Fog   \n",
       "6808                 45.0             0.51          7.0       Rain   \n",
       "6809                 32.0             2.03          5.0   Fog-Rain   \n",
       "6810                 34.0             0.00          6.0        NaN   \n",
       "6811                  NaN             0.25          6.0       Rain   \n",
       "\n",
       "      WindDirDegrees  \n",
       "0                229  \n",
       "1                143  \n",
       "2                256  \n",
       "3                284  \n",
       "4                  2  \n",
       "...              ...  \n",
       "6807              38  \n",
       "6808             243  \n",
       "6809             190  \n",
       "6810             256  \n",
       "6811             313  \n",
       "\n",
       "[6812 rows x 23 columns]"
      ]
     },
     "execution_count": 2,
     "metadata": {},
     "output_type": "execute_result"
    }
   ],
   "source": [
    "#Reading dataset\n",
    "df = pd.read_csv('/kaggle/input/madrid-daily-weather/Madrid Daily Weather 1997-2015.csv')\n",
    "df"
   ]
  },
  {
   "cell_type": "code",
   "execution_count": 3,
   "id": "9f7d947d",
   "metadata": {
    "execution": {
     "iopub.execute_input": "2024-03-02T07:07:07.101937Z",
     "iopub.status.busy": "2024-03-02T07:07:07.101224Z",
     "iopub.status.idle": "2024-03-02T07:07:07.130494Z",
     "shell.execute_reply": "2024-03-02T07:07:07.129411Z"
    },
    "papermill": {
     "duration": 0.041765,
     "end_time": "2024-03-02T07:07:07.132478",
     "exception": false,
     "start_time": "2024-03-02T07:07:07.090713",
     "status": "completed"
    },
    "tags": []
   },
   "outputs": [
    {
     "name": "stdout",
     "output_type": "stream",
     "text": [
      "<class 'pandas.core.frame.DataFrame'>\n",
      "RangeIndex: 6812 entries, 0 to 6811\n",
      "Data columns (total 23 columns):\n",
      " #   Column                       Non-Null Count  Dtype  \n",
      "---  ------                       --------------  -----  \n",
      " 0   CET                          6812 non-null   object \n",
      " 1   Max TemperatureC             6810 non-null   float64\n",
      " 2   Mean TemperatureC            6809 non-null   float64\n",
      " 3   Min TemperatureC             6810 non-null   float64\n",
      " 4   Dew PointC                   6810 non-null   float64\n",
      " 5   MeanDew PointC               6810 non-null   float64\n",
      " 6   Min DewpointC                6810 non-null   float64\n",
      " 7   Max Humidity                 6810 non-null   float64\n",
      " 8    Mean Humidity               6810 non-null   float64\n",
      " 9    Min Humidity                6810 non-null   float64\n",
      " 10   Max Sea Level PressurehPa   6812 non-null   int64  \n",
      " 11   Mean Sea Level PressurehPa  6812 non-null   int64  \n",
      " 12   Min Sea Level PressurehPa   6812 non-null   int64  \n",
      " 13   Max VisibilityKm            5872 non-null   float64\n",
      " 14   Mean VisibilityKm           5872 non-null   float64\n",
      " 15   Min VisibilitykM            5872 non-null   float64\n",
      " 16   Max Wind SpeedKm/h          6812 non-null   int64  \n",
      " 17   Mean Wind SpeedKm/h         6812 non-null   int64  \n",
      " 18   Max Gust SpeedKm/h          3506 non-null   float64\n",
      " 19  Precipitationmm              6812 non-null   float64\n",
      " 20   CloudCover                  5440 non-null   float64\n",
      " 21   Events                      1798 non-null   object \n",
      " 22  WindDirDegrees               6812 non-null   int64  \n",
      "dtypes: float64(15), int64(6), object(2)\n",
      "memory usage: 1.2+ MB\n"
     ]
    }
   ],
   "source": [
    "df.info()"
   ]
  },
  {
   "cell_type": "code",
   "execution_count": 4,
   "id": "e3657356",
   "metadata": {
    "execution": {
     "iopub.execute_input": "2024-03-02T07:07:07.151061Z",
     "iopub.status.busy": "2024-03-02T07:07:07.150330Z",
     "iopub.status.idle": "2024-03-02T07:07:07.156472Z",
     "shell.execute_reply": "2024-03-02T07:07:07.155020Z"
    },
    "papermill": {
     "duration": 0.018147,
     "end_time": "2024-03-02T07:07:07.159023",
     "exception": false,
     "start_time": "2024-03-02T07:07:07.140876",
     "status": "completed"
    },
    "tags": []
   },
   "outputs": [],
   "source": [
    "#remove prefix spaces from the column names \n",
    "df.rename(columns=lambda x: x.strip(), inplace=True)"
   ]
  },
  {
   "cell_type": "code",
   "execution_count": 5,
   "id": "0d1060dc",
   "metadata": {
    "execution": {
     "iopub.execute_input": "2024-03-02T07:07:07.176948Z",
     "iopub.status.busy": "2024-03-02T07:07:07.176579Z",
     "iopub.status.idle": "2024-03-02T07:07:07.184681Z",
     "shell.execute_reply": "2024-03-02T07:07:07.183314Z"
    },
    "papermill": {
     "duration": 0.020315,
     "end_time": "2024-03-02T07:07:07.187317",
     "exception": false,
     "start_time": "2024-03-02T07:07:07.167002",
     "status": "completed"
    },
    "tags": []
   },
   "outputs": [
    {
     "data": {
      "text/plain": [
       "Index(['CET', 'Max TemperatureC', 'Mean TemperatureC', 'Min TemperatureC',\n",
       "       'Dew PointC', 'MeanDew PointC', 'Min DewpointC', 'Max Humidity',\n",
       "       'Mean Humidity', 'Min Humidity', 'Max Sea Level PressurehPa',\n",
       "       'Mean Sea Level PressurehPa', 'Min Sea Level PressurehPa',\n",
       "       'Max VisibilityKm', 'Mean VisibilityKm', 'Min VisibilitykM',\n",
       "       'Max Wind SpeedKm/h', 'Mean Wind SpeedKm/h', 'Max Gust SpeedKm/h',\n",
       "       'Precipitationmm', 'CloudCover', 'Events', 'WindDirDegrees'],\n",
       "      dtype='object')"
      ]
     },
     "execution_count": 5,
     "metadata": {},
     "output_type": "execute_result"
    }
   ],
   "source": [
    "#To get the name of all columns\n",
    "df.columns"
   ]
  },
  {
   "cell_type": "code",
   "execution_count": 6,
   "id": "58f8bf80",
   "metadata": {
    "execution": {
     "iopub.execute_input": "2024-03-02T07:07:07.205836Z",
     "iopub.status.busy": "2024-03-02T07:07:07.205468Z",
     "iopub.status.idle": "2024-03-02T07:07:07.263752Z",
     "shell.execute_reply": "2024-03-02T07:07:07.262904Z"
    },
    "papermill": {
     "duration": 0.069176,
     "end_time": "2024-03-02T07:07:07.265587",
     "exception": false,
     "start_time": "2024-03-02T07:07:07.196411",
     "status": "completed"
    },
    "tags": []
   },
   "outputs": [
    {
     "data": {
      "text/html": [
       "<div>\n",
       "<style scoped>\n",
       "    .dataframe tbody tr th:only-of-type {\n",
       "        vertical-align: middle;\n",
       "    }\n",
       "\n",
       "    .dataframe tbody tr th {\n",
       "        vertical-align: top;\n",
       "    }\n",
       "\n",
       "    .dataframe thead th {\n",
       "        text-align: right;\n",
       "    }\n",
       "</style>\n",
       "<table border=\"1\" class=\"dataframe\">\n",
       "  <thead>\n",
       "    <tr style=\"text-align: right;\">\n",
       "      <th></th>\n",
       "      <th>Max TemperatureC</th>\n",
       "      <th>Mean TemperatureC</th>\n",
       "      <th>Min TemperatureC</th>\n",
       "      <th>Dew PointC</th>\n",
       "      <th>MeanDew PointC</th>\n",
       "      <th>Min DewpointC</th>\n",
       "      <th>Max Humidity</th>\n",
       "      <th>Mean Humidity</th>\n",
       "      <th>Min Humidity</th>\n",
       "      <th>Max Sea Level PressurehPa</th>\n",
       "      <th>...</th>\n",
       "      <th>Min Sea Level PressurehPa</th>\n",
       "      <th>Max VisibilityKm</th>\n",
       "      <th>Mean VisibilityKm</th>\n",
       "      <th>Min VisibilitykM</th>\n",
       "      <th>Max Wind SpeedKm/h</th>\n",
       "      <th>Mean Wind SpeedKm/h</th>\n",
       "      <th>Max Gust SpeedKm/h</th>\n",
       "      <th>Precipitationmm</th>\n",
       "      <th>CloudCover</th>\n",
       "      <th>WindDirDegrees</th>\n",
       "    </tr>\n",
       "  </thead>\n",
       "  <tbody>\n",
       "    <tr>\n",
       "      <th>count</th>\n",
       "      <td>6810.000000</td>\n",
       "      <td>6809.000000</td>\n",
       "      <td>6810.000000</td>\n",
       "      <td>6810.000000</td>\n",
       "      <td>6810.000000</td>\n",
       "      <td>6810.000000</td>\n",
       "      <td>6810.000000</td>\n",
       "      <td>6810.000000</td>\n",
       "      <td>6810.000000</td>\n",
       "      <td>6812.000000</td>\n",
       "      <td>...</td>\n",
       "      <td>6812.000000</td>\n",
       "      <td>5872.000000</td>\n",
       "      <td>5872.000000</td>\n",
       "      <td>5872.000000</td>\n",
       "      <td>6812.000000</td>\n",
       "      <td>6812.000000</td>\n",
       "      <td>3506.000000</td>\n",
       "      <td>6812.000000</td>\n",
       "      <td>5440.000000</td>\n",
       "      <td>6812.000000</td>\n",
       "    </tr>\n",
       "    <tr>\n",
       "      <th>mean</th>\n",
       "      <td>21.039648</td>\n",
       "      <td>14.658687</td>\n",
       "      <td>8.640529</td>\n",
       "      <td>8.120705</td>\n",
       "      <td>4.976211</td>\n",
       "      <td>1.451248</td>\n",
       "      <td>81.139354</td>\n",
       "      <td>57.971366</td>\n",
       "      <td>34.729369</td>\n",
       "      <td>1020.529360</td>\n",
       "      <td>...</td>\n",
       "      <td>1015.217410</td>\n",
       "      <td>14.644074</td>\n",
       "      <td>11.719857</td>\n",
       "      <td>9.134877</td>\n",
       "      <td>21.953171</td>\n",
       "      <td>9.170728</td>\n",
       "      <td>43.988306</td>\n",
       "      <td>0.111182</td>\n",
       "      <td>3.206066</td>\n",
       "      <td>197.234586</td>\n",
       "    </tr>\n",
       "    <tr>\n",
       "      <th>std</th>\n",
       "      <td>8.867187</td>\n",
       "      <td>7.580461</td>\n",
       "      <td>6.837626</td>\n",
       "      <td>4.741067</td>\n",
       "      <td>4.654270</td>\n",
       "      <td>4.909705</td>\n",
       "      <td>17.531839</td>\n",
       "      <td>19.675744</td>\n",
       "      <td>19.320359</td>\n",
       "      <td>6.235941</td>\n",
       "      <td>...</td>\n",
       "      <td>6.944745</td>\n",
       "      <td>8.770024</td>\n",
       "      <td>5.592324</td>\n",
       "      <td>5.075065</td>\n",
       "      <td>9.903914</td>\n",
       "      <td>5.110013</td>\n",
       "      <td>12.252462</td>\n",
       "      <td>0.967174</td>\n",
       "      <td>1.808948</td>\n",
       "      <td>119.872777</td>\n",
       "    </tr>\n",
       "    <tr>\n",
       "      <th>min</th>\n",
       "      <td>0.000000</td>\n",
       "      <td>-3.000000</td>\n",
       "      <td>-10.000000</td>\n",
       "      <td>-12.000000</td>\n",
       "      <td>-15.000000</td>\n",
       "      <td>-22.000000</td>\n",
       "      <td>16.000000</td>\n",
       "      <td>15.000000</td>\n",
       "      <td>4.000000</td>\n",
       "      <td>994.000000</td>\n",
       "      <td>...</td>\n",
       "      <td>965.000000</td>\n",
       "      <td>1.000000</td>\n",
       "      <td>0.000000</td>\n",
       "      <td>0.000000</td>\n",
       "      <td>0.000000</td>\n",
       "      <td>0.000000</td>\n",
       "      <td>19.000000</td>\n",
       "      <td>0.000000</td>\n",
       "      <td>0.000000</td>\n",
       "      <td>-1.000000</td>\n",
       "    </tr>\n",
       "    <tr>\n",
       "      <th>25%</th>\n",
       "      <td>13.000000</td>\n",
       "      <td>8.000000</td>\n",
       "      <td>3.000000</td>\n",
       "      <td>5.000000</td>\n",
       "      <td>2.000000</td>\n",
       "      <td>-2.000000</td>\n",
       "      <td>68.000000</td>\n",
       "      <td>41.000000</td>\n",
       "      <td>19.000000</td>\n",
       "      <td>1017.000000</td>\n",
       "      <td>...</td>\n",
       "      <td>1011.000000</td>\n",
       "      <td>10.000000</td>\n",
       "      <td>10.000000</td>\n",
       "      <td>7.000000</td>\n",
       "      <td>14.000000</td>\n",
       "      <td>6.000000</td>\n",
       "      <td>35.000000</td>\n",
       "      <td>0.000000</td>\n",
       "      <td>2.000000</td>\n",
       "      <td>66.000000</td>\n",
       "    </tr>\n",
       "    <tr>\n",
       "      <th>50%</th>\n",
       "      <td>20.000000</td>\n",
       "      <td>14.000000</td>\n",
       "      <td>9.000000</td>\n",
       "      <td>8.000000</td>\n",
       "      <td>6.000000</td>\n",
       "      <td>2.000000</td>\n",
       "      <td>87.000000</td>\n",
       "      <td>59.000000</td>\n",
       "      <td>32.000000</td>\n",
       "      <td>1020.000000</td>\n",
       "      <td>...</td>\n",
       "      <td>1015.000000</td>\n",
       "      <td>10.000000</td>\n",
       "      <td>10.000000</td>\n",
       "      <td>10.000000</td>\n",
       "      <td>21.000000</td>\n",
       "      <td>8.000000</td>\n",
       "      <td>42.000000</td>\n",
       "      <td>0.000000</td>\n",
       "      <td>3.000000</td>\n",
       "      <td>223.000000</td>\n",
       "    </tr>\n",
       "    <tr>\n",
       "      <th>75%</th>\n",
       "      <td>29.000000</td>\n",
       "      <td>21.000000</td>\n",
       "      <td>14.000000</td>\n",
       "      <td>12.000000</td>\n",
       "      <td>8.000000</td>\n",
       "      <td>5.000000</td>\n",
       "      <td>94.000000</td>\n",
       "      <td>74.000000</td>\n",
       "      <td>47.750000</td>\n",
       "      <td>1024.000000</td>\n",
       "      <td>...</td>\n",
       "      <td>1019.000000</td>\n",
       "      <td>10.000000</td>\n",
       "      <td>10.000000</td>\n",
       "      <td>10.000000</td>\n",
       "      <td>27.000000</td>\n",
       "      <td>11.000000</td>\n",
       "      <td>52.000000</td>\n",
       "      <td>0.000000</td>\n",
       "      <td>5.000000</td>\n",
       "      <td>299.000000</td>\n",
       "    </tr>\n",
       "    <tr>\n",
       "      <th>max</th>\n",
       "      <td>41.000000</td>\n",
       "      <td>32.000000</td>\n",
       "      <td>28.000000</td>\n",
       "      <td>20.000000</td>\n",
       "      <td>16.000000</td>\n",
       "      <td>14.000000</td>\n",
       "      <td>100.000000</td>\n",
       "      <td>100.000000</td>\n",
       "      <td>100.000000</td>\n",
       "      <td>1047.000000</td>\n",
       "      <td>...</td>\n",
       "      <td>1041.000000</td>\n",
       "      <td>31.000000</td>\n",
       "      <td>31.000000</td>\n",
       "      <td>31.000000</td>\n",
       "      <td>182.000000</td>\n",
       "      <td>39.000000</td>\n",
       "      <td>103.000000</td>\n",
       "      <td>32.000000</td>\n",
       "      <td>8.000000</td>\n",
       "      <td>360.000000</td>\n",
       "    </tr>\n",
       "  </tbody>\n",
       "</table>\n",
       "<p>8 rows × 21 columns</p>\n",
       "</div>"
      ],
      "text/plain": [
       "       Max TemperatureC  Mean TemperatureC  Min TemperatureC   Dew PointC  \\\n",
       "count       6810.000000        6809.000000       6810.000000  6810.000000   \n",
       "mean          21.039648          14.658687          8.640529     8.120705   \n",
       "std            8.867187           7.580461          6.837626     4.741067   \n",
       "min            0.000000          -3.000000        -10.000000   -12.000000   \n",
       "25%           13.000000           8.000000          3.000000     5.000000   \n",
       "50%           20.000000          14.000000          9.000000     8.000000   \n",
       "75%           29.000000          21.000000         14.000000    12.000000   \n",
       "max           41.000000          32.000000         28.000000    20.000000   \n",
       "\n",
       "       MeanDew PointC  Min DewpointC  Max Humidity  Mean Humidity  \\\n",
       "count     6810.000000    6810.000000   6810.000000    6810.000000   \n",
       "mean         4.976211       1.451248     81.139354      57.971366   \n",
       "std          4.654270       4.909705     17.531839      19.675744   \n",
       "min        -15.000000     -22.000000     16.000000      15.000000   \n",
       "25%          2.000000      -2.000000     68.000000      41.000000   \n",
       "50%          6.000000       2.000000     87.000000      59.000000   \n",
       "75%          8.000000       5.000000     94.000000      74.000000   \n",
       "max         16.000000      14.000000    100.000000     100.000000   \n",
       "\n",
       "       Min Humidity  Max Sea Level PressurehPa  ...  \\\n",
       "count   6810.000000                6812.000000  ...   \n",
       "mean      34.729369                1020.529360  ...   \n",
       "std       19.320359                   6.235941  ...   \n",
       "min        4.000000                 994.000000  ...   \n",
       "25%       19.000000                1017.000000  ...   \n",
       "50%       32.000000                1020.000000  ...   \n",
       "75%       47.750000                1024.000000  ...   \n",
       "max      100.000000                1047.000000  ...   \n",
       "\n",
       "       Min Sea Level PressurehPa  Max VisibilityKm  Mean VisibilityKm  \\\n",
       "count                6812.000000       5872.000000        5872.000000   \n",
       "mean                 1015.217410         14.644074          11.719857   \n",
       "std                     6.944745          8.770024           5.592324   \n",
       "min                   965.000000          1.000000           0.000000   \n",
       "25%                  1011.000000         10.000000          10.000000   \n",
       "50%                  1015.000000         10.000000          10.000000   \n",
       "75%                  1019.000000         10.000000          10.000000   \n",
       "max                  1041.000000         31.000000          31.000000   \n",
       "\n",
       "       Min VisibilitykM  Max Wind SpeedKm/h  Mean Wind SpeedKm/h  \\\n",
       "count       5872.000000         6812.000000          6812.000000   \n",
       "mean           9.134877           21.953171             9.170728   \n",
       "std            5.075065            9.903914             5.110013   \n",
       "min            0.000000            0.000000             0.000000   \n",
       "25%            7.000000           14.000000             6.000000   \n",
       "50%           10.000000           21.000000             8.000000   \n",
       "75%           10.000000           27.000000            11.000000   \n",
       "max           31.000000          182.000000            39.000000   \n",
       "\n",
       "       Max Gust SpeedKm/h  Precipitationmm   CloudCover  WindDirDegrees  \n",
       "count         3506.000000      6812.000000  5440.000000     6812.000000  \n",
       "mean            43.988306         0.111182     3.206066      197.234586  \n",
       "std             12.252462         0.967174     1.808948      119.872777  \n",
       "min             19.000000         0.000000     0.000000       -1.000000  \n",
       "25%             35.000000         0.000000     2.000000       66.000000  \n",
       "50%             42.000000         0.000000     3.000000      223.000000  \n",
       "75%             52.000000         0.000000     5.000000      299.000000  \n",
       "max            103.000000        32.000000     8.000000      360.000000  \n",
       "\n",
       "[8 rows x 21 columns]"
      ]
     },
     "execution_count": 6,
     "metadata": {},
     "output_type": "execute_result"
    }
   ],
   "source": [
    "df.describe()"
   ]
  },
  {
   "cell_type": "code",
   "execution_count": 7,
   "id": "f3fee8ab",
   "metadata": {
    "execution": {
     "iopub.execute_input": "2024-03-02T07:07:07.284636Z",
     "iopub.status.busy": "2024-03-02T07:07:07.284264Z",
     "iopub.status.idle": "2024-03-02T07:07:07.288881Z",
     "shell.execute_reply": "2024-03-02T07:07:07.288026Z"
    },
    "papermill": {
     "duration": 0.016165,
     "end_time": "2024-03-02T07:07:07.290811",
     "exception": false,
     "start_time": "2024-03-02T07:07:07.274646",
     "status": "completed"
    },
    "tags": []
   },
   "outputs": [],
   "source": [
    "# Now the 'Dew PointC' column is renamed to 'Max Dew PointC'\n",
    "df.rename(columns={'Dew PointC': 'Max Dew PointC'}, inplace=True)"
   ]
  },
  {
   "cell_type": "code",
   "execution_count": 8,
   "id": "1e3f432c",
   "metadata": {
    "execution": {
     "iopub.execute_input": "2024-03-02T07:07:07.309062Z",
     "iopub.status.busy": "2024-03-02T07:07:07.308702Z",
     "iopub.status.idle": "2024-03-02T07:07:07.328910Z",
     "shell.execute_reply": "2024-03-02T07:07:07.327986Z"
    },
    "papermill": {
     "duration": 0.03196,
     "end_time": "2024-03-02T07:07:07.331249",
     "exception": false,
     "start_time": "2024-03-02T07:07:07.299289",
     "status": "completed"
    },
    "tags": []
   },
   "outputs": [
    {
     "name": "stdout",
     "output_type": "stream",
     "text": [
      "<class 'pandas.core.frame.DataFrame'>\n",
      "RangeIndex: 6812 entries, 0 to 6811\n",
      "Data columns (total 23 columns):\n",
      " #   Column                      Non-Null Count  Dtype         \n",
      "---  ------                      --------------  -----         \n",
      " 0   CET                         6812 non-null   datetime64[ns]\n",
      " 1   Max TemperatureC            6810 non-null   float64       \n",
      " 2   Mean TemperatureC           6809 non-null   float64       \n",
      " 3   Min TemperatureC            6810 non-null   float64       \n",
      " 4   Max Dew PointC              6810 non-null   float64       \n",
      " 5   MeanDew PointC              6810 non-null   float64       \n",
      " 6   Min DewpointC               6810 non-null   float64       \n",
      " 7   Max Humidity                6810 non-null   float64       \n",
      " 8   Mean Humidity               6810 non-null   float64       \n",
      " 9   Min Humidity                6810 non-null   float64       \n",
      " 10  Max Sea Level PressurehPa   6812 non-null   int64         \n",
      " 11  Mean Sea Level PressurehPa  6812 non-null   int64         \n",
      " 12  Min Sea Level PressurehPa   6812 non-null   int64         \n",
      " 13  Max VisibilityKm            5872 non-null   float64       \n",
      " 14  Mean VisibilityKm           5872 non-null   float64       \n",
      " 15  Min VisibilitykM            5872 non-null   float64       \n",
      " 16  Max Wind SpeedKm/h          6812 non-null   int64         \n",
      " 17  Mean Wind SpeedKm/h         6812 non-null   int64         \n",
      " 18  Max Gust SpeedKm/h          3506 non-null   float64       \n",
      " 19  Precipitationmm             6812 non-null   float64       \n",
      " 20  CloudCover                  5440 non-null   float64       \n",
      " 21  Events                      1798 non-null   object        \n",
      " 22  WindDirDegrees              6812 non-null   int64         \n",
      "dtypes: datetime64[ns](1), float64(15), int64(6), object(1)\n",
      "memory usage: 1.2+ MB\n"
     ]
    }
   ],
   "source": [
    "#Converting datatype of \"CET\" column to datetime\n",
    "df['CET'] = pd.to_datetime(df[\"CET\"])\n",
    "df.info()"
   ]
  },
  {
   "cell_type": "code",
   "execution_count": 9,
   "id": "e357beb9",
   "metadata": {
    "execution": {
     "iopub.execute_input": "2024-03-02T07:07:07.352156Z",
     "iopub.status.busy": "2024-03-02T07:07:07.351150Z",
     "iopub.status.idle": "2024-03-02T07:07:07.362645Z",
     "shell.execute_reply": "2024-03-02T07:07:07.361129Z"
    },
    "papermill": {
     "duration": 0.025061,
     "end_time": "2024-03-02T07:07:07.365512",
     "exception": false,
     "start_time": "2024-03-02T07:07:07.340451",
     "status": "completed"
    },
    "tags": []
   },
   "outputs": [
    {
     "data": {
      "text/plain": [
       "CET                              0\n",
       "Max TemperatureC                 2\n",
       "Mean TemperatureC                3\n",
       "Min TemperatureC                 2\n",
       "Max Dew PointC                   2\n",
       "MeanDew PointC                   2\n",
       "Min DewpointC                    2\n",
       "Max Humidity                     2\n",
       "Mean Humidity                    2\n",
       "Min Humidity                     2\n",
       "Max Sea Level PressurehPa        0\n",
       "Mean Sea Level PressurehPa       0\n",
       "Min Sea Level PressurehPa        0\n",
       "Max VisibilityKm               940\n",
       "Mean VisibilityKm              940\n",
       "Min VisibilitykM               940\n",
       "Max Wind SpeedKm/h               0\n",
       "Mean Wind SpeedKm/h              0\n",
       "Max Gust SpeedKm/h            3306\n",
       "Precipitationmm                  0\n",
       "CloudCover                    1372\n",
       "Events                        5014\n",
       "WindDirDegrees                   0\n",
       "dtype: int64"
      ]
     },
     "execution_count": 9,
     "metadata": {},
     "output_type": "execute_result"
    }
   ],
   "source": [
    "#Checking the sum of all null values\n",
    "df.isna().sum()"
   ]
  },
  {
   "cell_type": "code",
   "execution_count": 10,
   "id": "014e8048",
   "metadata": {
    "execution": {
     "iopub.execute_input": "2024-03-02T07:07:07.384630Z",
     "iopub.status.busy": "2024-03-02T07:07:07.384246Z",
     "iopub.status.idle": "2024-03-02T07:07:07.391251Z",
     "shell.execute_reply": "2024-03-02T07:07:07.390336Z"
    },
    "papermill": {
     "duration": 0.018976,
     "end_time": "2024-03-02T07:07:07.393199",
     "exception": false,
     "start_time": "2024-03-02T07:07:07.374223",
     "status": "completed"
    },
    "tags": []
   },
   "outputs": [
    {
     "name": "stderr",
     "output_type": "stream",
     "text": [
      "/tmp/ipykernel_18/3576088584.py:2: FutureWarning: A value is trying to be set on a copy of a DataFrame or Series through chained assignment using an inplace method.\n",
      "The behavior will change in pandas 3.0. This inplace method will never work because the intermediate object on which we are setting values always behaves as a copy.\n",
      "\n",
      "For example, when doing 'df[col].method(value, inplace=True)', try using 'df.method({col: value}, inplace=True)' or df[col] = df[col].method(value) instead, to perform the operation inplace on the original object.\n",
      "\n",
      "\n",
      "  df['Events'].fillna('Clear days', inplace=True)\n"
     ]
    }
   ],
   "source": [
    "# using fillna function\n",
    "df['Events'].fillna('Clear days', inplace=True)"
   ]
  },
  {
   "cell_type": "code",
   "execution_count": 11,
   "id": "9a29de42",
   "metadata": {
    "execution": {
     "iopub.execute_input": "2024-03-02T07:07:07.412984Z",
     "iopub.status.busy": "2024-03-02T07:07:07.412627Z",
     "iopub.status.idle": "2024-03-02T07:07:07.419948Z",
     "shell.execute_reply": "2024-03-02T07:07:07.418597Z"
    },
    "papermill": {
     "duration": 0.020111,
     "end_time": "2024-03-02T07:07:07.422177",
     "exception": false,
     "start_time": "2024-03-02T07:07:07.402066",
     "status": "completed"
    },
    "tags": []
   },
   "outputs": [
    {
     "data": {
      "text/plain": [
       "0"
      ]
     },
     "execution_count": 11,
     "metadata": {},
     "output_type": "execute_result"
    }
   ],
   "source": [
    "#Checking the sum of all null values in Events columns\n",
    "df['Events'].isna().sum()"
   ]
  },
  {
   "cell_type": "code",
   "execution_count": 12,
   "id": "6dac31d7",
   "metadata": {
    "execution": {
     "iopub.execute_input": "2024-03-02T07:07:07.441566Z",
     "iopub.status.busy": "2024-03-02T07:07:07.441206Z",
     "iopub.status.idle": "2024-03-02T07:07:07.448084Z",
     "shell.execute_reply": "2024-03-02T07:07:07.447235Z"
    },
    "papermill": {
     "duration": 0.018802,
     "end_time": "2024-03-02T07:07:07.449985",
     "exception": false,
     "start_time": "2024-03-02T07:07:07.431183",
     "status": "completed"
    },
    "tags": []
   },
   "outputs": [
    {
     "data": {
      "text/plain": [
       "Events\n",
       "Clear days                5014\n",
       "Rain                      1140\n",
       "Rain-Thunderstorm          247\n",
       "Fog                        233\n",
       "Fog-Rain                    69\n",
       "Thunderstorm                45\n",
       "Rain-Snow                   33\n",
       "Snow                        14\n",
       "Rain-Hail-Thunderstorm       7\n",
       "Fog-Snow                     4\n",
       "Fog-Thunderstorm             1\n",
       "Tornado                      1\n",
       "Fog-Rain-Thunderstorm        1\n",
       "Fog-Rain-Snow                1\n",
       "Rain-Snow-Thunderstorm       1\n",
       "Rain-Hail                    1\n",
       "Name: count, dtype: int64"
      ]
     },
     "execution_count": 12,
     "metadata": {},
     "output_type": "execute_result"
    }
   ],
   "source": [
    "df['Events'].value_counts()"
   ]
  },
  {
   "cell_type": "markdown",
   "id": "9100d957",
   "metadata": {
    "papermill": {
     "duration": 0.008334,
     "end_time": "2024-03-02T07:07:07.467230",
     "exception": false,
     "start_time": "2024-03-02T07:07:07.458896",
     "status": "completed"
    },
    "tags": []
   },
   "source": [
    "## 1.During the period in this sample, what % of days had some sort of precipitation event? What % were clear?"
   ]
  },
  {
   "cell_type": "code",
   "execution_count": 13,
   "id": "0c7c53b6",
   "metadata": {
    "execution": {
     "iopub.execute_input": "2024-03-02T07:07:07.486954Z",
     "iopub.status.busy": "2024-03-02T07:07:07.486666Z",
     "iopub.status.idle": "2024-03-02T07:07:07.492017Z",
     "shell.execute_reply": "2024-03-02T07:07:07.490686Z"
    },
    "papermill": {
     "duration": 0.018574,
     "end_time": "2024-03-02T07:07:07.494612",
     "exception": false,
     "start_time": "2024-03-02T07:07:07.476038",
     "status": "completed"
    },
    "tags": []
   },
   "outputs": [
    {
     "name": "stdout",
     "output_type": "stream",
     "text": [
      "Percentage of days with precipitation: 3.60%\n"
     ]
    }
   ],
   "source": [
    "# Percentage of days with precipitation\n",
    "precipitation_percentage = (df['Precipitationmm'].gt(0).sum() / len(df)) * 100\n",
    "print(f\"Percentage of days with precipitation: {precipitation_percentage:.2f}%\")"
   ]
  },
  {
   "cell_type": "code",
   "execution_count": 14,
   "id": "70c867ac",
   "metadata": {
    "execution": {
     "iopub.execute_input": "2024-03-02T07:07:07.514691Z",
     "iopub.status.busy": "2024-03-02T07:07:07.514376Z",
     "iopub.status.idle": "2024-03-02T07:07:07.520512Z",
     "shell.execute_reply": "2024-03-02T07:07:07.519037Z"
    },
    "papermill": {
     "duration": 0.018827,
     "end_time": "2024-03-02T07:07:07.522617",
     "exception": false,
     "start_time": "2024-03-02T07:07:07.503790",
     "status": "completed"
    },
    "tags": []
   },
   "outputs": [
    {
     "name": "stdout",
     "output_type": "stream",
     "text": [
      "Percentage of clear days: 1.25%\n"
     ]
    }
   ],
   "source": [
    "# Percentage of clear days\n",
    "clear_days_percentage = (df['CloudCover'].eq(0).sum() / len(df)) * 100\n",
    "print(f\"Percentage of clear days: {clear_days_percentage:.2f}%\")"
   ]
  },
  {
   "cell_type": "code",
   "execution_count": 15,
   "id": "f5b3dc40",
   "metadata": {
    "execution": {
     "iopub.execute_input": "2024-03-02T07:07:07.544392Z",
     "iopub.status.busy": "2024-03-02T07:07:07.543579Z",
     "iopub.status.idle": "2024-03-02T07:07:07.788797Z",
     "shell.execute_reply": "2024-03-02T07:07:07.788068Z"
    },
    "papermill": {
     "duration": 0.258144,
     "end_time": "2024-03-02T07:07:07.790572",
     "exception": false,
     "start_time": "2024-03-02T07:07:07.532428",
     "status": "completed"
    },
    "tags": []
   },
   "outputs": [
    {
     "data": {
      "image/png": "[encoded data removed]",
      "text/plain": [
       "<Figure size 640x480 with 1 Axes>"
      ]
     },
     "metadata": {},
     "output_type": "display_data"
    }
   ],
   "source": [
    "# Create a pie chart to visualize the percentages\n",
    "labels = ['precipitation', 'clear_days']\n",
    "sizes = [precipitation_percentage, clear_days_percentage]\n",
    "colors = ['red', 'yellow']\n",
    "explode = (0.1, 0)  # explode the 1st slice (i.e., 'Precipitation')\n",
    "\n",
    "plt.pie(sizes, explode=explode, labels=labels, colors=colors, autopct='%1.1f%%', startangle=90)\n",
    "plt.title('Percentage of Days with Precipitation vs Clear Days')\n",
    "plt.axis('equal')  # Equal aspect ratio ensures that the pie chart is circular.\n",
    "plt.show()"
   ]
  },
  {
   "cell_type": "markdown",
   "id": "2bdc6c54",
   "metadata": {
    "papermill": {
     "duration": 0.008833,
     "end_time": "2024-03-02T07:07:07.808779",
     "exception": false,
     "start_time": "2024-03-02T07:07:07.799946",
     "status": "completed"
    },
    "tags": []
   },
   "source": [
    "**During the observed period, a certain percentage of days experienced precipitation events, while the remaining percentage had clear weather.**"
   ]
  },
  {
   "cell_type": "markdown",
   "id": "ce986298",
   "metadata": {
    "papermill": {
     "duration": 0.00904,
     "end_time": "2024-03-02T07:07:07.826995",
     "exception": false,
     "start_time": "2024-03-02T07:07:07.817955",
     "status": "completed"
    },
    "tags": []
   },
   "source": [
    "## 2.Suppose you're planning a vacation to Madrid and hoping for the warmest temperature. Which month might you plan to travel?"
   ]
  },
  {
   "cell_type": "code",
   "execution_count": 16,
   "id": "69784f10",
   "metadata": {
    "execution": {
     "iopub.execute_input": "2024-03-02T07:07:07.847895Z",
     "iopub.status.busy": "2024-03-02T07:07:07.846926Z",
     "iopub.status.idle": "2024-03-02T07:07:07.858808Z",
     "shell.execute_reply": "2024-03-02T07:07:07.857504Z"
    },
    "papermill": {
     "duration": 0.024953,
     "end_time": "2024-03-02T07:07:07.861420",
     "exception": false,
     "start_time": "2024-03-02T07:07:07.836467",
     "status": "completed"
    },
    "tags": []
   },
   "outputs": [],
   "source": [
    "# Extract month from the date\n",
    "df['month'] = pd.to_datetime(df['CET']).dt.month"
   ]
  },
  {
   "cell_type": "code",
   "execution_count": 17,
   "id": "21325519",
   "metadata": {
    "execution": {
     "iopub.execute_input": "2024-03-02T07:07:07.882949Z",
     "iopub.status.busy": "2024-03-02T07:07:07.882111Z",
     "iopub.status.idle": "2024-03-02T07:07:07.892857Z",
     "shell.execute_reply": "2024-03-02T07:07:07.891126Z"
    },
    "papermill": {
     "duration": 0.024666,
     "end_time": "2024-03-02T07:07:07.895627",
     "exception": false,
     "start_time": "2024-03-02T07:07:07.870961",
     "status": "completed"
    },
    "tags": []
   },
   "outputs": [
    {
     "name": "stdout",
     "output_type": "stream",
     "text": [
      "The warmest month for travel is: 7\n"
     ]
    }
   ],
   "source": [
    "# Find the month with the highest maximum temperature\n",
    "warmest_month = df.groupby('month')['Max TemperatureC'].mean().idxmax()\n",
    "print(f\"The warmest month for travel is: {warmest_month}\")"
   ]
  },
  {
   "cell_type": "code",
   "execution_count": 18,
   "id": "0d80ff9e",
   "metadata": {
    "execution": {
     "iopub.execute_input": "2024-03-02T07:07:07.921128Z",
     "iopub.status.busy": "2024-03-02T07:07:07.920374Z",
     "iopub.status.idle": "2024-03-02T07:07:07.927878Z",
     "shell.execute_reply": "2024-03-02T07:07:07.926820Z"
    },
    "papermill": {
     "duration": 0.024144,
     "end_time": "2024-03-02T07:07:07.930249",
     "exception": false,
     "start_time": "2024-03-02T07:07:07.906105",
     "status": "completed"
    },
    "tags": []
   },
   "outputs": [],
   "source": [
    "# Grouping by month and calculating the average maximum temperature\n",
    "average_max_temp = df.groupby('month')['Max TemperatureC'].mean()"
   ]
  },
  {
   "cell_type": "code",
   "execution_count": 19,
   "id": "1f0484f2",
   "metadata": {
    "execution": {
     "iopub.execute_input": "2024-03-02T07:07:07.956747Z",
     "iopub.status.busy": "2024-03-02T07:07:07.956383Z",
     "iopub.status.idle": "2024-03-02T07:07:08.208364Z",
     "shell.execute_reply": "2024-03-02T07:07:08.207430Z"
    },
    "papermill": {
     "duration": 0.268612,
     "end_time": "2024-03-02T07:07:08.211471",
     "exception": false,
     "start_time": "2024-03-02T07:07:07.942859",
     "status": "completed"
    },
    "tags": []
   },
   "outputs": [
    {
     "data": {
      "image/png": "[encoded data removed]",
      "text/plain": [
       "<Figure size 1000x600 with 1 Axes>"
      ]
     },
     "metadata": {},
     "output_type": "display_data"
    }
   ],
   "source": [
    "# Plotting the data\n",
    "plt.figure(figsize=(10, 6))\n",
    "plt.plot(average_max_temp, marker='o', linestyle='-', color='b')\n",
    "plt.title('Average Maximum Temperature in Madrid by Month')\n",
    "plt.xlabel('Month')\n",
    "plt.ylabel('Average Max Temperature (°C)')\n",
    "plt.xticks(range(1, 13), ['Jan', 'Feb', 'Mar', 'Apr', 'May', 'Jun', 'Jul', 'Aug', 'Sep', 'Oct', 'Nov', 'Dec'])\n",
    "plt.grid(True)\n",
    "plt.show()"
   ]
  },
  {
   "cell_type": "markdown",
   "id": "cd274962",
   "metadata": {
    "papermill": {
     "duration": 0.013375,
     "end_time": "2024-03-02T07:07:08.235247",
     "exception": false,
     "start_time": "2024-03-02T07:07:08.221872",
     "status": "completed"
    },
    "tags": []
   },
   "source": [
    "**To plan a vacation to Madrid with the warmest temperatures, the code identified the July month with the highest maximum temperature.**"
   ]
  },
  {
   "cell_type": "markdown",
   "id": "8e1c5e94",
   "metadata": {
    "papermill": {
     "duration": 0.010638,
     "end_time": "2024-03-02T07:07:08.258541",
     "exception": false,
     "start_time": "2024-03-02T07:07:08.247903",
     "status": "completed"
    },
    "tags": []
   },
   "source": [
    "## 3.On which date in the sample did Madrid see the fastest wind gust? What was the weather like on that day?"
   ]
  },
  {
   "cell_type": "code",
   "execution_count": 20,
   "id": "79664667",
   "metadata": {
    "execution": {
     "iopub.execute_input": "2024-03-02T07:07:08.281646Z",
     "iopub.status.busy": "2024-03-02T07:07:08.280581Z",
     "iopub.status.idle": "2024-03-02T07:07:08.286368Z",
     "shell.execute_reply": "2024-03-02T07:07:08.285576Z"
    },
    "papermill": {
     "duration": 0.019469,
     "end_time": "2024-03-02T07:07:08.288676",
     "exception": false,
     "start_time": "2024-03-02T07:07:08.269207",
     "status": "completed"
    },
    "tags": []
   },
   "outputs": [],
   "source": [
    "# Find the date with the fastest wind gust\n",
    "fastest_gust_date = df.loc[df['Max Gust SpeedKm/h'].idxmax()]['CET']"
   ]
  },
  {
   "cell_type": "code",
   "execution_count": 21,
   "id": "21155a1d",
   "metadata": {
    "execution": {
     "iopub.execute_input": "2024-03-02T07:07:08.311437Z",
     "iopub.status.busy": "2024-03-02T07:07:08.310230Z",
     "iopub.status.idle": "2024-03-02T07:07:08.318435Z",
     "shell.execute_reply": "2024-03-02T07:07:08.316904Z"
    },
    "papermill": {
     "duration": 0.021749,
     "end_time": "2024-03-02T07:07:08.320704",
     "exception": false,
     "start_time": "2024-03-02T07:07:08.298955",
     "status": "completed"
    },
    "tags": []
   },
   "outputs": [],
   "source": [
    "# Display the weather on that day\n",
    "fastest_gust_weather = df.loc[df['CET'] == fastest_gust_date]"
   ]
  },
  {
   "cell_type": "code",
   "execution_count": 22,
   "id": "7c2ca6d3",
   "metadata": {
    "execution": {
     "iopub.execute_input": "2024-03-02T07:07:08.342367Z",
     "iopub.status.busy": "2024-03-02T07:07:08.342011Z",
     "iopub.status.idle": "2024-03-02T07:07:08.347595Z",
     "shell.execute_reply": "2024-03-02T07:07:08.346193Z"
    },
    "papermill": {
     "duration": 0.019251,
     "end_time": "2024-03-02T07:07:08.350099",
     "exception": false,
     "start_time": "2024-03-02T07:07:08.330848",
     "status": "completed"
    },
    "tags": []
   },
   "outputs": [],
   "source": [
    "max_gust_speed = df['Max Gust SpeedKm/h'].max()"
   ]
  },
  {
   "cell_type": "code",
   "execution_count": 23,
   "id": "f5e5c601",
   "metadata": {
    "execution": {
     "iopub.execute_input": "2024-03-02T07:07:08.371749Z",
     "iopub.status.busy": "2024-03-02T07:07:08.371338Z",
     "iopub.status.idle": "2024-03-02T07:07:08.386324Z",
     "shell.execute_reply": "2024-03-02T07:07:08.384580Z"
    },
    "papermill": {
     "duration": 0.02812,
     "end_time": "2024-03-02T07:07:08.388317",
     "exception": false,
     "start_time": "2024-03-02T07:07:08.360197",
     "status": "completed"
    },
    "tags": []
   },
   "outputs": [
    {
     "name": "stdout",
     "output_type": "stream",
     "text": [
      "The date with the fastest wind gust is: 1997-11-06 00:00:00\n",
      "Weather on that day:\n",
      "           CET  Max TemperatureC  Mean TemperatureC  Min TemperatureC  \\\n",
      "309 1997-11-06              16.0               11.0               6.0   \n",
      "\n",
      "     Max Dew PointC  MeanDew PointC  Min DewpointC  Max Humidity  \\\n",
      "309            12.0             5.0            1.0          88.0   \n",
      "\n",
      "     Mean Humidity  Min Humidity  ...  Mean VisibilityKm  Min VisibilitykM  \\\n",
      "309           70.0          54.0  ...                9.0               5.0   \n",
      "\n",
      "     Max Wind SpeedKm/h  Mean Wind SpeedKm/h  Max Gust SpeedKm/h  \\\n",
      "309                  58                   27               103.0   \n",
      "\n",
      "     Precipitationmm  CloudCover  Events  WindDirDegrees  month  \n",
      "309              0.0         5.0    Rain             224     11  \n",
      "\n",
      "[1 rows x 24 columns]\n",
      "speed of the maximum wind gust is:103.0\n"
     ]
    }
   ],
   "source": [
    "print(f\"The date with the fastest wind gust is: {fastest_gust_date}\")\n",
    "print(\"Weather on that day:\")\n",
    "print(fastest_gust_weather)\n",
    "print(f'speed of the maximum wind gust is:{max_gust_speed}')"
   ]
  },
  {
   "cell_type": "code",
   "execution_count": 24,
   "id": "7a42b40d",
   "metadata": {
    "execution": {
     "iopub.execute_input": "2024-03-02T07:07:08.408990Z",
     "iopub.status.busy": "2024-03-02T07:07:08.408678Z",
     "iopub.status.idle": "2024-03-02T07:07:08.667423Z",
     "shell.execute_reply": "2024-03-02T07:07:08.665743Z"
    },
    "papermill": {
     "duration": 0.27206,
     "end_time": "2024-03-02T07:07:08.670068",
     "exception": false,
     "start_time": "2024-03-02T07:07:08.398008",
     "status": "completed"
    },
    "tags": []
   },
   "outputs": [
    {
     "data": {
      "image/png": "[encoded data removed]",
      "text/plain": [
       "<Figure size 640x480 with 1 Axes>"
      ]
     },
     "metadata": {},
     "output_type": "display_data"
    }
   ],
   "source": [
    "# Plotting the bar chart\n",
    "plt.bar(fastest_gust_date, max_gust_speed, color='grey')\n",
    "plt.xlabel('Date')\n",
    "plt.ylabel('Max Gust Speed (km/h)')\n",
    "plt.title('Fastest Wind Gust in Madrid')\n",
    "plt.xticks(rotation=45)\n",
    "plt.show()"
   ]
  },
  {
   "cell_type": "markdown",
   "id": "8016fbdf",
   "metadata": {
    "papermill": {
     "duration": 0.009975,
     "end_time": "2024-03-02T07:07:08.690500",
     "exception": false,
     "start_time": "2024-03-02T07:07:08.680525",
     "status": "completed"
    },
    "tags": []
   },
   "source": [
    "**The fastest wind gust in Madrid occurred on 1997-11-06 00:00:00 with a speed of 103.0 km/h.**"
   ]
  },
  {
   "cell_type": "markdown",
   "id": "7387d869",
   "metadata": {
    "papermill": {
     "duration": 0.01051,
     "end_time": "2024-03-02T07:07:08.711587",
     "exception": false,
     "start_time": "2024-03-02T07:07:08.701077",
     "status": "completed"
    },
    "tags": []
   },
   "source": [
    "## 4.How does the average visibility (Km) compare for clear days vs. foggy days?"
   ]
  },
  {
   "cell_type": "code",
   "execution_count": 25,
   "id": "cc64309d",
   "metadata": {
    "execution": {
     "iopub.execute_input": "2024-03-02T07:07:08.734722Z",
     "iopub.status.busy": "2024-03-02T07:07:08.734377Z",
     "iopub.status.idle": "2024-03-02T07:07:08.739713Z",
     "shell.execute_reply": "2024-03-02T07:07:08.738793Z"
    },
    "papermill": {
     "duration": 0.020109,
     "end_time": "2024-03-02T07:07:08.742126",
     "exception": false,
     "start_time": "2024-03-02T07:07:08.722017",
     "status": "completed"
    },
    "tags": []
   },
   "outputs": [],
   "source": [
    "# Average visibility for clear days\n",
    "clear_days_visibility = df.loc[df['CloudCover'] == 0, 'Mean VisibilityKm'].mean()"
   ]
  },
  {
   "cell_type": "code",
   "execution_count": 26,
   "id": "6b14f7a8",
   "metadata": {
    "execution": {
     "iopub.execute_input": "2024-03-02T07:07:08.765107Z",
     "iopub.status.busy": "2024-03-02T07:07:08.764468Z",
     "iopub.status.idle": "2024-03-02T07:07:08.772938Z",
     "shell.execute_reply": "2024-03-02T07:07:08.771657Z"
    },
    "papermill": {
     "duration": 0.022845,
     "end_time": "2024-03-02T07:07:08.775499",
     "exception": false,
     "start_time": "2024-03-02T07:07:08.752654",
     "status": "completed"
    },
    "tags": []
   },
   "outputs": [
    {
     "data": {
      "text/plain": [
       "Events\n",
       "Clear days                12.635002\n",
       "Fog                        6.536481\n",
       "Fog-Rain                   7.275362\n",
       "Fog-Rain-Snow              5.000000\n",
       "Fog-Rain-Thunderstorm      8.000000\n",
       "Fog-Snow                   4.500000\n",
       "Fog-Thunderstorm           7.000000\n",
       "Rain                      10.209649\n",
       "Rain-Hail                 14.000000\n",
       "Rain-Hail-Thunderstorm    10.142857\n",
       "Rain-Snow                  9.727273\n",
       "Rain-Snow-Thunderstorm     7.000000\n",
       "Rain-Thunderstorm         10.534413\n",
       "Snow                       9.285714\n",
       "Thunderstorm              10.822222\n",
       "Tornado                   10.000000\n",
       "Name: Mean VisibilityKm, dtype: float64"
      ]
     },
     "execution_count": 26,
     "metadata": {},
     "output_type": "execute_result"
    }
   ],
   "source": [
    "grouped_data = df.groupby('Events')['Mean VisibilityKm'].mean()\n",
    "grouped_data"
   ]
  },
  {
   "cell_type": "code",
   "execution_count": 27,
   "id": "d6ce36ff",
   "metadata": {
    "execution": {
     "iopub.execute_input": "2024-03-02T07:07:08.799957Z",
     "iopub.status.busy": "2024-03-02T07:07:08.799596Z",
     "iopub.status.idle": "2024-03-02T07:07:08.804577Z",
     "shell.execute_reply": "2024-03-02T07:07:08.803183Z"
    },
    "papermill": {
     "duration": 0.019901,
     "end_time": "2024-03-02T07:07:08.807085",
     "exception": false,
     "start_time": "2024-03-02T07:07:08.787184",
     "status": "completed"
    },
    "tags": []
   },
   "outputs": [],
   "source": [
    "# Average visibility for foggy days\n",
    "foggy_days_visibility = grouped_data.get('Fog', 0)"
   ]
  },
  {
   "cell_type": "code",
   "execution_count": 28,
   "id": "e9c8fe8a",
   "metadata": {
    "execution": {
     "iopub.execute_input": "2024-03-02T07:07:08.829504Z",
     "iopub.status.busy": "2024-03-02T07:07:08.829105Z",
     "iopub.status.idle": "2024-03-02T07:07:08.835520Z",
     "shell.execute_reply": "2024-03-02T07:07:08.833824Z"
    },
    "papermill": {
     "duration": 0.020643,
     "end_time": "2024-03-02T07:07:08.838255",
     "exception": false,
     "start_time": "2024-03-02T07:07:08.817612",
     "status": "completed"
    },
    "tags": []
   },
   "outputs": [
    {
     "name": "stdout",
     "output_type": "stream",
     "text": [
      "Average visibility on clear days: 7.91 Km\n",
      "Average visibility on foggy days: 6.54 Km\n"
     ]
    }
   ],
   "source": [
    "print(f\"Average visibility on clear days: {clear_days_visibility:.2f} Km\")\n",
    "print(f\"Average visibility on foggy days: {foggy_days_visibility:.2f} Km\")"
   ]
  },
  {
   "cell_type": "code",
   "execution_count": 29,
   "id": "1c71531f",
   "metadata": {
    "execution": {
     "iopub.execute_input": "2024-03-02T07:07:08.861442Z",
     "iopub.status.busy": "2024-03-02T07:07:08.861037Z",
     "iopub.status.idle": "2024-03-02T07:07:09.040246Z",
     "shell.execute_reply": "2024-03-02T07:07:09.038860Z"
    },
    "papermill": {
     "duration": 0.193961,
     "end_time": "2024-03-02T07:07:09.042811",
     "exception": false,
     "start_time": "2024-03-02T07:07:08.848850",
     "status": "completed"
    },
    "tags": []
   },
   "outputs": [
    {
     "data": {
      "image/png": "[encoded data removed]",
      "text/plain": [
       "<Figure size 640x480 with 1 Axes>"
      ]
     },
     "metadata": {},
     "output_type": "display_data"
    }
   ],
   "source": [
    "# Plot the comparison\n",
    "plt.bar(['Clear', 'Fog'], [clear_days_visibility, foggy_days_visibility], color=['black', 'gray'])\n",
    "plt.title('Average Visibility Comparison for Clear vs. Foggy Days in Madrid')\n",
    "plt.xlabel('Weather Events')\n",
    "plt.ylabel('Mean Visibility (Km)')\n",
    "plt.show()"
   ]
  },
  {
   "cell_type": "markdown",
   "id": "a7faa7dc",
   "metadata": {
    "papermill": {
     "duration": 0.010404,
     "end_time": "2024-03-02T07:07:09.064170",
     "exception": false,
     "start_time": "2024-03-02T07:07:09.053766",
     "status": "completed"
    },
    "tags": []
   },
   "source": [
    "**A comparison was made between the average visibility on clear days and foggy days are 7.91km & 6.54km**"
   ]
  }
 ],
 "metadata": {
  "kaggle": {
   "accelerator": "none",
   "dataSources": [
    {
     "datasetId": 2438662,
     "sourceId": 4126818,
     "sourceType": "datasetVersion"
    }
   ],
   "dockerImageVersionId": 30664,
   "isGpuEnabled": false,
   "isInternetEnabled": true,
   "language": "python",
   "sourceType": "notebook"
  },
  "kernelspec": {
   "display_name": "Python 3",
   "language": "python",
   "name": "python3"
  },
  "language_info": {
   "codemirror_mode": {
    "name": "ipython",
    "version": 3
   },
   "file_extension": ".py",
   "mimetype": "text/x-python",
   "name": "python",
   "nbconvert_exporter": "python",
   "pygments_lexer": "ipython3",
   "version": "3.10.13"
  },
  "papermill": {
   "default_parameters": {},
   "duration": 8.747932,
   "end_time": "2024-03-02T07:07:09.694378",
   "environment_variables": {},
   "exception": null,
   "input_path": "__notebook__.ipynb",
   "output_path": "__notebook__.ipynb",
   "parameters": {},
   "start_time": "2024-03-02T07:07:00.946446",
   "version": "2.5.0"
  }
 },
 "nbformat": 4,
 "nbformat_minor": 5
}
