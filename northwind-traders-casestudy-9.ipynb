{
 "cells": [
  {
   "cell_type": "markdown",
   "id": "58ee7d36",
   "metadata": {
    "_cell_guid": "b1076dfc-b9ad-4769-8c92-a6c4dae69d19",
    "_uuid": "8f2839f25d086af736a60e9eeb907d3b93b6e0e5",
    "papermill": {
     "duration": 0.012988,
     "end_time": "2024-03-03T17:36:28.379683",
     "exception": false,
     "start_time": "2024-03-03T17:36:28.366695",
     "status": "completed"
    },
    "tags": []
   },
   "source": [
    "**Sales & order data for Northwind Traders, a fictitious gourmet food supplier, including information on customers, products, orders, shippers, and employees.**"
   ]
  },
  {
   "cell_type": "code",
   "execution_count": 1,
   "id": "9ee62c74",
   "metadata": {
    "execution": {
     "iopub.execute_input": "2024-03-03T17:36:28.407733Z",
     "iopub.status.busy": "2024-03-03T17:36:28.406592Z",
     "iopub.status.idle": "2024-03-03T17:36:30.431352Z",
     "shell.execute_reply": "2024-03-03T17:36:30.430409Z"
    },
    "papermill": {
     "duration": 2.041613,
     "end_time": "2024-03-03T17:36:30.434160",
     "exception": false,
     "start_time": "2024-03-03T17:36:28.392547",
     "status": "completed"
    },
    "tags": []
   },
   "outputs": [],
   "source": [
    "#let import a libraries as per requirement\n",
    "import pandas as pd\n",
    "import numpy as np\n",
    "import matplotlib.pyplot as plt\n",
    "import seaborn as sns"
   ]
  },
  {
   "cell_type": "markdown",
   "id": "75624b80",
   "metadata": {
    "papermill": {
     "duration": 0.012574,
     "end_time": "2024-03-03T17:36:30.459689",
     "exception": false,
     "start_time": "2024-03-03T17:36:30.447115",
     "status": "completed"
    },
    "tags": []
   },
   "source": [
    "# Load data into DataFrames"
   ]
  },
  {
   "cell_type": "code",
   "execution_count": 2,
   "id": "c511c4d6",
   "metadata": {
    "execution": {
     "iopub.execute_input": "2024-03-03T17:36:30.488446Z",
     "iopub.status.busy": "2024-03-03T17:36:30.487963Z",
     "iopub.status.idle": "2024-03-03T17:36:30.530839Z",
     "shell.execute_reply": "2024-03-03T17:36:30.529705Z"
    },
    "papermill": {
     "duration": 0.060125,
     "end_time": "2024-03-03T17:36:30.533320",
     "exception": false,
     "start_time": "2024-03-03T17:36:30.473195",
     "status": "completed"
    },
    "tags": []
   },
   "outputs": [
    {
     "data": {
      "text/html": [
       "<div>\n",
       "<style scoped>\n",
       "    .dataframe tbody tr th:only-of-type {\n",
       "        vertical-align: middle;\n",
       "    }\n",
       "\n",
       "    .dataframe tbody tr th {\n",
       "        vertical-align: top;\n",
       "    }\n",
       "\n",
       "    .dataframe thead th {\n",
       "        text-align: right;\n",
       "    }\n",
       "</style>\n",
       "<table border=\"1\" class=\"dataframe\">\n",
       "  <thead>\n",
       "    <tr style=\"text-align: right;\">\n",
       "      <th></th>\n",
       "      <th>orderID</th>\n",
       "      <th>customerID</th>\n",
       "      <th>employeeID</th>\n",
       "      <th>orderDate</th>\n",
       "      <th>requiredDate</th>\n",
       "      <th>shippedDate</th>\n",
       "      <th>shipperID</th>\n",
       "      <th>freight</th>\n",
       "    </tr>\n",
       "  </thead>\n",
       "  <tbody>\n",
       "    <tr>\n",
       "      <th>0</th>\n",
       "      <td>10248</td>\n",
       "      <td>VINET</td>\n",
       "      <td>5</td>\n",
       "      <td>2013-07-04</td>\n",
       "      <td>2013-08-01</td>\n",
       "      <td>2013-07-16</td>\n",
       "      <td>3</td>\n",
       "      <td>32.38</td>\n",
       "    </tr>\n",
       "    <tr>\n",
       "      <th>1</th>\n",
       "      <td>10249</td>\n",
       "      <td>TOMSP</td>\n",
       "      <td>6</td>\n",
       "      <td>2013-07-05</td>\n",
       "      <td>2013-08-16</td>\n",
       "      <td>2013-07-10</td>\n",
       "      <td>1</td>\n",
       "      <td>11.61</td>\n",
       "    </tr>\n",
       "    <tr>\n",
       "      <th>2</th>\n",
       "      <td>10250</td>\n",
       "      <td>HANAR</td>\n",
       "      <td>4</td>\n",
       "      <td>2013-07-08</td>\n",
       "      <td>2013-08-05</td>\n",
       "      <td>2013-07-12</td>\n",
       "      <td>2</td>\n",
       "      <td>65.83</td>\n",
       "    </tr>\n",
       "    <tr>\n",
       "      <th>3</th>\n",
       "      <td>10251</td>\n",
       "      <td>VICTE</td>\n",
       "      <td>3</td>\n",
       "      <td>2013-07-08</td>\n",
       "      <td>2013-08-05</td>\n",
       "      <td>2013-07-15</td>\n",
       "      <td>1</td>\n",
       "      <td>41.34</td>\n",
       "    </tr>\n",
       "    <tr>\n",
       "      <th>4</th>\n",
       "      <td>10252</td>\n",
       "      <td>SUPRD</td>\n",
       "      <td>4</td>\n",
       "      <td>2013-07-09</td>\n",
       "      <td>2013-08-06</td>\n",
       "      <td>2013-07-11</td>\n",
       "      <td>2</td>\n",
       "      <td>51.30</td>\n",
       "    </tr>\n",
       "    <tr>\n",
       "      <th>...</th>\n",
       "      <td>...</td>\n",
       "      <td>...</td>\n",
       "      <td>...</td>\n",
       "      <td>...</td>\n",
       "      <td>...</td>\n",
       "      <td>...</td>\n",
       "      <td>...</td>\n",
       "      <td>...</td>\n",
       "    </tr>\n",
       "    <tr>\n",
       "      <th>825</th>\n",
       "      <td>11073</td>\n",
       "      <td>PERIC</td>\n",
       "      <td>2</td>\n",
       "      <td>2015-05-05</td>\n",
       "      <td>2015-06-02</td>\n",
       "      <td>NaN</td>\n",
       "      <td>2</td>\n",
       "      <td>24.95</td>\n",
       "    </tr>\n",
       "    <tr>\n",
       "      <th>826</th>\n",
       "      <td>11074</td>\n",
       "      <td>SIMOB</td>\n",
       "      <td>7</td>\n",
       "      <td>2015-05-06</td>\n",
       "      <td>2015-06-03</td>\n",
       "      <td>NaN</td>\n",
       "      <td>2</td>\n",
       "      <td>18.44</td>\n",
       "    </tr>\n",
       "    <tr>\n",
       "      <th>827</th>\n",
       "      <td>11075</td>\n",
       "      <td>RICSU</td>\n",
       "      <td>8</td>\n",
       "      <td>2015-05-06</td>\n",
       "      <td>2015-06-03</td>\n",
       "      <td>NaN</td>\n",
       "      <td>2</td>\n",
       "      <td>6.19</td>\n",
       "    </tr>\n",
       "    <tr>\n",
       "      <th>828</th>\n",
       "      <td>11076</td>\n",
       "      <td>BONAP</td>\n",
       "      <td>4</td>\n",
       "      <td>2015-05-06</td>\n",
       "      <td>2015-06-03</td>\n",
       "      <td>NaN</td>\n",
       "      <td>2</td>\n",
       "      <td>38.28</td>\n",
       "    </tr>\n",
       "    <tr>\n",
       "      <th>829</th>\n",
       "      <td>11077</td>\n",
       "      <td>RATTC</td>\n",
       "      <td>1</td>\n",
       "      <td>2015-05-06</td>\n",
       "      <td>2015-06-03</td>\n",
       "      <td>NaN</td>\n",
       "      <td>2</td>\n",
       "      <td>8.53</td>\n",
       "    </tr>\n",
       "  </tbody>\n",
       "</table>\n",
       "<p>830 rows × 8 columns</p>\n",
       "</div>"
      ],
      "text/plain": [
       "     orderID customerID  employeeID   orderDate requiredDate shippedDate  \\\n",
       "0      10248      VINET           5  2013-07-04   2013-08-01  2013-07-16   \n",
       "1      10249      TOMSP           6  2013-07-05   2013-08-16  2013-07-10   \n",
       "2      10250      HANAR           4  2013-07-08   2013-08-05  2013-07-12   \n",
       "3      10251      VICTE           3  2013-07-08   2013-08-05  2013-07-15   \n",
       "4      10252      SUPRD           4  2013-07-09   2013-08-06  2013-07-11   \n",
       "..       ...        ...         ...         ...          ...         ...   \n",
       "825    11073      PERIC           2  2015-05-05   2015-06-02         NaN   \n",
       "826    11074      SIMOB           7  2015-05-06   2015-06-03         NaN   \n",
       "827    11075      RICSU           8  2015-05-06   2015-06-03         NaN   \n",
       "828    11076      BONAP           4  2015-05-06   2015-06-03         NaN   \n",
       "829    11077      RATTC           1  2015-05-06   2015-06-03         NaN   \n",
       "\n",
       "     shipperID  freight  \n",
       "0            3    32.38  \n",
       "1            1    11.61  \n",
       "2            2    65.83  \n",
       "3            1    41.34  \n",
       "4            2    51.30  \n",
       "..         ...      ...  \n",
       "825          2    24.95  \n",
       "826          2    18.44  \n",
       "827          2     6.19  \n",
       "828          2    38.28  \n",
       "829          2     8.53  \n",
       "\n",
       "[830 rows x 8 columns]"
      ]
     },
     "execution_count": 2,
     "metadata": {},
     "output_type": "execute_result"
    }
   ],
   "source": [
    "#let read a order files data\n",
    "order=pd.read_csv(\"/kaggle/input/northwind-traders/orders.csv\")\n",
    "order"
   ]
  },
  {
   "cell_type": "code",
   "execution_count": 3,
   "id": "ed17b722",
   "metadata": {
    "execution": {
     "iopub.execute_input": "2024-03-03T17:36:30.561018Z",
     "iopub.status.busy": "2024-03-03T17:36:30.560635Z",
     "iopub.status.idle": "2024-03-03T17:36:30.581616Z",
     "shell.execute_reply": "2024-03-03T17:36:30.580548Z"
    },
    "papermill": {
     "duration": 0.037501,
     "end_time": "2024-03-03T17:36:30.583864",
     "exception": false,
     "start_time": "2024-03-03T17:36:30.546363",
     "status": "completed"
    },
    "tags": []
   },
   "outputs": [
    {
     "data": {
      "text/html": [
       "<div>\n",
       "<style scoped>\n",
       "    .dataframe tbody tr th:only-of-type {\n",
       "        vertical-align: middle;\n",
       "    }\n",
       "\n",
       "    .dataframe tbody tr th {\n",
       "        vertical-align: top;\n",
       "    }\n",
       "\n",
       "    .dataframe thead th {\n",
       "        text-align: right;\n",
       "    }\n",
       "</style>\n",
       "<table border=\"1\" class=\"dataframe\">\n",
       "  <thead>\n",
       "    <tr style=\"text-align: right;\">\n",
       "      <th></th>\n",
       "      <th>orderID</th>\n",
       "      <th>productID</th>\n",
       "      <th>unitPrice</th>\n",
       "      <th>quantity</th>\n",
       "      <th>discount</th>\n",
       "    </tr>\n",
       "  </thead>\n",
       "  <tbody>\n",
       "    <tr>\n",
       "      <th>0</th>\n",
       "      <td>10248</td>\n",
       "      <td>11</td>\n",
       "      <td>14.00</td>\n",
       "      <td>12</td>\n",
       "      <td>0.00</td>\n",
       "    </tr>\n",
       "    <tr>\n",
       "      <th>1</th>\n",
       "      <td>10248</td>\n",
       "      <td>42</td>\n",
       "      <td>9.80</td>\n",
       "      <td>10</td>\n",
       "      <td>0.00</td>\n",
       "    </tr>\n",
       "    <tr>\n",
       "      <th>2</th>\n",
       "      <td>10248</td>\n",
       "      <td>72</td>\n",
       "      <td>34.80</td>\n",
       "      <td>5</td>\n",
       "      <td>0.00</td>\n",
       "    </tr>\n",
       "    <tr>\n",
       "      <th>3</th>\n",
       "      <td>10249</td>\n",
       "      <td>14</td>\n",
       "      <td>18.60</td>\n",
       "      <td>9</td>\n",
       "      <td>0.00</td>\n",
       "    </tr>\n",
       "    <tr>\n",
       "      <th>4</th>\n",
       "      <td>10249</td>\n",
       "      <td>51</td>\n",
       "      <td>42.40</td>\n",
       "      <td>40</td>\n",
       "      <td>0.00</td>\n",
       "    </tr>\n",
       "    <tr>\n",
       "      <th>...</th>\n",
       "      <td>...</td>\n",
       "      <td>...</td>\n",
       "      <td>...</td>\n",
       "      <td>...</td>\n",
       "      <td>...</td>\n",
       "    </tr>\n",
       "    <tr>\n",
       "      <th>2150</th>\n",
       "      <td>11077</td>\n",
       "      <td>64</td>\n",
       "      <td>33.25</td>\n",
       "      <td>2</td>\n",
       "      <td>0.03</td>\n",
       "    </tr>\n",
       "    <tr>\n",
       "      <th>2151</th>\n",
       "      <td>11077</td>\n",
       "      <td>66</td>\n",
       "      <td>17.00</td>\n",
       "      <td>1</td>\n",
       "      <td>0.00</td>\n",
       "    </tr>\n",
       "    <tr>\n",
       "      <th>2152</th>\n",
       "      <td>11077</td>\n",
       "      <td>73</td>\n",
       "      <td>15.00</td>\n",
       "      <td>2</td>\n",
       "      <td>0.01</td>\n",
       "    </tr>\n",
       "    <tr>\n",
       "      <th>2153</th>\n",
       "      <td>11077</td>\n",
       "      <td>75</td>\n",
       "      <td>7.75</td>\n",
       "      <td>4</td>\n",
       "      <td>0.00</td>\n",
       "    </tr>\n",
       "    <tr>\n",
       "      <th>2154</th>\n",
       "      <td>11077</td>\n",
       "      <td>77</td>\n",
       "      <td>13.00</td>\n",
       "      <td>2</td>\n",
       "      <td>0.00</td>\n",
       "    </tr>\n",
       "  </tbody>\n",
       "</table>\n",
       "<p>2155 rows × 5 columns</p>\n",
       "</div>"
      ],
      "text/plain": [
       "      orderID  productID  unitPrice  quantity  discount\n",
       "0       10248         11      14.00        12      0.00\n",
       "1       10248         42       9.80        10      0.00\n",
       "2       10248         72      34.80         5      0.00\n",
       "3       10249         14      18.60         9      0.00\n",
       "4       10249         51      42.40        40      0.00\n",
       "...       ...        ...        ...       ...       ...\n",
       "2150    11077         64      33.25         2      0.03\n",
       "2151    11077         66      17.00         1      0.00\n",
       "2152    11077         73      15.00         2      0.01\n",
       "2153    11077         75       7.75         4      0.00\n",
       "2154    11077         77      13.00         2      0.00\n",
       "\n",
       "[2155 rows x 5 columns]"
      ]
     },
     "execution_count": 3,
     "metadata": {},
     "output_type": "execute_result"
    }
   ],
   "source": [
    "#let read a order details file data\n",
    "order_details=pd.read_csv(\"/kaggle/input/northwind-traders/order_details.csv\")\n",
    "order_details"
   ]
  },
  {
   "cell_type": "code",
   "execution_count": 4,
   "id": "cfe74d71",
   "metadata": {
    "execution": {
     "iopub.execute_input": "2024-03-03T17:36:30.612935Z",
     "iopub.status.busy": "2024-03-03T17:36:30.612255Z",
     "iopub.status.idle": "2024-03-03T17:36:30.632840Z",
     "shell.execute_reply": "2024-03-03T17:36:30.631343Z"
    },
    "papermill": {
     "duration": 0.038397,
     "end_time": "2024-03-03T17:36:30.635962",
     "exception": false,
     "start_time": "2024-03-03T17:36:30.597565",
     "status": "completed"
    },
    "tags": []
   },
   "outputs": [
    {
     "data": {
      "text/html": [
       "<div>\n",
       "<style scoped>\n",
       "    .dataframe tbody tr th:only-of-type {\n",
       "        vertical-align: middle;\n",
       "    }\n",
       "\n",
       "    .dataframe tbody tr th {\n",
       "        vertical-align: top;\n",
       "    }\n",
       "\n",
       "    .dataframe thead th {\n",
       "        text-align: right;\n",
       "    }\n",
       "</style>\n",
       "<table border=\"1\" class=\"dataframe\">\n",
       "  <thead>\n",
       "    <tr style=\"text-align: right;\">\n",
       "      <th></th>\n",
       "      <th>customerID</th>\n",
       "      <th>companyName</th>\n",
       "      <th>contactName</th>\n",
       "      <th>contactTitle</th>\n",
       "      <th>city</th>\n",
       "      <th>country</th>\n",
       "    </tr>\n",
       "  </thead>\n",
       "  <tbody>\n",
       "    <tr>\n",
       "      <th>0</th>\n",
       "      <td>ALFKI</td>\n",
       "      <td>Alfreds Futterkiste</td>\n",
       "      <td>Maria Anders</td>\n",
       "      <td>Sales Representative</td>\n",
       "      <td>Berlin</td>\n",
       "      <td>Germany</td>\n",
       "    </tr>\n",
       "    <tr>\n",
       "      <th>1</th>\n",
       "      <td>ANATR</td>\n",
       "      <td>Ana Trujillo Emparedados y helados</td>\n",
       "      <td>Ana Trujillo</td>\n",
       "      <td>Owner</td>\n",
       "      <td>Mexico City</td>\n",
       "      <td>Mexico</td>\n",
       "    </tr>\n",
       "    <tr>\n",
       "      <th>2</th>\n",
       "      <td>ANTON</td>\n",
       "      <td>Antonio Moreno Taquería</td>\n",
       "      <td>Antonio Moreno</td>\n",
       "      <td>Owner</td>\n",
       "      <td>Mexico City</td>\n",
       "      <td>Mexico</td>\n",
       "    </tr>\n",
       "    <tr>\n",
       "      <th>3</th>\n",
       "      <td>AROUT</td>\n",
       "      <td>Around the Horn</td>\n",
       "      <td>Thomas Hardy</td>\n",
       "      <td>Sales Representative</td>\n",
       "      <td>London</td>\n",
       "      <td>UK</td>\n",
       "    </tr>\n",
       "    <tr>\n",
       "      <th>4</th>\n",
       "      <td>BERGS</td>\n",
       "      <td>Berglunds snabbköp</td>\n",
       "      <td>Christina Berglund</td>\n",
       "      <td>Order Administrator</td>\n",
       "      <td>Luleå</td>\n",
       "      <td>Sweden</td>\n",
       "    </tr>\n",
       "    <tr>\n",
       "      <th>...</th>\n",
       "      <td>...</td>\n",
       "      <td>...</td>\n",
       "      <td>...</td>\n",
       "      <td>...</td>\n",
       "      <td>...</td>\n",
       "      <td>...</td>\n",
       "    </tr>\n",
       "    <tr>\n",
       "      <th>86</th>\n",
       "      <td>WARTH</td>\n",
       "      <td>Wartian Herkku</td>\n",
       "      <td>Pirkko Koskitalo</td>\n",
       "      <td>Accounting Manager</td>\n",
       "      <td>Oulu</td>\n",
       "      <td>Finland</td>\n",
       "    </tr>\n",
       "    <tr>\n",
       "      <th>87</th>\n",
       "      <td>WELLI</td>\n",
       "      <td>Wellington Importadora</td>\n",
       "      <td>Paula Parente</td>\n",
       "      <td>Sales Manager</td>\n",
       "      <td>Resende</td>\n",
       "      <td>Brazil</td>\n",
       "    </tr>\n",
       "    <tr>\n",
       "      <th>88</th>\n",
       "      <td>WHITC</td>\n",
       "      <td>White Clover Markets</td>\n",
       "      <td>Karl Jablonski</td>\n",
       "      <td>Owner</td>\n",
       "      <td>Seattle</td>\n",
       "      <td>USA</td>\n",
       "    </tr>\n",
       "    <tr>\n",
       "      <th>89</th>\n",
       "      <td>WILMK</td>\n",
       "      <td>Wilman Kala</td>\n",
       "      <td>Matti Karttunen</td>\n",
       "      <td>Owner/Marketing Assistant</td>\n",
       "      <td>Helsinki</td>\n",
       "      <td>Finland</td>\n",
       "    </tr>\n",
       "    <tr>\n",
       "      <th>90</th>\n",
       "      <td>WOLZA</td>\n",
       "      <td>Wolski  Zajazd</td>\n",
       "      <td>Zbyszek Piestrzeniewicz</td>\n",
       "      <td>Owner</td>\n",
       "      <td>Warszawa</td>\n",
       "      <td>Poland</td>\n",
       "    </tr>\n",
       "  </tbody>\n",
       "</table>\n",
       "<p>91 rows × 6 columns</p>\n",
       "</div>"
      ],
      "text/plain": [
       "   customerID                         companyName              contactName  \\\n",
       "0       ALFKI                 Alfreds Futterkiste             Maria Anders   \n",
       "1       ANATR  Ana Trujillo Emparedados y helados             Ana Trujillo   \n",
       "2       ANTON             Antonio Moreno Taquería           Antonio Moreno   \n",
       "3       AROUT                     Around the Horn             Thomas Hardy   \n",
       "4       BERGS                  Berglunds snabbköp       Christina Berglund   \n",
       "..        ...                                 ...                      ...   \n",
       "86      WARTH                      Wartian Herkku         Pirkko Koskitalo   \n",
       "87      WELLI              Wellington Importadora            Paula Parente   \n",
       "88      WHITC                White Clover Markets           Karl Jablonski   \n",
       "89      WILMK                         Wilman Kala          Matti Karttunen   \n",
       "90      WOLZA                      Wolski  Zajazd  Zbyszek Piestrzeniewicz   \n",
       "\n",
       "                 contactTitle         city  country  \n",
       "0        Sales Representative       Berlin  Germany  \n",
       "1                       Owner  Mexico City   Mexico  \n",
       "2                       Owner  Mexico City   Mexico  \n",
       "3        Sales Representative       London       UK  \n",
       "4         Order Administrator        Luleå   Sweden  \n",
       "..                        ...          ...      ...  \n",
       "86         Accounting Manager         Oulu  Finland  \n",
       "87              Sales Manager      Resende   Brazil  \n",
       "88                      Owner      Seattle      USA  \n",
       "89  Owner/Marketing Assistant     Helsinki  Finland  \n",
       "90                      Owner     Warszawa   Poland  \n",
       "\n",
       "[91 rows x 6 columns]"
      ]
     },
     "execution_count": 4,
     "metadata": {},
     "output_type": "execute_result"
    }
   ],
   "source": [
    "#let read a customers file data\n",
    "customers=pd.read_csv(\"/kaggle/input/northwind-traders/customers.csv\",encoding=\"unicode_escape\") #encoding to handle Unicode escape sequences.\n",
    "customers"
   ]
  },
  {
   "cell_type": "code",
   "execution_count": 5,
   "id": "45cbe18a",
   "metadata": {
    "execution": {
     "iopub.execute_input": "2024-03-03T17:36:30.666126Z",
     "iopub.status.busy": "2024-03-03T17:36:30.664931Z",
     "iopub.status.idle": "2024-03-03T17:36:30.685372Z",
     "shell.execute_reply": "2024-03-03T17:36:30.684596Z"
    },
    "papermill": {
     "duration": 0.037705,
     "end_time": "2024-03-03T17:36:30.687460",
     "exception": false,
     "start_time": "2024-03-03T17:36:30.649755",
     "status": "completed"
    },
    "tags": []
   },
   "outputs": [
    {
     "data": {
      "text/html": [
       "<div>\n",
       "<style scoped>\n",
       "    .dataframe tbody tr th:only-of-type {\n",
       "        vertical-align: middle;\n",
       "    }\n",
       "\n",
       "    .dataframe tbody tr th {\n",
       "        vertical-align: top;\n",
       "    }\n",
       "\n",
       "    .dataframe thead th {\n",
       "        text-align: right;\n",
       "    }\n",
       "</style>\n",
       "<table border=\"1\" class=\"dataframe\">\n",
       "  <thead>\n",
       "    <tr style=\"text-align: right;\">\n",
       "      <th></th>\n",
       "      <th>productID</th>\n",
       "      <th>productName</th>\n",
       "      <th>quantityPerUnit</th>\n",
       "      <th>unitPrice</th>\n",
       "      <th>discontinued</th>\n",
       "      <th>categoryID</th>\n",
       "    </tr>\n",
       "  </thead>\n",
       "  <tbody>\n",
       "    <tr>\n",
       "      <th>0</th>\n",
       "      <td>1</td>\n",
       "      <td>Chai</td>\n",
       "      <td>10 boxes x 20 bags</td>\n",
       "      <td>18.00</td>\n",
       "      <td>0</td>\n",
       "      <td>1</td>\n",
       "    </tr>\n",
       "    <tr>\n",
       "      <th>1</th>\n",
       "      <td>2</td>\n",
       "      <td>Chang</td>\n",
       "      <td>24 - 12 oz bottles</td>\n",
       "      <td>19.00</td>\n",
       "      <td>0</td>\n",
       "      <td>1</td>\n",
       "    </tr>\n",
       "    <tr>\n",
       "      <th>2</th>\n",
       "      <td>3</td>\n",
       "      <td>Aniseed Syrup</td>\n",
       "      <td>12 - 550 ml bottles</td>\n",
       "      <td>10.00</td>\n",
       "      <td>0</td>\n",
       "      <td>2</td>\n",
       "    </tr>\n",
       "    <tr>\n",
       "      <th>3</th>\n",
       "      <td>4</td>\n",
       "      <td>Chef Anton's Cajun Seasoning</td>\n",
       "      <td>48 - 6 oz jars</td>\n",
       "      <td>22.00</td>\n",
       "      <td>0</td>\n",
       "      <td>2</td>\n",
       "    </tr>\n",
       "    <tr>\n",
       "      <th>4</th>\n",
       "      <td>5</td>\n",
       "      <td>Chef Anton's Gumbo Mix</td>\n",
       "      <td>36 boxes</td>\n",
       "      <td>21.35</td>\n",
       "      <td>1</td>\n",
       "      <td>2</td>\n",
       "    </tr>\n",
       "    <tr>\n",
       "      <th>...</th>\n",
       "      <td>...</td>\n",
       "      <td>...</td>\n",
       "      <td>...</td>\n",
       "      <td>...</td>\n",
       "      <td>...</td>\n",
       "      <td>...</td>\n",
       "    </tr>\n",
       "    <tr>\n",
       "      <th>72</th>\n",
       "      <td>73</td>\n",
       "      <td>Röd Kaviar</td>\n",
       "      <td>24 - 150 g jars</td>\n",
       "      <td>15.00</td>\n",
       "      <td>0</td>\n",
       "      <td>8</td>\n",
       "    </tr>\n",
       "    <tr>\n",
       "      <th>73</th>\n",
       "      <td>74</td>\n",
       "      <td>Longlife Tofu</td>\n",
       "      <td>5 kg pkg.</td>\n",
       "      <td>10.00</td>\n",
       "      <td>0</td>\n",
       "      <td>7</td>\n",
       "    </tr>\n",
       "    <tr>\n",
       "      <th>74</th>\n",
       "      <td>75</td>\n",
       "      <td>Rhönbräu Klosterbier</td>\n",
       "      <td>24 - 0.5 l bottles</td>\n",
       "      <td>7.75</td>\n",
       "      <td>0</td>\n",
       "      <td>1</td>\n",
       "    </tr>\n",
       "    <tr>\n",
       "      <th>75</th>\n",
       "      <td>76</td>\n",
       "      <td>Lakkaliköri</td>\n",
       "      <td>500 ml</td>\n",
       "      <td>18.00</td>\n",
       "      <td>0</td>\n",
       "      <td>1</td>\n",
       "    </tr>\n",
       "    <tr>\n",
       "      <th>76</th>\n",
       "      <td>77</td>\n",
       "      <td>Original Frankfurter Grüne Soße</td>\n",
       "      <td>12 boxes</td>\n",
       "      <td>13.00</td>\n",
       "      <td>0</td>\n",
       "      <td>2</td>\n",
       "    </tr>\n",
       "  </tbody>\n",
       "</table>\n",
       "<p>77 rows × 6 columns</p>\n",
       "</div>"
      ],
      "text/plain": [
       "    productID                      productName      quantityPerUnit  \\\n",
       "0           1                             Chai   10 boxes x 20 bags   \n",
       "1           2                            Chang   24 - 12 oz bottles   \n",
       "2           3                    Aniseed Syrup  12 - 550 ml bottles   \n",
       "3           4     Chef Anton's Cajun Seasoning       48 - 6 oz jars   \n",
       "4           5           Chef Anton's Gumbo Mix             36 boxes   \n",
       "..        ...                              ...                  ...   \n",
       "72         73                       Röd Kaviar      24 - 150 g jars   \n",
       "73         74                    Longlife Tofu            5 kg pkg.   \n",
       "74         75             Rhönbräu Klosterbier   24 - 0.5 l bottles   \n",
       "75         76                      Lakkaliköri               500 ml   \n",
       "76         77  Original Frankfurter Grüne Soße             12 boxes   \n",
       "\n",
       "    unitPrice  discontinued  categoryID  \n",
       "0       18.00             0           1  \n",
       "1       19.00             0           1  \n",
       "2       10.00             0           2  \n",
       "3       22.00             0           2  \n",
       "4       21.35             1           2  \n",
       "..        ...           ...         ...  \n",
       "72      15.00             0           8  \n",
       "73      10.00             0           7  \n",
       "74       7.75             0           1  \n",
       "75      18.00             0           1  \n",
       "76      13.00             0           2  \n",
       "\n",
       "[77 rows x 6 columns]"
      ]
     },
     "execution_count": 5,
     "metadata": {},
     "output_type": "execute_result"
    }
   ],
   "source": [
    "#let read a products files in data\n",
    "products=pd.read_csv(\"/kaggle/input/northwind-traders/products.csv\",encoding=\"unicode_escape\")\n",
    "products"
   ]
  },
  {
   "cell_type": "code",
   "execution_count": 6,
   "id": "193cc961",
   "metadata": {
    "execution": {
     "iopub.execute_input": "2024-03-03T17:36:30.717926Z",
     "iopub.status.busy": "2024-03-03T17:36:30.717498Z",
     "iopub.status.idle": "2024-03-03T17:36:30.732596Z",
     "shell.execute_reply": "2024-03-03T17:36:30.731545Z"
    },
    "papermill": {
     "duration": 0.033187,
     "end_time": "2024-03-03T17:36:30.735076",
     "exception": false,
     "start_time": "2024-03-03T17:36:30.701889",
     "status": "completed"
    },
    "tags": []
   },
   "outputs": [
    {
     "data": {
      "text/html": [
       "<div>\n",
       "<style scoped>\n",
       "    .dataframe tbody tr th:only-of-type {\n",
       "        vertical-align: middle;\n",
       "    }\n",
       "\n",
       "    .dataframe tbody tr th {\n",
       "        vertical-align: top;\n",
       "    }\n",
       "\n",
       "    .dataframe thead th {\n",
       "        text-align: right;\n",
       "    }\n",
       "</style>\n",
       "<table border=\"1\" class=\"dataframe\">\n",
       "  <thead>\n",
       "    <tr style=\"text-align: right;\">\n",
       "      <th></th>\n",
       "      <th>categoryID</th>\n",
       "      <th>categoryName</th>\n",
       "      <th>description</th>\n",
       "    </tr>\n",
       "  </thead>\n",
       "  <tbody>\n",
       "    <tr>\n",
       "      <th>0</th>\n",
       "      <td>1</td>\n",
       "      <td>Beverages</td>\n",
       "      <td>Soft drinks, coffees, teas, beers, and ales</td>\n",
       "    </tr>\n",
       "    <tr>\n",
       "      <th>1</th>\n",
       "      <td>2</td>\n",
       "      <td>Condiments</td>\n",
       "      <td>Sweet and savory sauces, relishes, spreads, an...</td>\n",
       "    </tr>\n",
       "    <tr>\n",
       "      <th>2</th>\n",
       "      <td>3</td>\n",
       "      <td>Confections</td>\n",
       "      <td>Desserts, candies, and sweet breads</td>\n",
       "    </tr>\n",
       "    <tr>\n",
       "      <th>3</th>\n",
       "      <td>4</td>\n",
       "      <td>Dairy Products</td>\n",
       "      <td>Cheeses</td>\n",
       "    </tr>\n",
       "    <tr>\n",
       "      <th>4</th>\n",
       "      <td>5</td>\n",
       "      <td>Grains &amp; Cereals</td>\n",
       "      <td>Breads, crackers, pasta, and cereal</td>\n",
       "    </tr>\n",
       "    <tr>\n",
       "      <th>5</th>\n",
       "      <td>6</td>\n",
       "      <td>Meat &amp; Poultry</td>\n",
       "      <td>Prepared meats</td>\n",
       "    </tr>\n",
       "    <tr>\n",
       "      <th>6</th>\n",
       "      <td>7</td>\n",
       "      <td>Produce</td>\n",
       "      <td>Dried fruit and bean curd</td>\n",
       "    </tr>\n",
       "    <tr>\n",
       "      <th>7</th>\n",
       "      <td>8</td>\n",
       "      <td>Seafood</td>\n",
       "      <td>Seaweed and fish</td>\n",
       "    </tr>\n",
       "  </tbody>\n",
       "</table>\n",
       "</div>"
      ],
      "text/plain": [
       "   categoryID      categoryName  \\\n",
       "0           1         Beverages   \n",
       "1           2        Condiments   \n",
       "2           3       Confections   \n",
       "3           4    Dairy Products   \n",
       "4           5  Grains & Cereals   \n",
       "5           6    Meat & Poultry   \n",
       "6           7           Produce   \n",
       "7           8           Seafood   \n",
       "\n",
       "                                         description  \n",
       "0        Soft drinks, coffees, teas, beers, and ales  \n",
       "1  Sweet and savory sauces, relishes, spreads, an...  \n",
       "2                Desserts, candies, and sweet breads  \n",
       "3                                            Cheeses  \n",
       "4                Breads, crackers, pasta, and cereal  \n",
       "5                                     Prepared meats  \n",
       "6                          Dried fruit and bean curd  \n",
       "7                                   Seaweed and fish  "
      ]
     },
     "execution_count": 6,
     "metadata": {},
     "output_type": "execute_result"
    }
   ],
   "source": [
    "#let a read categories files in data\n",
    "categories=pd.read_csv(\"/kaggle/input/northwind-traders/categories.csv\")\n",
    "categories"
   ]
  },
  {
   "cell_type": "code",
   "execution_count": 7,
   "id": "17cb1c56",
   "metadata": {
    "execution": {
     "iopub.execute_input": "2024-03-03T17:36:30.766389Z",
     "iopub.status.busy": "2024-03-03T17:36:30.765986Z",
     "iopub.status.idle": "2024-03-03T17:36:30.786051Z",
     "shell.execute_reply": "2024-03-03T17:36:30.785083Z"
    },
    "papermill": {
     "duration": 0.038202,
     "end_time": "2024-03-03T17:36:30.788197",
     "exception": false,
     "start_time": "2024-03-03T17:36:30.749995",
     "status": "completed"
    },
    "tags": []
   },
   "outputs": [
    {
     "data": {
      "text/html": [
       "<div>\n",
       "<style scoped>\n",
       "    .dataframe tbody tr th:only-of-type {\n",
       "        vertical-align: middle;\n",
       "    }\n",
       "\n",
       "    .dataframe tbody tr th {\n",
       "        vertical-align: top;\n",
       "    }\n",
       "\n",
       "    .dataframe thead th {\n",
       "        text-align: right;\n",
       "    }\n",
       "</style>\n",
       "<table border=\"1\" class=\"dataframe\">\n",
       "  <thead>\n",
       "    <tr style=\"text-align: right;\">\n",
       "      <th></th>\n",
       "      <th>employeeID</th>\n",
       "      <th>employeeName</th>\n",
       "      <th>title</th>\n",
       "      <th>city</th>\n",
       "      <th>country</th>\n",
       "      <th>reportsTo</th>\n",
       "    </tr>\n",
       "  </thead>\n",
       "  <tbody>\n",
       "    <tr>\n",
       "      <th>0</th>\n",
       "      <td>1</td>\n",
       "      <td>Nancy Davolio</td>\n",
       "      <td>Sales Representative</td>\n",
       "      <td>New York</td>\n",
       "      <td>USA</td>\n",
       "      <td>8.0</td>\n",
       "    </tr>\n",
       "    <tr>\n",
       "      <th>1</th>\n",
       "      <td>2</td>\n",
       "      <td>Andrew Fuller</td>\n",
       "      <td>Vice President Sales</td>\n",
       "      <td>New York</td>\n",
       "      <td>USA</td>\n",
       "      <td>NaN</td>\n",
       "    </tr>\n",
       "    <tr>\n",
       "      <th>2</th>\n",
       "      <td>3</td>\n",
       "      <td>Janet Leverling</td>\n",
       "      <td>Sales Representative</td>\n",
       "      <td>New York</td>\n",
       "      <td>USA</td>\n",
       "      <td>8.0</td>\n",
       "    </tr>\n",
       "    <tr>\n",
       "      <th>3</th>\n",
       "      <td>4</td>\n",
       "      <td>Margaret Peacock</td>\n",
       "      <td>Sales Representative</td>\n",
       "      <td>New York</td>\n",
       "      <td>USA</td>\n",
       "      <td>8.0</td>\n",
       "    </tr>\n",
       "    <tr>\n",
       "      <th>4</th>\n",
       "      <td>5</td>\n",
       "      <td>Steven Buchanan</td>\n",
       "      <td>Sales Manager</td>\n",
       "      <td>London</td>\n",
       "      <td>UK</td>\n",
       "      <td>2.0</td>\n",
       "    </tr>\n",
       "    <tr>\n",
       "      <th>5</th>\n",
       "      <td>6</td>\n",
       "      <td>Michael Suyama</td>\n",
       "      <td>Sales Representative</td>\n",
       "      <td>London</td>\n",
       "      <td>UK</td>\n",
       "      <td>5.0</td>\n",
       "    </tr>\n",
       "    <tr>\n",
       "      <th>6</th>\n",
       "      <td>7</td>\n",
       "      <td>Robert King</td>\n",
       "      <td>Sales Representative</td>\n",
       "      <td>London</td>\n",
       "      <td>UK</td>\n",
       "      <td>5.0</td>\n",
       "    </tr>\n",
       "    <tr>\n",
       "      <th>7</th>\n",
       "      <td>8</td>\n",
       "      <td>Laura Callahan</td>\n",
       "      <td>Sales Manager</td>\n",
       "      <td>New York</td>\n",
       "      <td>USA</td>\n",
       "      <td>2.0</td>\n",
       "    </tr>\n",
       "    <tr>\n",
       "      <th>8</th>\n",
       "      <td>9</td>\n",
       "      <td>Anne Dodsworth</td>\n",
       "      <td>Sales Representative</td>\n",
       "      <td>London</td>\n",
       "      <td>UK</td>\n",
       "      <td>5.0</td>\n",
       "    </tr>\n",
       "  </tbody>\n",
       "</table>\n",
       "</div>"
      ],
      "text/plain": [
       "   employeeID      employeeName                 title      city country  \\\n",
       "0           1     Nancy Davolio  Sales Representative  New York     USA   \n",
       "1           2     Andrew Fuller  Vice President Sales  New York     USA   \n",
       "2           3   Janet Leverling  Sales Representative  New York     USA   \n",
       "3           4  Margaret Peacock  Sales Representative  New York     USA   \n",
       "4           5   Steven Buchanan         Sales Manager    London      UK   \n",
       "5           6    Michael Suyama  Sales Representative    London      UK   \n",
       "6           7       Robert King  Sales Representative    London      UK   \n",
       "7           8    Laura Callahan         Sales Manager  New York     USA   \n",
       "8           9    Anne Dodsworth  Sales Representative    London      UK   \n",
       "\n",
       "   reportsTo  \n",
       "0        8.0  \n",
       "1        NaN  \n",
       "2        8.0  \n",
       "3        8.0  \n",
       "4        2.0  \n",
       "5        5.0  \n",
       "6        5.0  \n",
       "7        2.0  \n",
       "8        5.0  "
      ]
     },
     "execution_count": 7,
     "metadata": {},
     "output_type": "execute_result"
    }
   ],
   "source": [
    "#let read employees files in data\n",
    "employees=pd.read_csv(\"/kaggle/input/northwind-traders/employees.csv\")\n",
    "employees"
   ]
  },
  {
   "cell_type": "code",
   "execution_count": 8,
   "id": "845c59a0",
   "metadata": {
    "execution": {
     "iopub.execute_input": "2024-03-03T17:36:30.819924Z",
     "iopub.status.busy": "2024-03-03T17:36:30.819217Z",
     "iopub.status.idle": "2024-03-03T17:36:30.832876Z",
     "shell.execute_reply": "2024-03-03T17:36:30.832024Z"
    },
    "papermill": {
     "duration": 0.031834,
     "end_time": "2024-03-03T17:36:30.834974",
     "exception": false,
     "start_time": "2024-03-03T17:36:30.803140",
     "status": "completed"
    },
    "tags": []
   },
   "outputs": [
    {
     "data": {
      "text/html": [
       "<div>\n",
       "<style scoped>\n",
       "    .dataframe tbody tr th:only-of-type {\n",
       "        vertical-align: middle;\n",
       "    }\n",
       "\n",
       "    .dataframe tbody tr th {\n",
       "        vertical-align: top;\n",
       "    }\n",
       "\n",
       "    .dataframe thead th {\n",
       "        text-align: right;\n",
       "    }\n",
       "</style>\n",
       "<table border=\"1\" class=\"dataframe\">\n",
       "  <thead>\n",
       "    <tr style=\"text-align: right;\">\n",
       "      <th></th>\n",
       "      <th>shipperID</th>\n",
       "      <th>companyName</th>\n",
       "    </tr>\n",
       "  </thead>\n",
       "  <tbody>\n",
       "    <tr>\n",
       "      <th>0</th>\n",
       "      <td>1</td>\n",
       "      <td>Speedy Express</td>\n",
       "    </tr>\n",
       "    <tr>\n",
       "      <th>1</th>\n",
       "      <td>2</td>\n",
       "      <td>United Package</td>\n",
       "    </tr>\n",
       "    <tr>\n",
       "      <th>2</th>\n",
       "      <td>3</td>\n",
       "      <td>Federal Shipping</td>\n",
       "    </tr>\n",
       "  </tbody>\n",
       "</table>\n",
       "</div>"
      ],
      "text/plain": [
       "   shipperID       companyName\n",
       "0          1    Speedy Express\n",
       "1          2    United Package\n",
       "2          3  Federal Shipping"
      ]
     },
     "execution_count": 8,
     "metadata": {},
     "output_type": "execute_result"
    }
   ],
   "source": [
    "#let read shippers files in data\n",
    "shippers=pd.read_csv(\"/kaggle/input/northwind-traders/shippers.csv\")\n",
    "shippers"
   ]
  },
  {
   "cell_type": "markdown",
   "id": "f7ed96b6",
   "metadata": {
    "papermill": {
     "duration": 0.014675,
     "end_time": "2024-03-03T17:36:30.864715",
     "exception": false,
     "start_time": "2024-03-03T17:36:30.850040",
     "status": "completed"
    },
    "tags": []
   },
   "source": [
    "# Merge data to create a unified DataFrame"
   ]
  },
  {
   "cell_type": "code",
   "execution_count": 9,
   "id": "ab141412",
   "metadata": {
    "execution": {
     "iopub.execute_input": "2024-03-03T17:36:30.897025Z",
     "iopub.status.busy": "2024-03-03T17:36:30.896274Z",
     "iopub.status.idle": "2024-03-03T17:36:30.914652Z",
     "shell.execute_reply": "2024-03-03T17:36:30.913592Z"
    },
    "papermill": {
     "duration": 0.037582,
     "end_time": "2024-03-03T17:36:30.917368",
     "exception": false,
     "start_time": "2024-03-03T17:36:30.879786",
     "status": "completed"
    },
    "tags": []
   },
   "outputs": [],
   "source": [
    "df=pd.merge(order, order_details, on='orderID', how='inner')"
   ]
  },
  {
   "cell_type": "code",
   "execution_count": 10,
   "id": "edf93cb9",
   "metadata": {
    "execution": {
     "iopub.execute_input": "2024-03-03T17:36:30.949382Z",
     "iopub.status.busy": "2024-03-03T17:36:30.949011Z",
     "iopub.status.idle": "2024-03-03T17:36:30.966420Z",
     "shell.execute_reply": "2024-03-03T17:36:30.965286Z"
    },
    "papermill": {
     "duration": 0.036,
     "end_time": "2024-03-03T17:36:30.968609",
     "exception": false,
     "start_time": "2024-03-03T17:36:30.932609",
     "status": "completed"
    },
    "tags": []
   },
   "outputs": [
    {
     "data": {
      "text/html": [
       "<div>\n",
       "<style scoped>\n",
       "    .dataframe tbody tr th:only-of-type {\n",
       "        vertical-align: middle;\n",
       "    }\n",
       "\n",
       "    .dataframe tbody tr th {\n",
       "        vertical-align: top;\n",
       "    }\n",
       "\n",
       "    .dataframe thead th {\n",
       "        text-align: right;\n",
       "    }\n",
       "</style>\n",
       "<table border=\"1\" class=\"dataframe\">\n",
       "  <thead>\n",
       "    <tr style=\"text-align: right;\">\n",
       "      <th></th>\n",
       "      <th>orderID</th>\n",
       "      <th>customerID</th>\n",
       "      <th>employeeID</th>\n",
       "      <th>orderDate</th>\n",
       "      <th>requiredDate</th>\n",
       "      <th>shippedDate</th>\n",
       "      <th>shipperID</th>\n",
       "      <th>freight</th>\n",
       "      <th>productID</th>\n",
       "      <th>unitPrice</th>\n",
       "      <th>quantity</th>\n",
       "      <th>discount</th>\n",
       "    </tr>\n",
       "  </thead>\n",
       "  <tbody>\n",
       "    <tr>\n",
       "      <th>0</th>\n",
       "      <td>10248</td>\n",
       "      <td>VINET</td>\n",
       "      <td>5</td>\n",
       "      <td>2013-07-04</td>\n",
       "      <td>2013-08-01</td>\n",
       "      <td>2013-07-16</td>\n",
       "      <td>3</td>\n",
       "      <td>32.38</td>\n",
       "      <td>11</td>\n",
       "      <td>14.0</td>\n",
       "      <td>12</td>\n",
       "      <td>0.0</td>\n",
       "    </tr>\n",
       "    <tr>\n",
       "      <th>1</th>\n",
       "      <td>10248</td>\n",
       "      <td>VINET</td>\n",
       "      <td>5</td>\n",
       "      <td>2013-07-04</td>\n",
       "      <td>2013-08-01</td>\n",
       "      <td>2013-07-16</td>\n",
       "      <td>3</td>\n",
       "      <td>32.38</td>\n",
       "      <td>42</td>\n",
       "      <td>9.8</td>\n",
       "      <td>10</td>\n",
       "      <td>0.0</td>\n",
       "    </tr>\n",
       "    <tr>\n",
       "      <th>2</th>\n",
       "      <td>10248</td>\n",
       "      <td>VINET</td>\n",
       "      <td>5</td>\n",
       "      <td>2013-07-04</td>\n",
       "      <td>2013-08-01</td>\n",
       "      <td>2013-07-16</td>\n",
       "      <td>3</td>\n",
       "      <td>32.38</td>\n",
       "      <td>72</td>\n",
       "      <td>34.8</td>\n",
       "      <td>5</td>\n",
       "      <td>0.0</td>\n",
       "    </tr>\n",
       "    <tr>\n",
       "      <th>3</th>\n",
       "      <td>10249</td>\n",
       "      <td>TOMSP</td>\n",
       "      <td>6</td>\n",
       "      <td>2013-07-05</td>\n",
       "      <td>2013-08-16</td>\n",
       "      <td>2013-07-10</td>\n",
       "      <td>1</td>\n",
       "      <td>11.61</td>\n",
       "      <td>14</td>\n",
       "      <td>18.6</td>\n",
       "      <td>9</td>\n",
       "      <td>0.0</td>\n",
       "    </tr>\n",
       "    <tr>\n",
       "      <th>4</th>\n",
       "      <td>10249</td>\n",
       "      <td>TOMSP</td>\n",
       "      <td>6</td>\n",
       "      <td>2013-07-05</td>\n",
       "      <td>2013-08-16</td>\n",
       "      <td>2013-07-10</td>\n",
       "      <td>1</td>\n",
       "      <td>11.61</td>\n",
       "      <td>51</td>\n",
       "      <td>42.4</td>\n",
       "      <td>40</td>\n",
       "      <td>0.0</td>\n",
       "    </tr>\n",
       "  </tbody>\n",
       "</table>\n",
       "</div>"
      ],
      "text/plain": [
       "   orderID customerID  employeeID   orderDate requiredDate shippedDate  \\\n",
       "0    10248      VINET           5  2013-07-04   2013-08-01  2013-07-16   \n",
       "1    10248      VINET           5  2013-07-04   2013-08-01  2013-07-16   \n",
       "2    10248      VINET           5  2013-07-04   2013-08-01  2013-07-16   \n",
       "3    10249      TOMSP           6  2013-07-05   2013-08-16  2013-07-10   \n",
       "4    10249      TOMSP           6  2013-07-05   2013-08-16  2013-07-10   \n",
       "\n",
       "   shipperID  freight  productID  unitPrice  quantity  discount  \n",
       "0          3    32.38         11       14.0        12       0.0  \n",
       "1          3    32.38         42        9.8        10       0.0  \n",
       "2          3    32.38         72       34.8         5       0.0  \n",
       "3          1    11.61         14       18.6         9       0.0  \n",
       "4          1    11.61         51       42.4        40       0.0  "
      ]
     },
     "execution_count": 10,
     "metadata": {},
     "output_type": "execute_result"
    }
   ],
   "source": [
    "df.head()"
   ]
  },
  {
   "cell_type": "code",
   "execution_count": 11,
   "id": "38ce5e29",
   "metadata": {
    "execution": {
     "iopub.execute_input": "2024-03-03T17:36:31.001398Z",
     "iopub.status.busy": "2024-03-03T17:36:31.000970Z",
     "iopub.status.idle": "2024-03-03T17:36:31.016370Z",
     "shell.execute_reply": "2024-03-03T17:36:31.015557Z"
    },
    "papermill": {
     "duration": 0.034546,
     "end_time": "2024-03-03T17:36:31.018689",
     "exception": false,
     "start_time": "2024-03-03T17:36:30.984143",
     "status": "completed"
    },
    "tags": []
   },
   "outputs": [],
   "source": [
    "df=pd.merge(df, customers, on='customerID', how='inner')"
   ]
  },
  {
   "cell_type": "code",
   "execution_count": 12,
   "id": "957c16d7",
   "metadata": {
    "execution": {
     "iopub.execute_input": "2024-03-03T17:36:31.052508Z",
     "iopub.status.busy": "2024-03-03T17:36:31.051452Z",
     "iopub.status.idle": "2024-03-03T17:36:31.062358Z",
     "shell.execute_reply": "2024-03-03T17:36:31.061588Z"
    },
    "papermill": {
     "duration": 0.030223,
     "end_time": "2024-03-03T17:36:31.064659",
     "exception": false,
     "start_time": "2024-03-03T17:36:31.034436",
     "status": "completed"
    },
    "tags": []
   },
   "outputs": [],
   "source": [
    "df=pd.merge(df, products, on=['productID','unitPrice'], how='inner')"
   ]
  },
  {
   "cell_type": "code",
   "execution_count": 13,
   "id": "c02690c0",
   "metadata": {
    "execution": {
     "iopub.execute_input": "2024-03-03T17:36:31.104454Z",
     "iopub.status.busy": "2024-03-03T17:36:31.103495Z",
     "iopub.status.idle": "2024-03-03T17:36:31.114767Z",
     "shell.execute_reply": "2024-03-03T17:36:31.113381Z"
    },
    "papermill": {
     "duration": 0.039732,
     "end_time": "2024-03-03T17:36:31.121871",
     "exception": false,
     "start_time": "2024-03-03T17:36:31.082139",
     "status": "completed"
    },
    "tags": []
   },
   "outputs": [],
   "source": [
    "df=pd.merge(df, categories, on='categoryID', how='inner')"
   ]
  },
  {
   "cell_type": "code",
   "execution_count": 14,
   "id": "80abcfbf",
   "metadata": {
    "execution": {
     "iopub.execute_input": "2024-03-03T17:36:31.155636Z",
     "iopub.status.busy": "2024-03-03T17:36:31.154889Z",
     "iopub.status.idle": "2024-03-03T17:36:31.164738Z",
     "shell.execute_reply": "2024-03-03T17:36:31.163580Z"
    },
    "papermill": {
     "duration": 0.029754,
     "end_time": "2024-03-03T17:36:31.167429",
     "exception": false,
     "start_time": "2024-03-03T17:36:31.137675",
     "status": "completed"
    },
    "tags": []
   },
   "outputs": [],
   "source": [
    "df=pd.merge(df, employees, on='employeeID', how='inner')"
   ]
  },
  {
   "cell_type": "code",
   "execution_count": 15,
   "id": "c076ab71",
   "metadata": {
    "execution": {
     "iopub.execute_input": "2024-03-03T17:36:31.203992Z",
     "iopub.status.busy": "2024-03-03T17:36:31.203599Z",
     "iopub.status.idle": "2024-03-03T17:36:31.213506Z",
     "shell.execute_reply": "2024-03-03T17:36:31.212406Z"
    },
    "papermill": {
     "duration": 0.029991,
     "end_time": "2024-03-03T17:36:31.216099",
     "exception": false,
     "start_time": "2024-03-03T17:36:31.186108",
     "status": "completed"
    },
    "tags": []
   },
   "outputs": [],
   "source": [
    "df=pd.merge(df, shippers, on='shipperID', how='inner')"
   ]
  },
  {
   "cell_type": "code",
   "execution_count": 16,
   "id": "7591b6c5",
   "metadata": {
    "execution": {
     "iopub.execute_input": "2024-03-03T17:36:31.250566Z",
     "iopub.status.busy": "2024-03-03T17:36:31.250188Z",
     "iopub.status.idle": "2024-03-03T17:36:31.282881Z",
     "shell.execute_reply": "2024-03-03T17:36:31.281642Z"
    },
    "papermill": {
     "duration": 0.053178,
     "end_time": "2024-03-03T17:36:31.285453",
     "exception": false,
     "start_time": "2024-03-03T17:36:31.232275",
     "status": "completed"
    },
    "tags": []
   },
   "outputs": [
    {
     "data": {
      "text/html": [
       "<div>\n",
       "<style scoped>\n",
       "    .dataframe tbody tr th:only-of-type {\n",
       "        vertical-align: middle;\n",
       "    }\n",
       "\n",
       "    .dataframe tbody tr th {\n",
       "        vertical-align: top;\n",
       "    }\n",
       "\n",
       "    .dataframe thead th {\n",
       "        text-align: right;\n",
       "    }\n",
       "</style>\n",
       "<table border=\"1\" class=\"dataframe\">\n",
       "  <thead>\n",
       "    <tr style=\"text-align: right;\">\n",
       "      <th></th>\n",
       "      <th>orderID</th>\n",
       "      <th>customerID</th>\n",
       "      <th>employeeID</th>\n",
       "      <th>orderDate</th>\n",
       "      <th>requiredDate</th>\n",
       "      <th>shippedDate</th>\n",
       "      <th>shipperID</th>\n",
       "      <th>freight</th>\n",
       "      <th>productID</th>\n",
       "      <th>unitPrice</th>\n",
       "      <th>...</th>\n",
       "      <th>discontinued</th>\n",
       "      <th>categoryID</th>\n",
       "      <th>categoryName</th>\n",
       "      <th>description</th>\n",
       "      <th>employeeName</th>\n",
       "      <th>title</th>\n",
       "      <th>city_y</th>\n",
       "      <th>country_y</th>\n",
       "      <th>reportsTo</th>\n",
       "      <th>companyName_y</th>\n",
       "    </tr>\n",
       "  </thead>\n",
       "  <tbody>\n",
       "    <tr>\n",
       "      <th>0</th>\n",
       "      <td>10248</td>\n",
       "      <td>VINET</td>\n",
       "      <td>5</td>\n",
       "      <td>2013-07-04</td>\n",
       "      <td>2013-08-01</td>\n",
       "      <td>2013-07-16</td>\n",
       "      <td>3</td>\n",
       "      <td>32.38</td>\n",
       "      <td>72</td>\n",
       "      <td>34.80</td>\n",
       "      <td>...</td>\n",
       "      <td>0</td>\n",
       "      <td>4</td>\n",
       "      <td>Dairy Products</td>\n",
       "      <td>Cheeses</td>\n",
       "      <td>Steven Buchanan</td>\n",
       "      <td>Sales Manager</td>\n",
       "      <td>London</td>\n",
       "      <td>UK</td>\n",
       "      <td>2.0</td>\n",
       "      <td>Federal Shipping</td>\n",
       "    </tr>\n",
       "    <tr>\n",
       "      <th>1</th>\n",
       "      <td>10498</td>\n",
       "      <td>HILAA</td>\n",
       "      <td>8</td>\n",
       "      <td>2014-04-07</td>\n",
       "      <td>2014-05-05</td>\n",
       "      <td>2014-04-11</td>\n",
       "      <td>2</td>\n",
       "      <td>29.75</td>\n",
       "      <td>24</td>\n",
       "      <td>4.50</td>\n",
       "      <td>...</td>\n",
       "      <td>1</td>\n",
       "      <td>1</td>\n",
       "      <td>Beverages</td>\n",
       "      <td>Soft drinks, coffees, teas, beers, and ales</td>\n",
       "      <td>Laura Callahan</td>\n",
       "      <td>Sales Manager</td>\n",
       "      <td>New York</td>\n",
       "      <td>USA</td>\n",
       "      <td>2.0</td>\n",
       "      <td>United Package</td>\n",
       "    </tr>\n",
       "    <tr>\n",
       "      <th>2</th>\n",
       "      <td>10498</td>\n",
       "      <td>HILAA</td>\n",
       "      <td>8</td>\n",
       "      <td>2014-04-07</td>\n",
       "      <td>2014-05-05</td>\n",
       "      <td>2014-04-11</td>\n",
       "      <td>2</td>\n",
       "      <td>29.75</td>\n",
       "      <td>40</td>\n",
       "      <td>18.40</td>\n",
       "      <td>...</td>\n",
       "      <td>0</td>\n",
       "      <td>8</td>\n",
       "      <td>Seafood</td>\n",
       "      <td>Seaweed and fish</td>\n",
       "      <td>Laura Callahan</td>\n",
       "      <td>Sales Manager</td>\n",
       "      <td>New York</td>\n",
       "      <td>USA</td>\n",
       "      <td>2.0</td>\n",
       "      <td>United Package</td>\n",
       "    </tr>\n",
       "    <tr>\n",
       "      <th>3</th>\n",
       "      <td>10498</td>\n",
       "      <td>HILAA</td>\n",
       "      <td>8</td>\n",
       "      <td>2014-04-07</td>\n",
       "      <td>2014-05-05</td>\n",
       "      <td>2014-04-11</td>\n",
       "      <td>2</td>\n",
       "      <td>29.75</td>\n",
       "      <td>42</td>\n",
       "      <td>14.00</td>\n",
       "      <td>...</td>\n",
       "      <td>1</td>\n",
       "      <td>5</td>\n",
       "      <td>Grains &amp; Cereals</td>\n",
       "      <td>Breads, crackers, pasta, and cereal</td>\n",
       "      <td>Laura Callahan</td>\n",
       "      <td>Sales Manager</td>\n",
       "      <td>New York</td>\n",
       "      <td>USA</td>\n",
       "      <td>2.0</td>\n",
       "      <td>United Package</td>\n",
       "    </tr>\n",
       "    <tr>\n",
       "      <th>4</th>\n",
       "      <td>10499</td>\n",
       "      <td>LILAS</td>\n",
       "      <td>4</td>\n",
       "      <td>2014-04-08</td>\n",
       "      <td>2014-05-06</td>\n",
       "      <td>2014-04-16</td>\n",
       "      <td>2</td>\n",
       "      <td>102.02</td>\n",
       "      <td>28</td>\n",
       "      <td>45.60</td>\n",
       "      <td>...</td>\n",
       "      <td>1</td>\n",
       "      <td>7</td>\n",
       "      <td>Produce</td>\n",
       "      <td>Dried fruit and bean curd</td>\n",
       "      <td>Margaret Peacock</td>\n",
       "      <td>Sales Representative</td>\n",
       "      <td>New York</td>\n",
       "      <td>USA</td>\n",
       "      <td>8.0</td>\n",
       "      <td>United Package</td>\n",
       "    </tr>\n",
       "    <tr>\n",
       "      <th>...</th>\n",
       "      <td>...</td>\n",
       "      <td>...</td>\n",
       "      <td>...</td>\n",
       "      <td>...</td>\n",
       "      <td>...</td>\n",
       "      <td>...</td>\n",
       "      <td>...</td>\n",
       "      <td>...</td>\n",
       "      <td>...</td>\n",
       "      <td>...</td>\n",
       "      <td>...</td>\n",
       "      <td>...</td>\n",
       "      <td>...</td>\n",
       "      <td>...</td>\n",
       "      <td>...</td>\n",
       "      <td>...</td>\n",
       "      <td>...</td>\n",
       "      <td>...</td>\n",
       "      <td>...</td>\n",
       "      <td>...</td>\n",
       "      <td>...</td>\n",
       "    </tr>\n",
       "    <tr>\n",
       "      <th>1492</th>\n",
       "      <td>11077</td>\n",
       "      <td>RATTC</td>\n",
       "      <td>1</td>\n",
       "      <td>2015-05-06</td>\n",
       "      <td>2015-06-03</td>\n",
       "      <td>NaN</td>\n",
       "      <td>2</td>\n",
       "      <td>8.53</td>\n",
       "      <td>64</td>\n",
       "      <td>33.25</td>\n",
       "      <td>...</td>\n",
       "      <td>0</td>\n",
       "      <td>5</td>\n",
       "      <td>Grains &amp; Cereals</td>\n",
       "      <td>Breads, crackers, pasta, and cereal</td>\n",
       "      <td>Nancy Davolio</td>\n",
       "      <td>Sales Representative</td>\n",
       "      <td>New York</td>\n",
       "      <td>USA</td>\n",
       "      <td>8.0</td>\n",
       "      <td>United Package</td>\n",
       "    </tr>\n",
       "    <tr>\n",
       "      <th>1493</th>\n",
       "      <td>11077</td>\n",
       "      <td>RATTC</td>\n",
       "      <td>1</td>\n",
       "      <td>2015-05-06</td>\n",
       "      <td>2015-06-03</td>\n",
       "      <td>NaN</td>\n",
       "      <td>2</td>\n",
       "      <td>8.53</td>\n",
       "      <td>66</td>\n",
       "      <td>17.00</td>\n",
       "      <td>...</td>\n",
       "      <td>0</td>\n",
       "      <td>2</td>\n",
       "      <td>Condiments</td>\n",
       "      <td>Sweet and savory sauces, relishes, spreads, an...</td>\n",
       "      <td>Nancy Davolio</td>\n",
       "      <td>Sales Representative</td>\n",
       "      <td>New York</td>\n",
       "      <td>USA</td>\n",
       "      <td>8.0</td>\n",
       "      <td>United Package</td>\n",
       "    </tr>\n",
       "    <tr>\n",
       "      <th>1494</th>\n",
       "      <td>11077</td>\n",
       "      <td>RATTC</td>\n",
       "      <td>1</td>\n",
       "      <td>2015-05-06</td>\n",
       "      <td>2015-06-03</td>\n",
       "      <td>NaN</td>\n",
       "      <td>2</td>\n",
       "      <td>8.53</td>\n",
       "      <td>73</td>\n",
       "      <td>15.00</td>\n",
       "      <td>...</td>\n",
       "      <td>0</td>\n",
       "      <td>8</td>\n",
       "      <td>Seafood</td>\n",
       "      <td>Seaweed and fish</td>\n",
       "      <td>Nancy Davolio</td>\n",
       "      <td>Sales Representative</td>\n",
       "      <td>New York</td>\n",
       "      <td>USA</td>\n",
       "      <td>8.0</td>\n",
       "      <td>United Package</td>\n",
       "    </tr>\n",
       "    <tr>\n",
       "      <th>1495</th>\n",
       "      <td>11077</td>\n",
       "      <td>RATTC</td>\n",
       "      <td>1</td>\n",
       "      <td>2015-05-06</td>\n",
       "      <td>2015-06-03</td>\n",
       "      <td>NaN</td>\n",
       "      <td>2</td>\n",
       "      <td>8.53</td>\n",
       "      <td>75</td>\n",
       "      <td>7.75</td>\n",
       "      <td>...</td>\n",
       "      <td>0</td>\n",
       "      <td>1</td>\n",
       "      <td>Beverages</td>\n",
       "      <td>Soft drinks, coffees, teas, beers, and ales</td>\n",
       "      <td>Nancy Davolio</td>\n",
       "      <td>Sales Representative</td>\n",
       "      <td>New York</td>\n",
       "      <td>USA</td>\n",
       "      <td>8.0</td>\n",
       "      <td>United Package</td>\n",
       "    </tr>\n",
       "    <tr>\n",
       "      <th>1496</th>\n",
       "      <td>11077</td>\n",
       "      <td>RATTC</td>\n",
       "      <td>1</td>\n",
       "      <td>2015-05-06</td>\n",
       "      <td>2015-06-03</td>\n",
       "      <td>NaN</td>\n",
       "      <td>2</td>\n",
       "      <td>8.53</td>\n",
       "      <td>77</td>\n",
       "      <td>13.00</td>\n",
       "      <td>...</td>\n",
       "      <td>0</td>\n",
       "      <td>2</td>\n",
       "      <td>Condiments</td>\n",
       "      <td>Sweet and savory sauces, relishes, spreads, an...</td>\n",
       "      <td>Nancy Davolio</td>\n",
       "      <td>Sales Representative</td>\n",
       "      <td>New York</td>\n",
       "      <td>USA</td>\n",
       "      <td>8.0</td>\n",
       "      <td>United Package</td>\n",
       "    </tr>\n",
       "  </tbody>\n",
       "</table>\n",
       "<p>1497 rows × 29 columns</p>\n",
       "</div>"
      ],
      "text/plain": [
       "      orderID customerID  employeeID   orderDate requiredDate shippedDate  \\\n",
       "0       10248      VINET           5  2013-07-04   2013-08-01  2013-07-16   \n",
       "1       10498      HILAA           8  2014-04-07   2014-05-05  2014-04-11   \n",
       "2       10498      HILAA           8  2014-04-07   2014-05-05  2014-04-11   \n",
       "3       10498      HILAA           8  2014-04-07   2014-05-05  2014-04-11   \n",
       "4       10499      LILAS           4  2014-04-08   2014-05-06  2014-04-16   \n",
       "...       ...        ...         ...         ...          ...         ...   \n",
       "1492    11077      RATTC           1  2015-05-06   2015-06-03         NaN   \n",
       "1493    11077      RATTC           1  2015-05-06   2015-06-03         NaN   \n",
       "1494    11077      RATTC           1  2015-05-06   2015-06-03         NaN   \n",
       "1495    11077      RATTC           1  2015-05-06   2015-06-03         NaN   \n",
       "1496    11077      RATTC           1  2015-05-06   2015-06-03         NaN   \n",
       "\n",
       "      shipperID  freight  productID  unitPrice  ...  discontinued  categoryID  \\\n",
       "0             3    32.38         72      34.80  ...             0           4   \n",
       "1             2    29.75         24       4.50  ...             1           1   \n",
       "2             2    29.75         40      18.40  ...             0           8   \n",
       "3             2    29.75         42      14.00  ...             1           5   \n",
       "4             2   102.02         28      45.60  ...             1           7   \n",
       "...         ...      ...        ...        ...  ...           ...         ...   \n",
       "1492          2     8.53         64      33.25  ...             0           5   \n",
       "1493          2     8.53         66      17.00  ...             0           2   \n",
       "1494          2     8.53         73      15.00  ...             0           8   \n",
       "1495          2     8.53         75       7.75  ...             0           1   \n",
       "1496          2     8.53         77      13.00  ...             0           2   \n",
       "\n",
       "          categoryName                                        description  \\\n",
       "0       Dairy Products                                            Cheeses   \n",
       "1            Beverages        Soft drinks, coffees, teas, beers, and ales   \n",
       "2              Seafood                                   Seaweed and fish   \n",
       "3     Grains & Cereals                Breads, crackers, pasta, and cereal   \n",
       "4              Produce                          Dried fruit and bean curd   \n",
       "...                ...                                                ...   \n",
       "1492  Grains & Cereals                Breads, crackers, pasta, and cereal   \n",
       "1493        Condiments  Sweet and savory sauces, relishes, spreads, an...   \n",
       "1494           Seafood                                   Seaweed and fish   \n",
       "1495         Beverages        Soft drinks, coffees, teas, beers, and ales   \n",
       "1496        Condiments  Sweet and savory sauces, relishes, spreads, an...   \n",
       "\n",
       "          employeeName                 title    city_y country_y reportsTo  \\\n",
       "0      Steven Buchanan         Sales Manager    London        UK       2.0   \n",
       "1       Laura Callahan         Sales Manager  New York       USA       2.0   \n",
       "2       Laura Callahan         Sales Manager  New York       USA       2.0   \n",
       "3       Laura Callahan         Sales Manager  New York       USA       2.0   \n",
       "4     Margaret Peacock  Sales Representative  New York       USA       8.0   \n",
       "...                ...                   ...       ...       ...       ...   \n",
       "1492     Nancy Davolio  Sales Representative  New York       USA       8.0   \n",
       "1493     Nancy Davolio  Sales Representative  New York       USA       8.0   \n",
       "1494     Nancy Davolio  Sales Representative  New York       USA       8.0   \n",
       "1495     Nancy Davolio  Sales Representative  New York       USA       8.0   \n",
       "1496     Nancy Davolio  Sales Representative  New York       USA       8.0   \n",
       "\n",
       "         companyName_y  \n",
       "0     Federal Shipping  \n",
       "1       United Package  \n",
       "2       United Package  \n",
       "3       United Package  \n",
       "4       United Package  \n",
       "...                ...  \n",
       "1492    United Package  \n",
       "1493    United Package  \n",
       "1494    United Package  \n",
       "1495    United Package  \n",
       "1496    United Package  \n",
       "\n",
       "[1497 rows x 29 columns]"
      ]
     },
     "execution_count": 16,
     "metadata": {},
     "output_type": "execute_result"
    }
   ],
   "source": [
    "df"
   ]
  },
  {
   "cell_type": "code",
   "execution_count": 17,
   "id": "7d5eb32c",
   "metadata": {
    "execution": {
     "iopub.execute_input": "2024-03-03T17:36:31.326217Z",
     "iopub.status.busy": "2024-03-03T17:36:31.325849Z",
     "iopub.status.idle": "2024-03-03T17:36:31.347424Z",
     "shell.execute_reply": "2024-03-03T17:36:31.346208Z"
    },
    "papermill": {
     "duration": 0.043307,
     "end_time": "2024-03-03T17:36:31.350168",
     "exception": false,
     "start_time": "2024-03-03T17:36:31.306861",
     "status": "completed"
    },
    "tags": []
   },
   "outputs": [
    {
     "name": "stdout",
     "output_type": "stream",
     "text": [
      "<class 'pandas.core.frame.DataFrame'>\n",
      "RangeIndex: 1497 entries, 0 to 1496\n",
      "Data columns (total 29 columns):\n",
      " #   Column           Non-Null Count  Dtype  \n",
      "---  ------           --------------  -----  \n",
      " 0   orderID          1497 non-null   int64  \n",
      " 1   customerID       1497 non-null   object \n",
      " 2   employeeID       1497 non-null   int64  \n",
      " 3   orderDate        1497 non-null   object \n",
      " 4   requiredDate     1497 non-null   object \n",
      " 5   shippedDate      1424 non-null   object \n",
      " 6   shipperID        1497 non-null   int64  \n",
      " 7   freight          1497 non-null   float64\n",
      " 8   productID        1497 non-null   int64  \n",
      " 9   unitPrice        1497 non-null   float64\n",
      " 10  quantity         1497 non-null   int64  \n",
      " 11  discount         1497 non-null   float64\n",
      " 12  companyName_x    1497 non-null   object \n",
      " 13  contactName      1497 non-null   object \n",
      " 14  contactTitle     1497 non-null   object \n",
      " 15  city_x           1497 non-null   object \n",
      " 16  country_x        1497 non-null   object \n",
      " 17  productName      1497 non-null   object \n",
      " 18  quantityPerUnit  1497 non-null   object \n",
      " 19  discontinued     1497 non-null   int64  \n",
      " 20  categoryID       1497 non-null   int64  \n",
      " 21  categoryName     1497 non-null   object \n",
      " 22  description      1497 non-null   object \n",
      " 23  employeeName     1497 non-null   object \n",
      " 24  title            1497 non-null   object \n",
      " 25  city_y           1497 non-null   object \n",
      " 26  country_y        1497 non-null   object \n",
      " 27  reportsTo        1314 non-null   float64\n",
      " 28  companyName_y    1497 non-null   object \n",
      "dtypes: float64(4), int64(7), object(18)\n",
      "memory usage: 339.3+ KB\n"
     ]
    }
   ],
   "source": [
    "#let give information about dataframe\n",
    "df.info()"
   ]
  },
  {
   "cell_type": "markdown",
   "id": "eea99f3b",
   "metadata": {
    "papermill": {
     "duration": 0.016674,
     "end_time": "2024-03-03T17:36:31.383830",
     "exception": false,
     "start_time": "2024-03-03T17:36:31.367156",
     "status": "completed"
    },
    "tags": []
   },
   "source": [
    "**Convert date columns to datetime format**"
   ]
  },
  {
   "cell_type": "code",
   "execution_count": 18,
   "id": "e21de741",
   "metadata": {
    "execution": {
     "iopub.execute_input": "2024-03-03T17:36:31.419745Z",
     "iopub.status.busy": "2024-03-03T17:36:31.419018Z",
     "iopub.status.idle": "2024-03-03T17:36:31.430770Z",
     "shell.execute_reply": "2024-03-03T17:36:31.429997Z"
    },
    "papermill": {
     "duration": 0.032477,
     "end_time": "2024-03-03T17:36:31.433240",
     "exception": false,
     "start_time": "2024-03-03T17:36:31.400763",
     "status": "completed"
    },
    "tags": []
   },
   "outputs": [],
   "source": [
    "df['orderDate'] = pd.to_datetime(df['orderDate'])"
   ]
  },
  {
   "cell_type": "code",
   "execution_count": 19,
   "id": "d8c67127",
   "metadata": {
    "execution": {
     "iopub.execute_input": "2024-03-03T17:36:31.538764Z",
     "iopub.status.busy": "2024-03-03T17:36:31.537915Z",
     "iopub.status.idle": "2024-03-03T17:36:31.545539Z",
     "shell.execute_reply": "2024-03-03T17:36:31.544491Z"
    },
    "papermill": {
     "duration": 0.097807,
     "end_time": "2024-03-03T17:36:31.547864",
     "exception": false,
     "start_time": "2024-03-03T17:36:31.450057",
     "status": "completed"
    },
    "tags": []
   },
   "outputs": [
    {
     "data": {
      "text/plain": [
       "dtype('<M8[ns]')"
      ]
     },
     "execution_count": 19,
     "metadata": {},
     "output_type": "execute_result"
    }
   ],
   "source": [
    "df['orderDate'].dtype"
   ]
  },
  {
   "cell_type": "code",
   "execution_count": 20,
   "id": "0f92d4c7",
   "metadata": {
    "execution": {
     "iopub.execute_input": "2024-03-03T17:36:31.585135Z",
     "iopub.status.busy": "2024-03-03T17:36:31.584289Z",
     "iopub.status.idle": "2024-03-03T17:36:31.592958Z",
     "shell.execute_reply": "2024-03-03T17:36:31.591964Z"
    },
    "papermill": {
     "duration": 0.029819,
     "end_time": "2024-03-03T17:36:31.595310",
     "exception": false,
     "start_time": "2024-03-03T17:36:31.565491",
     "status": "completed"
    },
    "tags": []
   },
   "outputs": [],
   "source": [
    "df['requiredDate'] = pd.to_datetime(df['requiredDate'])"
   ]
  },
  {
   "cell_type": "code",
   "execution_count": 21,
   "id": "88b749d9",
   "metadata": {
    "execution": {
     "iopub.execute_input": "2024-03-03T17:36:31.631961Z",
     "iopub.status.busy": "2024-03-03T17:36:31.631581Z",
     "iopub.status.idle": "2024-03-03T17:36:31.640044Z",
     "shell.execute_reply": "2024-03-03T17:36:31.638958Z"
    },
    "papermill": {
     "duration": 0.029449,
     "end_time": "2024-03-03T17:36:31.642311",
     "exception": false,
     "start_time": "2024-03-03T17:36:31.612862",
     "status": "completed"
    },
    "tags": []
   },
   "outputs": [
    {
     "data": {
      "text/plain": [
       "dtype('<M8[ns]')"
      ]
     },
     "execution_count": 21,
     "metadata": {},
     "output_type": "execute_result"
    }
   ],
   "source": [
    "df['requiredDate'].dtype"
   ]
  },
  {
   "cell_type": "code",
   "execution_count": 22,
   "id": "6a9ba505",
   "metadata": {
    "execution": {
     "iopub.execute_input": "2024-03-03T17:36:31.679830Z",
     "iopub.status.busy": "2024-03-03T17:36:31.678974Z",
     "iopub.status.idle": "2024-03-03T17:36:31.687547Z",
     "shell.execute_reply": "2024-03-03T17:36:31.686535Z"
    },
    "papermill": {
     "duration": 0.030106,
     "end_time": "2024-03-03T17:36:31.689950",
     "exception": false,
     "start_time": "2024-03-03T17:36:31.659844",
     "status": "completed"
    },
    "tags": []
   },
   "outputs": [],
   "source": [
    "df['shippedDate'] = pd.to_datetime(df['shippedDate'])"
   ]
  },
  {
   "cell_type": "code",
   "execution_count": 23,
   "id": "b2bf0467",
   "metadata": {
    "execution": {
     "iopub.execute_input": "2024-03-03T17:36:31.727842Z",
     "iopub.status.busy": "2024-03-03T17:36:31.726886Z",
     "iopub.status.idle": "2024-03-03T17:36:31.734450Z",
     "shell.execute_reply": "2024-03-03T17:36:31.733464Z"
    },
    "papermill": {
     "duration": 0.029174,
     "end_time": "2024-03-03T17:36:31.736690",
     "exception": false,
     "start_time": "2024-03-03T17:36:31.707516",
     "status": "completed"
    },
    "tags": []
   },
   "outputs": [
    {
     "data": {
      "text/plain": [
       "dtype('<M8[ns]')"
      ]
     },
     "execution_count": 23,
     "metadata": {},
     "output_type": "execute_result"
    }
   ],
   "source": [
    "df['shippedDate'].dtype"
   ]
  },
  {
   "cell_type": "markdown",
   "id": "242de532",
   "metadata": {
    "papermill": {
     "duration": 0.017979,
     "end_time": "2024-03-03T17:36:31.773662",
     "exception": false,
     "start_time": "2024-03-03T17:36:31.755683",
     "status": "completed"
    },
    "tags": []
   },
   "source": [
    "## 1.Are there any noticeable sales trends over time?"
   ]
  },
  {
   "cell_type": "code",
   "execution_count": 24,
   "id": "ed83adc8",
   "metadata": {
    "execution": {
     "iopub.execute_input": "2024-03-03T17:36:31.811807Z",
     "iopub.status.busy": "2024-03-03T17:36:31.810982Z",
     "iopub.status.idle": "2024-03-03T17:36:31.820063Z",
     "shell.execute_reply": "2024-03-03T17:36:31.819107Z"
    },
    "papermill": {
     "duration": 0.030759,
     "end_time": "2024-03-03T17:36:31.822332",
     "exception": false,
     "start_time": "2024-03-03T17:36:31.791573",
     "status": "completed"
    },
    "tags": []
   },
   "outputs": [
    {
     "data": {
      "text/plain": [
       "0      2013-07-04\n",
       "1      2014-04-07\n",
       "2      2014-04-07\n",
       "3      2014-04-07\n",
       "4      2014-04-08\n",
       "          ...    \n",
       "1492   2015-05-06\n",
       "1493   2015-05-06\n",
       "1494   2015-05-06\n",
       "1495   2015-05-06\n",
       "1496   2015-05-06\n",
       "Name: orderDate, Length: 1497, dtype: datetime64[ns]"
      ]
     },
     "execution_count": 24,
     "metadata": {},
     "output_type": "execute_result"
    }
   ],
   "source": [
    "df['orderDate']"
   ]
  },
  {
   "cell_type": "code",
   "execution_count": 25,
   "id": "4afffccd",
   "metadata": {
    "execution": {
     "iopub.execute_input": "2024-03-03T17:36:31.861333Z",
     "iopub.status.busy": "2024-03-03T17:36:31.860477Z",
     "iopub.status.idle": "2024-03-03T17:36:31.867532Z",
     "shell.execute_reply": "2024-03-03T17:36:31.866508Z"
    },
    "papermill": {
     "duration": 0.029648,
     "end_time": "2024-03-03T17:36:31.870071",
     "exception": false,
     "start_time": "2024-03-03T17:36:31.840423",
     "status": "completed"
    },
    "tags": []
   },
   "outputs": [],
   "source": [
    "df['orderMonth'] = df['orderDate'].dt.month"
   ]
  },
  {
   "cell_type": "code",
   "execution_count": 26,
   "id": "3583d207",
   "metadata": {
    "execution": {
     "iopub.execute_input": "2024-03-03T17:36:31.909234Z",
     "iopub.status.busy": "2024-03-03T17:36:31.908373Z",
     "iopub.status.idle": "2024-03-03T17:36:31.917366Z",
     "shell.execute_reply": "2024-03-03T17:36:31.916315Z"
    },
    "papermill": {
     "duration": 0.031671,
     "end_time": "2024-03-03T17:36:31.920062",
     "exception": false,
     "start_time": "2024-03-03T17:36:31.888391",
     "status": "completed"
    },
    "tags": []
   },
   "outputs": [],
   "source": [
    "sales_over_time = df.groupby(['orderDate','orderMonth'])['freight'].sum()"
   ]
  },
  {
   "cell_type": "code",
   "execution_count": 27,
   "id": "1f1b27ac",
   "metadata": {
    "execution": {
     "iopub.execute_input": "2024-03-03T17:36:31.959892Z",
     "iopub.status.busy": "2024-03-03T17:36:31.959512Z",
     "iopub.status.idle": "2024-03-03T17:36:32.529756Z",
     "shell.execute_reply": "2024-03-03T17:36:32.528884Z"
    },
    "papermill": {
     "duration": 0.59348,
     "end_time": "2024-03-03T17:36:32.532017",
     "exception": false,
     "start_time": "2024-03-03T17:36:31.938537",
     "status": "completed"
    },
    "tags": []
   },
   "outputs": [
    {
     "data": {
      "image/png": "[encoded data removed]",
      "text/plain": [
       "<Figure size 1000x600 with 1 Axes>"
      ]
     },
     "metadata": {},
     "output_type": "display_data"
    }
   ],
   "source": [
    "# Plot total sales by month\n",
    "plt.figure(figsize=(10, 6))\n",
    "sales_over_time.plot(kind='line', marker='*', color='red')\n",
    "plt.title('Total Sales by Month')\n",
    "plt.xlabel('Month')\n",
    "plt.ylabel('Total Sales')\n",
    "plt.grid(True)\n",
    "plt.tight_layout()\n",
    "plt.show()"
   ]
  },
  {
   "cell_type": "code",
   "execution_count": 28,
   "id": "8e398f90",
   "metadata": {
    "execution": {
     "iopub.execute_input": "2024-03-03T17:36:32.575200Z",
     "iopub.status.busy": "2024-03-03T17:36:32.573932Z",
     "iopub.status.idle": "2024-03-03T17:36:32.582261Z",
     "shell.execute_reply": "2024-03-03T17:36:32.581186Z"
    },
    "papermill": {
     "duration": 0.033158,
     "end_time": "2024-03-03T17:36:32.585156",
     "exception": false,
     "start_time": "2024-03-03T17:36:32.551998",
     "status": "completed"
    },
    "tags": []
   },
   "outputs": [
    {
     "name": "stdout",
     "output_type": "stream",
     "text": [
      "\n",
      "Total sales by month:\n",
      "orderDate   orderMonth\n",
      "2013-07-04  7               32.38\n",
      "2014-04-07  4               89.25\n",
      "2014-04-08  4              204.04\n",
      "2014-04-09  4               94.21\n",
      "2014-04-10  4              207.96\n",
      "                           ...   \n",
      "2015-04-30  4              341.02\n",
      "2015-05-01  5              310.43\n",
      "2015-05-04  5              268.90\n",
      "2015-05-05  5             1630.32\n",
      "2015-05-06  5              365.10\n",
      "Name: freight, Length: 284, dtype: float64\n"
     ]
    }
   ],
   "source": [
    "print(\"\\nTotal sales by month:\")\n",
    "print(sales_over_time)"
   ]
  },
  {
   "cell_type": "markdown",
   "id": "219c32c2",
   "metadata": {
    "papermill": {
     "duration": 0.019436,
     "end_time": "2024-03-03T17:36:32.624494",
     "exception": false,
     "start_time": "2024-03-03T17:36:32.605058",
     "status": "completed"
    },
    "tags": []
   },
   "source": [
    "## 2.Which are the best and worst-selling products?"
   ]
  },
  {
   "cell_type": "code",
   "execution_count": 29,
   "id": "ddd3c0a9",
   "metadata": {
    "execution": {
     "iopub.execute_input": "2024-03-03T17:36:32.668777Z",
     "iopub.status.busy": "2024-03-03T17:36:32.668418Z",
     "iopub.status.idle": "2024-03-03T17:36:32.675708Z",
     "shell.execute_reply": "2024-03-03T17:36:32.674577Z"
    },
    "papermill": {
     "duration": 0.031405,
     "end_time": "2024-03-03T17:36:32.678149",
     "exception": false,
     "start_time": "2024-03-03T17:36:32.646744",
     "status": "completed"
    },
    "tags": []
   },
   "outputs": [],
   "source": [
    "#let best selling products as\n",
    "best_selling_products = df.groupby('productName')['quantity'].sum().sort_values(ascending=False).head(5)"
   ]
  },
  {
   "cell_type": "code",
   "execution_count": 30,
   "id": "9fae47b3",
   "metadata": {
    "execution": {
     "iopub.execute_input": "2024-03-03T17:36:32.720692Z",
     "iopub.status.busy": "2024-03-03T17:36:32.720322Z",
     "iopub.status.idle": "2024-03-03T17:36:32.731015Z",
     "shell.execute_reply": "2024-03-03T17:36:32.729902Z"
    },
    "papermill": {
     "duration": 0.034812,
     "end_time": "2024-03-03T17:36:32.733392",
     "exception": false,
     "start_time": "2024-03-03T17:36:32.698580",
     "status": "completed"
    },
    "tags": []
   },
   "outputs": [
    {
     "data": {
      "text/plain": [
       "productName\n",
       "Camembert Pierrot         1087\n",
       "Rhönbräu Klosterbier       961\n",
       "Raclette Courdavault       952\n",
       "Gnocchi di nonna Alice     885\n",
       "Gorgonzola Telino          881\n",
       "Name: quantity, dtype: int64"
      ]
     },
     "execution_count": 30,
     "metadata": {},
     "output_type": "execute_result"
    }
   ],
   "source": [
    "df.groupby('productName')['quantity'].sum().sort_values(ascending=False).head(5)"
   ]
  },
  {
   "cell_type": "code",
   "execution_count": 31,
   "id": "4871ac28",
   "metadata": {
    "execution": {
     "iopub.execute_input": "2024-03-03T17:36:32.775967Z",
     "iopub.status.busy": "2024-03-03T17:36:32.775294Z",
     "iopub.status.idle": "2024-03-03T17:36:33.139671Z",
     "shell.execute_reply": "2024-03-03T17:36:33.138542Z"
    },
    "papermill": {
     "duration": 0.388961,
     "end_time": "2024-03-03T17:36:33.142400",
     "exception": false,
     "start_time": "2024-03-03T17:36:32.753439",
     "status": "completed"
    },
    "tags": []
   },
   "outputs": [
    {
     "data": {
      "image/png": "[encoded data removed]",
      "text/plain": [
       "<Figure size 1000x600 with 1 Axes>"
      ]
     },
     "metadata": {},
     "output_type": "display_data"
    }
   ],
   "source": [
    "# Plot the bar chart\n",
    "plt.figure(figsize=(10, 6))\n",
    "best_selling_products.plot(kind='barh', color='GREEN')\n",
    "plt.title('Best selling products')\n",
    "plt.xlabel('quantity')\n",
    "plt.ylabel('productName')\n",
    "plt.xticks(rotation=90)  # Rotate x-axis labels for better readability\n",
    "plt.tight_layout()\n",
    "plt.gca().invert_yaxis()\n",
    "plt.show()"
   ]
  },
  {
   "cell_type": "markdown",
   "id": "b1f61254",
   "metadata": {
    "papermill": {
     "duration": 0.020325,
     "end_time": "2024-03-03T17:36:33.183367",
     "exception": false,
     "start_time": "2024-03-03T17:36:33.163042",
     "status": "completed"
    },
    "tags": []
   },
   "source": [
    "**Best-selling product:Camembert pierrot\n",
    "Total quantity sold: 1087**"
   ]
  },
  {
   "cell_type": "code",
   "execution_count": 32,
   "id": "b4af8dba",
   "metadata": {
    "execution": {
     "iopub.execute_input": "2024-03-03T17:36:33.226839Z",
     "iopub.status.busy": "2024-03-03T17:36:33.226428Z",
     "iopub.status.idle": "2024-03-03T17:36:33.233349Z",
     "shell.execute_reply": "2024-03-03T17:36:33.232532Z"
    },
    "papermill": {
     "duration": 0.031357,
     "end_time": "2024-03-03T17:36:33.235593",
     "exception": false,
     "start_time": "2024-03-03T17:36:33.204236",
     "status": "completed"
    },
    "tags": []
   },
   "outputs": [],
   "source": [
    "#let worst selling products as\n",
    "worst_selling_products = df.groupby('productName')['quantity'].sum().sort_values().head(5)"
   ]
  },
  {
   "cell_type": "code",
   "execution_count": 33,
   "id": "cd29ab4d",
   "metadata": {
    "execution": {
     "iopub.execute_input": "2024-03-03T17:36:33.279169Z",
     "iopub.status.busy": "2024-03-03T17:36:33.278765Z",
     "iopub.status.idle": "2024-03-03T17:36:33.288308Z",
     "shell.execute_reply": "2024-03-03T17:36:33.287441Z"
    },
    "papermill": {
     "duration": 0.034106,
     "end_time": "2024-03-03T17:36:33.290561",
     "exception": false,
     "start_time": "2024-03-03T17:36:33.256455",
     "status": "completed"
    },
    "tags": []
   },
   "outputs": [
    {
     "data": {
      "text/plain": [
       "productName\n",
       "Chocolade                    53\n",
       "Mishi Kobe Niku              75\n",
       "Louisiana Hot Spiced Okra    79\n",
       "Gravad lax                   86\n",
       "Longlife Tofu                95\n",
       "Name: quantity, dtype: int64"
      ]
     },
     "execution_count": 33,
     "metadata": {},
     "output_type": "execute_result"
    }
   ],
   "source": [
    "df.groupby('productName')['quantity'].sum().sort_values().head(5)"
   ]
  },
  {
   "cell_type": "code",
   "execution_count": 34,
   "id": "308787e2",
   "metadata": {
    "execution": {
     "iopub.execute_input": "2024-03-03T17:36:33.335776Z",
     "iopub.status.busy": "2024-03-03T17:36:33.334714Z",
     "iopub.status.idle": "2024-03-03T17:36:33.677231Z",
     "shell.execute_reply": "2024-03-03T17:36:33.676066Z"
    },
    "papermill": {
     "duration": 0.367876,
     "end_time": "2024-03-03T17:36:33.679750",
     "exception": false,
     "start_time": "2024-03-03T17:36:33.311874",
     "status": "completed"
    },
    "tags": []
   },
   "outputs": [
    {
     "data": {
      "image/png": "[encoded data removed]",
      "text/plain": [
       "<Figure size 1000x600 with 1 Axes>"
      ]
     },
     "metadata": {},
     "output_type": "display_data"
    }
   ],
   "source": [
    "# Plot the bar chart\n",
    "plt.figure(figsize=(10, 6))\n",
    "worst_selling_products.plot(kind='barh', color='red')\n",
    "plt.title('worst selling products')\n",
    "plt.xlabel('quantity')\n",
    "plt.ylabel('productName')\n",
    "plt.tight_layout()\n",
    "plt.gca().invert_yaxis()\n",
    "plt.show()"
   ]
  },
  {
   "cell_type": "markdown",
   "id": "b27d5b95",
   "metadata": {
    "papermill": {
     "duration": 0.022223,
     "end_time": "2024-03-03T17:36:33.723860",
     "exception": false,
     "start_time": "2024-03-03T17:36:33.701637",
     "status": "completed"
    },
    "tags": []
   },
   "source": [
    "**Worst-selling product: Chocolade\n",
    "Total quantity sold: 53**"
   ]
  },
  {
   "cell_type": "markdown",
   "id": "f00bdb6f",
   "metadata": {
    "papermill": {
     "duration": 0.021624,
     "end_time": "2024-03-03T17:36:33.767502",
     "exception": false,
     "start_time": "2024-03-03T17:36:33.745878",
     "status": "completed"
    },
    "tags": []
   },
   "source": [
    "## 3.Can you identify any key customers?"
   ]
  },
  {
   "cell_type": "code",
   "execution_count": 35,
   "id": "160cafcc",
   "metadata": {
    "execution": {
     "iopub.execute_input": "2024-03-03T17:36:33.813228Z",
     "iopub.status.busy": "2024-03-03T17:36:33.812867Z",
     "iopub.status.idle": "2024-03-03T17:36:33.818620Z",
     "shell.execute_reply": "2024-03-03T17:36:33.817250Z"
    },
    "papermill": {
     "duration": 0.031616,
     "end_time": "2024-03-03T17:36:33.821059",
     "exception": false,
     "start_time": "2024-03-03T17:36:33.789443",
     "status": "completed"
    },
    "tags": []
   },
   "outputs": [],
   "source": [
    "# Calculate total purchase amount for each customer\n",
    "df['total_purchase_amount'] = df['unitPrice'] * df['quantity']"
   ]
  },
  {
   "cell_type": "code",
   "execution_count": 36,
   "id": "94323df6",
   "metadata": {
    "execution": {
     "iopub.execute_input": "2024-03-03T17:36:33.867271Z",
     "iopub.status.busy": "2024-03-03T17:36:33.866638Z",
     "iopub.status.idle": "2024-03-03T17:36:33.872302Z",
     "shell.execute_reply": "2024-03-03T17:36:33.871294Z"
    },
    "papermill": {
     "duration": 0.031496,
     "end_time": "2024-03-03T17:36:33.874670",
     "exception": false,
     "start_time": "2024-03-03T17:36:33.843174",
     "status": "completed"
    },
    "tags": []
   },
   "outputs": [],
   "source": [
    "# Group by customerID and sum the total purchase amount\n",
    "total_purchase_per_customer = df.groupby('customerID')['total_purchase_amount'].sum()"
   ]
  },
  {
   "cell_type": "code",
   "execution_count": 37,
   "id": "a3642a91",
   "metadata": {
    "execution": {
     "iopub.execute_input": "2024-03-03T17:36:33.921313Z",
     "iopub.status.busy": "2024-03-03T17:36:33.920944Z",
     "iopub.status.idle": "2024-03-03T17:36:33.926696Z",
     "shell.execute_reply": "2024-03-03T17:36:33.925692Z"
    },
    "papermill": {
     "duration": 0.032466,
     "end_time": "2024-03-03T17:36:33.929156",
     "exception": false,
     "start_time": "2024-03-03T17:36:33.896690",
     "status": "completed"
    },
    "tags": []
   },
   "outputs": [],
   "source": [
    "# Sort customers based on total purchase amount in descending order\n",
    "key_customers= total_purchase_per_customer.sort_values(ascending=False)[0:5]"
   ]
  },
  {
   "cell_type": "code",
   "execution_count": 38,
   "id": "23902d7a",
   "metadata": {
    "execution": {
     "iopub.execute_input": "2024-03-03T17:36:33.976456Z",
     "iopub.status.busy": "2024-03-03T17:36:33.976079Z",
     "iopub.status.idle": "2024-03-03T17:36:33.982422Z",
     "shell.execute_reply": "2024-03-03T17:36:33.981370Z"
    },
    "papermill": {
     "duration": 0.032585,
     "end_time": "2024-03-03T17:36:33.984870",
     "exception": false,
     "start_time": "2024-03-03T17:36:33.952285",
     "status": "completed"
    },
    "tags": []
   },
   "outputs": [
    {
     "name": "stdout",
     "output_type": "stream",
     "text": [
      "\n",
      "Key Customers:\n",
      " customerID\n",
      "QUICK    98672.79\n",
      "SAVEA    95589.79\n",
      "ERNSH    84758.88\n",
      "HUNGO    45006.89\n",
      "HANAR    30843.35\n",
      "Name: total_purchase_amount, dtype: float64\n"
     ]
    }
   ],
   "source": [
    "print(\"\\nKey Customers:\\n\", key_customers)"
   ]
  },
  {
   "cell_type": "code",
   "execution_count": 39,
   "id": "e8ad5b76",
   "metadata": {
    "execution": {
     "iopub.execute_input": "2024-03-03T17:36:34.030986Z",
     "iopub.status.busy": "2024-03-03T17:36:34.030256Z",
     "iopub.status.idle": "2024-03-03T17:36:34.237468Z",
     "shell.execute_reply": "2024-03-03T17:36:34.235802Z"
    },
    "papermill": {
     "duration": 0.23543,
     "end_time": "2024-03-03T17:36:34.242331",
     "exception": false,
     "start_time": "2024-03-03T17:36:34.006901",
     "status": "completed"
    },
    "tags": []
   },
   "outputs": [
    {
     "data": {
      "image/png": "[encoded data removed]",
      "text/plain": [
       "<Figure size 1000x600 with 1 Axes>"
      ]
     },
     "metadata": {},
     "output_type": "display_data"
    }
   ],
   "source": [
    "#let plotting pie chart\n",
    "plt.figure(figsize=(10, 6))\n",
    "key_customers.plot(kind='pie',autopct='%.1f%%')\n",
    "plt.title('key_customers')\n",
    "plt.show()"
   ]
  },
  {
   "cell_type": "markdown",
   "id": "8f03acc3",
   "metadata": {
    "papermill": {
     "duration": 0.022394,
     "end_time": "2024-03-03T17:36:34.297117",
     "exception": false,
     "start_time": "2024-03-03T17:36:34.274723",
     "status": "completed"
    },
    "tags": []
   },
   "source": [
    "## 4.Are shipping costs consistent across providers?"
   ]
  },
  {
   "cell_type": "code",
   "execution_count": 40,
   "id": "900a5f9b",
   "metadata": {
    "execution": {
     "iopub.execute_input": "2024-03-03T17:36:34.344760Z",
     "iopub.status.busy": "2024-03-03T17:36:34.343704Z",
     "iopub.status.idle": "2024-03-03T17:36:34.349757Z",
     "shell.execute_reply": "2024-03-03T17:36:34.348980Z"
    },
    "papermill": {
     "duration": 0.032166,
     "end_time": "2024-03-03T17:36:34.351920",
     "exception": false,
     "start_time": "2024-03-03T17:36:34.319754",
     "status": "completed"
    },
    "tags": []
   },
   "outputs": [],
   "source": [
    "shipping_costs=df.groupby('companyName_y')['freight'].mean()"
   ]
  },
  {
   "cell_type": "code",
   "execution_count": 41,
   "id": "74ba038f",
   "metadata": {
    "execution": {
     "iopub.execute_input": "2024-03-03T17:36:34.399932Z",
     "iopub.status.busy": "2024-03-03T17:36:34.398800Z",
     "iopub.status.idle": "2024-03-03T17:36:34.407355Z",
     "shell.execute_reply": "2024-03-03T17:36:34.406584Z"
    },
    "papermill": {
     "duration": 0.034825,
     "end_time": "2024-03-03T17:36:34.409594",
     "exception": false,
     "start_time": "2024-03-03T17:36:34.374769",
     "status": "completed"
    },
    "tags": []
   },
   "outputs": [
    {
     "data": {
      "text/plain": [
       "companyName_y\n",
       "Federal Shipping    107.627874\n",
       "Speedy Express       84.867292\n",
       "United Package      116.895912\n",
       "Name: freight, dtype: float64"
      ]
     },
     "execution_count": 41,
     "metadata": {},
     "output_type": "execute_result"
    }
   ],
   "source": [
    "df.groupby('companyName_y')['freight'].mean()"
   ]
  },
  {
   "cell_type": "code",
   "execution_count": 42,
   "id": "dcfaee45",
   "metadata": {
    "execution": {
     "iopub.execute_input": "2024-03-03T17:36:34.458386Z",
     "iopub.status.busy": "2024-03-03T17:36:34.457330Z",
     "iopub.status.idle": "2024-03-03T17:36:34.838528Z",
     "shell.execute_reply": "2024-03-03T17:36:34.837446Z"
    },
    "papermill": {
     "duration": 0.407971,
     "end_time": "2024-03-03T17:36:34.840927",
     "exception": false,
     "start_time": "2024-03-03T17:36:34.432956",
     "status": "completed"
    },
    "tags": []
   },
   "outputs": [
    {
     "data": {
      "image/png": "[encoded data removed]",
      "text/plain": [
       "<Figure size 1000x600 with 1 Axes>"
      ]
     },
     "metadata": {},
     "output_type": "display_data"
    }
   ],
   "source": [
    "#let plot a bar chart\n",
    "plt.figure(figsize=(10, 6))\n",
    "shipping_costs.plot(kind='bar', color='red')\n",
    "plt.title('shipping_costs_by_shipper')\n",
    "plt.xlabel('companyName')\n",
    "plt.ylabel('freight')\n",
    "plt.xticks(rotation=45)\n",
    "plt.tight_layout()\n",
    "plt.show()"
   ]
  },
  {
   "cell_type": "markdown",
   "id": "0c5914b8",
   "metadata": {
    "papermill": {
     "duration": 0.023603,
     "end_time": "2024-03-03T17:36:34.888428",
     "exception": false,
     "start_time": "2024-03-03T17:36:34.864825",
     "status": "completed"
    },
    "tags": []
   },
   "source": [
    "**United package company is has higher shipping cost of 116.895912 among 3 companies**"
   ]
  }
 ],
 "metadata": {
  "kaggle": {
   "accelerator": "none",
   "dataSources": [
    {
     "datasetId": 3440127,
     "sourceId": 6007063,
     "sourceType": "datasetVersion"
    }
   ],
   "dockerImageVersionId": 30664,
   "isGpuEnabled": false,
   "isInternetEnabled": true,
   "language": "python",
   "sourceType": "notebook"
  },
  "kernelspec": {
   "display_name": "Python 3",
   "language": "python",
   "name": "python3"
  },
  "language_info": {
   "codemirror_mode": {
    "name": "ipython",
    "version": 3
   },
   "file_extension": ".py",
   "mimetype": "text/x-python",
   "name": "python",
   "nbconvert_exporter": "python",
   "pygments_lexer": "ipython3",
   "version": "3.10.13"
  },
  "papermill": {
   "default_parameters": {},
   "duration": 10.139671,
   "end_time": "2024-03-03T17:36:35.533404",
   "environment_variables": {},
   "exception": null,
   "input_path": "__notebook__.ipynb",
   "output_path": "__notebook__.ipynb",
   "parameters": {},
   "start_time": "2024-03-03T17:36:25.393733",
   "version": "2.5.0"
  }
 },
 "nbformat": 4,
 "nbformat_minor": 5
}
