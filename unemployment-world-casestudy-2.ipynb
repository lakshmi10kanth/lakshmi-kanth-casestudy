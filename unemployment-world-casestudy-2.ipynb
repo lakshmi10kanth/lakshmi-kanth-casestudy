{
 "cells": [
  {
   "cell_type": "code",
   "execution_count": 1,
   "id": "b4e50604",
   "metadata": {
    "_cell_guid": "b1076dfc-b9ad-4769-8c92-a6c4dae69d19",
    "_uuid": "8f2839f25d086af736a60e9eeb907d3b93b6e0e5",
    "execution": {
     "iopub.execute_input": "2024-01-18T11:01:16.489154Z",
     "iopub.status.busy": "2024-01-18T11:01:16.488842Z",
     "iopub.status.idle": "2024-01-18T11:01:17.960642Z",
     "shell.execute_reply": "2024-01-18T11:01:17.959195Z"
    },
    "papermill": {
     "duration": 1.48146,
     "end_time": "2024-01-18T11:01:17.963091",
     "exception": false,
     "start_time": "2024-01-18T11:01:16.481631",
     "status": "completed"
    },
    "tags": []
   },
   "outputs": [],
   "source": [
    "#let import library\n",
    "import pandas as pd\n",
    "import numpy as np\n",
    "import matplotlib.pyplot as plt\n",
    "import seaborn as sns"
   ]
  },
  {
   "cell_type": "code",
   "execution_count": 2,
   "id": "6b7cd42e",
   "metadata": {
    "execution": {
     "iopub.execute_input": "2024-01-18T11:01:17.975940Z",
     "iopub.status.busy": "2024-01-18T11:01:17.975474Z",
     "iopub.status.idle": "2024-01-18T11:01:18.511885Z",
     "shell.execute_reply": "2024-01-18T11:01:18.510950Z"
    },
    "papermill": {
     "duration": 0.544949,
     "end_time": "2024-01-18T11:01:18.513796",
     "exception": false,
     "start_time": "2024-01-18T11:01:17.968847",
     "status": "completed"
    },
    "tags": []
   },
   "outputs": [
    {
     "data": {
      "text/html": [
       "<div>\n",
       "<style scoped>\n",
       "    .dataframe tbody tr th:only-of-type {\n",
       "        vertical-align: middle;\n",
       "    }\n",
       "\n",
       "    .dataframe tbody tr th {\n",
       "        vertical-align: top;\n",
       "    }\n",
       "\n",
       "    .dataframe thead th {\n",
       "        text-align: right;\n",
       "    }\n",
       "</style>\n",
       "<table border=\"1\" class=\"dataframe\">\n",
       "  <thead>\n",
       "    <tr style=\"text-align: right;\">\n",
       "      <th></th>\n",
       "      <th>Country Name</th>\n",
       "      <th>Country Code</th>\n",
       "      <th>1998</th>\n",
       "      <th>1999</th>\n",
       "      <th>2000</th>\n",
       "      <th>2001</th>\n",
       "      <th>2002</th>\n",
       "      <th>2003</th>\n",
       "      <th>2004</th>\n",
       "      <th>2005</th>\n",
       "      <th>...</th>\n",
       "      <th>2013</th>\n",
       "      <th>2014</th>\n",
       "      <th>2015</th>\n",
       "      <th>2016</th>\n",
       "      <th>2017</th>\n",
       "      <th>2018</th>\n",
       "      <th>2019</th>\n",
       "      <th>2020</th>\n",
       "      <th>2021</th>\n",
       "      <th>2022</th>\n",
       "    </tr>\n",
       "  </thead>\n",
       "  <tbody>\n",
       "    <tr>\n",
       "      <th>0</th>\n",
       "      <td>Afghanistan</td>\n",
       "      <td>AFG</td>\n",
       "      <td>8.082</td>\n",
       "      <td>8.070</td>\n",
       "      <td>8.054</td>\n",
       "      <td>8.040</td>\n",
       "      <td>8.186</td>\n",
       "      <td>8.122</td>\n",
       "      <td>8.053</td>\n",
       "      <td>8.113</td>\n",
       "      <td>...</td>\n",
       "      <td>7.949</td>\n",
       "      <td>7.910</td>\n",
       "      <td>8.989</td>\n",
       "      <td>10.086</td>\n",
       "      <td>11.180</td>\n",
       "      <td>11.110</td>\n",
       "      <td>11.085</td>\n",
       "      <td>11.710</td>\n",
       "      <td>0.000</td>\n",
       "      <td>0.000</td>\n",
       "    </tr>\n",
       "    <tr>\n",
       "      <th>1</th>\n",
       "      <td>Albania</td>\n",
       "      <td>ALB</td>\n",
       "      <td>20.047</td>\n",
       "      <td>20.840</td>\n",
       "      <td>19.028</td>\n",
       "      <td>18.575</td>\n",
       "      <td>17.895</td>\n",
       "      <td>16.989</td>\n",
       "      <td>16.310</td>\n",
       "      <td>15.970</td>\n",
       "      <td>...</td>\n",
       "      <td>15.870</td>\n",
       "      <td>18.050</td>\n",
       "      <td>17.190</td>\n",
       "      <td>15.420</td>\n",
       "      <td>13.620</td>\n",
       "      <td>12.300</td>\n",
       "      <td>11.470</td>\n",
       "      <td>13.067</td>\n",
       "      <td>12.683</td>\n",
       "      <td>11.808</td>\n",
       "    </tr>\n",
       "    <tr>\n",
       "      <th>2</th>\n",
       "      <td>Algeria</td>\n",
       "      <td>DZA</td>\n",
       "      <td>26.640</td>\n",
       "      <td>28.304</td>\n",
       "      <td>29.770</td>\n",
       "      <td>27.300</td>\n",
       "      <td>25.900</td>\n",
       "      <td>23.720</td>\n",
       "      <td>17.650</td>\n",
       "      <td>15.270</td>\n",
       "      <td>...</td>\n",
       "      <td>9.820</td>\n",
       "      <td>10.210</td>\n",
       "      <td>11.210</td>\n",
       "      <td>10.200</td>\n",
       "      <td>10.334</td>\n",
       "      <td>10.416</td>\n",
       "      <td>10.495</td>\n",
       "      <td>12.248</td>\n",
       "      <td>11.747</td>\n",
       "      <td>11.550</td>\n",
       "    </tr>\n",
       "    <tr>\n",
       "      <th>3</th>\n",
       "      <td>Angola</td>\n",
       "      <td>AGO</td>\n",
       "      <td>4.234</td>\n",
       "      <td>4.206</td>\n",
       "      <td>4.163</td>\n",
       "      <td>4.119</td>\n",
       "      <td>4.043</td>\n",
       "      <td>4.043</td>\n",
       "      <td>3.972</td>\n",
       "      <td>3.915</td>\n",
       "      <td>...</td>\n",
       "      <td>8.834</td>\n",
       "      <td>9.580</td>\n",
       "      <td>9.584</td>\n",
       "      <td>9.586</td>\n",
       "      <td>9.535</td>\n",
       "      <td>9.522</td>\n",
       "      <td>9.481</td>\n",
       "      <td>10.350</td>\n",
       "      <td>10.384</td>\n",
       "      <td>10.209</td>\n",
       "    </tr>\n",
       "    <tr>\n",
       "      <th>4</th>\n",
       "      <td>Argentina</td>\n",
       "      <td>ARG</td>\n",
       "      <td>12.650</td>\n",
       "      <td>14.050</td>\n",
       "      <td>15.000</td>\n",
       "      <td>17.320</td>\n",
       "      <td>19.590</td>\n",
       "      <td>15.360</td>\n",
       "      <td>13.520</td>\n",
       "      <td>11.510</td>\n",
       "      <td>...</td>\n",
       "      <td>7.100</td>\n",
       "      <td>7.270</td>\n",
       "      <td>7.524</td>\n",
       "      <td>8.109</td>\n",
       "      <td>8.350</td>\n",
       "      <td>9.220</td>\n",
       "      <td>9.840</td>\n",
       "      <td>11.460</td>\n",
       "      <td>8.740</td>\n",
       "      <td>6.491</td>\n",
       "    </tr>\n",
       "    <tr>\n",
       "      <th>...</th>\n",
       "      <td>...</td>\n",
       "      <td>...</td>\n",
       "      <td>...</td>\n",
       "      <td>...</td>\n",
       "      <td>...</td>\n",
       "      <td>...</td>\n",
       "      <td>...</td>\n",
       "      <td>...</td>\n",
       "      <td>...</td>\n",
       "      <td>...</td>\n",
       "      <td>...</td>\n",
       "      <td>...</td>\n",
       "      <td>...</td>\n",
       "      <td>...</td>\n",
       "      <td>...</td>\n",
       "      <td>...</td>\n",
       "      <td>...</td>\n",
       "      <td>...</td>\n",
       "      <td>...</td>\n",
       "      <td>...</td>\n",
       "      <td>...</td>\n",
       "    </tr>\n",
       "    <tr>\n",
       "      <th>182</th>\n",
       "      <td>Virgin Islands (U.S.)</td>\n",
       "      <td>VIR</td>\n",
       "      <td>11.300</td>\n",
       "      <td>10.923</td>\n",
       "      <td>10.500</td>\n",
       "      <td>10.600</td>\n",
       "      <td>10.837</td>\n",
       "      <td>11.164</td>\n",
       "      <td>10.844</td>\n",
       "      <td>10.769</td>\n",
       "      <td>...</td>\n",
       "      <td>12.402</td>\n",
       "      <td>12.475</td>\n",
       "      <td>12.258</td>\n",
       "      <td>12.354</td>\n",
       "      <td>12.053</td>\n",
       "      <td>12.245</td>\n",
       "      <td>12.350</td>\n",
       "      <td>13.255</td>\n",
       "      <td>13.173</td>\n",
       "      <td>12.382</td>\n",
       "    </tr>\n",
       "    <tr>\n",
       "      <th>183</th>\n",
       "      <td>West Bank and Gaza</td>\n",
       "      <td>PSE</td>\n",
       "      <td>10.721</td>\n",
       "      <td>10.639</td>\n",
       "      <td>10.630</td>\n",
       "      <td>21.490</td>\n",
       "      <td>27.460</td>\n",
       "      <td>23.000</td>\n",
       "      <td>23.210</td>\n",
       "      <td>20.020</td>\n",
       "      <td>...</td>\n",
       "      <td>19.890</td>\n",
       "      <td>20.530</td>\n",
       "      <td>23.000</td>\n",
       "      <td>23.940</td>\n",
       "      <td>25.680</td>\n",
       "      <td>26.260</td>\n",
       "      <td>25.340</td>\n",
       "      <td>25.890</td>\n",
       "      <td>26.390</td>\n",
       "      <td>25.724</td>\n",
       "    </tr>\n",
       "    <tr>\n",
       "      <th>184</th>\n",
       "      <td>Yemen, Rep.</td>\n",
       "      <td>YEM</td>\n",
       "      <td>10.814</td>\n",
       "      <td>11.460</td>\n",
       "      <td>11.558</td>\n",
       "      <td>11.718</td>\n",
       "      <td>11.845</td>\n",
       "      <td>11.977</td>\n",
       "      <td>12.103</td>\n",
       "      <td>12.210</td>\n",
       "      <td>...</td>\n",
       "      <td>13.264</td>\n",
       "      <td>13.470</td>\n",
       "      <td>13.783</td>\n",
       "      <td>13.407</td>\n",
       "      <td>13.250</td>\n",
       "      <td>13.076</td>\n",
       "      <td>12.978</td>\n",
       "      <td>13.575</td>\n",
       "      <td>13.887</td>\n",
       "      <td>13.590</td>\n",
       "    </tr>\n",
       "    <tr>\n",
       "      <th>185</th>\n",
       "      <td>Zambia</td>\n",
       "      <td>ZMB</td>\n",
       "      <td>12.000</td>\n",
       "      <td>12.411</td>\n",
       "      <td>12.930</td>\n",
       "      <td>13.503</td>\n",
       "      <td>14.131</td>\n",
       "      <td>14.686</td>\n",
       "      <td>15.294</td>\n",
       "      <td>15.900</td>\n",
       "      <td>...</td>\n",
       "      <td>8.005</td>\n",
       "      <td>8.133</td>\n",
       "      <td>8.280</td>\n",
       "      <td>8.393</td>\n",
       "      <td>8.520</td>\n",
       "      <td>5.030</td>\n",
       "      <td>5.540</td>\n",
       "      <td>6.030</td>\n",
       "      <td>6.220</td>\n",
       "      <td>6.131</td>\n",
       "    </tr>\n",
       "    <tr>\n",
       "      <th>186</th>\n",
       "      <td>Zimbabwe</td>\n",
       "      <td>ZWE</td>\n",
       "      <td>6.453</td>\n",
       "      <td>6.000</td>\n",
       "      <td>5.688</td>\n",
       "      <td>5.340</td>\n",
       "      <td>5.069</td>\n",
       "      <td>4.774</td>\n",
       "      <td>4.390</td>\n",
       "      <td>4.546</td>\n",
       "      <td>...</td>\n",
       "      <td>4.994</td>\n",
       "      <td>4.770</td>\n",
       "      <td>5.282</td>\n",
       "      <td>5.796</td>\n",
       "      <td>6.279</td>\n",
       "      <td>6.784</td>\n",
       "      <td>7.370</td>\n",
       "      <td>7.898</td>\n",
       "      <td>8.067</td>\n",
       "      <td>7.945</td>\n",
       "    </tr>\n",
       "  </tbody>\n",
       "</table>\n",
       "<p>187 rows × 27 columns</p>\n",
       "</div>"
      ],
      "text/plain": [
       "              Country Name Country Code    1998    1999    2000    2001  \\\n",
       "0              Afghanistan          AFG   8.082   8.070   8.054   8.040   \n",
       "1                  Albania          ALB  20.047  20.840  19.028  18.575   \n",
       "2                  Algeria          DZA  26.640  28.304  29.770  27.300   \n",
       "3                   Angola          AGO   4.234   4.206   4.163   4.119   \n",
       "4                Argentina          ARG  12.650  14.050  15.000  17.320   \n",
       "..                     ...          ...     ...     ...     ...     ...   \n",
       "182  Virgin Islands (U.S.)          VIR  11.300  10.923  10.500  10.600   \n",
       "183     West Bank and Gaza          PSE  10.721  10.639  10.630  21.490   \n",
       "184            Yemen, Rep.          YEM  10.814  11.460  11.558  11.718   \n",
       "185                 Zambia          ZMB  12.000  12.411  12.930  13.503   \n",
       "186               Zimbabwe          ZWE   6.453   6.000   5.688   5.340   \n",
       "\n",
       "       2002    2003    2004    2005  ...    2013    2014    2015    2016  \\\n",
       "0     8.186   8.122   8.053   8.113  ...   7.949   7.910   8.989  10.086   \n",
       "1    17.895  16.989  16.310  15.970  ...  15.870  18.050  17.190  15.420   \n",
       "2    25.900  23.720  17.650  15.270  ...   9.820  10.210  11.210  10.200   \n",
       "3     4.043   4.043   3.972   3.915  ...   8.834   9.580   9.584   9.586   \n",
       "4    19.590  15.360  13.520  11.510  ...   7.100   7.270   7.524   8.109   \n",
       "..      ...     ...     ...     ...  ...     ...     ...     ...     ...   \n",
       "182  10.837  11.164  10.844  10.769  ...  12.402  12.475  12.258  12.354   \n",
       "183  27.460  23.000  23.210  20.020  ...  19.890  20.530  23.000  23.940   \n",
       "184  11.845  11.977  12.103  12.210  ...  13.264  13.470  13.783  13.407   \n",
       "185  14.131  14.686  15.294  15.900  ...   8.005   8.133   8.280   8.393   \n",
       "186   5.069   4.774   4.390   4.546  ...   4.994   4.770   5.282   5.796   \n",
       "\n",
       "       2017    2018    2019    2020    2021    2022  \n",
       "0    11.180  11.110  11.085  11.710   0.000   0.000  \n",
       "1    13.620  12.300  11.470  13.067  12.683  11.808  \n",
       "2    10.334  10.416  10.495  12.248  11.747  11.550  \n",
       "3     9.535   9.522   9.481  10.350  10.384  10.209  \n",
       "4     8.350   9.220   9.840  11.460   8.740   6.491  \n",
       "..      ...     ...     ...     ...     ...     ...  \n",
       "182  12.053  12.245  12.350  13.255  13.173  12.382  \n",
       "183  25.680  26.260  25.340  25.890  26.390  25.724  \n",
       "184  13.250  13.076  12.978  13.575  13.887  13.590  \n",
       "185   8.520   5.030   5.540   6.030   6.220   6.131  \n",
       "186   6.279   6.784   7.370   7.898   8.067   7.945  \n",
       "\n",
       "[187 rows x 27 columns]"
      ]
     },
     "execution_count": 2,
     "metadata": {},
     "output_type": "execute_result"
    }
   ],
   "source": [
    "#let read a dataset\n",
    "df=pd.read_excel('/kaggle/input/world-bank-unemployment-data/P_Data_Extract_From_World_Development_Indicators (2).xlsx')\n",
    "df"
   ]
  },
  {
   "cell_type": "code",
   "execution_count": 3,
   "id": "e5e25454",
   "metadata": {
    "execution": {
     "iopub.execute_input": "2024-01-18T11:01:18.526782Z",
     "iopub.status.busy": "2024-01-18T11:01:18.525857Z",
     "iopub.status.idle": "2024-01-18T11:01:18.550325Z",
     "shell.execute_reply": "2024-01-18T11:01:18.549360Z"
    },
    "papermill": {
     "duration": 0.033042,
     "end_time": "2024-01-18T11:01:18.552393",
     "exception": false,
     "start_time": "2024-01-18T11:01:18.519351",
     "status": "completed"
    },
    "tags": []
   },
   "outputs": [
    {
     "name": "stdout",
     "output_type": "stream",
     "text": [
      "<class 'pandas.core.frame.DataFrame'>\n",
      "RangeIndex: 187 entries, 0 to 186\n",
      "Data columns (total 27 columns):\n",
      " #   Column        Non-Null Count  Dtype  \n",
      "---  ------        --------------  -----  \n",
      " 0   Country Name  187 non-null    object \n",
      " 1   Country Code  187 non-null    object \n",
      " 2   1998          187 non-null    float64\n",
      " 3   1999          187 non-null    float64\n",
      " 4   2000          187 non-null    float64\n",
      " 5   2001          187 non-null    float64\n",
      " 6   2002          187 non-null    float64\n",
      " 7   2003          187 non-null    float64\n",
      " 8   2004          187 non-null    float64\n",
      " 9   2005          187 non-null    float64\n",
      " 10  2006          187 non-null    float64\n",
      " 11  2007          187 non-null    float64\n",
      " 12  2008          187 non-null    float64\n",
      " 13  2009          187 non-null    float64\n",
      " 14  2010          187 non-null    float64\n",
      " 15  2011          187 non-null    float64\n",
      " 16  2012          187 non-null    float64\n",
      " 17  2013          187 non-null    float64\n",
      " 18  2014          187 non-null    float64\n",
      " 19  2015          187 non-null    float64\n",
      " 20  2016          187 non-null    float64\n",
      " 21  2017          187 non-null    float64\n",
      " 22  2018          187 non-null    float64\n",
      " 23  2019          187 non-null    float64\n",
      " 24  2020          187 non-null    float64\n",
      " 25  2021          187 non-null    float64\n",
      " 26  2022          187 non-null    float64\n",
      "dtypes: float64(25), object(2)\n",
      "memory usage: 39.6+ KB\n"
     ]
    }
   ],
   "source": [
    "#let get information about a dataset\n",
    "df.info()"
   ]
  },
  {
   "cell_type": "code",
   "execution_count": 4,
   "id": "58756d9f",
   "metadata": {
    "execution": {
     "iopub.execute_input": "2024-01-18T11:01:18.566480Z",
     "iopub.status.busy": "2024-01-18T11:01:18.565606Z",
     "iopub.status.idle": "2024-01-18T11:01:18.571133Z",
     "shell.execute_reply": "2024-01-18T11:01:18.570522Z"
    },
    "papermill": {
     "duration": 0.01395,
     "end_time": "2024-01-18T11:01:18.572825",
     "exception": false,
     "start_time": "2024-01-18T11:01:18.558875",
     "status": "completed"
    },
    "tags": []
   },
   "outputs": [
    {
     "data": {
      "text/plain": [
       "7.94"
      ]
     },
     "execution_count": 4,
     "metadata": {},
     "output_type": "execute_result"
    }
   ],
   "source": [
    "#Calculate the average global unemployment rate for 2021 using Pandas.\n",
    "avg_2021 = round(df['2021'].mean(skipna=True),2)\n",
    "avg_2021"
   ]
  },
  {
   "cell_type": "markdown",
   "id": "da5e2951",
   "metadata": {
    "papermill": {
     "duration": 0.005698,
     "end_time": "2024-01-18T11:01:18.584601",
     "exception": false,
     "start_time": "2024-01-18T11:01:18.578903",
     "status": "completed"
    },
    "tags": []
   },
   "source": [
    "**The average global unemployment rate for 2021 is approximately 7.94%.**"
   ]
  },
  {
   "cell_type": "code",
   "execution_count": 5,
   "id": "682eb057",
   "metadata": {
    "execution": {
     "iopub.execute_input": "2024-01-18T11:01:18.597672Z",
     "iopub.status.busy": "2024-01-18T11:01:18.596860Z",
     "iopub.status.idle": "2024-01-18T11:01:18.603244Z",
     "shell.execute_reply": "2024-01-18T11:01:18.602171Z"
    },
    "papermill": {
     "duration": 0.015234,
     "end_time": "2024-01-18T11:01:18.605356",
     "exception": false,
     "start_time": "2024-01-18T11:01:18.590122",
     "status": "completed"
    },
    "tags": []
   },
   "outputs": [
    {
     "name": "stdout",
     "output_type": "stream",
     "text": [
      "Country Name: South Africa\n",
      "Unemployment Rate: 28.77\n"
     ]
    }
   ],
   "source": [
    "# Find the country with the maximum unemployment rate in 2021\n",
    "max_unemp_count= df.loc[df['2021'].idxmax()]\n",
    "print('Country Name:', max_unemp_count['Country Name'])\n",
    "print('Unemployment Rate:', max_unemp_count['2021'])"
   ]
  },
  {
   "cell_type": "markdown",
   "id": "6fb695d2",
   "metadata": {
    "papermill": {
     "duration": 0.005378,
     "end_time": "2024-01-18T11:01:18.616513",
     "exception": false,
     "start_time": "2024-01-18T11:01:18.611135",
     "status": "completed"
    },
    "tags": []
   },
   "source": [
    "**The country with the highest unemployment rate in 2021 was South Africa, with an unemployment rate of 28.77%.**"
   ]
  },
  {
   "cell_type": "code",
   "execution_count": 6,
   "id": "e9d34bc0",
   "metadata": {
    "execution": {
     "iopub.execute_input": "2024-01-18T11:01:18.629222Z",
     "iopub.status.busy": "2024-01-18T11:01:18.628889Z",
     "iopub.status.idle": "2024-01-18T11:01:18.633323Z",
     "shell.execute_reply": "2024-01-18T11:01:18.632616Z"
    },
    "papermill": {
     "duration": 0.012802,
     "end_time": "2024-01-18T11:01:18.635000",
     "exception": false,
     "start_time": "2024-01-18T11:01:18.622198",
     "status": "completed"
    },
    "tags": []
   },
   "outputs": [],
   "source": [
    "#Plot a line graph showing the change in global average unemployment rate from 1998 to 2021.\n",
    "years = [str(year) for year in range(1998, 2022)]"
   ]
  },
  {
   "cell_type": "code",
   "execution_count": 7,
   "id": "4aa6dac1",
   "metadata": {
    "execution": {
     "iopub.execute_input": "2024-01-18T11:01:18.648614Z",
     "iopub.status.busy": "2024-01-18T11:01:18.648280Z",
     "iopub.status.idle": "2024-01-18T11:01:18.658289Z",
     "shell.execute_reply": "2024-01-18T11:01:18.657242Z"
    },
    "papermill": {
     "duration": 0.018981,
     "end_time": "2024-01-18T11:01:18.659959",
     "exception": false,
     "start_time": "2024-01-18T11:01:18.640978",
     "status": "completed"
    },
    "tags": []
   },
   "outputs": [
    {
     "data": {
      "text/plain": [
       "1998    8.596781\n",
       "1999    8.727599\n",
       "2000    8.593957\n",
       "2001    8.577299\n",
       "2002    8.732037\n",
       "2003    8.719850\n",
       "2004    8.544193\n",
       "2005    8.310936\n",
       "2006    7.741107\n",
       "2007    7.515861\n",
       "2008    7.381604\n",
       "2009    8.143000\n",
       "2010    8.344016\n",
       "2011    8.273118\n",
       "2012    8.295610\n",
       "2013    8.328230\n",
       "2014    8.162684\n",
       "2015    8.043930\n",
       "2016    7.892080\n",
       "2017    7.619781\n",
       "2018    7.355813\n",
       "2019    7.190422\n",
       "2020    8.293417\n",
       "2021    7.943364\n",
       "dtype: float64"
      ]
     },
     "execution_count": 7,
     "metadata": {},
     "output_type": "execute_result"
    }
   ],
   "source": [
    "#Calculate the average global unemployment rate from 1998 to 2021.\n",
    "avg_unemp_rate= df[years].mean(skipna=True)\n",
    "avg_unemp_rate"
   ]
  },
  {
   "cell_type": "code",
   "execution_count": 8,
   "id": "ac6efa16",
   "metadata": {
    "execution": {
     "iopub.execute_input": "2024-01-18T11:01:18.673561Z",
     "iopub.status.busy": "2024-01-18T11:01:18.673225Z",
     "iopub.status.idle": "2024-01-18T11:01:19.080520Z",
     "shell.execute_reply": "2024-01-18T11:01:19.079646Z"
    },
    "papermill": {
     "duration": 0.416156,
     "end_time": "2024-01-18T11:01:19.082320",
     "exception": false,
     "start_time": "2024-01-18T11:01:18.666164",
     "status": "completed"
    },
    "tags": []
   },
   "outputs": [
    {
     "data": {
      "image/png": "[encoded data removed]",
      "text/plain": [
       "<Figure size 1400x700 with 1 Axes>"
      ]
     },
     "metadata": {},
     "output_type": "display_data"
    }
   ],
   "source": [
    "# Plotting the line graph\n",
    "plt.figure(figsize=(14, 7))\n",
    "plt.plot(avg_unemp_rate.index, avg_unemp_rate.values, marker='o')\n",
    "plt.title('Global Average Unemployment Rate (1998 - 2021)')\n",
    "plt.xlabel('Year')\n",
    "plt.ylabel('Average Unemployment Rate (%)')\n",
    "plt.grid(True)\n",
    "plt.xticks(rotation=45)\n",
    "plt.tight_layout()\n",
    "plt.show()"
   ]
  },
  {
   "cell_type": "code",
   "execution_count": 9,
   "id": "66dc4fd0",
   "metadata": {
    "execution": {
     "iopub.execute_input": "2024-01-18T11:01:19.099246Z",
     "iopub.status.busy": "2024-01-18T11:01:19.098912Z",
     "iopub.status.idle": "2024-01-18T11:01:19.103609Z",
     "shell.execute_reply": "2024-01-18T11:01:19.102851Z"
    },
    "papermill": {
     "duration": 0.015629,
     "end_time": "2024-01-18T11:01:19.105324",
     "exception": false,
     "start_time": "2024-01-18T11:01:19.089695",
     "status": "completed"
    },
    "tags": []
   },
   "outputs": [],
   "source": [
    "#Identify the country with the most significant reduction in unemployment over the last decade\n",
    "df['decade']=df['2022']-df['2012']"
   ]
  },
  {
   "cell_type": "code",
   "execution_count": 10,
   "id": "926d52ed",
   "metadata": {
    "execution": {
     "iopub.execute_input": "2024-01-18T11:01:19.120850Z",
     "iopub.status.busy": "2024-01-18T11:01:19.119978Z",
     "iopub.status.idle": "2024-01-18T11:01:19.125821Z",
     "shell.execute_reply": "2024-01-18T11:01:19.124728Z"
    },
    "papermill": {
     "duration": 0.015495,
     "end_time": "2024-01-18T11:01:19.127628",
     "exception": false,
     "start_time": "2024-01-18T11:01:19.112133",
     "status": "completed"
    },
    "tags": []
   },
   "outputs": [],
   "source": [
    "# Find the country with the most significant reduction in unemployment rate\n",
    "most_reduction = df.loc[df['decade'].idxmin()]"
   ]
  },
  {
   "cell_type": "code",
   "execution_count": 11,
   "id": "e954390d",
   "metadata": {
    "execution": {
     "iopub.execute_input": "2024-01-18T11:01:19.143062Z",
     "iopub.status.busy": "2024-01-18T11:01:19.142742Z",
     "iopub.status.idle": "2024-01-18T11:01:19.148941Z",
     "shell.execute_reply": "2024-01-18T11:01:19.147541Z"
    },
    "papermill": {
     "duration": 0.016416,
     "end_time": "2024-01-18T11:01:19.151228",
     "exception": false,
     "start_time": "2024-01-18T11:01:19.134812",
     "status": "completed"
    },
    "tags": []
   },
   "outputs": [
    {
     "name": "stdout",
     "output_type": "stream",
     "text": [
      "Country Name: North Macedonia\n",
      "Unemployment Rate in 2011: 31.2\n",
      "Unemployment Rate in 2021: 15.081\n",
      "Reduction in Unemployment Rate: -16.119\n"
     ]
    }
   ],
   "source": [
    "print('Country Name:', most_reduction['Country Name'])\n",
    "print('Unemployment Rate in 2011:', most_reduction['2012'])\n",
    "print('Unemployment Rate in 2021:', most_reduction['2022'])\n",
    "print('Reduction in Unemployment Rate:', most_reduction['decade'])"
   ]
  },
  {
   "cell_type": "markdown",
   "id": "832322f8",
   "metadata": {
    "papermill": {
     "duration": 0.006432,
     "end_time": "2024-01-18T11:01:19.164947",
     "exception": false,
     "start_time": "2024-01-18T11:01:19.158515",
     "status": "completed"
    },
    "tags": []
   },
   "source": [
    "**The country with the most significant reduction in unemployment over the last decade is North Macedonia. Here are the details:**\n",
    "\n",
    "* Unemployment Rate in 2011: 31.5%\n",
    "* Unemployment Rate in 2021: 15.78%\n",
    "* Reduction in Unemployment Rate: -15.72%\n",
    "\n",
    "**This indicates a substantial decrease in the unemployment rate for North Macedonia between 2011 and 2021.**"
   ]
  },
  {
   "cell_type": "code",
   "execution_count": 12,
   "id": "c8286bff",
   "metadata": {
    "execution": {
     "iopub.execute_input": "2024-01-18T11:01:19.181362Z",
     "iopub.status.busy": "2024-01-18T11:01:19.180839Z",
     "iopub.status.idle": "2024-01-18T11:01:19.185880Z",
     "shell.execute_reply": "2024-01-18T11:01:19.185286Z"
    },
    "papermill": {
     "duration": 0.016013,
     "end_time": "2024-01-18T11:01:19.187697",
     "exception": false,
     "start_time": "2024-01-18T11:01:19.171684",
     "status": "completed"
    },
    "tags": []
   },
   "outputs": [],
   "source": [
    "#Analyze the impact of the 2008 financial crisis on global unemployment rates.\n",
    "years_crisis = ['2008', '2009', '2010']\n",
    "# Calculate the mean for each year to get the average global unemployment rate\n",
    "average_financial_crisis = df[years_crisis].mean(skipna=True)"
   ]
  },
  {
   "cell_type": "code",
   "execution_count": 13,
   "id": "5b9502df",
   "metadata": {
    "execution": {
     "iopub.execute_input": "2024-01-18T11:01:19.203622Z",
     "iopub.status.busy": "2024-01-18T11:01:19.203120Z",
     "iopub.status.idle": "2024-01-18T11:01:19.403645Z",
     "shell.execute_reply": "2024-01-18T11:01:19.402661Z"
    },
    "papermill": {
     "duration": 0.210422,
     "end_time": "2024-01-18T11:01:19.405292",
     "exception": false,
     "start_time": "2024-01-18T11:01:19.194870",
     "status": "completed"
    },
    "tags": []
   },
   "outputs": [
    {
     "data": {
      "image/png": "[encoded data removed]",
      "text/plain": [
       "<Figure size 1000x500 with 1 Axes>"
      ]
     },
     "metadata": {},
     "output_type": "display_data"
    }
   ],
   "source": [
    "# Plotting the line graph for visual analysis\n",
    "plt.figure(figsize=(10, 5))\n",
    "plt.plot(average_financial_crisis.index, average_financial_crisis.values, marker='o', linestyle='-', color='red')\n",
    "plt.title('Impact of the 2008 Financial Crisis on Global Unemployment Rates')\n",
    "plt.xlabel('Year')\n",
    "plt.ylabel('Average Unemployment Rate (%)')\n",
    "plt.grid(True)\n",
    "plt.xticks(years_crisis)\n",
    "plt.tight_layout()\n",
    "plt.show()"
   ]
  },
  {
   "cell_type": "markdown",
   "id": "0897be76",
   "metadata": {
    "papermill": {
     "duration": 0.00696,
     "end_time": "2024-01-18T11:01:19.419306",
     "exception": false,
     "start_time": "2024-01-18T11:01:19.412346",
     "status": "completed"
    },
    "tags": []
   },
   "source": [
    "**The graph illustrates the average global unemployment rates for the years 2008, 2009, and 2010, providing a visual representation of any changes during that period.**"
   ]
  },
  {
   "cell_type": "code",
   "execution_count": 14,
   "id": "a4a62840",
   "metadata": {
    "execution": {
     "iopub.execute_input": "2024-01-18T11:01:19.435000Z",
     "iopub.status.busy": "2024-01-18T11:01:19.434657Z",
     "iopub.status.idle": "2024-01-18T11:01:19.438880Z",
     "shell.execute_reply": "2024-01-18T11:01:19.437913Z"
    },
    "papermill": {
     "duration": 0.013969,
     "end_time": "2024-01-18T11:01:19.440352",
     "exception": false,
     "start_time": "2024-01-18T11:01:19.426383",
     "status": "completed"
    },
    "tags": []
   },
   "outputs": [],
   "source": [
    "# We will examine the effect of the COVID-19 pandemic on unemployment rates in 2020 and 2021.\n",
    "years_pandemic = ['2020', '2021']"
   ]
  },
  {
   "cell_type": "code",
   "execution_count": 15,
   "id": "26f6e2a6",
   "metadata": {
    "execution": {
     "iopub.execute_input": "2024-01-18T11:01:19.455748Z",
     "iopub.status.busy": "2024-01-18T11:01:19.455404Z",
     "iopub.status.idle": "2024-01-18T11:01:19.461348Z",
     "shell.execute_reply": "2024-01-18T11:01:19.460014Z"
    },
    "papermill": {
     "duration": 0.016667,
     "end_time": "2024-01-18T11:01:19.463878",
     "exception": false,
     "start_time": "2024-01-18T11:01:19.447211",
     "status": "completed"
    },
    "tags": []
   },
   "outputs": [],
   "source": [
    "# Calculate the mean for each year to get the average global unemployment rate\n",
    "average_pandemic = df[years_pandemic].mean(skipna=True)"
   ]
  },
  {
   "cell_type": "code",
   "execution_count": 16,
   "id": "5def25a8",
   "metadata": {
    "execution": {
     "iopub.execute_input": "2024-01-18T11:01:19.480544Z",
     "iopub.status.busy": "2024-01-18T11:01:19.479943Z",
     "iopub.status.idle": "2024-01-18T11:01:19.694914Z",
     "shell.execute_reply": "2024-01-18T11:01:19.694290Z"
    },
    "papermill": {
     "duration": 0.22484,
     "end_time": "2024-01-18T11:01:19.696479",
     "exception": false,
     "start_time": "2024-01-18T11:01:19.471639",
     "status": "completed"
    },
    "tags": []
   },
   "outputs": [
    {
     "data": {
      "image/png": "[encoded data removed]",
      "text/plain": [
       "<Figure size 1000x500 with 1 Axes>"
      ]
     },
     "metadata": {},
     "output_type": "display_data"
    }
   ],
   "source": [
    "# Plotting the line graph for visual analysis\n",
    "plt.figure(figsize=(10, 5))\n",
    "plt.plot(average_pandemic.index, average_pandemic.values, marker='o', linestyle='-', color='blue')\n",
    "plt.title('Effect of the COVID-19 Pandemic on Global Unemployment Rates')\n",
    "plt.xlabel('Year')\n",
    "plt.ylabel('Average Unemployment Rate (%)')\n",
    "plt.grid(True)\n",
    "plt.xticks(years_pandemic)\n",
    "plt.tight_layout()\n",
    "plt.show()"
   ]
  },
  {
   "cell_type": "markdown",
   "id": "8b9cf463",
   "metadata": {
    "papermill": {
     "duration": 0.007152,
     "end_time": "2024-01-18T11:01:19.711431",
     "exception": false,
     "start_time": "2024-01-18T11:01:19.704279",
     "status": "completed"
    },
    "tags": []
   },
   "source": [
    "**The graph provides a visual representation of the average global unemployment rates for these two years, highlighting any changes that may have occurred due to the pandemic.**"
   ]
  },
  {
   "cell_type": "code",
   "execution_count": 17,
   "id": "f58f2b4d",
   "metadata": {
    "execution": {
     "iopub.execute_input": "2024-01-18T11:01:19.727788Z",
     "iopub.status.busy": "2024-01-18T11:01:19.727320Z",
     "iopub.status.idle": "2024-01-18T11:01:19.730692Z",
     "shell.execute_reply": "2024-01-18T11:01:19.730115Z"
    },
    "papermill": {
     "duration": 0.013262,
     "end_time": "2024-01-18T11:01:19.732181",
     "exception": false,
     "start_time": "2024-01-18T11:01:19.718919",
     "status": "completed"
    },
    "tags": []
   },
   "outputs": [],
   "source": [
    "#List the top 5 countries with the lowest average unemployment rate from 1998 to 2022.\n",
    "low_years = [str(year) for year in range(1998, 2022)]"
   ]
  },
  {
   "cell_type": "code",
   "execution_count": 18,
   "id": "fb3d4841",
   "metadata": {
    "execution": {
     "iopub.execute_input": "2024-01-18T11:01:19.748171Z",
     "iopub.status.busy": "2024-01-18T11:01:19.747645Z",
     "iopub.status.idle": "2024-01-18T11:01:19.753383Z",
     "shell.execute_reply": "2024-01-18T11:01:19.752770Z"
    },
    "papermill": {
     "duration": 0.015773,
     "end_time": "2024-01-18T11:01:19.755222",
     "exception": false,
     "start_time": "2024-01-18T11:01:19.739449",
     "status": "completed"
    },
    "tags": []
   },
   "outputs": [],
   "source": [
    "df['Average_Unemployment_Rate'] = df[low_years].mean(axis=1, skipna=True)"
   ]
  },
  {
   "cell_type": "code",
   "execution_count": 19,
   "id": "311f15ab",
   "metadata": {
    "execution": {
     "iopub.execute_input": "2024-01-18T11:01:19.771613Z",
     "iopub.status.busy": "2024-01-18T11:01:19.771353Z",
     "iopub.status.idle": "2024-01-18T11:01:19.776112Z",
     "shell.execute_reply": "2024-01-18T11:01:19.775229Z"
    },
    "papermill": {
     "duration": 0.014638,
     "end_time": "2024-01-18T11:01:19.777709",
     "exception": false,
     "start_time": "2024-01-18T11:01:19.763071",
     "status": "completed"
    },
    "tags": []
   },
   "outputs": [],
   "source": [
    "low_unemp_count = df[['Country Name', 'Average_Unemployment_Rate']].sort_values(by='Average_Unemployment_Rate', ascending=True).head(5)"
   ]
  },
  {
   "cell_type": "code",
   "execution_count": 20,
   "id": "4f5b7426",
   "metadata": {
    "execution": {
     "iopub.execute_input": "2024-01-18T11:01:19.794080Z",
     "iopub.status.busy": "2024-01-18T11:01:19.793665Z",
     "iopub.status.idle": "2024-01-18T11:01:19.800396Z",
     "shell.execute_reply": "2024-01-18T11:01:19.799858Z"
    },
    "papermill": {
     "duration": 0.016755,
     "end_time": "2024-01-18T11:01:19.801889",
     "exception": false,
     "start_time": "2024-01-18T11:01:19.785134",
     "status": "completed"
    },
    "tags": []
   },
   "outputs": [
    {
     "data": {
      "text/html": [
       "<div>\n",
       "<style scoped>\n",
       "    .dataframe tbody tr th:only-of-type {\n",
       "        vertical-align: middle;\n",
       "    }\n",
       "\n",
       "    .dataframe tbody tr th {\n",
       "        vertical-align: top;\n",
       "    }\n",
       "\n",
       "    .dataframe thead th {\n",
       "        text-align: right;\n",
       "    }\n",
       "</style>\n",
       "<table border=\"1\" class=\"dataframe\">\n",
       "  <thead>\n",
       "    <tr style=\"text-align: right;\">\n",
       "      <th></th>\n",
       "      <th>Country Name</th>\n",
       "      <th>Average_Unemployment_Rate</th>\n",
       "    </tr>\n",
       "  </thead>\n",
       "  <tbody>\n",
       "    <tr>\n",
       "      <th>136</th>\n",
       "      <td>Qatar</td>\n",
       "      <td>0.489625</td>\n",
       "    </tr>\n",
       "    <tr>\n",
       "      <th>27</th>\n",
       "      <td>Cambodia</td>\n",
       "      <td>0.722625</td>\n",
       "    </tr>\n",
       "    <tr>\n",
       "      <th>115</th>\n",
       "      <td>Myanmar</td>\n",
       "      <td>0.725042</td>\n",
       "    </tr>\n",
       "    <tr>\n",
       "      <th>31</th>\n",
       "      <td>Chad</td>\n",
       "      <td>0.998708</td>\n",
       "    </tr>\n",
       "    <tr>\n",
       "      <th>10</th>\n",
       "      <td>Bahrain</td>\n",
       "      <td>1.183708</td>\n",
       "    </tr>\n",
       "  </tbody>\n",
       "</table>\n",
       "</div>"
      ],
      "text/plain": [
       "    Country Name  Average_Unemployment_Rate\n",
       "136        Qatar                   0.489625\n",
       "27      Cambodia                   0.722625\n",
       "115      Myanmar                   0.725042\n",
       "31          Chad                   0.998708\n",
       "10       Bahrain                   1.183708"
      ]
     },
     "execution_count": 20,
     "metadata": {},
     "output_type": "execute_result"
    }
   ],
   "source": [
    "low_unemp_count"
   ]
  },
  {
   "cell_type": "markdown",
   "id": "f1deded7",
   "metadata": {
    "papermill": {
     "duration": 0.007444,
     "end_time": "2024-01-18T11:01:19.816968",
     "exception": false,
     "start_time": "2024-01-18T11:01:19.809524",
     "status": "completed"
    },
    "tags": []
   },
   "source": [
    "**The top 5 countries with the lowest average unemployment rate from 1998 to 2021 are:**\n",
    "* Qatar - Average Unemployment Rate: 0.49%\n",
    "* Cambodia - Average Unemployment Rate: 0.72%\n",
    "* Myanmar - Average Unemployment Rate: 0.73%\n",
    "* Chad - Average Unemployment Rate: 1.00%\n",
    "* Bahrain - Average Unemployment Rate: 1.18%\n",
    "\n",
    "**These countries have the lowest average unemployment rates over the specified period**"
   ]
  }
 ],
 "metadata": {
  "kaggle": {
   "accelerator": "none",
   "dataSources": [
    {
     "datasetId": 4233792,
     "sourceId": 7298492,
     "sourceType": "datasetVersion"
    }
   ],
   "dockerImageVersionId": 30635,
   "isGpuEnabled": false,
   "isInternetEnabled": true,
   "language": "python",
   "sourceType": "notebook"
  },
  "kernelspec": {
   "display_name": "Python 3",
   "language": "python",
   "name": "python3"
  },
  "language_info": {
   "codemirror_mode": {
    "name": "ipython",
    "version": 3
   },
   "file_extension": ".py",
   "mimetype": "text/x-python",
   "name": "python",
   "nbconvert_exporter": "python",
   "pygments_lexer": "ipython3",
   "version": "3.10.12"
  },
  "papermill": {
   "default_parameters": {},
   "duration": 6.352516,
   "end_time": "2024-01-18T11:01:20.342761",
   "environment_variables": {},
   "exception": null,
   "input_path": "__notebook__.ipynb",
   "output_path": "__notebook__.ipynb",
   "parameters": {},
   "start_time": "2024-01-18T11:01:13.990245",
   "version": "2.4.0"
  }
 },
 "nbformat": 4,
 "nbformat_minor": 5
}
