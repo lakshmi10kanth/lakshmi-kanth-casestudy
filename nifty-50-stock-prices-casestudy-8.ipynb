{
 "cells": [
  {
   "cell_type": "markdown",
   "id": "baeedabb",
   "metadata": {
    "_cell_guid": "b1076dfc-b9ad-4769-8c92-a6c4dae69d19",
    "_uuid": "8f2839f25d086af736a60e9eeb907d3b93b6e0e5",
    "papermill": {
     "duration": 0.01337,
     "end_time": "2024-03-03T15:07:41.279025",
     "exception": false,
     "start_time": "2024-03-03T15:07:41.265655",
     "status": "completed"
    },
    "tags": []
   },
   "source": [
    "**Historical stock market data for current Nifty 50 companies, from 2000-2021. Each record represents a single day of trading and includes the ticker name, volume, and high, low, open, and close prices.**"
   ]
  },
  {
   "cell_type": "code",
   "execution_count": 1,
   "id": "feb58094",
   "metadata": {
    "execution": {
     "iopub.execute_input": "2024-03-03T15:07:41.307597Z",
     "iopub.status.busy": "2024-03-03T15:07:41.307108Z",
     "iopub.status.idle": "2024-03-03T15:07:43.933449Z",
     "shell.execute_reply": "2024-03-03T15:07:43.931977Z"
    },
    "papermill": {
     "duration": 2.643778,
     "end_time": "2024-03-03T15:07:43.936300",
     "exception": false,
     "start_time": "2024-03-03T15:07:41.292522",
     "status": "completed"
    },
    "tags": []
   },
   "outputs": [],
   "source": [
    "#let importing a libraries as\n",
    "import pandas as pd\n",
    "import numpy as np\n",
    "import matplotlib.pyplot as plt\n",
    "import seaborn as sns"
   ]
  },
  {
   "cell_type": "code",
   "execution_count": 2,
   "id": "17b7a543",
   "metadata": {
    "execution": {
     "iopub.execute_input": "2024-03-03T15:07:43.963847Z",
     "iopub.status.busy": "2024-03-03T15:07:43.963292Z",
     "iopub.status.idle": "2024-03-03T15:07:44.981331Z",
     "shell.execute_reply": "2024-03-03T15:07:44.980151Z"
    },
    "papermill": {
     "duration": 1.034663,
     "end_time": "2024-03-03T15:07:44.983737",
     "exception": false,
     "start_time": "2024-03-03T15:07:43.949074",
     "status": "completed"
    },
    "tags": []
   },
   "outputs": [
    {
     "data": {
      "text/html": [
       "<div>\n",
       "<style scoped>\n",
       "    .dataframe tbody tr th:only-of-type {\n",
       "        vertical-align: middle;\n",
       "    }\n",
       "\n",
       "    .dataframe tbody tr th {\n",
       "        vertical-align: top;\n",
       "    }\n",
       "\n",
       "    .dataframe thead th {\n",
       "        text-align: right;\n",
       "    }\n",
       "</style>\n",
       "<table border=\"1\" class=\"dataframe\">\n",
       "  <thead>\n",
       "    <tr style=\"text-align: right;\">\n",
       "      <th></th>\n",
       "      <th>Date</th>\n",
       "      <th>Symbol</th>\n",
       "      <th>Series</th>\n",
       "      <th>Prev Close</th>\n",
       "      <th>Open</th>\n",
       "      <th>High</th>\n",
       "      <th>Low</th>\n",
       "      <th>Last</th>\n",
       "      <th>Close</th>\n",
       "      <th>VWAP</th>\n",
       "      <th>Volume</th>\n",
       "      <th>Turnover</th>\n",
       "      <th>Trades</th>\n",
       "      <th>Deliverable Volume</th>\n",
       "      <th>%Deliverble</th>\n",
       "    </tr>\n",
       "  </thead>\n",
       "  <tbody>\n",
       "    <tr>\n",
       "      <th>0</th>\n",
       "      <td>2007-11-27</td>\n",
       "      <td>MUNDRAPORT</td>\n",
       "      <td>EQ</td>\n",
       "      <td>440.00</td>\n",
       "      <td>770.00</td>\n",
       "      <td>1050.00</td>\n",
       "      <td>770.00</td>\n",
       "      <td>959.00</td>\n",
       "      <td>962.90</td>\n",
       "      <td>984.72</td>\n",
       "      <td>27294366</td>\n",
       "      <td>2.687719e+15</td>\n",
       "      <td>NaN</td>\n",
       "      <td>9859619.0</td>\n",
       "      <td>0.3612</td>\n",
       "    </tr>\n",
       "    <tr>\n",
       "      <th>1</th>\n",
       "      <td>2007-11-28</td>\n",
       "      <td>MUNDRAPORT</td>\n",
       "      <td>EQ</td>\n",
       "      <td>962.90</td>\n",
       "      <td>984.00</td>\n",
       "      <td>990.00</td>\n",
       "      <td>874.00</td>\n",
       "      <td>885.00</td>\n",
       "      <td>893.90</td>\n",
       "      <td>941.38</td>\n",
       "      <td>4581338</td>\n",
       "      <td>4.312765e+14</td>\n",
       "      <td>NaN</td>\n",
       "      <td>1453278.0</td>\n",
       "      <td>0.3172</td>\n",
       "    </tr>\n",
       "    <tr>\n",
       "      <th>2</th>\n",
       "      <td>2007-11-29</td>\n",
       "      <td>MUNDRAPORT</td>\n",
       "      <td>EQ</td>\n",
       "      <td>893.90</td>\n",
       "      <td>909.00</td>\n",
       "      <td>914.75</td>\n",
       "      <td>841.00</td>\n",
       "      <td>887.00</td>\n",
       "      <td>884.20</td>\n",
       "      <td>888.09</td>\n",
       "      <td>5124121</td>\n",
       "      <td>4.550658e+14</td>\n",
       "      <td>NaN</td>\n",
       "      <td>1069678.0</td>\n",
       "      <td>0.2088</td>\n",
       "    </tr>\n",
       "    <tr>\n",
       "      <th>3</th>\n",
       "      <td>2007-11-30</td>\n",
       "      <td>MUNDRAPORT</td>\n",
       "      <td>EQ</td>\n",
       "      <td>884.20</td>\n",
       "      <td>890.00</td>\n",
       "      <td>958.00</td>\n",
       "      <td>890.00</td>\n",
       "      <td>929.00</td>\n",
       "      <td>921.55</td>\n",
       "      <td>929.17</td>\n",
       "      <td>4609762</td>\n",
       "      <td>4.283257e+14</td>\n",
       "      <td>NaN</td>\n",
       "      <td>1260913.0</td>\n",
       "      <td>0.2735</td>\n",
       "    </tr>\n",
       "    <tr>\n",
       "      <th>4</th>\n",
       "      <td>2007-12-03</td>\n",
       "      <td>MUNDRAPORT</td>\n",
       "      <td>EQ</td>\n",
       "      <td>921.55</td>\n",
       "      <td>939.75</td>\n",
       "      <td>995.00</td>\n",
       "      <td>922.00</td>\n",
       "      <td>980.00</td>\n",
       "      <td>969.30</td>\n",
       "      <td>965.65</td>\n",
       "      <td>2977470</td>\n",
       "      <td>2.875200e+14</td>\n",
       "      <td>NaN</td>\n",
       "      <td>816123.0</td>\n",
       "      <td>0.2741</td>\n",
       "    </tr>\n",
       "    <tr>\n",
       "      <th>...</th>\n",
       "      <td>...</td>\n",
       "      <td>...</td>\n",
       "      <td>...</td>\n",
       "      <td>...</td>\n",
       "      <td>...</td>\n",
       "      <td>...</td>\n",
       "      <td>...</td>\n",
       "      <td>...</td>\n",
       "      <td>...</td>\n",
       "      <td>...</td>\n",
       "      <td>...</td>\n",
       "      <td>...</td>\n",
       "      <td>...</td>\n",
       "      <td>...</td>\n",
       "      <td>...</td>\n",
       "    </tr>\n",
       "    <tr>\n",
       "      <th>235187</th>\n",
       "      <td>2021-04-26</td>\n",
       "      <td>ZEEL</td>\n",
       "      <td>EQ</td>\n",
       "      <td>188.00</td>\n",
       "      <td>190.60</td>\n",
       "      <td>191.10</td>\n",
       "      <td>185.10</td>\n",
       "      <td>186.70</td>\n",
       "      <td>186.40</td>\n",
       "      <td>187.35</td>\n",
       "      <td>8542755</td>\n",
       "      <td>1.600451e+14</td>\n",
       "      <td>52374.0</td>\n",
       "      <td>2340188.0</td>\n",
       "      <td>0.2739</td>\n",
       "    </tr>\n",
       "    <tr>\n",
       "      <th>235188</th>\n",
       "      <td>2021-04-27</td>\n",
       "      <td>ZEEL</td>\n",
       "      <td>EQ</td>\n",
       "      <td>186.40</td>\n",
       "      <td>188.00</td>\n",
       "      <td>192.95</td>\n",
       "      <td>186.80</td>\n",
       "      <td>188.80</td>\n",
       "      <td>188.15</td>\n",
       "      <td>189.41</td>\n",
       "      <td>14247767</td>\n",
       "      <td>2.698636e+14</td>\n",
       "      <td>73673.0</td>\n",
       "      <td>5425957.0</td>\n",
       "      <td>0.3808</td>\n",
       "    </tr>\n",
       "    <tr>\n",
       "      <th>235189</th>\n",
       "      <td>2021-04-28</td>\n",
       "      <td>ZEEL</td>\n",
       "      <td>EQ</td>\n",
       "      <td>188.15</td>\n",
       "      <td>188.80</td>\n",
       "      <td>190.60</td>\n",
       "      <td>187.10</td>\n",
       "      <td>188.95</td>\n",
       "      <td>189.10</td>\n",
       "      <td>188.85</td>\n",
       "      <td>8429439</td>\n",
       "      <td>1.591917e+14</td>\n",
       "      <td>44056.0</td>\n",
       "      <td>2413974.0</td>\n",
       "      <td>0.2864</td>\n",
       "    </tr>\n",
       "    <tr>\n",
       "      <th>235190</th>\n",
       "      <td>2021-04-29</td>\n",
       "      <td>ZEEL</td>\n",
       "      <td>EQ</td>\n",
       "      <td>189.10</td>\n",
       "      <td>190.80</td>\n",
       "      <td>191.65</td>\n",
       "      <td>186.00</td>\n",
       "      <td>186.60</td>\n",
       "      <td>186.55</td>\n",
       "      <td>187.44</td>\n",
       "      <td>9483009</td>\n",
       "      <td>1.777471e+14</td>\n",
       "      <td>60932.0</td>\n",
       "      <td>2744472.0</td>\n",
       "      <td>0.2894</td>\n",
       "    </tr>\n",
       "    <tr>\n",
       "      <th>235191</th>\n",
       "      <td>2021-04-30</td>\n",
       "      <td>ZEEL</td>\n",
       "      <td>EQ</td>\n",
       "      <td>186.55</td>\n",
       "      <td>185.30</td>\n",
       "      <td>190.95</td>\n",
       "      <td>183.65</td>\n",
       "      <td>185.00</td>\n",
       "      <td>185.60</td>\n",
       "      <td>187.53</td>\n",
       "      <td>11435285</td>\n",
       "      <td>2.144440e+14</td>\n",
       "      <td>62607.0</td>\n",
       "      <td>3323909.0</td>\n",
       "      <td>0.2907</td>\n",
       "    </tr>\n",
       "  </tbody>\n",
       "</table>\n",
       "<p>235192 rows × 15 columns</p>\n",
       "</div>"
      ],
      "text/plain": [
       "              Date      Symbol Series  Prev Close    Open     High     Low  \\\n",
       "0       2007-11-27  MUNDRAPORT     EQ      440.00  770.00  1050.00  770.00   \n",
       "1       2007-11-28  MUNDRAPORT     EQ      962.90  984.00   990.00  874.00   \n",
       "2       2007-11-29  MUNDRAPORT     EQ      893.90  909.00   914.75  841.00   \n",
       "3       2007-11-30  MUNDRAPORT     EQ      884.20  890.00   958.00  890.00   \n",
       "4       2007-12-03  MUNDRAPORT     EQ      921.55  939.75   995.00  922.00   \n",
       "...            ...         ...    ...         ...     ...      ...     ...   \n",
       "235187  2021-04-26        ZEEL     EQ      188.00  190.60   191.10  185.10   \n",
       "235188  2021-04-27        ZEEL     EQ      186.40  188.00   192.95  186.80   \n",
       "235189  2021-04-28        ZEEL     EQ      188.15  188.80   190.60  187.10   \n",
       "235190  2021-04-29        ZEEL     EQ      189.10  190.80   191.65  186.00   \n",
       "235191  2021-04-30        ZEEL     EQ      186.55  185.30   190.95  183.65   \n",
       "\n",
       "          Last   Close    VWAP    Volume      Turnover   Trades  \\\n",
       "0       959.00  962.90  984.72  27294366  2.687719e+15      NaN   \n",
       "1       885.00  893.90  941.38   4581338  4.312765e+14      NaN   \n",
       "2       887.00  884.20  888.09   5124121  4.550658e+14      NaN   \n",
       "3       929.00  921.55  929.17   4609762  4.283257e+14      NaN   \n",
       "4       980.00  969.30  965.65   2977470  2.875200e+14      NaN   \n",
       "...        ...     ...     ...       ...           ...      ...   \n",
       "235187  186.70  186.40  187.35   8542755  1.600451e+14  52374.0   \n",
       "235188  188.80  188.15  189.41  14247767  2.698636e+14  73673.0   \n",
       "235189  188.95  189.10  188.85   8429439  1.591917e+14  44056.0   \n",
       "235190  186.60  186.55  187.44   9483009  1.777471e+14  60932.0   \n",
       "235191  185.00  185.60  187.53  11435285  2.144440e+14  62607.0   \n",
       "\n",
       "        Deliverable Volume  %Deliverble  \n",
       "0                9859619.0       0.3612  \n",
       "1                1453278.0       0.3172  \n",
       "2                1069678.0       0.2088  \n",
       "3                1260913.0       0.2735  \n",
       "4                 816123.0       0.2741  \n",
       "...                    ...          ...  \n",
       "235187           2340188.0       0.2739  \n",
       "235188           5425957.0       0.3808  \n",
       "235189           2413974.0       0.2864  \n",
       "235190           2744472.0       0.2894  \n",
       "235191           3323909.0       0.2907  \n",
       "\n",
       "[235192 rows x 15 columns]"
      ]
     },
     "execution_count": 2,
     "metadata": {},
     "output_type": "execute_result"
    }
   ],
   "source": [
    "s=pd.read_csv(\"/kaggle/input/nifty50-stock-market-data/NIFTY50_all.csv\")\n",
    "s"
   ]
  },
  {
   "cell_type": "code",
   "execution_count": 3,
   "id": "0c214e3d",
   "metadata": {
    "execution": {
     "iopub.execute_input": "2024-03-03T15:07:45.012146Z",
     "iopub.status.busy": "2024-03-03T15:07:45.011739Z",
     "iopub.status.idle": "2024-03-03T15:07:45.120773Z",
     "shell.execute_reply": "2024-03-03T15:07:45.119071Z"
    },
    "papermill": {
     "duration": 0.125997,
     "end_time": "2024-03-03T15:07:45.123154",
     "exception": false,
     "start_time": "2024-03-03T15:07:44.997157",
     "status": "completed"
    },
    "tags": []
   },
   "outputs": [
    {
     "name": "stdout",
     "output_type": "stream",
     "text": [
      "<class 'pandas.core.frame.DataFrame'>\n",
      "RangeIndex: 235192 entries, 0 to 235191\n",
      "Data columns (total 15 columns):\n",
      " #   Column              Non-Null Count   Dtype  \n",
      "---  ------              --------------   -----  \n",
      " 0   Date                235192 non-null  object \n",
      " 1   Symbol              235192 non-null  object \n",
      " 2   Series              235192 non-null  object \n",
      " 3   Prev Close          235192 non-null  float64\n",
      " 4   Open                235192 non-null  float64\n",
      " 5   High                235192 non-null  float64\n",
      " 6   Low                 235192 non-null  float64\n",
      " 7   Last                235192 non-null  float64\n",
      " 8   Close               235192 non-null  float64\n",
      " 9   VWAP                235192 non-null  float64\n",
      " 10  Volume              235192 non-null  int64  \n",
      " 11  Turnover            235192 non-null  float64\n",
      " 12  Trades              120344 non-null  float64\n",
      " 13  Deliverable Volume  219115 non-null  float64\n",
      " 14  %Deliverble         219115 non-null  float64\n",
      "dtypes: float64(11), int64(1), object(3)\n",
      "memory usage: 26.9+ MB\n"
     ]
    }
   ],
   "source": [
    "s.info()"
   ]
  },
  {
   "cell_type": "markdown",
   "id": "d2c10765",
   "metadata": {
    "papermill": {
     "duration": 0.014025,
     "end_time": "2024-03-03T15:07:45.151747",
     "exception": false,
     "start_time": "2024-03-03T15:07:45.137722",
     "status": "completed"
    },
    "tags": []
   },
   "source": [
    "# datatypes Corrections"
   ]
  },
  {
   "cell_type": "code",
   "execution_count": 4,
   "id": "6a3c8eff",
   "metadata": {
    "execution": {
     "iopub.execute_input": "2024-03-03T15:07:45.180788Z",
     "iopub.status.busy": "2024-03-03T15:07:45.180389Z",
     "iopub.status.idle": "2024-03-03T15:07:45.256370Z",
     "shell.execute_reply": "2024-03-03T15:07:45.255365Z"
    },
    "papermill": {
     "duration": 0.09342,
     "end_time": "2024-03-03T15:07:45.258897",
     "exception": false,
     "start_time": "2024-03-03T15:07:45.165477",
     "status": "completed"
    },
    "tags": []
   },
   "outputs": [],
   "source": [
    "#to change datatype into date\n",
    "s['Date']=pd.to_datetime(s[\"Date\"])"
   ]
  },
  {
   "cell_type": "code",
   "execution_count": 5,
   "id": "f544abb2",
   "metadata": {
    "execution": {
     "iopub.execute_input": "2024-03-03T15:07:45.287828Z",
     "iopub.status.busy": "2024-03-03T15:07:45.287416Z",
     "iopub.status.idle": "2024-03-03T15:07:45.295976Z",
     "shell.execute_reply": "2024-03-03T15:07:45.294365Z"
    },
    "papermill": {
     "duration": 0.025961,
     "end_time": "2024-03-03T15:07:45.298590",
     "exception": false,
     "start_time": "2024-03-03T15:07:45.272629",
     "status": "completed"
    },
    "tags": []
   },
   "outputs": [
    {
     "data": {
      "text/plain": [
       "dtype('<M8[ns]')"
      ]
     },
     "execution_count": 5,
     "metadata": {},
     "output_type": "execute_result"
    }
   ],
   "source": [
    "s[\"Date\"].dtype"
   ]
  },
  {
   "cell_type": "markdown",
   "id": "79dc8768",
   "metadata": {
    "papermill": {
     "duration": 0.013333,
     "end_time": "2024-03-03T15:07:45.325408",
     "exception": false,
     "start_time": "2024-03-03T15:07:45.312075",
     "status": "completed"
    },
    "tags": []
   },
   "source": [
    "# merging two tables with common columns "
   ]
  },
  {
   "cell_type": "code",
   "execution_count": 6,
   "id": "17de0f84",
   "metadata": {
    "execution": {
     "iopub.execute_input": "2024-03-03T15:07:45.354151Z",
     "iopub.status.busy": "2024-03-03T15:07:45.353716Z",
     "iopub.status.idle": "2024-03-03T15:07:45.384571Z",
     "shell.execute_reply": "2024-03-03T15:07:45.383490Z"
    },
    "papermill": {
     "duration": 0.048111,
     "end_time": "2024-03-03T15:07:45.387067",
     "exception": false,
     "start_time": "2024-03-03T15:07:45.338956",
     "status": "completed"
    },
    "tags": []
   },
   "outputs": [
    {
     "data": {
      "text/html": [
       "<div>\n",
       "<style scoped>\n",
       "    .dataframe tbody tr th:only-of-type {\n",
       "        vertical-align: middle;\n",
       "    }\n",
       "\n",
       "    .dataframe tbody tr th {\n",
       "        vertical-align: top;\n",
       "    }\n",
       "\n",
       "    .dataframe thead th {\n",
       "        text-align: right;\n",
       "    }\n",
       "</style>\n",
       "<table border=\"1\" class=\"dataframe\">\n",
       "  <thead>\n",
       "    <tr style=\"text-align: right;\">\n",
       "      <th></th>\n",
       "      <th>Company Name</th>\n",
       "      <th>Industry</th>\n",
       "      <th>Symbol</th>\n",
       "      <th>Series</th>\n",
       "      <th>ISIN Code</th>\n",
       "    </tr>\n",
       "  </thead>\n",
       "  <tbody>\n",
       "    <tr>\n",
       "      <th>0</th>\n",
       "      <td>Adani Ports and Special Economic Zone Ltd.</td>\n",
       "      <td>SERVICES</td>\n",
       "      <td>ADANIPORTS</td>\n",
       "      <td>EQ</td>\n",
       "      <td>INE742F01042</td>\n",
       "    </tr>\n",
       "    <tr>\n",
       "      <th>1</th>\n",
       "      <td>Asian Paints Ltd.</td>\n",
       "      <td>CONSUMER GOODS</td>\n",
       "      <td>ASIANPAINT</td>\n",
       "      <td>EQ</td>\n",
       "      <td>INE021A01026</td>\n",
       "    </tr>\n",
       "    <tr>\n",
       "      <th>2</th>\n",
       "      <td>Axis Bank Ltd.</td>\n",
       "      <td>FINANCIAL SERVICES</td>\n",
       "      <td>AXISBANK</td>\n",
       "      <td>EQ</td>\n",
       "      <td>INE238A01034</td>\n",
       "    </tr>\n",
       "    <tr>\n",
       "      <th>3</th>\n",
       "      <td>Bajaj Auto Ltd.</td>\n",
       "      <td>AUTOMOBILE</td>\n",
       "      <td>BAJAJ-AUTO</td>\n",
       "      <td>EQ</td>\n",
       "      <td>INE917I01010</td>\n",
       "    </tr>\n",
       "    <tr>\n",
       "      <th>4</th>\n",
       "      <td>Bajaj Finserv Ltd.</td>\n",
       "      <td>FINANCIAL SERVICES</td>\n",
       "      <td>BAJAJFINSV</td>\n",
       "      <td>EQ</td>\n",
       "      <td>INE918I01018</td>\n",
       "    </tr>\n",
       "    <tr>\n",
       "      <th>5</th>\n",
       "      <td>Bajaj Finance Ltd.</td>\n",
       "      <td>FINANCIAL SERVICES</td>\n",
       "      <td>BAJFINANCE</td>\n",
       "      <td>EQ</td>\n",
       "      <td>INE296A01024</td>\n",
       "    </tr>\n",
       "    <tr>\n",
       "      <th>6</th>\n",
       "      <td>Bharti Airtel Ltd.</td>\n",
       "      <td>TELECOM</td>\n",
       "      <td>BHARTIARTL</td>\n",
       "      <td>EQ</td>\n",
       "      <td>INE397D01024</td>\n",
       "    </tr>\n",
       "    <tr>\n",
       "      <th>7</th>\n",
       "      <td>Bharat Petroleum Corporation Ltd.</td>\n",
       "      <td>ENERGY</td>\n",
       "      <td>BPCL</td>\n",
       "      <td>EQ</td>\n",
       "      <td>INE029A01011</td>\n",
       "    </tr>\n",
       "    <tr>\n",
       "      <th>8</th>\n",
       "      <td>Britannia Industries Ltd.</td>\n",
       "      <td>CONSUMER GOODS</td>\n",
       "      <td>BRITANNIA</td>\n",
       "      <td>EQ</td>\n",
       "      <td>INE216A01030</td>\n",
       "    </tr>\n",
       "    <tr>\n",
       "      <th>9</th>\n",
       "      <td>Cipla Ltd.</td>\n",
       "      <td>PHARMA</td>\n",
       "      <td>CIPLA</td>\n",
       "      <td>EQ</td>\n",
       "      <td>INE059A01026</td>\n",
       "    </tr>\n",
       "    <tr>\n",
       "      <th>10</th>\n",
       "      <td>Coal India Ltd.</td>\n",
       "      <td>METALS</td>\n",
       "      <td>COALINDIA</td>\n",
       "      <td>EQ</td>\n",
       "      <td>INE522F01014</td>\n",
       "    </tr>\n",
       "    <tr>\n",
       "      <th>11</th>\n",
       "      <td>Dr. Reddy's Laboratories Ltd.</td>\n",
       "      <td>PHARMA</td>\n",
       "      <td>DRREDDY</td>\n",
       "      <td>EQ</td>\n",
       "      <td>INE089A01023</td>\n",
       "    </tr>\n",
       "    <tr>\n",
       "      <th>12</th>\n",
       "      <td>Eicher Motors Ltd.</td>\n",
       "      <td>AUTOMOBILE</td>\n",
       "      <td>EICHERMOT</td>\n",
       "      <td>EQ</td>\n",
       "      <td>INE066A01013</td>\n",
       "    </tr>\n",
       "    <tr>\n",
       "      <th>13</th>\n",
       "      <td>GAIL (India) Ltd.</td>\n",
       "      <td>ENERGY</td>\n",
       "      <td>GAIL</td>\n",
       "      <td>EQ</td>\n",
       "      <td>INE129A01019</td>\n",
       "    </tr>\n",
       "    <tr>\n",
       "      <th>14</th>\n",
       "      <td>Grasim Industries Ltd.</td>\n",
       "      <td>CEMENT &amp; CEMENT PRODUCTS</td>\n",
       "      <td>GRASIM</td>\n",
       "      <td>EQ</td>\n",
       "      <td>INE047A01021</td>\n",
       "    </tr>\n",
       "    <tr>\n",
       "      <th>15</th>\n",
       "      <td>HCL Technologies Ltd.</td>\n",
       "      <td>IT</td>\n",
       "      <td>HCLTECH</td>\n",
       "      <td>EQ</td>\n",
       "      <td>INE860A01027</td>\n",
       "    </tr>\n",
       "    <tr>\n",
       "      <th>16</th>\n",
       "      <td>Housing Development Finance Corporation Ltd.</td>\n",
       "      <td>FINANCIAL SERVICES</td>\n",
       "      <td>HDFC</td>\n",
       "      <td>EQ</td>\n",
       "      <td>INE001A01036</td>\n",
       "    </tr>\n",
       "    <tr>\n",
       "      <th>17</th>\n",
       "      <td>HDFC Bank Ltd.</td>\n",
       "      <td>FINANCIAL SERVICES</td>\n",
       "      <td>HDFCBANK</td>\n",
       "      <td>EQ</td>\n",
       "      <td>INE040A01034</td>\n",
       "    </tr>\n",
       "    <tr>\n",
       "      <th>18</th>\n",
       "      <td>Hero MotoCorp Ltd.</td>\n",
       "      <td>AUTOMOBILE</td>\n",
       "      <td>HEROMOTOCO</td>\n",
       "      <td>EQ</td>\n",
       "      <td>INE158A01026</td>\n",
       "    </tr>\n",
       "    <tr>\n",
       "      <th>19</th>\n",
       "      <td>Hindalco Industries Ltd.</td>\n",
       "      <td>METALS</td>\n",
       "      <td>HINDALCO</td>\n",
       "      <td>EQ</td>\n",
       "      <td>INE038A01020</td>\n",
       "    </tr>\n",
       "    <tr>\n",
       "      <th>20</th>\n",
       "      <td>Hindustan Unilever Ltd.</td>\n",
       "      <td>CONSUMER GOODS</td>\n",
       "      <td>HINDUNILVR</td>\n",
       "      <td>EQ</td>\n",
       "      <td>INE030A01027</td>\n",
       "    </tr>\n",
       "    <tr>\n",
       "      <th>21</th>\n",
       "      <td>ICICI Bank Ltd.</td>\n",
       "      <td>FINANCIAL SERVICES</td>\n",
       "      <td>ICICIBANK</td>\n",
       "      <td>EQ</td>\n",
       "      <td>INE090A01021</td>\n",
       "    </tr>\n",
       "    <tr>\n",
       "      <th>22</th>\n",
       "      <td>IndusInd Bank Ltd.</td>\n",
       "      <td>FINANCIAL SERVICES</td>\n",
       "      <td>INDUSINDBK</td>\n",
       "      <td>EQ</td>\n",
       "      <td>INE095A01012</td>\n",
       "    </tr>\n",
       "    <tr>\n",
       "      <th>23</th>\n",
       "      <td>Bharti Infratel Ltd.</td>\n",
       "      <td>TELECOM</td>\n",
       "      <td>INFRATEL</td>\n",
       "      <td>EQ</td>\n",
       "      <td>INE121J01017</td>\n",
       "    </tr>\n",
       "    <tr>\n",
       "      <th>24</th>\n",
       "      <td>Infosys Ltd.</td>\n",
       "      <td>IT</td>\n",
       "      <td>INFY</td>\n",
       "      <td>EQ</td>\n",
       "      <td>INE009A01021</td>\n",
       "    </tr>\n",
       "    <tr>\n",
       "      <th>25</th>\n",
       "      <td>Indian Oil Corporation Ltd.</td>\n",
       "      <td>ENERGY</td>\n",
       "      <td>IOC</td>\n",
       "      <td>EQ</td>\n",
       "      <td>INE242A01010</td>\n",
       "    </tr>\n",
       "    <tr>\n",
       "      <th>26</th>\n",
       "      <td>ITC Ltd.</td>\n",
       "      <td>CONSUMER GOODS</td>\n",
       "      <td>ITC</td>\n",
       "      <td>EQ</td>\n",
       "      <td>INE154A01025</td>\n",
       "    </tr>\n",
       "    <tr>\n",
       "      <th>27</th>\n",
       "      <td>JSW Steel Ltd.</td>\n",
       "      <td>METALS</td>\n",
       "      <td>JSWSTEEL</td>\n",
       "      <td>EQ</td>\n",
       "      <td>INE019A01038</td>\n",
       "    </tr>\n",
       "    <tr>\n",
       "      <th>28</th>\n",
       "      <td>Kotak Mahindra Bank Ltd.</td>\n",
       "      <td>FINANCIAL SERVICES</td>\n",
       "      <td>KOTAKBANK</td>\n",
       "      <td>EQ</td>\n",
       "      <td>INE237A01028</td>\n",
       "    </tr>\n",
       "    <tr>\n",
       "      <th>29</th>\n",
       "      <td>Larsen &amp; Toubro Ltd.</td>\n",
       "      <td>CONSTRUCTION</td>\n",
       "      <td>LT</td>\n",
       "      <td>EQ</td>\n",
       "      <td>INE018A01030</td>\n",
       "    </tr>\n",
       "    <tr>\n",
       "      <th>30</th>\n",
       "      <td>Mahindra &amp; Mahindra Ltd.</td>\n",
       "      <td>AUTOMOBILE</td>\n",
       "      <td>M&amp;M</td>\n",
       "      <td>EQ</td>\n",
       "      <td>INE101A01026</td>\n",
       "    </tr>\n",
       "    <tr>\n",
       "      <th>31</th>\n",
       "      <td>Maruti Suzuki India Ltd.</td>\n",
       "      <td>AUTOMOBILE</td>\n",
       "      <td>MARUTI</td>\n",
       "      <td>EQ</td>\n",
       "      <td>INE585B01010</td>\n",
       "    </tr>\n",
       "    <tr>\n",
       "      <th>32</th>\n",
       "      <td>Nestle India Ltd.</td>\n",
       "      <td>CONSUMER GOODS</td>\n",
       "      <td>NESTLEIND</td>\n",
       "      <td>EQ</td>\n",
       "      <td>INE239A01016</td>\n",
       "    </tr>\n",
       "    <tr>\n",
       "      <th>33</th>\n",
       "      <td>NTPC Ltd.</td>\n",
       "      <td>ENERGY</td>\n",
       "      <td>NTPC</td>\n",
       "      <td>EQ</td>\n",
       "      <td>INE733E01010</td>\n",
       "    </tr>\n",
       "    <tr>\n",
       "      <th>34</th>\n",
       "      <td>Oil &amp; Natural Gas Corporation Ltd.</td>\n",
       "      <td>ENERGY</td>\n",
       "      <td>ONGC</td>\n",
       "      <td>EQ</td>\n",
       "      <td>INE213A01029</td>\n",
       "    </tr>\n",
       "    <tr>\n",
       "      <th>35</th>\n",
       "      <td>Power Grid Corporation of India Ltd.</td>\n",
       "      <td>ENERGY</td>\n",
       "      <td>POWERGRID</td>\n",
       "      <td>EQ</td>\n",
       "      <td>INE752E01010</td>\n",
       "    </tr>\n",
       "    <tr>\n",
       "      <th>36</th>\n",
       "      <td>Reliance Industries Ltd.</td>\n",
       "      <td>ENERGY</td>\n",
       "      <td>RELIANCE</td>\n",
       "      <td>EQ</td>\n",
       "      <td>INE002A01018</td>\n",
       "    </tr>\n",
       "    <tr>\n",
       "      <th>37</th>\n",
       "      <td>State Bank of India</td>\n",
       "      <td>FINANCIAL SERVICES</td>\n",
       "      <td>SBIN</td>\n",
       "      <td>EQ</td>\n",
       "      <td>INE062A01020</td>\n",
       "    </tr>\n",
       "    <tr>\n",
       "      <th>38</th>\n",
       "      <td>Shree Cement Ltd.</td>\n",
       "      <td>CEMENT &amp; CEMENT PRODUCTS</td>\n",
       "      <td>SHREECEM</td>\n",
       "      <td>EQ</td>\n",
       "      <td>INE070A01015</td>\n",
       "    </tr>\n",
       "    <tr>\n",
       "      <th>39</th>\n",
       "      <td>Sun Pharmaceutical Industries Ltd.</td>\n",
       "      <td>PHARMA</td>\n",
       "      <td>SUNPHARMA</td>\n",
       "      <td>EQ</td>\n",
       "      <td>INE044A01036</td>\n",
       "    </tr>\n",
       "    <tr>\n",
       "      <th>40</th>\n",
       "      <td>Tata Motors Ltd.</td>\n",
       "      <td>AUTOMOBILE</td>\n",
       "      <td>TATAMOTORS</td>\n",
       "      <td>EQ</td>\n",
       "      <td>INE155A01022</td>\n",
       "    </tr>\n",
       "    <tr>\n",
       "      <th>41</th>\n",
       "      <td>Tata Steel Ltd.</td>\n",
       "      <td>METALS</td>\n",
       "      <td>TATASTEEL</td>\n",
       "      <td>EQ</td>\n",
       "      <td>INE081A01012</td>\n",
       "    </tr>\n",
       "    <tr>\n",
       "      <th>42</th>\n",
       "      <td>Tata Consultancy Services Ltd.</td>\n",
       "      <td>IT</td>\n",
       "      <td>TCS</td>\n",
       "      <td>EQ</td>\n",
       "      <td>INE467B01029</td>\n",
       "    </tr>\n",
       "    <tr>\n",
       "      <th>43</th>\n",
       "      <td>Tech Mahindra Ltd.</td>\n",
       "      <td>IT</td>\n",
       "      <td>TECHM</td>\n",
       "      <td>EQ</td>\n",
       "      <td>INE669C01036</td>\n",
       "    </tr>\n",
       "    <tr>\n",
       "      <th>44</th>\n",
       "      <td>Titan Company Ltd.</td>\n",
       "      <td>CONSUMER GOODS</td>\n",
       "      <td>TITAN</td>\n",
       "      <td>EQ</td>\n",
       "      <td>INE280A01028</td>\n",
       "    </tr>\n",
       "    <tr>\n",
       "      <th>45</th>\n",
       "      <td>UltraTech Cement Ltd.</td>\n",
       "      <td>CEMENT &amp; CEMENT PRODUCTS</td>\n",
       "      <td>ULTRACEMCO</td>\n",
       "      <td>EQ</td>\n",
       "      <td>INE481G01011</td>\n",
       "    </tr>\n",
       "    <tr>\n",
       "      <th>46</th>\n",
       "      <td>UPL Ltd.</td>\n",
       "      <td>FERTILISERS &amp; PESTICIDES</td>\n",
       "      <td>UPL</td>\n",
       "      <td>EQ</td>\n",
       "      <td>INE628A01036</td>\n",
       "    </tr>\n",
       "    <tr>\n",
       "      <th>47</th>\n",
       "      <td>Vedanta Ltd.</td>\n",
       "      <td>METALS</td>\n",
       "      <td>VEDL</td>\n",
       "      <td>EQ</td>\n",
       "      <td>INE205A01025</td>\n",
       "    </tr>\n",
       "    <tr>\n",
       "      <th>48</th>\n",
       "      <td>Wipro Ltd.</td>\n",
       "      <td>IT</td>\n",
       "      <td>WIPRO</td>\n",
       "      <td>EQ</td>\n",
       "      <td>INE075A01022</td>\n",
       "    </tr>\n",
       "    <tr>\n",
       "      <th>49</th>\n",
       "      <td>Zee Entertainment Enterprises Ltd.</td>\n",
       "      <td>MEDIA &amp; ENTERTAINMENT</td>\n",
       "      <td>ZEEL</td>\n",
       "      <td>EQ</td>\n",
       "      <td>INE256A01028</td>\n",
       "    </tr>\n",
       "  </tbody>\n",
       "</table>\n",
       "</div>"
      ],
      "text/plain": [
       "                                    Company Name                  Industry  \\\n",
       "0     Adani Ports and Special Economic Zone Ltd.                  SERVICES   \n",
       "1                              Asian Paints Ltd.            CONSUMER GOODS   \n",
       "2                                 Axis Bank Ltd.        FINANCIAL SERVICES   \n",
       "3                                Bajaj Auto Ltd.                AUTOMOBILE   \n",
       "4                             Bajaj Finserv Ltd.        FINANCIAL SERVICES   \n",
       "5                             Bajaj Finance Ltd.        FINANCIAL SERVICES   \n",
       "6                             Bharti Airtel Ltd.                   TELECOM   \n",
       "7              Bharat Petroleum Corporation Ltd.                    ENERGY   \n",
       "8                      Britannia Industries Ltd.            CONSUMER GOODS   \n",
       "9                                     Cipla Ltd.                    PHARMA   \n",
       "10                               Coal India Ltd.                    METALS   \n",
       "11                 Dr. Reddy's Laboratories Ltd.                    PHARMA   \n",
       "12                            Eicher Motors Ltd.                AUTOMOBILE   \n",
       "13                             GAIL (India) Ltd.                    ENERGY   \n",
       "14                        Grasim Industries Ltd.  CEMENT & CEMENT PRODUCTS   \n",
       "15                         HCL Technologies Ltd.                        IT   \n",
       "16  Housing Development Finance Corporation Ltd.        FINANCIAL SERVICES   \n",
       "17                                HDFC Bank Ltd.        FINANCIAL SERVICES   \n",
       "18                            Hero MotoCorp Ltd.                AUTOMOBILE   \n",
       "19                      Hindalco Industries Ltd.                    METALS   \n",
       "20                       Hindustan Unilever Ltd.            CONSUMER GOODS   \n",
       "21                               ICICI Bank Ltd.        FINANCIAL SERVICES   \n",
       "22                            IndusInd Bank Ltd.        FINANCIAL SERVICES   \n",
       "23                          Bharti Infratel Ltd.                   TELECOM   \n",
       "24                                  Infosys Ltd.                        IT   \n",
       "25                   Indian Oil Corporation Ltd.                    ENERGY   \n",
       "26                                      ITC Ltd.            CONSUMER GOODS   \n",
       "27                                JSW Steel Ltd.                    METALS   \n",
       "28                      Kotak Mahindra Bank Ltd.        FINANCIAL SERVICES   \n",
       "29                          Larsen & Toubro Ltd.              CONSTRUCTION   \n",
       "30                      Mahindra & Mahindra Ltd.                AUTOMOBILE   \n",
       "31                      Maruti Suzuki India Ltd.                AUTOMOBILE   \n",
       "32                             Nestle India Ltd.            CONSUMER GOODS   \n",
       "33                                     NTPC Ltd.                    ENERGY   \n",
       "34            Oil & Natural Gas Corporation Ltd.                    ENERGY   \n",
       "35          Power Grid Corporation of India Ltd.                    ENERGY   \n",
       "36                      Reliance Industries Ltd.                    ENERGY   \n",
       "37                           State Bank of India        FINANCIAL SERVICES   \n",
       "38                             Shree Cement Ltd.  CEMENT & CEMENT PRODUCTS   \n",
       "39            Sun Pharmaceutical Industries Ltd.                    PHARMA   \n",
       "40                              Tata Motors Ltd.                AUTOMOBILE   \n",
       "41                               Tata Steel Ltd.                    METALS   \n",
       "42                Tata Consultancy Services Ltd.                        IT   \n",
       "43                            Tech Mahindra Ltd.                        IT   \n",
       "44                            Titan Company Ltd.            CONSUMER GOODS   \n",
       "45                         UltraTech Cement Ltd.  CEMENT & CEMENT PRODUCTS   \n",
       "46                                      UPL Ltd.  FERTILISERS & PESTICIDES   \n",
       "47                                  Vedanta Ltd.                    METALS   \n",
       "48                                    Wipro Ltd.                        IT   \n",
       "49            Zee Entertainment Enterprises Ltd.     MEDIA & ENTERTAINMENT   \n",
       "\n",
       "        Symbol Series     ISIN Code  \n",
       "0   ADANIPORTS     EQ  INE742F01042  \n",
       "1   ASIANPAINT     EQ  INE021A01026  \n",
       "2     AXISBANK     EQ  INE238A01034  \n",
       "3   BAJAJ-AUTO     EQ  INE917I01010  \n",
       "4   BAJAJFINSV     EQ  INE918I01018  \n",
       "5   BAJFINANCE     EQ  INE296A01024  \n",
       "6   BHARTIARTL     EQ  INE397D01024  \n",
       "7         BPCL     EQ  INE029A01011  \n",
       "8    BRITANNIA     EQ  INE216A01030  \n",
       "9        CIPLA     EQ  INE059A01026  \n",
       "10   COALINDIA     EQ  INE522F01014  \n",
       "11     DRREDDY     EQ  INE089A01023  \n",
       "12   EICHERMOT     EQ  INE066A01013  \n",
       "13        GAIL     EQ  INE129A01019  \n",
       "14      GRASIM     EQ  INE047A01021  \n",
       "15     HCLTECH     EQ  INE860A01027  \n",
       "16        HDFC     EQ  INE001A01036  \n",
       "17    HDFCBANK     EQ  INE040A01034  \n",
       "18  HEROMOTOCO     EQ  INE158A01026  \n",
       "19    HINDALCO     EQ  INE038A01020  \n",
       "20  HINDUNILVR     EQ  INE030A01027  \n",
       "21   ICICIBANK     EQ  INE090A01021  \n",
       "22  INDUSINDBK     EQ  INE095A01012  \n",
       "23    INFRATEL     EQ  INE121J01017  \n",
       "24        INFY     EQ  INE009A01021  \n",
       "25         IOC     EQ  INE242A01010  \n",
       "26         ITC     EQ  INE154A01025  \n",
       "27    JSWSTEEL     EQ  INE019A01038  \n",
       "28   KOTAKBANK     EQ  INE237A01028  \n",
       "29          LT     EQ  INE018A01030  \n",
       "30         M&M     EQ  INE101A01026  \n",
       "31      MARUTI     EQ  INE585B01010  \n",
       "32   NESTLEIND     EQ  INE239A01016  \n",
       "33        NTPC     EQ  INE733E01010  \n",
       "34        ONGC     EQ  INE213A01029  \n",
       "35   POWERGRID     EQ  INE752E01010  \n",
       "36    RELIANCE     EQ  INE002A01018  \n",
       "37        SBIN     EQ  INE062A01020  \n",
       "38    SHREECEM     EQ  INE070A01015  \n",
       "39   SUNPHARMA     EQ  INE044A01036  \n",
       "40  TATAMOTORS     EQ  INE155A01022  \n",
       "41   TATASTEEL     EQ  INE081A01012  \n",
       "42         TCS     EQ  INE467B01029  \n",
       "43       TECHM     EQ  INE669C01036  \n",
       "44       TITAN     EQ  INE280A01028  \n",
       "45  ULTRACEMCO     EQ  INE481G01011  \n",
       "46         UPL     EQ  INE628A01036  \n",
       "47        VEDL     EQ  INE205A01025  \n",
       "48       WIPRO     EQ  INE075A01022  \n",
       "49        ZEEL     EQ  INE256A01028  "
      ]
     },
     "execution_count": 6,
     "metadata": {},
     "output_type": "execute_result"
    }
   ],
   "source": [
    "m=pd.read_csv(\"/kaggle/input/nifty50-stock-market-data/stock_metadata.csv\")\n",
    "m"
   ]
  },
  {
   "cell_type": "code",
   "execution_count": 7,
   "id": "1333542d",
   "metadata": {
    "execution": {
     "iopub.execute_input": "2024-03-03T15:07:45.417881Z",
     "iopub.status.busy": "2024-03-03T15:07:45.417458Z",
     "iopub.status.idle": "2024-03-03T15:07:45.571865Z",
     "shell.execute_reply": "2024-03-03T15:07:45.570796Z"
    },
    "papermill": {
     "duration": 0.173155,
     "end_time": "2024-03-03T15:07:45.574750",
     "exception": false,
     "start_time": "2024-03-03T15:07:45.401595",
     "status": "completed"
    },
    "tags": []
   },
   "outputs": [],
   "source": [
    "#to merging two different tables \n",
    "df=pd.merge(s, m, on=['Symbol','Series'], how='inner')"
   ]
  },
  {
   "cell_type": "code",
   "execution_count": 8,
   "id": "7240b32e",
   "metadata": {
    "execution": {
     "iopub.execute_input": "2024-03-03T15:07:45.605999Z",
     "iopub.status.busy": "2024-03-03T15:07:45.605608Z",
     "iopub.status.idle": "2024-03-03T15:07:45.632053Z",
     "shell.execute_reply": "2024-03-03T15:07:45.630757Z"
    },
    "papermill": {
     "duration": 0.045557,
     "end_time": "2024-03-03T15:07:45.634762",
     "exception": false,
     "start_time": "2024-03-03T15:07:45.589205",
     "status": "completed"
    },
    "tags": []
   },
   "outputs": [
    {
     "data": {
      "text/html": [
       "<div>\n",
       "<style scoped>\n",
       "    .dataframe tbody tr th:only-of-type {\n",
       "        vertical-align: middle;\n",
       "    }\n",
       "\n",
       "    .dataframe tbody tr th {\n",
       "        vertical-align: top;\n",
       "    }\n",
       "\n",
       "    .dataframe thead th {\n",
       "        text-align: right;\n",
       "    }\n",
       "</style>\n",
       "<table border=\"1\" class=\"dataframe\">\n",
       "  <thead>\n",
       "    <tr style=\"text-align: right;\">\n",
       "      <th></th>\n",
       "      <th>Date</th>\n",
       "      <th>Symbol</th>\n",
       "      <th>Series</th>\n",
       "      <th>Prev Close</th>\n",
       "      <th>Open</th>\n",
       "      <th>High</th>\n",
       "      <th>Low</th>\n",
       "      <th>Last</th>\n",
       "      <th>Close</th>\n",
       "      <th>VWAP</th>\n",
       "      <th>Volume</th>\n",
       "      <th>Turnover</th>\n",
       "      <th>Trades</th>\n",
       "      <th>Deliverable Volume</th>\n",
       "      <th>%Deliverble</th>\n",
       "      <th>Company Name</th>\n",
       "      <th>Industry</th>\n",
       "      <th>ISIN Code</th>\n",
       "    </tr>\n",
       "  </thead>\n",
       "  <tbody>\n",
       "    <tr>\n",
       "      <th>0</th>\n",
       "      <td>2012-01-17</td>\n",
       "      <td>ADANIPORTS</td>\n",
       "      <td>EQ</td>\n",
       "      <td>135.5</td>\n",
       "      <td>137.1</td>\n",
       "      <td>141.00</td>\n",
       "      <td>135.00</td>\n",
       "      <td>140.1</td>\n",
       "      <td>140.00</td>\n",
       "      <td>138.13</td>\n",
       "      <td>1636196</td>\n",
       "      <td>2.260074e+13</td>\n",
       "      <td>18374.0</td>\n",
       "      <td>1004327.0</td>\n",
       "      <td>0.6138</td>\n",
       "      <td>Adani Ports and Special Economic Zone Ltd.</td>\n",
       "      <td>SERVICES</td>\n",
       "      <td>INE742F01042</td>\n",
       "    </tr>\n",
       "    <tr>\n",
       "      <th>1</th>\n",
       "      <td>2012-01-18</td>\n",
       "      <td>ADANIPORTS</td>\n",
       "      <td>EQ</td>\n",
       "      <td>140.0</td>\n",
       "      <td>142.0</td>\n",
       "      <td>143.80</td>\n",
       "      <td>138.70</td>\n",
       "      <td>143.0</td>\n",
       "      <td>141.70</td>\n",
       "      <td>141.25</td>\n",
       "      <td>890591</td>\n",
       "      <td>1.257986e+13</td>\n",
       "      <td>15615.0</td>\n",
       "      <td>404925.0</td>\n",
       "      <td>0.4547</td>\n",
       "      <td>Adani Ports and Special Economic Zone Ltd.</td>\n",
       "      <td>SERVICES</td>\n",
       "      <td>INE742F01042</td>\n",
       "    </tr>\n",
       "    <tr>\n",
       "      <th>2</th>\n",
       "      <td>2012-01-19</td>\n",
       "      <td>ADANIPORTS</td>\n",
       "      <td>EQ</td>\n",
       "      <td>141.7</td>\n",
       "      <td>144.0</td>\n",
       "      <td>150.55</td>\n",
       "      <td>143.15</td>\n",
       "      <td>149.5</td>\n",
       "      <td>149.40</td>\n",
       "      <td>146.72</td>\n",
       "      <td>1456077</td>\n",
       "      <td>2.136382e+13</td>\n",
       "      <td>31299.0</td>\n",
       "      <td>721545.0</td>\n",
       "      <td>0.4955</td>\n",
       "      <td>Adani Ports and Special Economic Zone Ltd.</td>\n",
       "      <td>SERVICES</td>\n",
       "      <td>INE742F01042</td>\n",
       "    </tr>\n",
       "    <tr>\n",
       "      <th>3</th>\n",
       "      <td>2012-01-20</td>\n",
       "      <td>ADANIPORTS</td>\n",
       "      <td>EQ</td>\n",
       "      <td>149.4</td>\n",
       "      <td>151.9</td>\n",
       "      <td>157.60</td>\n",
       "      <td>150.25</td>\n",
       "      <td>155.4</td>\n",
       "      <td>155.40</td>\n",
       "      <td>153.76</td>\n",
       "      <td>1634070</td>\n",
       "      <td>2.512583e+13</td>\n",
       "      <td>23335.0</td>\n",
       "      <td>861145.0</td>\n",
       "      <td>0.5270</td>\n",
       "      <td>Adani Ports and Special Economic Zone Ltd.</td>\n",
       "      <td>SERVICES</td>\n",
       "      <td>INE742F01042</td>\n",
       "    </tr>\n",
       "    <tr>\n",
       "      <th>4</th>\n",
       "      <td>2012-01-23</td>\n",
       "      <td>ADANIPORTS</td>\n",
       "      <td>EQ</td>\n",
       "      <td>155.4</td>\n",
       "      <td>155.4</td>\n",
       "      <td>155.40</td>\n",
       "      <td>145.10</td>\n",
       "      <td>146.4</td>\n",
       "      <td>146.75</td>\n",
       "      <td>149.54</td>\n",
       "      <td>1657609</td>\n",
       "      <td>2.478768e+13</td>\n",
       "      <td>12400.0</td>\n",
       "      <td>820653.0</td>\n",
       "      <td>0.4951</td>\n",
       "      <td>Adani Ports and Special Economic Zone Ltd.</td>\n",
       "      <td>SERVICES</td>\n",
       "      <td>INE742F01042</td>\n",
       "    </tr>\n",
       "  </tbody>\n",
       "</table>\n",
       "</div>"
      ],
      "text/plain": [
       "        Date      Symbol Series  Prev Close   Open    High     Low   Last  \\\n",
       "0 2012-01-17  ADANIPORTS     EQ       135.5  137.1  141.00  135.00  140.1   \n",
       "1 2012-01-18  ADANIPORTS     EQ       140.0  142.0  143.80  138.70  143.0   \n",
       "2 2012-01-19  ADANIPORTS     EQ       141.7  144.0  150.55  143.15  149.5   \n",
       "3 2012-01-20  ADANIPORTS     EQ       149.4  151.9  157.60  150.25  155.4   \n",
       "4 2012-01-23  ADANIPORTS     EQ       155.4  155.4  155.40  145.10  146.4   \n",
       "\n",
       "    Close    VWAP   Volume      Turnover   Trades  Deliverable Volume  \\\n",
       "0  140.00  138.13  1636196  2.260074e+13  18374.0           1004327.0   \n",
       "1  141.70  141.25   890591  1.257986e+13  15615.0            404925.0   \n",
       "2  149.40  146.72  1456077  2.136382e+13  31299.0            721545.0   \n",
       "3  155.40  153.76  1634070  2.512583e+13  23335.0            861145.0   \n",
       "4  146.75  149.54  1657609  2.478768e+13  12400.0            820653.0   \n",
       "\n",
       "   %Deliverble                                Company Name  Industry  \\\n",
       "0       0.6138  Adani Ports and Special Economic Zone Ltd.  SERVICES   \n",
       "1       0.4547  Adani Ports and Special Economic Zone Ltd.  SERVICES   \n",
       "2       0.4955  Adani Ports and Special Economic Zone Ltd.  SERVICES   \n",
       "3       0.5270  Adani Ports and Special Economic Zone Ltd.  SERVICES   \n",
       "4       0.4951  Adani Ports and Special Economic Zone Ltd.  SERVICES   \n",
       "\n",
       "      ISIN Code  \n",
       "0  INE742F01042  \n",
       "1  INE742F01042  \n",
       "2  INE742F01042  \n",
       "3  INE742F01042  \n",
       "4  INE742F01042  "
      ]
     },
     "execution_count": 8,
     "metadata": {},
     "output_type": "execute_result"
    }
   ],
   "source": [
    "df.head()"
   ]
  },
  {
   "cell_type": "code",
   "execution_count": 9,
   "id": "5d21fd9a",
   "metadata": {
    "execution": {
     "iopub.execute_input": "2024-03-03T15:07:45.666787Z",
     "iopub.status.busy": "2024-03-03T15:07:45.666357Z",
     "iopub.status.idle": "2024-03-03T15:07:45.794177Z",
     "shell.execute_reply": "2024-03-03T15:07:45.793294Z"
    },
    "papermill": {
     "duration": 0.146821,
     "end_time": "2024-03-03T15:07:45.796866",
     "exception": false,
     "start_time": "2024-03-03T15:07:45.650045",
     "status": "completed"
    },
    "tags": []
   },
   "outputs": [
    {
     "name": "stdout",
     "output_type": "stream",
     "text": [
      "<class 'pandas.core.frame.DataFrame'>\n",
      "RangeIndex: 207850 entries, 0 to 207849\n",
      "Data columns (total 18 columns):\n",
      " #   Column              Non-Null Count   Dtype         \n",
      "---  ------              --------------   -----         \n",
      " 0   Date                207850 non-null  datetime64[ns]\n",
      " 1   Symbol              207850 non-null  object        \n",
      " 2   Series              207850 non-null  object        \n",
      " 3   Prev Close          207850 non-null  float64       \n",
      " 4   Open                207850 non-null  float64       \n",
      " 5   High                207850 non-null  float64       \n",
      " 6   Low                 207850 non-null  float64       \n",
      " 7   Last                207850 non-null  float64       \n",
      " 8   Close               207850 non-null  float64       \n",
      " 9   VWAP                207850 non-null  float64       \n",
      " 10  Volume              207850 non-null  int64         \n",
      " 11  Turnover            207850 non-null  float64       \n",
      " 12  Trades              118547 non-null  float64       \n",
      " 13  Deliverable Volume  197043 non-null  float64       \n",
      " 14  %Deliverble         197043 non-null  float64       \n",
      " 15  Company Name        207850 non-null  object        \n",
      " 16  Industry            207850 non-null  object        \n",
      " 17  ISIN Code           207850 non-null  object        \n",
      "dtypes: datetime64[ns](1), float64(11), int64(1), object(5)\n",
      "memory usage: 28.5+ MB\n"
     ]
    }
   ],
   "source": [
    "#To find information about dataframe\n",
    "df.info()"
   ]
  },
  {
   "cell_type": "markdown",
   "id": "0be163ee",
   "metadata": {
    "papermill": {
     "duration": 0.014673,
     "end_time": "2024-03-03T15:07:45.826416",
     "exception": false,
     "start_time": "2024-03-03T15:07:45.811743",
     "status": "completed"
    },
    "tags": []
   },
   "source": [
    "## 1.Ranking overall, by Industry and by single title (top 5), using mean Volume (and Trades)"
   ]
  },
  {
   "cell_type": "code",
   "execution_count": 10,
   "id": "dc6f393d",
   "metadata": {
    "execution": {
     "iopub.execute_input": "2024-03-03T15:07:45.858314Z",
     "iopub.status.busy": "2024-03-03T15:07:45.857885Z",
     "iopub.status.idle": "2024-03-03T15:07:45.896208Z",
     "shell.execute_reply": "2024-03-03T15:07:45.895062Z"
    },
    "papermill": {
     "duration": 0.057779,
     "end_time": "2024-03-03T15:07:45.899070",
     "exception": false,
     "start_time": "2024-03-03T15:07:45.841291",
     "status": "completed"
    },
    "tags": []
   },
   "outputs": [],
   "source": [
    "#To findout overall rating\n",
    "overall_ranking = df.groupby('Symbol').agg({'Volume': 'mean', 'Trades': 'mean'}).rank(ascending=False)\n"
   ]
  },
  {
   "cell_type": "code",
   "execution_count": 11,
   "id": "e262c3fb",
   "metadata": {
    "execution": {
     "iopub.execute_input": "2024-03-03T15:07:45.931039Z",
     "iopub.status.busy": "2024-03-03T15:07:45.930660Z",
     "iopub.status.idle": "2024-03-03T15:07:45.963967Z",
     "shell.execute_reply": "2024-03-03T15:07:45.962353Z"
    },
    "papermill": {
     "duration": 0.052298,
     "end_time": "2024-03-03T15:07:45.966626",
     "exception": false,
     "start_time": "2024-03-03T15:07:45.914328",
     "status": "completed"
    },
    "tags": []
   },
   "outputs": [],
   "source": [
    "#To findout indstry ranking\n",
    "industry_ranking = df.groupby('Industry').agg({'Volume': 'mean', 'Trades': 'mean'}).rank(ascending=False)"
   ]
  },
  {
   "cell_type": "code",
   "execution_count": 12,
   "id": "c79f5889",
   "metadata": {
    "execution": {
     "iopub.execute_input": "2024-03-03T15:07:45.998921Z",
     "iopub.status.busy": "2024-03-03T15:07:45.998490Z",
     "iopub.status.idle": "2024-03-03T15:07:46.054388Z",
     "shell.execute_reply": "2024-03-03T15:07:46.053042Z"
    },
    "papermill": {
     "duration": 0.075198,
     "end_time": "2024-03-03T15:07:46.057186",
     "exception": false,
     "start_time": "2024-03-03T15:07:45.981988",
     "status": "completed"
    },
    "tags": []
   },
   "outputs": [],
   "source": [
    "#To single title ranking\n",
    "single_title_ranking =df.groupby(['Symbol', 'Company Name']).agg({'Volume': 'mean', 'Trades': 'mean'}).rank(ascending=False)"
   ]
  },
  {
   "cell_type": "code",
   "execution_count": 13,
   "id": "7098e971",
   "metadata": {
    "execution": {
     "iopub.execute_input": "2024-03-03T15:07:46.089196Z",
     "iopub.status.busy": "2024-03-03T15:07:46.088758Z",
     "iopub.status.idle": "2024-03-03T15:07:46.101318Z",
     "shell.execute_reply": "2024-03-03T15:07:46.100117Z"
    },
    "papermill": {
     "duration": 0.03183,
     "end_time": "2024-03-03T15:07:46.104059",
     "exception": false,
     "start_time": "2024-03-03T15:07:46.072229",
     "status": "completed"
    },
    "tags": []
   },
   "outputs": [
    {
     "data": {
      "text/html": [
       "<div>\n",
       "<style scoped>\n",
       "    .dataframe tbody tr th:only-of-type {\n",
       "        vertical-align: middle;\n",
       "    }\n",
       "\n",
       "    .dataframe tbody tr th {\n",
       "        vertical-align: top;\n",
       "    }\n",
       "\n",
       "    .dataframe thead th {\n",
       "        text-align: right;\n",
       "    }\n",
       "</style>\n",
       "<table border=\"1\" class=\"dataframe\">\n",
       "  <thead>\n",
       "    <tr style=\"text-align: right;\">\n",
       "      <th></th>\n",
       "      <th>Volume</th>\n",
       "      <th>Trades</th>\n",
       "    </tr>\n",
       "    <tr>\n",
       "      <th>Symbol</th>\n",
       "      <th></th>\n",
       "      <th></th>\n",
       "    </tr>\n",
       "  </thead>\n",
       "  <tbody>\n",
       "    <tr>\n",
       "      <th>ADANIPORTS</th>\n",
       "      <td>17.0</td>\n",
       "      <td>32.0</td>\n",
       "    </tr>\n",
       "    <tr>\n",
       "      <th>ASIANPAINT</th>\n",
       "      <td>40.0</td>\n",
       "      <td>36.0</td>\n",
       "    </tr>\n",
       "    <tr>\n",
       "      <th>AXISBANK</th>\n",
       "      <td>9.0</td>\n",
       "      <td>5.0</td>\n",
       "    </tr>\n",
       "    <tr>\n",
       "      <th>BAJAJ-AUTO</th>\n",
       "      <td>43.0</td>\n",
       "      <td>42.0</td>\n",
       "    </tr>\n",
       "    <tr>\n",
       "      <th>BAJAJFINSV</th>\n",
       "      <td>45.0</td>\n",
       "      <td>45.0</td>\n",
       "    </tr>\n",
       "  </tbody>\n",
       "</table>\n",
       "</div>"
      ],
      "text/plain": [
       "            Volume  Trades\n",
       "Symbol                    \n",
       "ADANIPORTS    17.0    32.0\n",
       "ASIANPAINT    40.0    36.0\n",
       "AXISBANK       9.0     5.0\n",
       "BAJAJ-AUTO    43.0    42.0\n",
       "BAJAJFINSV    45.0    45.0"
      ]
     },
     "execution_count": 13,
     "metadata": {},
     "output_type": "execute_result"
    }
   ],
   "source": [
    "# Top 5 Values of overall rating\n",
    "overall_ranking.head(5)"
   ]
  },
  {
   "cell_type": "code",
   "execution_count": 14,
   "id": "73db3ded",
   "metadata": {
    "execution": {
     "iopub.execute_input": "2024-03-03T15:07:46.136720Z",
     "iopub.status.busy": "2024-03-03T15:07:46.136291Z",
     "iopub.status.idle": "2024-03-03T15:07:46.148919Z",
     "shell.execute_reply": "2024-03-03T15:07:46.147781Z"
    },
    "papermill": {
     "duration": 0.036163,
     "end_time": "2024-03-03T15:07:46.155410",
     "exception": false,
     "start_time": "2024-03-03T15:07:46.119247",
     "status": "completed"
    },
    "tags": []
   },
   "outputs": [
    {
     "data": {
      "text/html": [
       "<div>\n",
       "<style scoped>\n",
       "    .dataframe tbody tr th:only-of-type {\n",
       "        vertical-align: middle;\n",
       "    }\n",
       "\n",
       "    .dataframe tbody tr th {\n",
       "        vertical-align: top;\n",
       "    }\n",
       "\n",
       "    .dataframe thead th {\n",
       "        text-align: right;\n",
       "    }\n",
       "</style>\n",
       "<table border=\"1\" class=\"dataframe\">\n",
       "  <thead>\n",
       "    <tr style=\"text-align: right;\">\n",
       "      <th></th>\n",
       "      <th>Volume</th>\n",
       "      <th>Trades</th>\n",
       "    </tr>\n",
       "    <tr>\n",
       "      <th>Industry</th>\n",
       "      <th></th>\n",
       "      <th></th>\n",
       "    </tr>\n",
       "  </thead>\n",
       "  <tbody>\n",
       "    <tr>\n",
       "      <th>AUTOMOBILE</th>\n",
       "      <td>8.0</td>\n",
       "      <td>8.0</td>\n",
       "    </tr>\n",
       "    <tr>\n",
       "      <th>CEMENT &amp; CEMENT PRODUCTS</th>\n",
       "      <td>13.0</td>\n",
       "      <td>13.0</td>\n",
       "    </tr>\n",
       "    <tr>\n",
       "      <th>CONSTRUCTION</th>\n",
       "      <td>11.0</td>\n",
       "      <td>2.0</td>\n",
       "    </tr>\n",
       "    <tr>\n",
       "      <th>CONSUMER GOODS</th>\n",
       "      <td>10.0</td>\n",
       "      <td>12.0</td>\n",
       "    </tr>\n",
       "    <tr>\n",
       "      <th>ENERGY</th>\n",
       "      <td>4.0</td>\n",
       "      <td>7.0</td>\n",
       "    </tr>\n",
       "  </tbody>\n",
       "</table>\n",
       "</div>"
      ],
      "text/plain": [
       "                          Volume  Trades\n",
       "Industry                                \n",
       "AUTOMOBILE                   8.0     8.0\n",
       "CEMENT & CEMENT PRODUCTS    13.0    13.0\n",
       "CONSTRUCTION                11.0     2.0\n",
       "CONSUMER GOODS              10.0    12.0\n",
       "ENERGY                       4.0     7.0"
      ]
     },
     "execution_count": 14,
     "metadata": {},
     "output_type": "execute_result"
    }
   ],
   "source": [
    "# Top 5 Values of indstry ranking\n",
    "industry_ranking.head(5)"
   ]
  },
  {
   "cell_type": "code",
   "execution_count": 15,
   "id": "65674bdf",
   "metadata": {
    "execution": {
     "iopub.execute_input": "2024-03-03T15:07:46.190049Z",
     "iopub.status.busy": "2024-03-03T15:07:46.189646Z",
     "iopub.status.idle": "2024-03-03T15:07:46.203770Z",
     "shell.execute_reply": "2024-03-03T15:07:46.202551Z"
    },
    "papermill": {
     "duration": 0.033665,
     "end_time": "2024-03-03T15:07:46.206194",
     "exception": false,
     "start_time": "2024-03-03T15:07:46.172529",
     "status": "completed"
    },
    "tags": []
   },
   "outputs": [
    {
     "data": {
      "text/html": [
       "<div>\n",
       "<style scoped>\n",
       "    .dataframe tbody tr th:only-of-type {\n",
       "        vertical-align: middle;\n",
       "    }\n",
       "\n",
       "    .dataframe tbody tr th {\n",
       "        vertical-align: top;\n",
       "    }\n",
       "\n",
       "    .dataframe thead th {\n",
       "        text-align: right;\n",
       "    }\n",
       "</style>\n",
       "<table border=\"1\" class=\"dataframe\">\n",
       "  <thead>\n",
       "    <tr style=\"text-align: right;\">\n",
       "      <th></th>\n",
       "      <th></th>\n",
       "      <th>Volume</th>\n",
       "      <th>Trades</th>\n",
       "    </tr>\n",
       "    <tr>\n",
       "      <th>Symbol</th>\n",
       "      <th>Company Name</th>\n",
       "      <th></th>\n",
       "      <th></th>\n",
       "    </tr>\n",
       "  </thead>\n",
       "  <tbody>\n",
       "    <tr>\n",
       "      <th>ADANIPORTS</th>\n",
       "      <th>Adani Ports and Special Economic Zone Ltd.</th>\n",
       "      <td>17.0</td>\n",
       "      <td>32.0</td>\n",
       "    </tr>\n",
       "    <tr>\n",
       "      <th>ASIANPAINT</th>\n",
       "      <th>Asian Paints Ltd.</th>\n",
       "      <td>40.0</td>\n",
       "      <td>36.0</td>\n",
       "    </tr>\n",
       "    <tr>\n",
       "      <th>AXISBANK</th>\n",
       "      <th>Axis Bank Ltd.</th>\n",
       "      <td>9.0</td>\n",
       "      <td>5.0</td>\n",
       "    </tr>\n",
       "    <tr>\n",
       "      <th>BAJAJ-AUTO</th>\n",
       "      <th>Bajaj Auto Ltd.</th>\n",
       "      <td>43.0</td>\n",
       "      <td>42.0</td>\n",
       "    </tr>\n",
       "    <tr>\n",
       "      <th>BAJAJFINSV</th>\n",
       "      <th>Bajaj Finserv Ltd.</th>\n",
       "      <td>45.0</td>\n",
       "      <td>45.0</td>\n",
       "    </tr>\n",
       "  </tbody>\n",
       "</table>\n",
       "</div>"
      ],
      "text/plain": [
       "                                                       Volume  Trades\n",
       "Symbol     Company Name                                              \n",
       "ADANIPORTS Adani Ports and Special Economic Zone Ltd.    17.0    32.0\n",
       "ASIANPAINT Asian Paints Ltd.                             40.0    36.0\n",
       "AXISBANK   Axis Bank Ltd.                                 9.0     5.0\n",
       "BAJAJ-AUTO Bajaj Auto Ltd.                               43.0    42.0\n",
       "BAJAJFINSV Bajaj Finserv Ltd.                            45.0    45.0"
      ]
     },
     "execution_count": 15,
     "metadata": {},
     "output_type": "execute_result"
    }
   ],
   "source": [
    "# Top 5 Values of single title ranking\n",
    "single_title_ranking.head(5)"
   ]
  },
  {
   "cell_type": "markdown",
   "id": "6811b5aa",
   "metadata": {
    "papermill": {
     "duration": 0.015739,
     "end_time": "2024-03-03T15:07:46.237664",
     "exception": false,
     "start_time": "2024-03-03T15:07:46.221925",
     "status": "completed"
    },
    "tags": []
   },
   "source": [
    "## 2.Ranking of Must trading stock Since Inception (using Trades)"
   ]
  },
  {
   "cell_type": "code",
   "execution_count": 16,
   "id": "1919f69e",
   "metadata": {
    "execution": {
     "iopub.execute_input": "2024-03-03T15:07:46.271163Z",
     "iopub.status.busy": "2024-03-03T15:07:46.270789Z",
     "iopub.status.idle": "2024-03-03T15:07:46.298964Z",
     "shell.execute_reply": "2024-03-03T15:07:46.297596Z"
    },
    "papermill": {
     "duration": 0.048538,
     "end_time": "2024-03-03T15:07:46.301975",
     "exception": false,
     "start_time": "2024-03-03T15:07:46.253437",
     "status": "completed"
    },
    "tags": []
   },
   "outputs": [],
   "source": [
    "#To findout inception ranking\n",
    "inception_ranking = df.groupby('Symbol').agg({'Trades': 'sum'}).rank(ascending=False)"
   ]
  },
  {
   "cell_type": "code",
   "execution_count": 17,
   "id": "6d39c230",
   "metadata": {
    "execution": {
     "iopub.execute_input": "2024-03-03T15:07:46.336878Z",
     "iopub.status.busy": "2024-03-03T15:07:46.336437Z",
     "iopub.status.idle": "2024-03-03T15:07:46.341696Z",
     "shell.execute_reply": "2024-03-03T15:07:46.340626Z"
    },
    "papermill": {
     "duration": 0.026041,
     "end_time": "2024-03-03T15:07:46.343922",
     "exception": false,
     "start_time": "2024-03-03T15:07:46.317881",
     "status": "completed"
    },
    "tags": []
   },
   "outputs": [],
   "source": [
    "#Top 5 inception ranking\n",
    "top5=inception_ranking.head(5)"
   ]
  },
  {
   "cell_type": "code",
   "execution_count": 18,
   "id": "2ba58d53",
   "metadata": {
    "execution": {
     "iopub.execute_input": "2024-03-03T15:07:46.377049Z",
     "iopub.status.busy": "2024-03-03T15:07:46.376634Z",
     "iopub.status.idle": "2024-03-03T15:07:46.827523Z",
     "shell.execute_reply": "2024-03-03T15:07:46.826331Z"
    },
    "papermill": {
     "duration": 0.47051,
     "end_time": "2024-03-03T15:07:46.829962",
     "exception": false,
     "start_time": "2024-03-03T15:07:46.359452",
     "status": "completed"
    },
    "tags": []
   },
   "outputs": [
    {
     "data": {
      "text/plain": [
       "<Figure size 1000x800 with 0 Axes>"
      ]
     },
     "metadata": {},
     "output_type": "display_data"
    },
    {
     "data": {
      "image/png": "[encoded data removed]",
      "text/plain": [
       "<Figure size 640x480 with 1 Axes>"
      ]
     },
     "metadata": {},
     "output_type": "display_data"
    }
   ],
   "source": [
    "#To plotting\n",
    "plt.figure(figsize=(10,8))\n",
    "top5.plot(kind=\"barh\")\n",
    "plt.title(\"Top 5 inception ranking\")\n",
    "plt.xlabel(\"Symbol\")\n",
    "plt.ylabel(\"Trades\")\n",
    "plt.show()"
   ]
  },
  {
   "cell_type": "markdown",
   "id": "9f04b432",
   "metadata": {
    "papermill": {
     "duration": 0.015757,
     "end_time": "2024-03-03T15:07:46.861700",
     "exception": false,
     "start_time": "2024-03-03T15:07:46.845943",
     "status": "completed"
    },
    "tags": []
   },
   "source": [
    "## 3.Top 5 best stocks using delta price % Since Inception"
   ]
  },
  {
   "cell_type": "code",
   "execution_count": 19,
   "id": "f3a3b937",
   "metadata": {
    "execution": {
     "iopub.execute_input": "2024-03-03T15:07:46.900165Z",
     "iopub.status.busy": "2024-03-03T15:07:46.898774Z",
     "iopub.status.idle": "2024-03-03T15:07:46.935120Z",
     "shell.execute_reply": "2024-03-03T15:07:46.933925Z"
    },
    "papermill": {
     "duration": 0.058529,
     "end_time": "2024-03-03T15:07:46.938459",
     "exception": false,
     "start_time": "2024-03-03T15:07:46.879930",
     "status": "completed"
    },
    "tags": []
   },
   "outputs": [],
   "source": [
    "#To findout price inception from first to last\n",
    "price_since_inception = df.groupby('Symbol').agg({'Close': ['first', 'last']})"
   ]
  },
  {
   "cell_type": "code",
   "execution_count": 20,
   "id": "4bbde905",
   "metadata": {
    "execution": {
     "iopub.execute_input": "2024-03-03T15:07:46.975204Z",
     "iopub.status.busy": "2024-03-03T15:07:46.974184Z",
     "iopub.status.idle": "2024-03-03T15:07:46.986586Z",
     "shell.execute_reply": "2024-03-03T15:07:46.985664Z"
    },
    "papermill": {
     "duration": 0.03219,
     "end_time": "2024-03-03T15:07:46.988940",
     "exception": false,
     "start_time": "2024-03-03T15:07:46.956750",
     "status": "completed"
    },
    "tags": []
   },
   "outputs": [],
   "source": [
    "#from formula delta we are findout stock price using delta % price\n",
    "price_since_inception['Delta_Price'] = (price_since_inception['Close']['last'] - price_since_inception['Close']['first']) / price_since_inception['Close']['first'] * 100"
   ]
  },
  {
   "cell_type": "code",
   "execution_count": 21,
   "id": "7c926506",
   "metadata": {
    "execution": {
     "iopub.execute_input": "2024-03-03T15:07:47.023615Z",
     "iopub.status.busy": "2024-03-03T15:07:47.022880Z",
     "iopub.status.idle": "2024-03-03T15:07:47.029732Z",
     "shell.execute_reply": "2024-03-03T15:07:47.028589Z"
    },
    "papermill": {
     "duration": 0.027016,
     "end_time": "2024-03-03T15:07:47.032216",
     "exception": false,
     "start_time": "2024-03-03T15:07:47.005200",
     "status": "completed"
    },
    "tags": []
   },
   "outputs": [],
   "source": [
    "# Top 5 Values\n",
    "top5delta=price_since_inception.sort_values(by='Delta_Price', ascending=False).head(5)"
   ]
  },
  {
   "cell_type": "code",
   "execution_count": 22,
   "id": "7eb45d4d",
   "metadata": {
    "execution": {
     "iopub.execute_input": "2024-03-03T15:07:47.066086Z",
     "iopub.status.busy": "2024-03-03T15:07:47.065679Z",
     "iopub.status.idle": "2024-03-03T15:07:47.347334Z",
     "shell.execute_reply": "2024-03-03T15:07:47.346223Z"
    },
    "papermill": {
     "duration": 0.301279,
     "end_time": "2024-03-03T15:07:47.349733",
     "exception": false,
     "start_time": "2024-03-03T15:07:47.048454",
     "status": "completed"
    },
    "tags": []
   },
   "outputs": [
    {
     "data": {
      "text/plain": [
       "<Figure size 1000x800 with 0 Axes>"
      ]
     },
     "metadata": {},
     "output_type": "display_data"
    },
    {
     "data": {
      "image/png": "[encoded data removed]",
      "text/plain": [
       "<Figure size 640x480 with 1 Axes>"
      ]
     },
     "metadata": {},
     "output_type": "display_data"
    }
   ],
   "source": [
    "plt.figure(figsize=(10,8))\n",
    "top5delta.plot(kind='barh',y='Delta_Price',title='Top 5 Stocks by Delta Price % Since Inception')\n",
    "plt.gca().invert_yaxis()\n",
    "plt.show()"
   ]
  },
  {
   "cell_type": "markdown",
   "id": "af4b4e3d",
   "metadata": {
    "papermill": {
     "duration": 0.017896,
     "end_time": "2024-03-03T15:07:47.384630",
     "exception": false,
     "start_time": "2024-03-03T15:07:47.366734",
     "status": "completed"
    },
    "tags": []
   },
   "source": [
    "**SHRECEM symbol Companies has more delta percentage as if other 50 companies as percent of 43005.019305%**"
   ]
  },
  {
   "cell_type": "markdown",
   "id": "a5660898",
   "metadata": {
    "papermill": {
     "duration": 0.016718,
     "end_time": "2024-03-03T15:07:47.419947",
     "exception": false,
     "start_time": "2024-03-03T15:07:47.403229",
     "status": "completed"
    },
    "tags": []
   },
   "source": [
    "## 4.Top 5 worst stocks using delta price % Since Inception"
   ]
  },
  {
   "cell_type": "code",
   "execution_count": 23,
   "id": "7f05bf52",
   "metadata": {
    "execution": {
     "iopub.execute_input": "2024-03-03T15:07:47.455594Z",
     "iopub.status.busy": "2024-03-03T15:07:47.455151Z",
     "iopub.status.idle": "2024-03-03T15:07:47.464172Z",
     "shell.execute_reply": "2024-03-03T15:07:47.463354Z"
    },
    "papermill": {
     "duration": 0.02966,
     "end_time": "2024-03-03T15:07:47.466590",
     "exception": false,
     "start_time": "2024-03-03T15:07:47.436930",
     "status": "completed"
    },
    "tags": []
   },
   "outputs": [],
   "source": [
    "top5worst=price_since_inception.sort_values(by='Delta_Price',ascending=True).head(5)"
   ]
  },
  {
   "cell_type": "code",
   "execution_count": 24,
   "id": "20415624",
   "metadata": {
    "execution": {
     "iopub.execute_input": "2024-03-03T15:07:47.503049Z",
     "iopub.status.busy": "2024-03-03T15:07:47.501786Z",
     "iopub.status.idle": "2024-03-03T15:07:47.518575Z",
     "shell.execute_reply": "2024-03-03T15:07:47.517536Z"
    },
    "papermill": {
     "duration": 0.037769,
     "end_time": "2024-03-03T15:07:47.521134",
     "exception": false,
     "start_time": "2024-03-03T15:07:47.483365",
     "status": "completed"
    },
    "tags": []
   },
   "outputs": [
    {
     "data": {
      "text/html": [
       "<div>\n",
       "<style scoped>\n",
       "    .dataframe tbody tr th:only-of-type {\n",
       "        vertical-align: middle;\n",
       "    }\n",
       "\n",
       "    .dataframe tbody tr th {\n",
       "        vertical-align: top;\n",
       "    }\n",
       "\n",
       "    .dataframe thead tr th {\n",
       "        text-align: left;\n",
       "    }\n",
       "\n",
       "    .dataframe thead tr:last-of-type th {\n",
       "        text-align: right;\n",
       "    }\n",
       "</style>\n",
       "<table border=\"1\" class=\"dataframe\">\n",
       "  <thead>\n",
       "    <tr>\n",
       "      <th></th>\n",
       "      <th colspan=\"2\" halign=\"left\">Close</th>\n",
       "      <th>Delta_Price</th>\n",
       "    </tr>\n",
       "    <tr>\n",
       "      <th></th>\n",
       "      <th>first</th>\n",
       "      <th>last</th>\n",
       "      <th></th>\n",
       "    </tr>\n",
       "    <tr>\n",
       "      <th>Symbol</th>\n",
       "      <th></th>\n",
       "      <th></th>\n",
       "      <th></th>\n",
       "    </tr>\n",
       "  </thead>\n",
       "  <tbody>\n",
       "    <tr>\n",
       "      <th>WIPRO</th>\n",
       "      <td>2724.20</td>\n",
       "      <td>492.75</td>\n",
       "      <td>-81.912121</td>\n",
       "    </tr>\n",
       "    <tr>\n",
       "      <th>ITC</th>\n",
       "      <td>708.50</td>\n",
       "      <td>202.60</td>\n",
       "      <td>-71.404375</td>\n",
       "    </tr>\n",
       "    <tr>\n",
       "      <th>IOC</th>\n",
       "      <td>270.85</td>\n",
       "      <td>90.85</td>\n",
       "      <td>-66.457449</td>\n",
       "    </tr>\n",
       "    <tr>\n",
       "      <th>SUNPHARMA</th>\n",
       "      <td>1835.05</td>\n",
       "      <td>654.45</td>\n",
       "      <td>-64.336122</td>\n",
       "    </tr>\n",
       "    <tr>\n",
       "      <th>COALINDIA</th>\n",
       "      <td>342.55</td>\n",
       "      <td>133.05</td>\n",
       "      <td>-61.158955</td>\n",
       "    </tr>\n",
       "  </tbody>\n",
       "</table>\n",
       "</div>"
      ],
      "text/plain": [
       "             Close         Delta_Price\n",
       "             first    last            \n",
       "Symbol                                \n",
       "WIPRO      2724.20  492.75  -81.912121\n",
       "ITC         708.50  202.60  -71.404375\n",
       "IOC         270.85   90.85  -66.457449\n",
       "SUNPHARMA  1835.05  654.45  -64.336122\n",
       "COALINDIA   342.55  133.05  -61.158955"
      ]
     },
     "execution_count": 24,
     "metadata": {},
     "output_type": "execute_result"
    }
   ],
   "source": [
    "price_since_inception.sort_values(by='Delta_Price',ascending=True).head(5)"
   ]
  },
  {
   "cell_type": "code",
   "execution_count": 25,
   "id": "61b013b7",
   "metadata": {
    "execution": {
     "iopub.execute_input": "2024-03-03T15:07:47.558317Z",
     "iopub.status.busy": "2024-03-03T15:07:47.557906Z",
     "iopub.status.idle": "2024-03-03T15:07:47.850271Z",
     "shell.execute_reply": "2024-03-03T15:07:47.849409Z"
    },
    "papermill": {
     "duration": 0.314015,
     "end_time": "2024-03-03T15:07:47.852611",
     "exception": false,
     "start_time": "2024-03-03T15:07:47.538596",
     "status": "completed"
    },
    "tags": []
   },
   "outputs": [
    {
     "data": {
      "text/plain": [
       "<Figure size 1000x800 with 0 Axes>"
      ]
     },
     "metadata": {},
     "output_type": "display_data"
    },
    {
     "data": {
      "image/png": "[encoded data removed]",
      "text/plain": [
       "<Figure size 640x480 with 1 Axes>"
      ]
     },
     "metadata": {},
     "output_type": "display_data"
    }
   ],
   "source": [
    "plt.figure(figsize=(10,8))\n",
    "top5worst.plot(kind='barh',y='Delta_Price' ,title='Top 5 worst Stocks by Delta Price % Since Inception')\n",
    "plt.gca().invert_yaxis()\n",
    "plt.show()"
   ]
  },
  {
   "cell_type": "markdown",
   "id": "165872c2",
   "metadata": {
    "papermill": {
     "duration": 0.079167,
     "end_time": "2024-03-03T15:07:47.950335",
     "exception": false,
     "start_time": "2024-03-03T15:07:47.871168",
     "status": "completed"
    },
    "tags": []
   },
   "source": [
    "**WIPRO symbol Companies worst Stocks by Delta Price % Since Inception as if other 50 companies as percent of -81.912121%**"
   ]
  },
  {
   "cell_type": "markdown",
   "id": "59dc5bc2",
   "metadata": {
    "papermill": {
     "duration": 0.01739,
     "end_time": "2024-03-03T15:07:47.985314",
     "exception": false,
     "start_time": "2024-03-03T15:07:47.967924",
     "status": "completed"
    },
    "tags": []
   },
   "source": [
    "## 5.Standard deviation and Coefficient of Variation"
   ]
  },
  {
   "cell_type": "code",
   "execution_count": 26,
   "id": "2b94727e",
   "metadata": {
    "execution": {
     "iopub.execute_input": "2024-03-03T15:07:48.023273Z",
     "iopub.status.busy": "2024-03-03T15:07:48.022581Z",
     "iopub.status.idle": "2024-03-03T15:07:48.048648Z",
     "shell.execute_reply": "2024-03-03T15:07:48.047723Z"
    },
    "papermill": {
     "duration": 0.048145,
     "end_time": "2024-03-03T15:07:48.051285",
     "exception": false,
     "start_time": "2024-03-03T15:07:48.003140",
     "status": "completed"
    },
    "tags": []
   },
   "outputs": [],
   "source": [
    "# Calculate standard deviation for each stock\n",
    "std_deviation = df.groupby('Symbol')['Close'].std()"
   ]
  },
  {
   "cell_type": "code",
   "execution_count": 27,
   "id": "029f1260",
   "metadata": {
    "execution": {
     "iopub.execute_input": "2024-03-03T15:07:48.089823Z",
     "iopub.status.busy": "2024-03-03T15:07:48.089414Z",
     "iopub.status.idle": "2024-03-03T15:07:48.122007Z",
     "shell.execute_reply": "2024-03-03T15:07:48.120837Z"
    },
    "papermill": {
     "duration": 0.055183,
     "end_time": "2024-03-03T15:07:48.124590",
     "exception": false,
     "start_time": "2024-03-03T15:07:48.069407",
     "status": "completed"
    },
    "tags": []
   },
   "outputs": [
    {
     "data": {
      "text/plain": [
       "Symbol\n",
       "ADANIPORTS     119.857232\n",
       "ASIANPAINT    1074.476439\n",
       "AXISBANK       354.932553\n",
       "BAJAJ-AUTO     775.095766\n",
       "BAJAJFINSV    2873.522615\n",
       "BAJFINANCE    1963.434023\n",
       "BHARTIARTL     178.730332\n",
       "BPCL           184.338560\n",
       "BRITANNIA     1364.982005\n",
       "CIPLA          289.151156\n",
       "COALINDIA       74.144478\n",
       "DRREDDY       1093.927165\n",
       "EICHERMOT     9702.651623\n",
       "GAIL           129.628103\n",
       "GRASIM        1152.009612\n",
       "HCLTECH        411.674568\n",
       "HDFC           709.430515\n",
       "HDFCBANK       635.675021\n",
       "HEROMOTOCO     621.085091\n",
       "HINDALCO        56.630293\n",
       "HINDUNILVR     652.670634\n",
       "ICICIBANK      368.725374\n",
       "INDUSINDBK     562.718180\n",
       "INFY           965.789156\n",
       "IOC            138.346890\n",
       "ITC            328.165405\n",
       "JSWSTEEL       396.339698\n",
       "KOTAKBANK      418.478415\n",
       "LT             587.604848\n",
       "M&M            370.493099\n",
       "MARUTI        2740.723734\n",
       "NESTLEIND     4182.705331\n",
       "NTPC            35.857614\n",
       "ONGC           385.197861\n",
       "POWERGRID       41.947928\n",
       "RELIANCE       571.046753\n",
       "SBIN           857.766537\n",
       "SHREECEM      7790.209999\n",
       "SUNPHARMA      361.466683\n",
       "TATAMOTORS     264.943151\n",
       "TATASTEEL      153.486436\n",
       "TCS            723.061025\n",
       "TECHM          511.235143\n",
       "TITAN          785.206121\n",
       "ULTRACEMCO    1524.660937\n",
       "UPL            194.532224\n",
       "VEDL            72.728496\n",
       "WIPRO          794.159260\n",
       "ZEEL           133.312364\n",
       "Name: Close, dtype: float64"
      ]
     },
     "execution_count": 27,
     "metadata": {},
     "output_type": "execute_result"
    }
   ],
   "source": [
    "df.groupby('Symbol')['Close'].std()"
   ]
  },
  {
   "cell_type": "code",
   "execution_count": 28,
   "id": "7ee54a22",
   "metadata": {
    "execution": {
     "iopub.execute_input": "2024-03-03T15:07:48.163223Z",
     "iopub.status.busy": "2024-03-03T15:07:48.162569Z",
     "iopub.status.idle": "2024-03-03T15:07:48.189864Z",
     "shell.execute_reply": "2024-03-03T15:07:48.188820Z"
    },
    "papermill": {
     "duration": 0.049577,
     "end_time": "2024-03-03T15:07:48.192443",
     "exception": false,
     "start_time": "2024-03-03T15:07:48.142866",
     "status": "completed"
    },
    "tags": []
   },
   "outputs": [],
   "source": [
    "# To mean values in close price in symbol stocks\n",
    "mean_close_price = df.groupby('Symbol')['Close'].mean()"
   ]
  },
  {
   "cell_type": "code",
   "execution_count": 29,
   "id": "594efa61",
   "metadata": {
    "execution": {
     "iopub.execute_input": "2024-03-03T15:07:48.231336Z",
     "iopub.status.busy": "2024-03-03T15:07:48.230504Z",
     "iopub.status.idle": "2024-03-03T15:07:48.261399Z",
     "shell.execute_reply": "2024-03-03T15:07:48.260222Z"
    },
    "papermill": {
     "duration": 0.052928,
     "end_time": "2024-03-03T15:07:48.263856",
     "exception": false,
     "start_time": "2024-03-03T15:07:48.210928",
     "status": "completed"
    },
    "tags": []
   },
   "outputs": [
    {
     "data": {
      "text/plain": [
       "Symbol\n",
       "ADANIPORTS     294.111766\n",
       "ASIANPAINT    1247.410903\n",
       "AXISBANK       824.058898\n",
       "BAJAJ-AUTO    2190.412196\n",
       "BAJAJFINSV    2758.657451\n",
       "BAJFINANCE    2627.858937\n",
       "BHARTIARTL     446.114790\n",
       "BPCL           444.377629\n",
       "BRITANNIA     1688.492347\n",
       "CIPLA          540.421052\n",
       "COALINDIA      287.953464\n",
       "DRREDDY       1828.382689\n",
       "EICHERMOT     6751.063167\n",
       "GAIL           292.120090\n",
       "GRASIM        1753.151150\n",
       "HCLTECH        642.173981\n",
       "HDFC          1284.071005\n",
       "HDFCBANK      1007.330390\n",
       "HEROMOTOCO    2665.182060\n",
       "HINDALCO       159.223959\n",
       "HINDUNILVR     868.433314\n",
       "ICICIBANK      550.995524\n",
       "INDUSINDBK     494.322698\n",
       "INFY          1708.548912\n",
       "IOC            318.582614\n",
       "ITC            420.273690\n",
       "JSWSTEEL       671.924877\n",
       "KOTAKBANK      760.671292\n",
       "LT            1534.274355\n",
       "M&M            686.872616\n",
       "MARUTI        2925.005094\n",
       "NESTLEIND     7512.039647\n",
       "NTPC           150.992723\n",
       "ONGC           491.138193\n",
       "POWERGRID      141.382152\n",
       "RELIANCE      1011.316839\n",
       "SBIN           965.895543\n",
       "SHREECEM      6565.809539\n",
       "SUNPHARMA      747.307105\n",
       "TATAMOTORS     470.561121\n",
       "TATASTEEL      476.588977\n",
       "TCS           1694.371612\n",
       "TECHM          883.338088\n",
       "TITAN          709.484499\n",
       "ULTRACEMCO    2150.926570\n",
       "UPL            560.890366\n",
       "VEDL           183.293489\n",
       "WIPRO          754.474783\n",
       "ZEEL           297.517507\n",
       "Name: Close, dtype: float64"
      ]
     },
     "execution_count": 29,
     "metadata": {},
     "output_type": "execute_result"
    }
   ],
   "source": [
    "df.groupby('Symbol')['Close'].mean()"
   ]
  },
  {
   "cell_type": "code",
   "execution_count": 30,
   "id": "b6ce5707",
   "metadata": {
    "execution": {
     "iopub.execute_input": "2024-03-03T15:07:48.303293Z",
     "iopub.status.busy": "2024-03-03T15:07:48.302642Z",
     "iopub.status.idle": "2024-03-03T15:07:48.307637Z",
     "shell.execute_reply": "2024-03-03T15:07:48.306549Z"
    },
    "papermill": {
     "duration": 0.028111,
     "end_time": "2024-03-03T15:07:48.310355",
     "exception": false,
     "start_time": "2024-03-03T15:07:48.282244",
     "status": "completed"
    },
    "tags": []
   },
   "outputs": [],
   "source": [
    "# Calculate coefficient of variation (CV)\n",
    "cv = std_deviation / mean_close_price"
   ]
  },
  {
   "cell_type": "code",
   "execution_count": 31,
   "id": "f7739dcb",
   "metadata": {
    "execution": {
     "iopub.execute_input": "2024-03-03T15:07:48.349181Z",
     "iopub.status.busy": "2024-03-03T15:07:48.348787Z",
     "iopub.status.idle": "2024-03-03T15:07:48.357289Z",
     "shell.execute_reply": "2024-03-03T15:07:48.356389Z"
    },
    "papermill": {
     "duration": 0.030593,
     "end_time": "2024-03-03T15:07:48.359477",
     "exception": false,
     "start_time": "2024-03-03T15:07:48.328884",
     "status": "completed"
    },
    "tags": []
   },
   "outputs": [
    {
     "data": {
      "text/plain": [
       "Symbol\n",
       "ADANIPORTS    0.407523\n",
       "ASIANPAINT    0.861365\n",
       "AXISBANK      0.430713\n",
       "BAJAJ-AUTO    0.353858\n",
       "BAJAJFINSV    1.041638\n",
       "BAJFINANCE    0.747161\n",
       "BHARTIARTL    0.400638\n",
       "BPCL          0.414824\n",
       "BRITANNIA     0.808403\n",
       "CIPLA         0.535048\n",
       "COALINDIA     0.257488\n",
       "DRREDDY       0.598303\n",
       "EICHERMOT     1.437204\n",
       "GAIL          0.443749\n",
       "GRASIM        0.657108\n",
       "HCLTECH       0.641064\n",
       "HDFC          0.552485\n",
       "HDFCBANK      0.631049\n",
       "HEROMOTOCO    0.233037\n",
       "HINDALCO      0.355664\n",
       "HINDUNILVR    0.751550\n",
       "ICICIBANK     0.669198\n",
       "INDUSINDBK    1.138362\n",
       "INFY          0.565269\n",
       "IOC           0.434258\n",
       "ITC           0.780837\n",
       "JSWSTEEL      0.589857\n",
       "KOTAKBANK     0.550144\n",
       "LT            0.382986\n",
       "M&M           0.539391\n",
       "MARUTI        0.936998\n",
       "NESTLEIND     0.556800\n",
       "NTPC          0.237479\n",
       "ONGC          0.784296\n",
       "POWERGRID     0.296699\n",
       "RELIANCE      0.564657\n",
       "SBIN          0.888053\n",
       "SHREECEM      1.186481\n",
       "SUNPHARMA     0.483692\n",
       "TATAMOTORS    0.563037\n",
       "TATASTEEL     0.322052\n",
       "TCS           0.426743\n",
       "TECHM         0.578754\n",
       "TITAN         1.106728\n",
       "ULTRACEMCO    0.708839\n",
       "UPL           0.346828\n",
       "VEDL          0.396787\n",
       "WIPRO         1.052599\n",
       "ZEEL          0.448082\n",
       "Name: Close, dtype: float64"
      ]
     },
     "execution_count": 31,
     "metadata": {},
     "output_type": "execute_result"
    }
   ],
   "source": [
    "cv"
   ]
  },
  {
   "cell_type": "code",
   "execution_count": 32,
   "id": "4b3ff342",
   "metadata": {
    "execution": {
     "iopub.execute_input": "2024-03-03T15:07:48.398879Z",
     "iopub.status.busy": "2024-03-03T15:07:48.398197Z",
     "iopub.status.idle": "2024-03-03T15:07:48.404720Z",
     "shell.execute_reply": "2024-03-03T15:07:48.403570Z"
    },
    "papermill": {
     "duration": 0.029101,
     "end_time": "2024-03-03T15:07:48.407056",
     "exception": false,
     "start_time": "2024-03-03T15:07:48.377955",
     "status": "completed"
    },
    "tags": []
   },
   "outputs": [
    {
     "data": {
      "text/plain": [
       "1.1864812638129552"
      ]
     },
     "execution_count": 32,
     "metadata": {},
     "output_type": "execute_result"
    }
   ],
   "source": [
    "cv.SHREECEM"
   ]
  },
  {
   "cell_type": "code",
   "execution_count": 33,
   "id": "99c15b5a",
   "metadata": {
    "execution": {
     "iopub.execute_input": "2024-03-03T15:07:48.446652Z",
     "iopub.status.busy": "2024-03-03T15:07:48.445918Z",
     "iopub.status.idle": "2024-03-03T15:07:48.453312Z",
     "shell.execute_reply": "2024-03-03T15:07:48.451918Z"
    },
    "papermill": {
     "duration": 0.030263,
     "end_time": "2024-03-03T15:07:48.456026",
     "exception": false,
     "start_time": "2024-03-03T15:07:48.425763",
     "status": "completed"
    },
    "tags": []
   },
   "outputs": [
    {
     "name": "stdout",
     "output_type": "stream",
     "text": [
      "High Variation\n"
     ]
    }
   ],
   "source": [
    "#To write a rule for coefficient of variation (CV) if as a rule of thumb, a CV >= 1 indicates a relatively high variation, while a CV < 1 can be considered low.\n",
    "# Assuming cv is the coefficient of variation for a specific stock\n",
    "cv_threshold = 1.0\n",
    "\n",
    "# Assuming cv is a Pandas Series\n",
    "if (cv >= cv.SHREECEM).any(): #any() is function used it.\n",
    "    print(\"High Variation\")\n",
    "else:\n",
    "    print(\"Low Variation\")\n"
   ]
  }
 ],
 "metadata": {
  "kaggle": {
   "accelerator": "none",
   "dataSources": [
    {
     "datasetId": 423609,
     "sourceId": 2179861,
     "sourceType": "datasetVersion"
    }
   ],
   "dockerImageVersionId": 30664,
   "isGpuEnabled": false,
   "isInternetEnabled": true,
   "language": "python",
   "sourceType": "notebook"
  },
  "kernelspec": {
   "display_name": "Python 3",
   "language": "python",
   "name": "python3"
  },
  "language_info": {
   "codemirror_mode": {
    "name": "ipython",
    "version": 3
   },
   "file_extension": ".py",
   "mimetype": "text/x-python",
   "name": "python",
   "nbconvert_exporter": "python",
   "pygments_lexer": "ipython3",
   "version": "3.10.13"
  },
  "papermill": {
   "default_parameters": {},
   "duration": 11.005277,
   "end_time": "2024-03-03T15:07:49.098630",
   "environment_variables": {},
   "exception": null,
   "input_path": "__notebook__.ipynb",
   "output_path": "__notebook__.ipynb",
   "parameters": {},
   "start_time": "2024-03-03T15:07:38.093353",
   "version": "2.5.0"
  }
 },
 "nbformat": 4,
 "nbformat_minor": 5
}
